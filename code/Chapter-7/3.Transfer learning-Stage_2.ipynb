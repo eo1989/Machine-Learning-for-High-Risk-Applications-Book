{
 "cells": [
  {
   "cell_type": "markdown",
   "id": "1b42d651",
   "metadata": {},
   "source": [
    "<a href=\"https://githubtocolab.com/ml-for-high-risk-apps-book/Machine-Learning-for-High-Risk-Applications-Book/blob/main/code/Chapter-7/3.Transfer%20learning-Stage_2.ipynb\" target=\"_parent\"><img src=\"https://colab.research.google.com/assets/colab-badge.svg\" alt=\"Open In Colab\"/></a>"
   ]
  },
  {
   "cell_type": "code",
   "execution_count": 1,
   "id": "3cbe0711",
   "metadata": {},
   "outputs": [],
   "source": [
    "import numpy as np \n",
    "import pandas as pd \n",
    "import matplotlib.pyplot as plt\n",
    "from matplotlib.image import imread\n",
    "import seaborn as sns\n",
    "import random\n",
    "\n",
    "\n",
    "import copy\n",
    "import os\n",
    "from sklearn.model_selection import train_test_split,StratifiedShuffleSplit\n",
    "from sklearn.metrics import confusion_matrix,ConfusionMatrixDisplay, classification_report\n",
    "from skimage.util import random_noise\n",
    "import time\n",
    "\n",
    "\n",
    "import torch\n",
    "import torch.nn as nn\n",
    "import torch.nn.functional as F\n",
    "import torchvision\n",
    "import torchvision.models as models\n",
    "from torchvision.datasets import ImageFolder\n",
    "from torchvision.utils import make_grid, save_image\n",
    "import torchvision.transforms as transforms\n",
    "from torch.utils.data import Dataset, DataLoader, ConcatDataset\n",
    "from PIL import Image\n",
    "\n",
    "from mlxtend.plotting import plot_confusion_matrix\n",
    "from sklearn.metrics import confusion_matrix\n",
    "\n",
    "# Seed\n",
    "seed = 123\n",
    "torch.manual_seed(seed)\n",
    "torch.cuda.manual_seed(seed)\n",
    "torch.cuda.manual_seed_all(seed)\n",
    "np.random.seed(seed)\n",
    "random.seed(seed)\n",
    "torch.backends.cudnn.benchmark = False\n",
    "torch.backends.cudnn.deterministic = True\n",
    "\n",
    "device = torch.device('cuda:0' if torch.cuda.is_available() else 'cpu')\n",
    "random_seed = 12345"
   ]
  },
  {
   "cell_type": "code",
   "execution_count": 2,
   "id": "a73f9c43",
   "metadata": {},
   "outputs": [
    {
     "data": {
      "text/plain": [
       "<torch._C.Generator at 0x7ff4246a1df0>"
      ]
     },
     "execution_count": 2,
     "metadata": {},
     "output_type": "execute_result"
    }
   ],
   "source": [
    "def seed_worker(worker_id):\n",
    "    worker_seed = torch.initial_seed() % 2**32\n",
    "    numpy.random.seed(worker_seed)\n",
    "    random.seed(worker_seed)\n",
    "\n",
    "g = torch.Generator()\n",
    "g.manual_seed(0)"
   ]
  },
  {
   "cell_type": "code",
   "execution_count": 3,
   "id": "241236e4",
   "metadata": {},
   "outputs": [
    {
     "data": {
      "text/plain": [
       "(422, 977)"
      ]
     },
     "execution_count": 3,
     "metadata": {},
     "output_type": "execute_result"
    }
   ],
   "source": [
    "cropped_train_ds = ImageFolder('chest_xray_pre-processed/chest_xray/Cropped', \n",
    "                        transform = transforms.Compose([transforms.Resize((224,224)),\n",
    "                                            transforms.RandomRotation(10),\n",
    "                                            transforms.RandomGrayscale(),\n",
    "                                            transforms.RandomAffine(translate=(0.05,0.05), degrees=0),\n",
    "                                            transforms.ToTensor(),\n",
    "                                            transforms.Normalize([0.485, 0.456, 0.406], [0.229, 0.224, 0.225]),\n",
    "                                           ]))\n",
    "val_ds = ImageFolder('chest_xray_pre-processed/chest_xray/val', \n",
    "                        transform = transforms.Compose([transforms.Resize((224,224)),\n",
    "                                            transforms.ToTensor(),\n",
    "                                            transforms.Normalize([0.485, 0.456, 0.406], [0.229, 0.224, 0.225]),\n",
    "                                           ]))\n",
    "\n",
    "len(cropped_train_ds), len(val_ds)\n"
   ]
  },
  {
   "cell_type": "code",
   "execution_count": 4,
   "id": "0db8d417",
   "metadata": {},
   "outputs": [],
   "source": [
    "batch_size=32\n",
    "\n",
    "cropped_train_dl = DataLoader(cropped_train_ds, batch_size, shuffle=True, worker_init_fn=seed_worker)\n",
    "val_dl = DataLoader(val_ds, batch_size, worker_init_fn=seed_worker)\n",
    "loaders = {'train':cropped_train_dl, 'val':val_dl}\n",
    "dataset_sizes = {'train':len(cropped_train_ds), 'val':len(val_ds)}"
   ]
  },
  {
   "cell_type": "code",
   "execution_count": 38,
   "id": "6b499208",
   "metadata": {},
   "outputs": [],
   "source": [
    "model = torch.load('Finetuning_Stage1.pt')"
   ]
  },
  {
   "cell_type": "code",
   "execution_count": 39,
   "id": "b0736ee8",
   "metadata": {},
   "outputs": [],
   "source": [
    "for param in model.parameters():\n",
    "    param.requires_grad = False"
   ]
  },
  {
   "cell_type": "code",
   "execution_count": 40,
   "id": "4c535cea",
   "metadata": {},
   "outputs": [],
   "source": [
    "criterion = nn.CrossEntropyLoss()\n",
    "optimizer = torch.optim.Adam(model.parameters(), lr = 0.001)\n",
    "scheduler = torch.optim.lr_scheduler.StepLR(optimizer, 4, gamma=0.1)"
   ]
  },
  {
   "cell_type": "code",
   "execution_count": 41,
   "id": "cd9985fd",
   "metadata": {},
   "outputs": [],
   "source": [
    "losses = {'train':[], 'val':[]}\n",
    "accuracies = {'train':[], 'val':[]}\n",
    "\n",
    "\n",
    "def train(model, criterion, optimizer, scheduler, epochs):\n",
    "  since = time.time()\n",
    "  best_model = copy.deepcopy(model.state_dict())\n",
    "  best_acc = 0.0\n",
    "  for epoch in range(epochs):\n",
    "    for phase in ['train', 'val']:\n",
    "      if phase == 'train':\n",
    "        model.train()\n",
    "      else:\n",
    "        model.eval()\n",
    "      \n",
    "      running_loss = 0.0\n",
    "      running_corrects = 0.0\n",
    "\n",
    "      for inputs, labels in loaders[phase]:\n",
    "        inputs, labels = inputs.to(device), labels.to(device)\n",
    "\n",
    "        optimizer.zero_grad()\n",
    "\n",
    "        with torch.set_grad_enabled(phase=='train'):\n",
    "          outp = model(inputs)\n",
    "          _, pred = torch.max(outp, 1)\n",
    "          loss = criterion(outp, labels)\n",
    "          loss.requires_grad = True\n",
    "        \n",
    "          if phase == 'train':\n",
    "            loss.backward()\n",
    "            optimizer.step()\n",
    "        \n",
    "        running_loss += loss.item()*inputs.size(0)\n",
    "        running_corrects += torch.sum(pred == labels.data)\n",
    "\n",
    "\n",
    "      epoch_loss = running_loss / dataset_sizes[phase]\n",
    "      epoch_acc = running_corrects.double()/dataset_sizes[phase]\n",
    "      losses[phase].append(epoch_loss)\n",
    "      accuracies[phase].append(epoch_acc)\n",
    "      if phase == 'train':\n",
    "        print('Epoch: {}/{}'.format(epoch+1, epochs))\n",
    "      print('{} - loss:{}, accuracy{}'.format(phase, epoch_loss, epoch_acc))\n",
    "    \n",
    "            \n",
    "      if phase == 'val' and epoch_acc > best_acc:\n",
    "        best_acc = epoch_acc\n",
    "        best_model = copy.deepcopy(model.state_dict())\n",
    "    scheduler.step()  \n",
    "  print('Best accuracy {}'.format(best_acc))\n",
    "\n",
    "  model.load_state_dict(best_model)\n",
    "  return model   "
   ]
  },
  {
   "cell_type": "code",
   "execution_count": 42,
   "id": "a8cf8954",
   "metadata": {},
   "outputs": [
    {
     "name": "stdout",
     "output_type": "stream",
     "text": [
      "Epoch: 1/17\n",
      "train - loss:0.16213886227604374, accuracy0.9360189573459716\n",
      "val - loss:0.05905295006321144, accuracy0.9815762538382805\n",
      "Epoch: 2/17\n",
      "train - loss:0.2181292337970146, accuracy0.9218009478672986\n",
      "val - loss:0.09303262661174307, accuracy0.9733879222108496\n",
      "Epoch: 3/17\n",
      "train - loss:0.17090152465336694, accuracy0.9312796208530807\n",
      "val - loss:0.09203716716300457, accuracy0.9723643807574207\n",
      "Epoch: 4/17\n",
      "train - loss:0.17591952452197743, accuracy0.9312796208530807\n",
      "val - loss:0.08194925019857345, accuracy0.9744114636642784\n",
      "Epoch: 5/17\n",
      "train - loss:0.1736818109572781, accuracy0.9241706161137442\n",
      "val - loss:0.07081017136284617, accuracy0.9785056294779939\n",
      "Epoch: 6/17\n",
      "train - loss:0.1652766755689377, accuracy0.9265402843601896\n",
      "val - loss:0.06797165959056645, accuracy0.9795291709314228\n",
      "Epoch: 7/17\n",
      "train - loss:0.17079675276498907, accuracy0.9454976303317536\n",
      "val - loss:0.08522375099469713, accuracy0.9744114636642784\n",
      "Epoch: 8/17\n",
      "train - loss:0.16720860655159112, accuracy0.9454976303317536\n",
      "val - loss:0.08462242321445095, accuracy0.9744114636642784\n",
      "Epoch: 9/17\n",
      "train - loss:0.1643253081076518, accuracy0.9360189573459716\n",
      "val - loss:0.0878552215935862, accuracy0.9733879222108496\n",
      "Epoch: 10/17\n",
      "train - loss:0.18233245928988073, accuracy0.9265402843601896\n",
      "val - loss:0.08086182687440344, accuracy0.9744114636642784\n",
      "Epoch: 11/17\n",
      "train - loss:0.18567422757993376, accuracy0.9241706161137442\n",
      "val - loss:0.06240757423052341, accuracy0.9815762538382805\n",
      "Epoch: 12/17\n",
      "train - loss:0.17861574831732077, accuracy0.9336492890995262\n",
      "val - loss:0.06742130681486361, accuracy0.9805527123848516\n",
      "Epoch: 13/17\n",
      "train - loss:0.1907900203354833, accuracy0.9336492890995262\n",
      "val - loss:0.0762084919125589, accuracy0.9744114636642784\n",
      "Epoch: 14/17\n",
      "train - loss:0.162779003488765, accuracy0.9407582938388627\n",
      "val - loss:0.08570337082003851, accuracy0.9733879222108496\n",
      "Epoch: 15/17\n",
      "train - loss:0.18446631447999115, accuracy0.9336492890995262\n",
      "val - loss:0.08623684697826443, accuracy0.9744114636642784\n",
      "Epoch: 16/17\n",
      "train - loss:0.1861739684496587, accuracy0.9383886255924171\n",
      "val - loss:0.07517468557685293, accuracy0.9754350051177073\n",
      "Epoch: 17/17\n",
      "train - loss:0.1731398391638887, accuracy0.9431279620853081\n",
      "val - loss:0.0682922940559919, accuracy0.9805527123848516\n",
      "Best accuracy 0.9815762538382805\n"
     ]
    }
   ],
   "source": [
    "model.to(device)\n",
    "epochs = 17\n",
    "model = train(model, criterion, optimizer, scheduler, epochs)"
   ]
  },
  {
   "cell_type": "code",
   "execution_count": 46,
   "id": "3f022b90",
   "metadata": {},
   "outputs": [],
   "source": [
    "torch.save(model, 'Finetuning_Stage2.pt')"
   ]
  },
  {
   "cell_type": "markdown",
   "id": "7b98bfee",
   "metadata": {},
   "source": [
    "## Model Evaluation on Test Set"
   ]
  },
  {
   "cell_type": "code",
   "execution_count": 47,
   "id": "e654c750",
   "metadata": {},
   "outputs": [],
   "source": [
    "testset = ImageFolder('chest_xray_pre-processed/chest_xray/test', \n",
    "                           transform=torchvision.transforms.Compose([torchvision.transforms.Resize((224,224)), \n",
    "                                                 torchvision.transforms.ToTensor(),\n",
    "                                                 torchvision.transforms.Normalize([0.485, 0.456, 0.406], [0.229, 0.224, 0.225]),                                                               \n",
    "                                                 \n",
    "                                                ]))"
   ]
  },
  {
   "cell_type": "code",
   "execution_count": 48,
   "id": "c64639c6",
   "metadata": {},
   "outputs": [],
   "source": [
    "test_dl = DataLoader(testset, batch_size=256)\n",
    "model.to(device);\n"
   ]
  },
  {
   "cell_type": "code",
   "execution_count": 49,
   "id": "beaf99af",
   "metadata": {},
   "outputs": [],
   "source": [
    "def accuracy(outputs, labels):\n",
    "    _, preds = torch.max(outputs, dim=1) \n",
    "    return torch.tensor(torch.sum(preds == labels).item() / len(preds)), preds\n",
    "\n",
    "def validation(batch):\n",
    "        images,labels = batch\n",
    "        images,labels = images.to(device),labels.to(device)\n",
    "        output = model(images)                                      \n",
    "        loss = F.cross_entropy(output, labels)                    \n",
    "        acc,predictions = accuracy(output, labels)                       \n",
    "        \n",
    "        return {'valid_loss': loss.detach(), 'valid_accuracy':acc.detach(), 'predictions':predictions.detach(), 'labels':labels.detach()}\n",
    "    \n",
    "@torch.no_grad()\n",
    "def test_predict(model, test_dataloader):\n",
    "    model.eval()\n",
    "    \n",
    "    outputs = [validation(batch) for batch in test_dataloader] \n",
    "    batch_losses = [x['valid_loss'] for x in outputs]\n",
    "    epoch_loss = torch.stack(batch_losses).mean()           \n",
    "    batch_accs = [x['valid_accuracy'] for x in outputs]\n",
    "    epoch_acc = torch.stack(batch_accs).mean()             \n",
    "  \n",
    "    batch_preds = [pred for x in outputs for pred in x['predictions'].tolist()] \n",
    "    batch_labels = [label for x in outputs for label in x['labels'].tolist()]  \n",
    "    \n",
    "    print('test_loss: {:.4f}, test_acc: {:.4f}'\n",
    "          .format(epoch_loss.item(), epoch_acc.item()))\n",
    "    \n",
    "    return batch_preds, batch_labels    "
   ]
  },
  {
   "cell_type": "code",
   "execution_count": 50,
   "id": "0e4e2e1a",
   "metadata": {},
   "outputs": [
    {
     "name": "stdout",
     "output_type": "stream",
     "text": [
      "test_loss: 0.2626, test_acc: 0.9334\n"
     ]
    }
   ],
   "source": [
    "preds,labels = test_predict(model, test_dl)"
   ]
  },
  {
   "cell_type": "code",
   "execution_count": 51,
   "id": "4901a11c",
   "metadata": {},
   "outputs": [
    {
     "data": {
      "image/png": "[encoded data removed]",
      "text/plain": [
       "<Figure size 576x432 with 1 Axes>"
      ]
     },
     "metadata": {
      "needs_background": "light"
     },
     "output_type": "display_data"
    }
   ],
   "source": [
    "cm  = confusion_matrix(labels, preds)\n",
    "plot_confusion_matrix(cm,figsize=(8,6),cmap=plt.cm.Greys)\n",
    "plt.xticks(range(2), ['Normal', 'Pneumonia'])\n",
    "plt.yticks(range(2), ['Normal', 'Pneumonia'])\n",
    "plt.xlabel('Predicted Label',fontsize=10)\n",
    "plt.ylabel('True Label',fontsize=10)\n",
    "plt.show()"
   ]
  },
  {
   "cell_type": "code",
   "execution_count": 52,
   "id": "9c3153ca",
   "metadata": {},
   "outputs": [
    {
     "name": "stdout",
     "output_type": "stream",
     "text": [
      "              precision    recall  f1-score   support\n",
      "\n",
      "           0       0.95      0.85      0.90       234\n",
      "           1       0.92      0.97      0.94       390\n",
      "\n",
      "    accuracy                           0.93       624\n",
      "   macro avg       0.93      0.91      0.92       624\n",
      "weighted avg       0.93      0.93      0.93       624\n",
      "\n"
     ]
    }
   ],
   "source": [
    "\n",
    "print(classification_report(labels, preds))"
   ]
  },
  {
   "cell_type": "code",
   "execution_count": null,
   "id": "5f766e84",
   "metadata": {},
   "outputs": [],
   "source": []
  }
 ],
 "metadata": {
  "kernelspec": {
   "display_name": "Python 3 (ipykernel)",
   "language": "python",
   "name": "python3"
  },
  "language_info": {
   "codemirror_mode": {
    "name": "ipython",
    "version": 3
   },
   "file_extension": ".py",
   "mimetype": "text/x-python",
   "name": "python",
   "nbconvert_exporter": "python",
   "pygments_lexer": "ipython3",
   "version": "3.8.10"
  }
 },
 "nbformat": 4,
 "nbformat_minor": 5
}
