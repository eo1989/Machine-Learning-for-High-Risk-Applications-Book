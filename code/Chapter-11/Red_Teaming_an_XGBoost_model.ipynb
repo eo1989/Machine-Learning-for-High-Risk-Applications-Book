{
  "cells": [
    {
      "cell_type": "markdown",
      "id": "0b40829a",
      "metadata": {
        "id": "0b40829a"
      },
      "source": [
        "[![Open In Colab](https://colab.research.google.com/assets/colab-badge.svg)](https://githubtocolab.com/ml-for-high-risk-apps-book/Machine-Learning-for-High-Risk-Applications-Book/blob/main/code/Chapter-11/Red_Teaming_an_XGBoost_model.ipynb) "
      ]
    },
    {
      "cell_type": "markdown",
      "id": "35fa989a-74d8-44dc-b417-1badcfcdc18d",
      "metadata": {
        "id": "35fa989a-74d8-44dc-b417-1badcfcdc18d"
      },
      "source": [
        "# Chapter 11: Red-Teaming an XGBoost Credit Model\n",
        "\n",
        "## Attacks for Red-teaming \n"
      ]
    },
    {
      "cell_type": "markdown",
      "id": "Fzu4Qr2IgEOm",
      "metadata": {
        "id": "Fzu4Qr2IgEOm"
      },
      "source": [
        "## 1. Setting the environment\n",
        "\n",
        "Download the [zipped **Data** folder](https://github.com/ml-for-high-risk-apps-book/Machine-Learning-for-High-Risk-Applications-Book/blob/main/code/Data.zip) onto your local system and save it as `Data.zip`. "
      ]
    },
    {
      "cell_type": "code",
      "execution_count": 1,
      "id": "u8QvrPfmgMKb",
      "metadata": {
        "colab": {
          "base_uri": "https://localhost:8080/",
          "height": 73
        },
        "id": "u8QvrPfmgMKb",
        "outputId": "65709bb5-aafd-40a3-e375-b79f502b8f29"
      },
      "outputs": [
        {
          "output_type": "display_data",
          "data": {
            "text/plain": [
              "<IPython.core.display.HTML object>"
            ],
            "text/html": [
              "\n",
              "     <input type=\"file\" id=\"files-26caf407-930d-4416-9fac-589384fef2ae\" name=\"files[]\" multiple disabled\n",
              "        style=\"border:none\" />\n",
              "     <output id=\"result-26caf407-930d-4416-9fac-589384fef2ae\">\n",
              "      Upload widget is only available when the cell has been executed in the\n",
              "      current browser session. Please rerun this cell to enable.\n",
              "      </output>\n",
              "      <script>// Copyright 2017 Google LLC\n",
              "//\n",
              "// Licensed under the Apache License, Version 2.0 (the \"License\");\n",
              "// you may not use this file except in compliance with the License.\n",
              "// You may obtain a copy of the License at\n",
              "//\n",
              "//      http://www.apache.org/licenses/LICENSE-2.0\n",
              "//\n",
              "// Unless required by applicable law or agreed to in writing, software\n",
              "// distributed under the License is distributed on an \"AS IS\" BASIS,\n",
              "// WITHOUT WARRANTIES OR CONDITIONS OF ANY KIND, either express or implied.\n",
              "// See the License for the specific language governing permissions and\n",
              "// limitations under the License.\n",
              "\n",
              "/**\n",
              " * @fileoverview Helpers for google.colab Python module.\n",
              " */\n",
              "(function(scope) {\n",
              "function span(text, styleAttributes = {}) {\n",
              "  const element = document.createElement('span');\n",
              "  element.textContent = text;\n",
              "  for (const key of Object.keys(styleAttributes)) {\n",
              "    element.style[key] = styleAttributes[key];\n",
              "  }\n",
              "  return element;\n",
              "}\n",
              "\n",
              "// Max number of bytes which will be uploaded at a time.\n",
              "const MAX_PAYLOAD_SIZE = 100 * 1024;\n",
              "\n",
              "function _uploadFiles(inputId, outputId) {\n",
              "  const steps = uploadFilesStep(inputId, outputId);\n",
              "  const outputElement = document.getElementById(outputId);\n",
              "  // Cache steps on the outputElement to make it available for the next call\n",
              "  // to uploadFilesContinue from Python.\n",
              "  outputElement.steps = steps;\n",
              "\n",
              "  return _uploadFilesContinue(outputId);\n",
              "}\n",
              "\n",
              "// This is roughly an async generator (not supported in the browser yet),\n",
              "// where there are multiple asynchronous steps and the Python side is going\n",
              "// to poll for completion of each step.\n",
              "// This uses a Promise to block the python side on completion of each step,\n",
              "// then passes the result of the previous step as the input to the next step.\n",
              "function _uploadFilesContinue(outputId) {\n",
              "  const outputElement = document.getElementById(outputId);\n",
              "  const steps = outputElement.steps;\n",
              "\n",
              "  const next = steps.next(outputElement.lastPromiseValue);\n",
              "  return Promise.resolve(next.value.promise).then((value) => {\n",
              "    // Cache the last promise value to make it available to the next\n",
              "    // step of the generator.\n",
              "    outputElement.lastPromiseValue = value;\n",
              "    return next.value.response;\n",
              "  });\n",
              "}\n",
              "\n",
              "/**\n",
              " * Generator function which is called between each async step of the upload\n",
              " * process.\n",
              " * @param {string} inputId Element ID of the input file picker element.\n",
              " * @param {string} outputId Element ID of the output display.\n",
              " * @return {!Iterable<!Object>} Iterable of next steps.\n",
              " */\n",
              "function* uploadFilesStep(inputId, outputId) {\n",
              "  const inputElement = document.getElementById(inputId);\n",
              "  inputElement.disabled = false;\n",
              "\n",
              "  const outputElement = document.getElementById(outputId);\n",
              "  outputElement.innerHTML = '';\n",
              "\n",
              "  const pickedPromise = new Promise((resolve) => {\n",
              "    inputElement.addEventListener('change', (e) => {\n",
              "      resolve(e.target.files);\n",
              "    });\n",
              "  });\n",
              "\n",
              "  const cancel = document.createElement('button');\n",
              "  inputElement.parentElement.appendChild(cancel);\n",
              "  cancel.textContent = 'Cancel upload';\n",
              "  const cancelPromise = new Promise((resolve) => {\n",
              "    cancel.onclick = () => {\n",
              "      resolve(null);\n",
              "    };\n",
              "  });\n",
              "\n",
              "  // Wait for the user to pick the files.\n",
              "  const files = yield {\n",
              "    promise: Promise.race([pickedPromise, cancelPromise]),\n",
              "    response: {\n",
              "      action: 'starting',\n",
              "    }\n",
              "  };\n",
              "\n",
              "  cancel.remove();\n",
              "\n",
              "  // Disable the input element since further picks are not allowed.\n",
              "  inputElement.disabled = true;\n",
              "\n",
              "  if (!files) {\n",
              "    return {\n",
              "      response: {\n",
              "        action: 'complete',\n",
              "      }\n",
              "    };\n",
              "  }\n",
              "\n",
              "  for (const file of files) {\n",
              "    const li = document.createElement('li');\n",
              "    li.append(span(file.name, {fontWeight: 'bold'}));\n",
              "    li.append(span(\n",
              "        `(${file.type || 'n/a'}) - ${file.size} bytes, ` +\n",
              "        `last modified: ${\n",
              "            file.lastModifiedDate ? file.lastModifiedDate.toLocaleDateString() :\n",
              "                                    'n/a'} - `));\n",
              "    const percent = span('0% done');\n",
              "    li.appendChild(percent);\n",
              "\n",
              "    outputElement.appendChild(li);\n",
              "\n",
              "    const fileDataPromise = new Promise((resolve) => {\n",
              "      const reader = new FileReader();\n",
              "      reader.onload = (e) => {\n",
              "        resolve(e.target.result);\n",
              "      };\n",
              "      reader.readAsArrayBuffer(file);\n",
              "    });\n",
              "    // Wait for the data to be ready.\n",
              "    let fileData = yield {\n",
              "      promise: fileDataPromise,\n",
              "      response: {\n",
              "        action: 'continue',\n",
              "      }\n",
              "    };\n",
              "\n",
              "    // Use a chunked sending to avoid message size limits. See b/62115660.\n",
              "    let position = 0;\n",
              "    do {\n",
              "      const length = Math.min(fileData.byteLength - position, MAX_PAYLOAD_SIZE);\n",
              "      const chunk = new Uint8Array(fileData, position, length);\n",
              "      position += length;\n",
              "\n",
              "      const base64 = btoa(String.fromCharCode.apply(null, chunk));\n",
              "      yield {\n",
              "        response: {\n",
              "          action: 'append',\n",
              "          file: file.name,\n",
              "          data: base64,\n",
              "        },\n",
              "      };\n",
              "\n",
              "      let percentDone = fileData.byteLength === 0 ?\n",
              "          100 :\n",
              "          Math.round((position / fileData.byteLength) * 100);\n",
              "      percent.textContent = `${percentDone}% done`;\n",
              "\n",
              "    } while (position < fileData.byteLength);\n",
              "  }\n",
              "\n",
              "  // All done.\n",
              "  yield {\n",
              "    response: {\n",
              "      action: 'complete',\n",
              "    }\n",
              "  };\n",
              "}\n",
              "\n",
              "scope.google = scope.google || {};\n",
              "scope.google.colab = scope.google.colab || {};\n",
              "scope.google.colab._files = {\n",
              "  _uploadFiles,\n",
              "  _uploadFilesContinue,\n",
              "};\n",
              "})(self);\n",
              "</script> "
            ]
          },
          "metadata": {}
        },
        {
          "output_type": "stream",
          "name": "stdout",
          "text": [
            "Saving Data.zip to Data.zip\n"
          ]
        }
      ],
      "source": [
        "# Upload the downloaded zipped file from your system to the colab environment. \n",
        "from google.colab import files\n",
        "uploaded = files.upload()"
      ]
    },
    {
      "cell_type": "code",
      "execution_count": 2,
      "id": "o8EiLp0fgZ6z",
      "metadata": {
        "colab": {
          "base_uri": "https://localhost:8080/"
        },
        "id": "o8EiLp0fgZ6z",
        "outputId": "00fc7ff6-8731-47d3-be7f-c19e0eb8bfc7"
      },
      "outputs": [
        {
          "output_type": "stream",
          "name": "stdout",
          "text": [
            "/content/Data\n"
          ]
        }
      ],
      "source": [
        "!unzip -q \"/content/Data.zip\" \n",
        "%cd /content/Data"
      ]
    },
    {
      "cell_type": "code",
      "execution_count": 3,
      "id": "1ThB0Z78haq8",
      "metadata": {
        "colab": {
          "base_uri": "https://localhost:8080/"
        },
        "id": "1ThB0Z78haq8",
        "outputId": "d9036353-1939-4308-d443-3d425e879a8d"
      },
      "outputs": [
        {
          "output_type": "stream",
          "name": "stdout",
          "text": [
            "Looking in indexes: https://pypi.org/simple, https://us-python.pkg.dev/colab-wheels/public/simple/\n",
            "Collecting h2o\n",
            "  Downloading h2o-3.38.0.3.tar.gz (177.5 MB)\n",
            "\u001b[K     |████████████████████████████████| 177.5 MB 42 kB/s \n",
            "\u001b[?25hRequirement already satisfied: requests in /usr/local/lib/python3.8/dist-packages (from h2o) (2.23.0)\n",
            "Requirement already satisfied: tabulate in /usr/local/lib/python3.8/dist-packages (from h2o) (0.8.10)\n",
            "Requirement already satisfied: future in /usr/local/lib/python3.8/dist-packages (from h2o) (0.16.0)\n",
            "Requirement already satisfied: chardet<4,>=3.0.2 in /usr/local/lib/python3.8/dist-packages (from requests->h2o) (3.0.4)\n",
            "Requirement already satisfied: certifi>=2017.4.17 in /usr/local/lib/python3.8/dist-packages (from requests->h2o) (2022.12.7)\n",
            "Requirement already satisfied: idna<3,>=2.5 in /usr/local/lib/python3.8/dist-packages (from requests->h2o) (2.10)\n",
            "Requirement already satisfied: urllib3!=1.25.0,!=1.25.1,<1.26,>=1.21.1 in /usr/local/lib/python3.8/dist-packages (from requests->h2o) (1.24.3)\n",
            "Building wheels for collected packages: h2o\n",
            "  Building wheel for h2o (setup.py) ... \u001b[?25l\u001b[?25hdone\n",
            "  Created wheel for h2o: filename=h2o-3.38.0.3-py2.py3-none-any.whl size=177541401 sha256=03a1f000d32cd9173fc8808dfadc3c05db52c6dd6ef0bae404c1b322634b9f65\n",
            "  Stored in directory: /root/.cache/pip/wheels/16/f8/f4/69e1ff6a0d1cb61bdbc0d9888ee8437a1acf1eb1c6ffb8be20\n",
            "Successfully built h2o\n",
            "Installing collected packages: h2o\n",
            "Successfully installed h2o-3.38.0.3\n",
            "Looking in indexes: https://pypi.org/simple, https://us-python.pkg.dev/colab-wheels/public/simple/\n",
            "Collecting XGBoost==1.6\n",
            "  Downloading xgboost-1.6.0-py3-none-manylinux2014_x86_64.whl (193.7 MB)\n",
            "\u001b[K     |████████████████████████████████| 193.7 MB 36 kB/s \n",
            "\u001b[?25hRequirement already satisfied: numpy in /usr/local/lib/python3.8/dist-packages (from XGBoost==1.6) (1.21.6)\n",
            "Requirement already satisfied: scipy in /usr/local/lib/python3.8/dist-packages (from XGBoost==1.6) (1.7.3)\n",
            "Installing collected packages: XGBoost\n",
            "  Attempting uninstall: XGBoost\n",
            "    Found existing installation: xgboost 0.90\n",
            "    Uninstalling xgboost-0.90:\n",
            "      Successfully uninstalled xgboost-0.90\n",
            "Successfully installed XGBoost-1.6.0\n"
          ]
        }
      ],
      "source": [
        "# Installing the libraries\n",
        "%pip install h2o \n",
        "%pip install 'XGBoost==1.6'"
      ]
    },
    {
      "cell_type": "markdown",
      "id": "JfywpYTVhnwd",
      "metadata": {
        "id": "JfywpYTVhnwd"
      },
      "source": [
        "Global hyperpameters\n"
      ]
    },
    {
      "cell_type": "code",
      "execution_count": 4,
      "id": "tyAon7hwhfxb",
      "metadata": {
        "id": "tyAon7hwhfxb"
      },
      "outputs": [],
      "source": [
        "SEED = 3141 # global random seed for better reproducibility"
      ]
    },
    {
      "cell_type": "markdown",
      "id": "zFvJsKERhs7-",
      "metadata": {
        "id": "zFvJsKERhs7-"
      },
      "source": [
        "Python imports and inits"
      ]
    },
    {
      "cell_type": "code",
      "execution_count": 5,
      "id": "9dedd2b4-7a59-4912-aae4-54a308259c0c",
      "metadata": {
        "colab": {
          "base_uri": "https://localhost:8080/",
          "height": 544
        },
        "id": "9dedd2b4-7a59-4912-aae4-54a308259c0c",
        "outputId": "b6ab6ae7-6466-4359-862c-9b2980d536bf"
      },
      "outputs": [
        {
          "output_type": "stream",
          "name": "stdout",
          "text": [
            "Checking whether there is an H2O instance running at http://localhost:54321 ..... not found.\n",
            "Attempting to start a local H2O server...\n",
            "  Java Version: openjdk version \"11.0.17\" 2022-10-18; OpenJDK Runtime Environment (build 11.0.17+8-post-Ubuntu-1ubuntu218.04); OpenJDK 64-Bit Server VM (build 11.0.17+8-post-Ubuntu-1ubuntu218.04, mixed mode, sharing)\n",
            "  Starting server from /usr/local/lib/python3.8/dist-packages/h2o/backend/bin/h2o.jar\n",
            "  Ice root: /tmp/tmprdgx9ff3\n",
            "  JVM stdout: /tmp/tmprdgx9ff3/h2o_unknownUser_started_from_python.out\n",
            "  JVM stderr: /tmp/tmprdgx9ff3/h2o_unknownUser_started_from_python.err\n",
            "  Server is running at http://127.0.0.1:54321\n",
            "Connecting to H2O server at http://127.0.0.1:54321 ... successful.\n"
          ]
        },
        {
          "output_type": "display_data",
          "data": {
            "text/plain": [
              "--------------------------  ----------------------------------\n",
              "H2O_cluster_uptime:         05 secs\n",
              "H2O_cluster_timezone:       Etc/UTC\n",
              "H2O_data_parsing_timezone:  UTC\n",
              "H2O_cluster_version:        3.38.0.3\n",
              "H2O_cluster_version_age:    1 month and 3 days\n",
              "H2O_cluster_name:           H2O_from_python_unknownUser_xvq5rp\n",
              "H2O_cluster_total_nodes:    1\n",
              "H2O_cluster_free_memory:    4 Gb\n",
              "H2O_cluster_total_cores:    2\n",
              "H2O_cluster_allowed_cores:  2\n",
              "H2O_cluster_status:         locked, healthy\n",
              "H2O_connection_url:         http://127.0.0.1:54321\n",
              "H2O_connection_proxy:       {\"http\": null, \"https\": null}\n",
              "H2O_internal_security:      False\n",
              "Python_version:             3.8.16 final\n",
              "--------------------------  ----------------------------------"
            ],
            "text/html": [
              "\n",
              "<style>\n",
              "\n",
              "#h2o-table-1.h2o-container {\n",
              "  overflow-x: auto;\n",
              "}\n",
              "#h2o-table-1 .h2o-table {\n",
              "  /* width: 100%; */\n",
              "  margin-top: 1em;\n",
              "  margin-bottom: 1em;\n",
              "}\n",
              "#h2o-table-1 .h2o-table caption {\n",
              "  white-space: nowrap;\n",
              "  caption-side: top;\n",
              "  text-align: left;\n",
              "  /* margin-left: 1em; */\n",
              "  margin: 0;\n",
              "  font-size: larger;\n",
              "}\n",
              "#h2o-table-1 .h2o-table thead {\n",
              "  white-space: nowrap; \n",
              "  position: sticky;\n",
              "  top: 0;\n",
              "  box-shadow: 0 -1px inset;\n",
              "}\n",
              "#h2o-table-1 .h2o-table tbody {\n",
              "  overflow: auto;\n",
              "}\n",
              "#h2o-table-1 .h2o-table th,\n",
              "#h2o-table-1 .h2o-table td {\n",
              "  text-align: right;\n",
              "  /* border: 1px solid; */\n",
              "}\n",
              "#h2o-table-1 .h2o-table tr:nth-child(even) {\n",
              "  /* background: #F5F5F5 */\n",
              "}\n",
              "\n",
              "</style>      \n",
              "<div id=\"h2o-table-1\" class=\"h2o-container\">\n",
              "  <table class=\"h2o-table\">\n",
              "    <caption></caption>\n",
              "    <thead></thead>\n",
              "    <tbody><tr><td>H2O_cluster_uptime:</td>\n",
              "<td>05 secs</td></tr>\n",
              "<tr><td>H2O_cluster_timezone:</td>\n",
              "<td>Etc/UTC</td></tr>\n",
              "<tr><td>H2O_data_parsing_timezone:</td>\n",
              "<td>UTC</td></tr>\n",
              "<tr><td>H2O_cluster_version:</td>\n",
              "<td>3.38.0.3</td></tr>\n",
              "<tr><td>H2O_cluster_version_age:</td>\n",
              "<td>1 month and 3 days </td></tr>\n",
              "<tr><td>H2O_cluster_name:</td>\n",
              "<td>H2O_from_python_unknownUser_xvq5rp</td></tr>\n",
              "<tr><td>H2O_cluster_total_nodes:</td>\n",
              "<td>1</td></tr>\n",
              "<tr><td>H2O_cluster_free_memory:</td>\n",
              "<td>4 Gb</td></tr>\n",
              "<tr><td>H2O_cluster_total_cores:</td>\n",
              "<td>2</td></tr>\n",
              "<tr><td>H2O_cluster_allowed_cores:</td>\n",
              "<td>2</td></tr>\n",
              "<tr><td>H2O_cluster_status:</td>\n",
              "<td>locked, healthy</td></tr>\n",
              "<tr><td>H2O_connection_url:</td>\n",
              "<td>http://127.0.0.1:54321</td></tr>\n",
              "<tr><td>H2O_connection_proxy:</td>\n",
              "<td>{\"http\": null, \"https\": null}</td></tr>\n",
              "<tr><td>H2O_internal_security:</td>\n",
              "<td>False</td></tr>\n",
              "<tr><td>Python_version:</td>\n",
              "<td>3.8.16 final</td></tr></tbody>\n",
              "  </table>\n",
              "</div>\n"
            ]
          },
          "metadata": {}
        }
      ],
      "source": [
        "import h2o\n",
        "from h2o.estimators import H2OXGBoostEstimator\n",
        "from h2o.grid.grid_search import H2OGridSearch\n",
        "from sklearn.ensemble import RandomForestRegressor\n",
        "\n",
        "import xgboost as xgb\n",
        "import pandas as pd\n",
        "import numpy as np\n",
        "import matplotlib.pyplot as plt\n",
        "import graphviz\n",
        "\n",
        "h2o.init(max_mem_size='4G')\n",
        "h2o.remove_all()\n",
        "h2o.no_progress()\n",
        "\n",
        "SEED = SEED"
      ]
    },
    {
      "cell_type": "markdown",
      "id": "DVdf5v1uh40A",
      "metadata": {
        "id": "DVdf5v1uh40A"
      },
      "source": [
        "### Importing dataset "
      ]
    },
    {
      "cell_type": "code",
      "execution_count": 7,
      "id": "22ebe648-e2c2-45be-8b3f-e645aa7cd1f9",
      "metadata": {
        "colab": {
          "base_uri": "https://localhost:8080/",
          "height": 300
        },
        "id": "22ebe648-e2c2-45be-8b3f-e645aa7cd1f9",
        "outputId": "f3cb1afe-a094-418b-8f2a-ded5a9fe7235"
      },
      "outputs": [
        {
          "output_type": "execute_result",
          "data": {
            "text/plain": [
              "   ID  LIMIT_BAL  SEX  RACE  EDUCATION  MARRIAGE  AGE  PAY_0  PAY_2  PAY_3  \\\n",
              "0   1      20000    2   1.0          2         1   24      2      2     -1   \n",
              "1   2     120000    2   2.0          2         2   26     -1      2      0   \n",
              "2   3      90000    2   3.0          2         2   34      0      0      0   \n",
              "3   4      50000    2   4.0          2         1   37      0      0      0   \n",
              "4   5      50000    1   3.0          2         1   57     -1      0     -1   \n",
              "\n",
              "   ...  BILL_AMT4  BILL_AMT5  BILL_AMT6  PAY_AMT1  PAY_AMT2  PAY_AMT3  \\\n",
              "0  ...          0          0          0         0       689         0   \n",
              "1  ...       3272       3455       3261         0      1000      1000   \n",
              "2  ...      14331      14948      15549      1518      1500      1000   \n",
              "3  ...      28314      28959      29547      2000      2019      1200   \n",
              "4  ...      20940      19146      19131      2000     36681     10000   \n",
              "\n",
              "   PAY_AMT4  PAY_AMT5  PAY_AMT6  DELINQ_NEXT  \n",
              "0         0         0         0            1  \n",
              "1      1000         0      2000            1  \n",
              "2      1000      1000      5000            0  \n",
              "3      1100      1069      1000            0  \n",
              "4      9000       689       679            0  \n",
              "\n",
              "[5 rows x 26 columns]"
            ],
            "text/html": [
              "\n",
              "  <div id=\"df-82d521e6-3d25-4bdf-84dc-409d2d61b588\">\n",
              "    <div class=\"colab-df-container\">\n",
              "      <div>\n",
              "<style scoped>\n",
              "    .dataframe tbody tr th:only-of-type {\n",
              "        vertical-align: middle;\n",
              "    }\n",
              "\n",
              "    .dataframe tbody tr th {\n",
              "        vertical-align: top;\n",
              "    }\n",
              "\n",
              "    .dataframe thead th {\n",
              "        text-align: right;\n",
              "    }\n",
              "</style>\n",
              "<table border=\"1\" class=\"dataframe\">\n",
              "  <thead>\n",
              "    <tr style=\"text-align: right;\">\n",
              "      <th></th>\n",
              "      <th>ID</th>\n",
              "      <th>LIMIT_BAL</th>\n",
              "      <th>SEX</th>\n",
              "      <th>RACE</th>\n",
              "      <th>EDUCATION</th>\n",
              "      <th>MARRIAGE</th>\n",
              "      <th>AGE</th>\n",
              "      <th>PAY_0</th>\n",
              "      <th>PAY_2</th>\n",
              "      <th>PAY_3</th>\n",
              "      <th>...</th>\n",
              "      <th>BILL_AMT4</th>\n",
              "      <th>BILL_AMT5</th>\n",
              "      <th>BILL_AMT6</th>\n",
              "      <th>PAY_AMT1</th>\n",
              "      <th>PAY_AMT2</th>\n",
              "      <th>PAY_AMT3</th>\n",
              "      <th>PAY_AMT4</th>\n",
              "      <th>PAY_AMT5</th>\n",
              "      <th>PAY_AMT6</th>\n",
              "      <th>DELINQ_NEXT</th>\n",
              "    </tr>\n",
              "  </thead>\n",
              "  <tbody>\n",
              "    <tr>\n",
              "      <th>0</th>\n",
              "      <td>1</td>\n",
              "      <td>20000</td>\n",
              "      <td>2</td>\n",
              "      <td>1.0</td>\n",
              "      <td>2</td>\n",
              "      <td>1</td>\n",
              "      <td>24</td>\n",
              "      <td>2</td>\n",
              "      <td>2</td>\n",
              "      <td>-1</td>\n",
              "      <td>...</td>\n",
              "      <td>0</td>\n",
              "      <td>0</td>\n",
              "      <td>0</td>\n",
              "      <td>0</td>\n",
              "      <td>689</td>\n",
              "      <td>0</td>\n",
              "      <td>0</td>\n",
              "      <td>0</td>\n",
              "      <td>0</td>\n",
              "      <td>1</td>\n",
              "    </tr>\n",
              "    <tr>\n",
              "      <th>1</th>\n",
              "      <td>2</td>\n",
              "      <td>120000</td>\n",
              "      <td>2</td>\n",
              "      <td>2.0</td>\n",
              "      <td>2</td>\n",
              "      <td>2</td>\n",
              "      <td>26</td>\n",
              "      <td>-1</td>\n",
              "      <td>2</td>\n",
              "      <td>0</td>\n",
              "      <td>...</td>\n",
              "      <td>3272</td>\n",
              "      <td>3455</td>\n",
              "      <td>3261</td>\n",
              "      <td>0</td>\n",
              "      <td>1000</td>\n",
              "      <td>1000</td>\n",
              "      <td>1000</td>\n",
              "      <td>0</td>\n",
              "      <td>2000</td>\n",
              "      <td>1</td>\n",
              "    </tr>\n",
              "    <tr>\n",
              "      <th>2</th>\n",
              "      <td>3</td>\n",
              "      <td>90000</td>\n",
              "      <td>2</td>\n",
              "      <td>3.0</td>\n",
              "      <td>2</td>\n",
              "      <td>2</td>\n",
              "      <td>34</td>\n",
              "      <td>0</td>\n",
              "      <td>0</td>\n",
              "      <td>0</td>\n",
              "      <td>...</td>\n",
              "      <td>14331</td>\n",
              "      <td>14948</td>\n",
              "      <td>15549</td>\n",
              "      <td>1518</td>\n",
              "      <td>1500</td>\n",
              "      <td>1000</td>\n",
              "      <td>1000</td>\n",
              "      <td>1000</td>\n",
              "      <td>5000</td>\n",
              "      <td>0</td>\n",
              "    </tr>\n",
              "    <tr>\n",
              "      <th>3</th>\n",
              "      <td>4</td>\n",
              "      <td>50000</td>\n",
              "      <td>2</td>\n",
              "      <td>4.0</td>\n",
              "      <td>2</td>\n",
              "      <td>1</td>\n",
              "      <td>37</td>\n",
              "      <td>0</td>\n",
              "      <td>0</td>\n",
              "      <td>0</td>\n",
              "      <td>...</td>\n",
              "      <td>28314</td>\n",
              "      <td>28959</td>\n",
              "      <td>29547</td>\n",
              "      <td>2000</td>\n",
              "      <td>2019</td>\n",
              "      <td>1200</td>\n",
              "      <td>1100</td>\n",
              "      <td>1069</td>\n",
              "      <td>1000</td>\n",
              "      <td>0</td>\n",
              "    </tr>\n",
              "    <tr>\n",
              "      <th>4</th>\n",
              "      <td>5</td>\n",
              "      <td>50000</td>\n",
              "      <td>1</td>\n",
              "      <td>3.0</td>\n",
              "      <td>2</td>\n",
              "      <td>1</td>\n",
              "      <td>57</td>\n",
              "      <td>-1</td>\n",
              "      <td>0</td>\n",
              "      <td>-1</td>\n",
              "      <td>...</td>\n",
              "      <td>20940</td>\n",
              "      <td>19146</td>\n",
              "      <td>19131</td>\n",
              "      <td>2000</td>\n",
              "      <td>36681</td>\n",
              "      <td>10000</td>\n",
              "      <td>9000</td>\n",
              "      <td>689</td>\n",
              "      <td>679</td>\n",
              "      <td>0</td>\n",
              "    </tr>\n",
              "  </tbody>\n",
              "</table>\n",
              "<p>5 rows × 26 columns</p>\n",
              "</div>\n",
              "      <button class=\"colab-df-convert\" onclick=\"convertToInteractive('df-82d521e6-3d25-4bdf-84dc-409d2d61b588')\"\n",
              "              title=\"Convert this dataframe to an interactive table.\"\n",
              "              style=\"display:none;\">\n",
              "        \n",
              "  <svg xmlns=\"http://www.w3.org/2000/svg\" height=\"24px\"viewBox=\"0 0 24 24\"\n",
              "       width=\"24px\">\n",
              "    <path d=\"M0 0h24v24H0V0z\" fill=\"none\"/>\n",
              "    <path d=\"M18.56 5.44l.94 2.06.94-2.06 2.06-.94-2.06-.94-.94-2.06-.94 2.06-2.06.94zm-11 1L8.5 8.5l.94-2.06 2.06-.94-2.06-.94L8.5 2.5l-.94 2.06-2.06.94zm10 10l.94 2.06.94-2.06 2.06-.94-2.06-.94-.94-2.06-.94 2.06-2.06.94z\"/><path d=\"M17.41 7.96l-1.37-1.37c-.4-.4-.92-.59-1.43-.59-.52 0-1.04.2-1.43.59L10.3 9.45l-7.72 7.72c-.78.78-.78 2.05 0 2.83L4 21.41c.39.39.9.59 1.41.59.51 0 1.02-.2 1.41-.59l7.78-7.78 2.81-2.81c.8-.78.8-2.07 0-2.86zM5.41 20L4 18.59l7.72-7.72 1.47 1.35L5.41 20z\"/>\n",
              "  </svg>\n",
              "      </button>\n",
              "      \n",
              "  <style>\n",
              "    .colab-df-container {\n",
              "      display:flex;\n",
              "      flex-wrap:wrap;\n",
              "      gap: 12px;\n",
              "    }\n",
              "\n",
              "    .colab-df-convert {\n",
              "      background-color: #E8F0FE;\n",
              "      border: none;\n",
              "      border-radius: 50%;\n",
              "      cursor: pointer;\n",
              "      display: none;\n",
              "      fill: #1967D2;\n",
              "      height: 32px;\n",
              "      padding: 0 0 0 0;\n",
              "      width: 32px;\n",
              "    }\n",
              "\n",
              "    .colab-df-convert:hover {\n",
              "      background-color: #E2EBFA;\n",
              "      box-shadow: 0px 1px 2px rgba(60, 64, 67, 0.3), 0px 1px 3px 1px rgba(60, 64, 67, 0.15);\n",
              "      fill: #174EA6;\n",
              "    }\n",
              "\n",
              "    [theme=dark] .colab-df-convert {\n",
              "      background-color: #3B4455;\n",
              "      fill: #D2E3FC;\n",
              "    }\n",
              "\n",
              "    [theme=dark] .colab-df-convert:hover {\n",
              "      background-color: #434B5C;\n",
              "      box-shadow: 0px 1px 3px 1px rgba(0, 0, 0, 0.15);\n",
              "      filter: drop-shadow(0px 1px 2px rgba(0, 0, 0, 0.3));\n",
              "      fill: #FFFFFF;\n",
              "    }\n",
              "  </style>\n",
              "\n",
              "      <script>\n",
              "        const buttonEl =\n",
              "          document.querySelector('#df-82d521e6-3d25-4bdf-84dc-409d2d61b588 button.colab-df-convert');\n",
              "        buttonEl.style.display =\n",
              "          google.colab.kernel.accessAllowed ? 'block' : 'none';\n",
              "\n",
              "        async function convertToInteractive(key) {\n",
              "          const element = document.querySelector('#df-82d521e6-3d25-4bdf-84dc-409d2d61b588');\n",
              "          const dataTable =\n",
              "            await google.colab.kernel.invokeFunction('convertToInteractive',\n",
              "                                                     [key], {});\n",
              "          if (!dataTable) return;\n",
              "\n",
              "          const docLinkHtml = 'Like what you see? Visit the ' +\n",
              "            '<a target=\"_blank\" href=https://colab.research.google.com/notebooks/data_table.ipynb>data table notebook</a>'\n",
              "            + ' to learn more about interactive tables.';\n",
              "          element.innerHTML = '';\n",
              "          dataTable['output_type'] = 'display_data';\n",
              "          await google.colab.output.renderOutput(dataTable, element);\n",
              "          const docLink = document.createElement('div');\n",
              "          docLink.innerHTML = docLinkHtml;\n",
              "          element.appendChild(docLink);\n",
              "        }\n",
              "      </script>\n",
              "    </div>\n",
              "  </div>\n",
              "  "
            ]
          },
          "metadata": {},
          "execution_count": 7
        }
      ],
      "source": [
        "data = pd.read_csv('../Data/Data/credit_line_increase.csv')\n",
        "data.head()"
      ]
    },
    {
      "cell_type": "markdown",
      "id": "PNWk_n0nidJZ",
      "metadata": {
        "id": "PNWk_n0nidJZ"
      },
      "source": [
        "### Assign target and inputs for models\n",
        "Note that Demographic features are not used as model inputs."
      ]
    },
    {
      "cell_type": "code",
      "execution_count": 8,
      "id": "ede32daf-0899-49b2-8fc3-d2df2fec7116",
      "metadata": {
        "id": "ede32daf-0899-49b2-8fc3-d2df2fec7116"
      },
      "outputs": [],
      "source": [
        "id_col = 'ID'\n",
        "groups = ['SEX', 'RACE', 'EDUCATION', 'MARRIAGE', 'AGE']\n",
        "target = 'DELINQ_NEXT'\n",
        "demographic_cols = ['SEX', 'RACE','EDUCATION', 'MARRIAGE', 'AGE']"
      ]
    },
    {
      "cell_type": "markdown",
      "id": "gKp190SQiijs",
      "metadata": {
        "id": "gKp190SQiijs"
      },
      "source": [
        "### Splitting dataset into train, validation and test set"
      ]
    },
    {
      "cell_type": "code",
      "execution_count": 9,
      "id": "03ed75d0-db86-4265-8365-2318cb4d49bf",
      "metadata": {
        "colab": {
          "base_uri": "https://localhost:8080/"
        },
        "id": "03ed75d0-db86-4265-8365-2318cb4d49bf",
        "outputId": "55b2a308-3c09-4396-d0a9-f9072759a05a"
      },
      "outputs": [
        {
          "output_type": "stream",
          "name": "stdout",
          "text": [
            "Train/Validation/Test sizes: 19958/5036/5006\n"
          ]
        }
      ],
      "source": [
        "np.random.seed(SEED)\n",
        "\n",
        "split_train_test = 2/3\n",
        "\n",
        "split = np.random.rand(len(data)) < split_train_test\n",
        "train = data[split].copy()\n",
        "test = data[~split].copy()\n",
        "\n",
        "split_test_valid = 1/2\n",
        "\n",
        "split = np.random.rand(len(test)) < split_test_valid\n",
        "valid = test[split].copy()\n",
        "test = test[~split].copy()\n",
        "\n",
        "del data\n",
        "\n",
        "print(f\"Train/Validation/Test sizes: {len(train)}/{len(valid)}/{len(test)}\")"
      ]
    },
    {
      "cell_type": "markdown",
      "id": "bkZi3pi7iOcD",
      "metadata": {
        "id": "bkZi3pi7iOcD"
      },
      "source": [
        "### Converting Pandas dataframe into H2O Frame"
      ]
    },
    {
      "cell_type": "code",
      "execution_count": 10,
      "id": "7722a87e-3bcc-40b3-8f51-67582cddc730",
      "metadata": {
        "id": "7722a87e-3bcc-40b3-8f51-67582cddc730"
      },
      "outputs": [],
      "source": [
        "features = [col for col in train.columns if col not in groups + ['ID', target]]\n",
        "\n",
        "# Converting Pandas dataframe into H2O Frame\n",
        "training_frame = h2o.H2OFrame(train)\n",
        "validation_frame = h2o.H2OFrame(valid)\n",
        "test_frame = h2o.H2OFrame(test)\n",
        "\n",
        "# Setting target column to factor so we can build classification model\n",
        "training_frame[target] = training_frame[target].asfactor()\n",
        "validation_frame[target] = validation_frame[target].asfactor()\n",
        "test_frame[target] = test_frame[target].asfactor()"
      ]
    },
    {
      "cell_type": "markdown",
      "id": "05893426-87fa-4424-bee5-486cc695f32d",
      "metadata": {
        "id": "05893426-87fa-4424-bee5-486cc695f32d"
      },
      "source": [
        "## 2. Training an H2O XGBoost model\n",
        "\n"
      ]
    },
    {
      "cell_type": "markdown",
      "id": "014c9c6a",
      "metadata": {
        "id": "014c9c6a"
      },
      "source": [
        "### Setting XGBooost Parameters"
      ]
    },
    {
      "cell_type": "code",
      "execution_count": 11,
      "id": "d4bee56e-1bd1-4446-98e9-1c8b5a37040a",
      "metadata": {
        "id": "d4bee56e-1bd1-4446-98e9-1c8b5a37040a"
      },
      "outputs": [],
      "source": [
        "param = {\n",
        "      \"ntrees\" : 100\n",
        "    , \"max_depth\" : 10\n",
        "    , \"learn_rate\" : 0.1\n",
        "    , \"sample_rate\" : 0.9\n",
        "    , \"col_sample_rate_per_tree\" : 1\n",
        "    , \"min_rows\" : 5\n",
        "    , \"seed\": SEED\n",
        "    , \"score_tree_interval\": 10\n",
        "}\n",
        "\n",
        "xgb_clf = H2OXGBoostEstimator(**param)\n",
        "xgb_clf = xgb_clf.train(x=features, y=target, \n",
        "                        training_frame=training_frame, validation_frame=validation_frame)"
      ]
    },
    {
      "cell_type": "markdown",
      "id": "ee6db46c-4f7a-4c5e-9064-93d65c57aaf0",
      "metadata": {
        "id": "ee6db46c-4f7a-4c5e-9064-93d65c57aaf0"
      },
      "source": [
        "### Investigating Pairwise Spearman Correlations with the Target Variable"
      ]
    },
    {
      "cell_type": "code",
      "execution_count": 12,
      "id": "d8108cad-95c2-486d-9497-f8273e197ab9",
      "metadata": {
        "id": "d8108cad-95c2-486d-9497-f8273e197ab9"
      },
      "outputs": [],
      "source": [
        "corr = pd.DataFrame(train[features + [target]].corr(method='spearman')[target]).iloc[:-1]\n",
        "corr.columns = ['Spearman Correlation Coefficient']\n",
        "\n",
        "values = [int(i) for i in np.sign(corr.values)]\n",
        "mono_constraints = dict(zip(corr.index, values))"
      ]
    },
    {
      "cell_type": "markdown",
      "id": "85f3a04d-77a1-48c4-b5df-7340d475c926",
      "metadata": {
        "id": "85f3a04d-77a1-48c4-b5df-7340d475c926"
      },
      "source": [
        "### Train XGBoost with  L2 Regularisation\n",
        "\n",
        "Using grid Search to find the best hyperparameter values"
      ]
    },
    {
      "cell_type": "code",
      "execution_count": 13,
      "id": "749b88bd-dbdb-4bed-8796-74020d4354e7",
      "metadata": {
        "colab": {
          "base_uri": "https://localhost:8080/"
        },
        "id": "749b88bd-dbdb-4bed-8796-74020d4354e7",
        "outputId": "a1bf1bf4-de57-44f5-b199-c08471abd514"
      },
      "outputs": [
        {
          "output_type": "stream",
          "name": "stderr",
          "text": [
            "/usr/local/lib/python3.8/dist-packages/h2o/estimators/estimator_base.py:193: RuntimeWarning: Using user-provided parameter eta instead of learn_rate.\"\n",
            "  warnings.warn(mesg[\"message\"], RuntimeWarning)\n"
          ]
        }
      ],
      "source": [
        "# params obtained out of grid Search\n",
        "params_best = {'reg_lambda': 0.25,\n",
        "               'min_child_weight': 1,\n",
        "               'eta': 0.08,\n",
        "               'sample_rate': 0.8,\n",
        "               'col_sample_rate_per_tree': 0.8,\n",
        "               'max_depth': 3}\n",
        "\n",
        "xgb_best = H2OXGBoostEstimator(**params_best, \n",
        "                               monotone_constraints=mono_constraints)\n",
        "\n",
        "xgb_best = xgb_best.train(x=features, y=target, \n",
        "                          training_frame=training_frame, \n",
        "                          validation_frame=validation_frame)"
      ]
    },
    {
      "cell_type": "markdown",
      "id": "dd4e8cbf-7a24-4ea8-a98e-f597901eebcf",
      "metadata": {
        "id": "dd4e8cbf-7a24-4ea8-a98e-f597901eebcf"
      },
      "source": [
        "## 3. Model Extraction Attacks\n",
        "\n",
        "Model Extraction is a confidentiality attack, meaning it compromises the confi‐\n",
        "dentiality of an ML model. To conduct a model extraction attack, a hacker sub‐\n",
        "mits data to a prediction API, gets predictions back and builds a surrogate model\n",
        "between the submitted data and the received predictions to reverse-engineer a\n",
        "copy of the model. With this information, they may uncover proprietary business\n",
        "processes and decision-making."
      ]
    },
    {
      "cell_type": "code",
      "execution_count": 14,
      "id": "f50972b7-7270-4cf7-a2d3-458a4273ce03",
      "metadata": {
        "id": "f50972b7-7270-4cf7-a2d3-458a4273ce03"
      },
      "outputs": [],
      "source": [
        "# We'll suppose access to a model prediction API endpoint that we can query without restriction\n",
        "\n",
        "def model_endpoint(observations: pd.DataFrame):\n",
        "    pred_frame = h2o.H2OFrame(observations)\n",
        "    prediction = xgb_clf.predict(pred_frame)['p1'].as_data_frame().values\n",
        "    return prediction\n"
      ]
    },
    {
      "cell_type": "code",
      "execution_count": 15,
      "id": "07023cc5-4e23-4908-bf95-ccde984e80c8",
      "metadata": {
        "id": "07023cc5-4e23-4908-bf95-ccde984e80c8"
      },
      "outputs": [],
      "source": [
        "# best guess at feature distributions\n",
        "schema_dict = {'PAY_0': {'values': np.arange(-1, 10), 'dist': 'uniform'},\n",
        "               'PAY_2': {'values': np.arange(-1, 10), 'dist': 'uniform'},\n",
        "               'PAY_3': {'values': np.arange(-1, 10), 'dist': 'uniform'},\n",
        "               'PAY_4': {'values': np.arange(-1, 10), 'dist': 'uniform'},\n",
        "               'PAY_5': {'values': np.arange(-1, 10), 'dist': 'uniform'},\n",
        "               'PAY_6': {'values': np.arange(-1, 10), 'dist': 'uniform'},\n",
        "               'LIMIT_BAL': {'min': 500, 'scale': 1000000, 'dist': 'exponential'},\n",
        "               'BILL_AMT1': {'min': 0, 'scale': 600000, 'dist': 'exponential'},\n",
        "               'BILL_AMT2': {'min': 0, 'scale': 600000, 'dist': 'exponential'},\n",
        "               'BILL_AMT3': {'min': 0, 'scale': 600000, 'dist': 'exponential'},\n",
        "               'BILL_AMT4': {'min': 0, 'scale': 600000, 'dist': 'exponential'},\n",
        "               'BILL_AMT5': {'min': 0, 'scale': 600000, 'dist': 'exponential'},\n",
        "               'BILL_AMT6': {'min': 0, 'scale': 600000, 'dist': 'exponential'},\n",
        "               'PAY_AMT1': {'min': 0, 'scale': 300000, 'dist': 'exponential'},\n",
        "               'PAY_AMT2': {'min': 0, 'scale': 300000, 'dist': 'exponential'},\n",
        "               'PAY_AMT3': {'min': 0, 'scale': 300000, 'dist': 'exponential'},\n",
        "               'PAY_AMT4': {'min': 0, 'scale': 300000, 'dist': 'exponential'},\n",
        "               'PAY_AMT5': {'min': 0, 'scale': 300000, 'dist': 'exponential'},\n",
        "               'PAY_AMT6': {'min': 0, 'scale': 300000, 'dist': 'exponential'}}\n",
        "\n",
        "N = 50000 # rows of simulated data\n",
        "np.random.seed(SEED) # same results each time cell is run    \n",
        "\n",
        "def make_random_frame(schema, N):\n",
        "    random_frame = pd.DataFrame(columns=list(schema_dict.keys())) # init empty frame\n",
        "\n",
        "\n",
        "    for j in list(schema_dict.keys()): # loop through features\n",
        "\n",
        "        # simulate PAY_* features\n",
        "        if schema_dict[j]['dist'] == 'uniform':\n",
        "            random_frame[j] = np.random.choice(schema_dict[j]['values'],\n",
        "                                               size=N)\n",
        "\n",
        "        # simulate LIMIT_BAL, BILL_AMT*, PAY_AMT* features\n",
        "        if schema_dict[j]['dist'] == 'exponential':\n",
        "            random_frame[j] = schema_dict[j]['min'] + np.random.exponential(scale=schema_dict[j]['scale'], \n",
        "                                                                            size=N)\n",
        "            \n",
        "    return random_frame\n",
        "\n",
        "random_frame = make_random_frame(schema_dict, N)"
      ]
    },
    {
      "cell_type": "code",
      "execution_count": 17,
      "id": "b85f6ea4-cba8-4e04-865c-104cc86fe4a7",
      "metadata": {
        "id": "b85f6ea4-cba8-4e04-865c-104cc86fe4a7"
      },
      "outputs": [],
      "source": [
        "# We augmented the random data above with another data synthesis technique that leverages \n",
        "#  access to the model endpoint.\n",
        "\n",
        "random_frame = pd.read_csv('../Data/Data/synthetic_data.csv', index_col=0)\n",
        "\n",
        "split = np.random.rand(len(random_frame)) < split_train_test\n",
        "random_train = random_frame[split].copy()\n",
        "random_test = random_frame[~split].copy()\n",
        "\n",
        "split = np.random.rand(len(random_test)) < split_test_valid\n",
        "random_valid = random_test[split].copy()\n",
        "random_test = random_test[~split].copy()"
      ]
    },
    {
      "cell_type": "code",
      "execution_count": 18,
      "id": "251de1ca-e099-4942-92df-a43b29aafd9a",
      "metadata": {
        "colab": {
          "base_uri": "https://localhost:8080/"
        },
        "id": "251de1ca-e099-4942-92df-a43b29aafd9a",
        "outputId": "3274870f-de8e-454a-a6d2-48c216021120"
      },
      "outputs": [
        {
          "output_type": "stream",
          "name": "stdout",
          "text": [
            "R2 on training data (simulated): 0.605\n",
            "R2 on test data (simulated): 0.601\n",
            "R2 on real data: 0.608\n",
            "real/test: 1.0120976812025775\n"
          ]
        }
      ],
      "source": [
        "from sklearn.tree import DecisionTreeRegressor\n",
        "from sklearn import tree\n",
        "from sklearn.metrics import r2_score\n",
        "\n",
        "surrogate_model_params = {'max_depth': 3,\n",
        "                         'random_state': SEED}\n",
        "extracted_model_dt = DecisionTreeRegressor(**surrogate_model_params).fit(random_train[features], \n",
        "                                                                         model_endpoint(random_train[features]))\n",
        "\n",
        "r2_train = r2_score(y_true=model_endpoint(random_train[features]), \n",
        "                     y_pred=extracted_model_dt.predict(random_train[features]))\n",
        "r2_test = r2_score(y_true=model_endpoint(random_test[features]), \n",
        "                     y_pred=extracted_model_dt.predict(random_test[features]))\n",
        "r2_holdout = r2_score(y_true=model_endpoint(test[features]), \n",
        "                     y_pred=extracted_model_dt.predict(test[features]))\n",
        "\n",
        "print(f'R2 on training data (simulated): {np.round(r2_train, 3)}')\n",
        "print(f'R2 on test data (simulated): {np.round(r2_test, 3)}')\n",
        "print(f'R2 on real data: {np.round(r2_holdout, 3)}')\n",
        "\n",
        "print(f'real/test: {r2_holdout/r2_test}')"
      ]
    },
    {
      "cell_type": "code",
      "execution_count": 19,
      "id": "63806856-291c-4055-930c-c97f3c1abe8a",
      "metadata": {
        "colab": {
          "base_uri": "https://localhost:8080/"
        },
        "id": "63806856-291c-4055-930c-c97f3c1abe8a",
        "outputId": "832c941c-317c-4171-c413-470753c46b5a"
      },
      "outputs": [
        {
          "output_type": "stream",
          "name": "stdout",
          "text": [
            "MAE on test data (simulated): 0.0825\n",
            "MAE on real data: 0.09586\n",
            "test/real: 0.860618968222088\n"
          ]
        }
      ],
      "source": [
        "from sklearn.metrics import mean_absolute_error\n",
        "\n",
        "mae_test = mean_absolute_error(y_true=model_endpoint(random_test[features]), \n",
        "                              y_pred=extracted_model_dt.predict(random_test[features]))\n",
        "\n",
        "mae_holdout = mean_absolute_error(y_true=model_endpoint(test[features]), \n",
        "                                 y_pred=extracted_model_dt.predict(test[features]))\n",
        "\n",
        "print(f'MAE on test data (simulated): {np.round(mae_test, 5)}')\n",
        "print(f'MAE on real data: {np.round(mae_holdout, 5)}')\n",
        "\n",
        "print(f'test/real: {mae_test/mae_holdout}')"
      ]
    },
    {
      "cell_type": "code",
      "execution_count": 31,
      "id": "86286435-410b-4e25-8fca-eab81524f2aa",
      "metadata": {
        "colab": {
          "base_uri": "https://localhost:8080/",
          "height": 370
        },
        "id": "86286435-410b-4e25-8fca-eab81524f2aa",
        "outputId": "22ebca67-66a0-4668-f082-6432702df7e9"
      },
      "outputs": [
        {
          "output_type": "display_data",
          "data": {
            "text/plain": [
              "<Figure size 1080x360 with 3 Axes>"
            ],
            "image/png": "[encoded data removed]"
          },
          "metadata": {
            "needs_background": "light"
          }
        }
      ],
      "source": [
        "fig, axs = plt.subplots(1, 3, figsize=(15, 5))\n",
        "\n",
        "\n",
        "axs[0].scatter(model_endpoint(random_train[features]), extracted_model_dt.predict(random_train[features]))\n",
        "axs[0].set_title(\"Training Scores (Simulated)\")\n",
        "axs[0].set_ylabel('Extracted Score')\n",
        "axs[0].set_xlabel('True Score')\n",
        "axs[0].set_ylim([0, 1])\n",
        "\n",
        "\n",
        "axs[1].scatter(model_endpoint(random_test[features]), extracted_model_dt.predict(random_test[features]))\n",
        "axs[1].set_title(\"Validation Scores(Simulated)\")\n",
        "axs[1].set_xlabel('True Score')\n",
        "axs[1].set_ylim([0, 1])\n",
        "\n",
        "\n",
        "axs[2].scatter(model_endpoint(test[features]), extracted_model_dt.predict(test[features]))\n",
        "axs[2].set_title(\"Holdout Scores (Real)\")\n",
        "axs[2].set_xlabel('True Score')\n",
        "axs[2].set_ylim([0, 1])\n",
        "\n",
        "_ = fig.suptitle(\"Decision Tree Surrogate\")\n",
        "plt.axis([0, 1, 0, 1])\n",
        "fig.savefig('Data/Figures/overfit_DT_extraction.png')"
      ]
    },
    {
      "cell_type": "code",
      "execution_count": 22,
      "id": "8150cdfd-cf57-4a88-a3c4-17ed3466549a",
      "metadata": {
        "colab": {
          "base_uri": "https://localhost:8080/",
          "height": 785
        },
        "id": "8150cdfd-cf57-4a88-a3c4-17ed3466549a",
        "outputId": "1cda773f-19b3-425c-eac2-516b1022217f"
      },
      "outputs": [
        {
          "output_type": "execute_result",
          "data": {
            "text/plain": [
              "<graphviz.files.Source at 0x7fb24c490df0>"
            ],
            "image/svg+xml": "<?xml version=\"1.0\" encoding=\"UTF-8\" standalone=\"no\"?>\n<!DOCTYPE svg PUBLIC \"-//W3C//DTD SVG 1.1//EN\"\n \"http://www.w3.org/Graphics/SVG/1.1/DTD/svg11.dtd\">\n<!-- Generated by graphviz version 2.40.1 (20161225.0304)\n -->\n<!-- Title: Tree Pages: 1 -->\n<svg width=\"830pt\" height=\"558pt\"\n viewBox=\"0.00 0.00 830.00 558.00\" xmlns=\"http://www.w3.org/2000/svg\" xmlns:xlink=\"http://www.w3.org/1999/xlink\">\n<g id=\"graph0\" class=\"graph\" transform=\"scale(1 1) rotate(0) translate(4 554)\">\n<title>Tree</title>\n<polygon fill=\"#ffffff\" stroke=\"transparent\" points=\"-4,4 -4,-554 826,-554 826,4 -4,4\"/>\n<!-- 0 -->\n<g id=\"node1\" class=\"node\">\n<title>0</title>\n<path fill=\"#f6d6be\" stroke=\"#000000\" d=\"M149,-336.5C149,-336.5 12,-336.5 12,-336.5 6,-336.5 0,-330.5 0,-324.5 0,-324.5 0,-280.5 0,-280.5 0,-274.5 6,-268.5 12,-268.5 12,-268.5 149,-268.5 149,-268.5 155,-268.5 161,-274.5 161,-280.5 161,-280.5 161,-324.5 161,-324.5 161,-330.5 155,-336.5 149,-336.5\"/>\n<text text-anchor=\"middle\" x=\"80.5\" y=\"-321.3\" font-family=\"Helvetica,sans-Serif\" font-size=\"14.00\" fill=\"#000000\">PAY_0 &lt;= 1.5</text>\n<text text-anchor=\"middle\" x=\"80.5\" y=\"-306.3\" font-family=\"Helvetica,sans-Serif\" font-size=\"14.00\" fill=\"#000000\">squared_error = 0.028</text>\n<text text-anchor=\"middle\" x=\"80.5\" y=\"-291.3\" font-family=\"Helvetica,sans-Serif\" font-size=\"14.00\" fill=\"#000000\">samples = 35849</text>\n<text text-anchor=\"middle\" x=\"80.5\" y=\"-276.3\" font-family=\"Helvetica,sans-Serif\" font-size=\"14.00\" fill=\"#000000\">value = 0.341</text>\n</g>\n<!-- 1 -->\n<g id=\"node2\" class=\"node\">\n<title>1</title>\n<path fill=\"#fcf0e8\" stroke=\"#000000\" d=\"M381,-372.5C381,-372.5 209,-372.5 209,-372.5 203,-372.5 197,-366.5 197,-360.5 197,-360.5 197,-316.5 197,-316.5 197,-310.5 203,-304.5 209,-304.5 209,-304.5 381,-304.5 381,-304.5 387,-304.5 393,-310.5 393,-316.5 393,-316.5 393,-360.5 393,-360.5 393,-366.5 387,-372.5 381,-372.5\"/>\n<text text-anchor=\"middle\" x=\"295\" y=\"-357.3\" font-family=\"Helvetica,sans-Serif\" font-size=\"14.00\" fill=\"#000000\">BILL_AMT2 &lt;= 478224.531</text>\n<text text-anchor=\"middle\" x=\"295\" y=\"-342.3\" font-family=\"Helvetica,sans-Serif\" font-size=\"14.00\" fill=\"#000000\">squared_error = 0.013</text>\n<text text-anchor=\"middle\" x=\"295\" y=\"-327.3\" font-family=\"Helvetica,sans-Serif\" font-size=\"14.00\" fill=\"#000000\">samples = 10556</text>\n<text text-anchor=\"middle\" x=\"295\" y=\"-312.3\" font-family=\"Helvetica,sans-Serif\" font-size=\"14.00\" fill=\"#000000\">value = 0.203</text>\n</g>\n<!-- 0&#45;&gt;1 -->\n<g id=\"edge1\" class=\"edge\">\n<title>0&#45;&gt;1</title>\n<path fill=\"none\" stroke=\"#000000\" d=\"M161.2876,-316.0588C169.6526,-317.4627 178.2468,-318.9051 186.8486,-320.3487\"/>\n<polygon fill=\"#000000\" stroke=\"#000000\" points=\"186.4953,-323.8383 196.9367,-322.0418 187.654,-316.9349 186.4953,-323.8383\"/>\n<text text-anchor=\"middle\" x=\"176.5769\" y=\"-332.8497\" font-family=\"Helvetica,sans-Serif\" font-size=\"14.00\" fill=\"#000000\">True</text>\n</g>\n<!-- 8 -->\n<g id=\"node9\" class=\"node\">\n<title>8</title>\n<path fill=\"#f4caac\" stroke=\"#000000\" d=\"M375.5,-245.5C375.5,-245.5 214.5,-245.5 214.5,-245.5 208.5,-245.5 202.5,-239.5 202.5,-233.5 202.5,-233.5 202.5,-189.5 202.5,-189.5 202.5,-183.5 208.5,-177.5 214.5,-177.5 214.5,-177.5 375.5,-177.5 375.5,-177.5 381.5,-177.5 387.5,-183.5 387.5,-189.5 387.5,-189.5 387.5,-233.5 387.5,-233.5 387.5,-239.5 381.5,-245.5 375.5,-245.5\"/>\n<text text-anchor=\"middle\" x=\"295\" y=\"-230.3\" font-family=\"Helvetica,sans-Serif\" font-size=\"14.00\" fill=\"#000000\">PAY_AMT5 &lt;= 10073.337</text>\n<text text-anchor=\"middle\" x=\"295\" y=\"-215.3\" font-family=\"Helvetica,sans-Serif\" font-size=\"14.00\" fill=\"#000000\">squared_error = 0.023</text>\n<text text-anchor=\"middle\" x=\"295\" y=\"-200.3\" font-family=\"Helvetica,sans-Serif\" font-size=\"14.00\" fill=\"#000000\">samples = 25293</text>\n<text text-anchor=\"middle\" x=\"295\" y=\"-185.3\" font-family=\"Helvetica,sans-Serif\" font-size=\"14.00\" fill=\"#000000\">value = 0.398</text>\n</g>\n<!-- 0&#45;&gt;8 -->\n<g id=\"edge8\" class=\"edge\">\n<title>0&#45;&gt;8</title>\n<path fill=\"none\" stroke=\"#000000\" d=\"M160.6769,-268.4856C175.1237,-262.3566 190.2717,-255.9302 204.9761,-249.6919\"/>\n<polygon fill=\"#000000\" stroke=\"#000000\" points=\"206.7243,-252.7523 214.5632,-245.6247 203.9904,-246.3082 206.7243,-252.7523\"/>\n<text text-anchor=\"middle\" x=\"191.3854\" y=\"-232.555\" font-family=\"Helvetica,sans-Serif\" font-size=\"14.00\" fill=\"#000000\">False</text>\n</g>\n<!-- 2 -->\n<g id=\"node3\" class=\"node\">\n<title>2</title>\n<path fill=\"#fefbf9\" stroke=\"#000000\" d=\"M595.5,-486.5C595.5,-486.5 458.5,-486.5 458.5,-486.5 452.5,-486.5 446.5,-480.5 446.5,-474.5 446.5,-474.5 446.5,-430.5 446.5,-430.5 446.5,-424.5 452.5,-418.5 458.5,-418.5 458.5,-418.5 595.5,-418.5 595.5,-418.5 601.5,-418.5 607.5,-424.5 607.5,-430.5 607.5,-430.5 607.5,-474.5 607.5,-474.5 607.5,-480.5 601.5,-486.5 595.5,-486.5\"/>\n<text text-anchor=\"middle\" x=\"527\" y=\"-471.3\" font-family=\"Helvetica,sans-Serif\" font-size=\"14.00\" fill=\"#000000\">PAY_0 &lt;= 0.5</text>\n<text text-anchor=\"middle\" x=\"527\" y=\"-456.3\" font-family=\"Helvetica,sans-Serif\" font-size=\"14.00\" fill=\"#000000\">squared_error = 0.007</text>\n<text text-anchor=\"middle\" x=\"527\" y=\"-441.3\" font-family=\"Helvetica,sans-Serif\" font-size=\"14.00\" fill=\"#000000\">samples = 6350</text>\n<text text-anchor=\"middle\" x=\"527\" y=\"-426.3\" font-family=\"Helvetica,sans-Serif\" font-size=\"14.00\" fill=\"#000000\">value = 0.147</text>\n</g>\n<!-- 1&#45;&gt;2 -->\n<g id=\"edge2\" class=\"edge\">\n<title>1&#45;&gt;2</title>\n<path fill=\"none\" stroke=\"#000000\" d=\"M364.2934,-372.5493C390.8045,-385.5764 421.2231,-400.5234 448.5313,-413.9421\"/>\n<polygon fill=\"#000000\" stroke=\"#000000\" points=\"447.1445,-417.1603 457.663,-418.4293 450.2316,-410.8778 447.1445,-417.1603\"/>\n</g>\n<!-- 5 -->\n<g id=\"node6\" class=\"node\">\n<title>5</title>\n<path fill=\"#f9e0ce\" stroke=\"#000000\" d=\"M613,-372.5C613,-372.5 441,-372.5 441,-372.5 435,-372.5 429,-366.5 429,-360.5 429,-360.5 429,-316.5 429,-316.5 429,-310.5 435,-304.5 441,-304.5 441,-304.5 613,-304.5 613,-304.5 619,-304.5 625,-310.5 625,-316.5 625,-316.5 625,-360.5 625,-360.5 625,-366.5 619,-372.5 613,-372.5\"/>\n<text text-anchor=\"middle\" x=\"527\" y=\"-357.3\" font-family=\"Helvetica,sans-Serif\" font-size=\"14.00\" fill=\"#000000\">BILL_AMT1 &lt;= 239032.852</text>\n<text text-anchor=\"middle\" x=\"527\" y=\"-342.3\" font-family=\"Helvetica,sans-Serif\" font-size=\"14.00\" fill=\"#000000\">squared_error = 0.011</text>\n<text text-anchor=\"middle\" x=\"527\" y=\"-327.3\" font-family=\"Helvetica,sans-Serif\" font-size=\"14.00\" fill=\"#000000\">samples = 4206</text>\n<text text-anchor=\"middle\" x=\"527\" y=\"-312.3\" font-family=\"Helvetica,sans-Serif\" font-size=\"14.00\" fill=\"#000000\">value = 0.288</text>\n</g>\n<!-- 1&#45;&gt;5 -->\n<g id=\"edge5\" class=\"edge\">\n<title>1&#45;&gt;5</title>\n<path fill=\"none\" stroke=\"#000000\" d=\"M393.0526,-338.5C401.5857,-338.5 410.2516,-338.5 418.8595,-338.5\"/>\n<polygon fill=\"#000000\" stroke=\"#000000\" points=\"418.9264,-342.0001 428.9264,-338.5 418.9263,-335.0001 418.9264,-342.0001\"/>\n</g>\n<!-- 3 -->\n<g id=\"node4\" class=\"node\">\n<title>3</title>\n<path fill=\"#ffffff\" stroke=\"#000000\" d=\"M810,-550C810,-550 673,-550 673,-550 667,-550 661,-544 661,-538 661,-538 661,-509 661,-509 661,-503 667,-497 673,-497 673,-497 810,-497 810,-497 816,-497 822,-503 822,-509 822,-509 822,-538 822,-538 822,-544 816,-550 810,-550\"/>\n<text text-anchor=\"middle\" x=\"741.5\" y=\"-534.8\" font-family=\"Helvetica,sans-Serif\" font-size=\"14.00\" fill=\"#000000\">squared_error = 0.005</text>\n<text text-anchor=\"middle\" x=\"741.5\" y=\"-519.8\" font-family=\"Helvetica,sans-Serif\" font-size=\"14.00\" fill=\"#000000\">samples = 4655</text>\n<text text-anchor=\"middle\" x=\"741.5\" y=\"-504.8\" font-family=\"Helvetica,sans-Serif\" font-size=\"14.00\" fill=\"#000000\">value = 0.127</text>\n</g>\n<!-- 2&#45;&gt;3 -->\n<g id=\"edge3\" class=\"edge\">\n<title>2&#45;&gt;3</title>\n<path fill=\"none\" stroke=\"#000000\" d=\"M607.7876,-479.2409C621.9718,-483.9359 636.8147,-488.8489 651.237,-493.6227\"/>\n<polygon fill=\"#000000\" stroke=\"#000000\" points=\"650.548,-497.0814 661.1413,-496.9011 652.7477,-490.4359 650.548,-497.0814\"/>\n</g>\n<!-- 4 -->\n<g id=\"node5\" class=\"node\">\n<title>4</title>\n<path fill=\"#fcf1e8\" stroke=\"#000000\" d=\"M810,-479C810,-479 673,-479 673,-479 667,-479 661,-473 661,-467 661,-467 661,-438 661,-438 661,-432 667,-426 673,-426 673,-426 810,-426 810,-426 816,-426 822,-432 822,-438 822,-438 822,-467 822,-467 822,-473 816,-479 810,-479\"/>\n<text text-anchor=\"middle\" x=\"741.5\" y=\"-463.8\" font-family=\"Helvetica,sans-Serif\" font-size=\"14.00\" fill=\"#000000\">squared_error = 0.008</text>\n<text text-anchor=\"middle\" x=\"741.5\" y=\"-448.8\" font-family=\"Helvetica,sans-Serif\" font-size=\"14.00\" fill=\"#000000\">samples = 1695</text>\n<text text-anchor=\"middle\" x=\"741.5\" y=\"-433.8\" font-family=\"Helvetica,sans-Serif\" font-size=\"14.00\" fill=\"#000000\">value = 0.202</text>\n</g>\n<!-- 2&#45;&gt;4 -->\n<g id=\"edge4\" class=\"edge\">\n<title>2&#45;&gt;4</title>\n<path fill=\"none\" stroke=\"#000000\" d=\"M607.7876,-452.5C621.7398,-452.5 636.3294,-452.5 650.5291,-452.5\"/>\n<polygon fill=\"#000000\" stroke=\"#000000\" points=\"650.7852,-456.0001 660.7852,-452.5 650.7852,-449.0001 650.7852,-456.0001\"/>\n</g>\n<!-- 6 -->\n<g id=\"node7\" class=\"node\">\n<title>6</title>\n<path fill=\"#fbeade\" stroke=\"#000000\" d=\"M805.5,-408C805.5,-408 677.5,-408 677.5,-408 671.5,-408 665.5,-402 665.5,-396 665.5,-396 665.5,-367 665.5,-367 665.5,-361 671.5,-355 677.5,-355 677.5,-355 805.5,-355 805.5,-355 811.5,-355 817.5,-361 817.5,-367 817.5,-367 817.5,-396 817.5,-396 817.5,-402 811.5,-408 805.5,-408\"/>\n<text text-anchor=\"middle\" x=\"741.5\" y=\"-392.8\" font-family=\"Helvetica,sans-Serif\" font-size=\"14.00\" fill=\"#000000\">squared_error = 0.01</text>\n<text text-anchor=\"middle\" x=\"741.5\" y=\"-377.8\" font-family=\"Helvetica,sans-Serif\" font-size=\"14.00\" fill=\"#000000\">samples = 1465</text>\n<text text-anchor=\"middle\" x=\"741.5\" y=\"-362.8\" font-family=\"Helvetica,sans-Serif\" font-size=\"14.00\" fill=\"#000000\">value = 0.236</text>\n</g>\n<!-- 5&#45;&gt;6 -->\n<g id=\"edge6\" class=\"edge\">\n<title>5&#45;&gt;6</title>\n<path fill=\"none\" stroke=\"#000000\" d=\"M625.1477,-358.1753C635.2414,-360.1987 645.4434,-362.2439 655.3926,-364.2384\"/>\n<polygon fill=\"#000000\" stroke=\"#000000\" points=\"654.7513,-367.6794 665.2442,-366.2133 656.1273,-360.8159 654.7513,-367.6794\"/>\n</g>\n<!-- 7 -->\n<g id=\"node8\" class=\"node\">\n<title>7</title>\n<path fill=\"#f7dac5\" stroke=\"#000000\" d=\"M810,-337C810,-337 673,-337 673,-337 667,-337 661,-331 661,-325 661,-325 661,-296 661,-296 661,-290 667,-284 673,-284 673,-284 810,-284 810,-284 816,-284 822,-290 822,-296 822,-296 822,-325 822,-325 822,-331 816,-337 810,-337\"/>\n<text text-anchor=\"middle\" x=\"741.5\" y=\"-321.8\" font-family=\"Helvetica,sans-Serif\" font-size=\"14.00\" fill=\"#000000\">squared_error = 0.009</text>\n<text text-anchor=\"middle\" x=\"741.5\" y=\"-306.8\" font-family=\"Helvetica,sans-Serif\" font-size=\"14.00\" fill=\"#000000\">samples = 2741</text>\n<text text-anchor=\"middle\" x=\"741.5\" y=\"-291.8\" font-family=\"Helvetica,sans-Serif\" font-size=\"14.00\" fill=\"#000000\">value = 0.316</text>\n</g>\n<!-- 5&#45;&gt;7 -->\n<g id=\"edge7\" class=\"edge\">\n<title>5&#45;&gt;7</title>\n<path fill=\"none\" stroke=\"#000000\" d=\"M625.1477,-325.6882C633.6177,-324.5825 642.164,-323.4669 650.5732,-322.3692\"/>\n<polygon fill=\"#000000\" stroke=\"#000000\" points=\"651.2854,-325.806 660.7482,-321.041 650.3793,-318.8649 651.2854,-325.806\"/>\n</g>\n<!-- 9 -->\n<g id=\"node10\" class=\"node\">\n<title>9</title>\n<path fill=\"#e88e4d\" stroke=\"#000000\" d=\"M613,-245.5C613,-245.5 441,-245.5 441,-245.5 435,-245.5 429,-239.5 429,-233.5 429,-233.5 429,-189.5 429,-189.5 429,-183.5 435,-177.5 441,-177.5 441,-177.5 613,-177.5 613,-177.5 619,-177.5 625,-183.5 625,-189.5 625,-189.5 625,-233.5 625,-233.5 625,-239.5 619,-245.5 613,-245.5\"/>\n<text text-anchor=\"middle\" x=\"527\" y=\"-230.3\" font-family=\"Helvetica,sans-Serif\" font-size=\"14.00\" fill=\"#000000\">BILL_AMT2 &lt;= 484847.469</text>\n<text text-anchor=\"middle\" x=\"527\" y=\"-215.3\" font-family=\"Helvetica,sans-Serif\" font-size=\"14.00\" fill=\"#000000\">squared_error = 0.023</text>\n<text text-anchor=\"middle\" x=\"527\" y=\"-200.3\" font-family=\"Helvetica,sans-Serif\" font-size=\"14.00\" fill=\"#000000\">samples = 1501</text>\n<text text-anchor=\"middle\" x=\"527\" y=\"-185.3\" font-family=\"Helvetica,sans-Serif\" font-size=\"14.00\" fill=\"#000000\">value = 0.71</text>\n</g>\n<!-- 8&#45;&gt;9 -->\n<g id=\"edge9\" class=\"edge\">\n<title>8&#45;&gt;9</title>\n<path fill=\"none\" stroke=\"#000000\" d=\"M387.6927,-211.5C397.8213,-211.5 408.1972,-211.5 418.494,-211.5\"/>\n<polygon fill=\"#000000\" stroke=\"#000000\" points=\"418.7524,-215.0001 428.7523,-211.5 418.7523,-208.0001 418.7524,-215.0001\"/>\n</g>\n<!-- 12 -->\n<g id=\"node13\" class=\"node\">\n<title>12</title>\n<path fill=\"#f5ceb2\" stroke=\"#000000\" d=\"M613,-131.5C613,-131.5 441,-131.5 441,-131.5 435,-131.5 429,-125.5 429,-119.5 429,-119.5 429,-75.5 429,-75.5 429,-69.5 435,-63.5 441,-63.5 441,-63.5 613,-63.5 613,-63.5 619,-63.5 625,-69.5 625,-75.5 625,-75.5 625,-119.5 625,-119.5 625,-125.5 619,-131.5 613,-131.5\"/>\n<text text-anchor=\"middle\" x=\"527\" y=\"-116.3\" font-family=\"Helvetica,sans-Serif\" font-size=\"14.00\" fill=\"#000000\">BILL_AMT2 &lt;= 480257.203</text>\n<text text-anchor=\"middle\" x=\"527\" y=\"-101.3\" font-family=\"Helvetica,sans-Serif\" font-size=\"14.00\" fill=\"#000000\">squared_error = 0.016</text>\n<text text-anchor=\"middle\" x=\"527\" y=\"-86.3\" font-family=\"Helvetica,sans-Serif\" font-size=\"14.00\" fill=\"#000000\">samples = 23792</text>\n<text text-anchor=\"middle\" x=\"527\" y=\"-71.3\" font-family=\"Helvetica,sans-Serif\" font-size=\"14.00\" fill=\"#000000\">value = 0.378</text>\n</g>\n<!-- 8&#45;&gt;12 -->\n<g id=\"edge12\" class=\"edge\">\n<title>8&#45;&gt;12</title>\n<path fill=\"none\" stroke=\"#000000\" d=\"M364.2934,-177.4507C390.8045,-164.4236 421.2231,-149.4766 448.5313,-136.0579\"/>\n<polygon fill=\"#000000\" stroke=\"#000000\" points=\"450.2316,-139.1222 457.663,-131.5707 447.1445,-132.8397 450.2316,-139.1222\"/>\n</g>\n<!-- 10 -->\n<g id=\"node11\" class=\"node\">\n<title>10</title>\n<path fill=\"#eb9d64\" stroke=\"#000000\" d=\"M810,-266C810,-266 673,-266 673,-266 667,-266 661,-260 661,-254 661,-254 661,-225 661,-225 661,-219 667,-213 673,-213 673,-213 810,-213 810,-213 816,-213 822,-219 822,-225 822,-225 822,-254 822,-254 822,-260 816,-266 810,-266\"/>\n<text text-anchor=\"middle\" x=\"741.5\" y=\"-250.8\" font-family=\"Helvetica,sans-Serif\" font-size=\"14.00\" fill=\"#000000\">squared_error = 0.023</text>\n<text text-anchor=\"middle\" x=\"741.5\" y=\"-235.8\" font-family=\"Helvetica,sans-Serif\" font-size=\"14.00\" fill=\"#000000\">samples = 701</text>\n<text text-anchor=\"middle\" x=\"741.5\" y=\"-220.8\" font-family=\"Helvetica,sans-Serif\" font-size=\"14.00\" fill=\"#000000\">value = 0.634</text>\n</g>\n<!-- 9&#45;&gt;10 -->\n<g id=\"edge10\" class=\"edge\">\n<title>9&#45;&gt;10</title>\n<path fill=\"none\" stroke=\"#000000\" d=\"M625.1477,-224.3118C633.6177,-225.4175 642.164,-226.5331 650.5732,-227.6308\"/>\n<polygon fill=\"#000000\" stroke=\"#000000\" points=\"650.3793,-231.1351 660.7482,-228.959 651.2854,-224.194 650.3793,-231.1351\"/>\n</g>\n<!-- 11 -->\n<g id=\"node12\" class=\"node\">\n<title>11</title>\n<path fill=\"#e58139\" stroke=\"#000000\" d=\"M810,-195C810,-195 673,-195 673,-195 667,-195 661,-189 661,-183 661,-183 661,-154 661,-154 661,-148 667,-142 673,-142 673,-142 810,-142 810,-142 816,-142 822,-148 822,-154 822,-154 822,-183 822,-183 822,-189 816,-195 810,-195\"/>\n<text text-anchor=\"middle\" x=\"741.5\" y=\"-179.8\" font-family=\"Helvetica,sans-Serif\" font-size=\"14.00\" fill=\"#000000\">squared_error = 0.014</text>\n<text text-anchor=\"middle\" x=\"741.5\" y=\"-164.8\" font-family=\"Helvetica,sans-Serif\" font-size=\"14.00\" fill=\"#000000\">samples = 800</text>\n<text text-anchor=\"middle\" x=\"741.5\" y=\"-149.8\" font-family=\"Helvetica,sans-Serif\" font-size=\"14.00\" fill=\"#000000\">value = 0.777</text>\n</g>\n<!-- 9&#45;&gt;11 -->\n<g id=\"edge11\" class=\"edge\">\n<title>9&#45;&gt;11</title>\n<path fill=\"none\" stroke=\"#000000\" d=\"M625.1477,-191.8247C633.7108,-190.1081 642.3518,-188.3759 650.8503,-186.6722\"/>\n<polygon fill=\"#000000\" stroke=\"#000000\" points=\"651.6312,-190.0854 660.7482,-184.688 650.2553,-183.2219 651.6312,-190.0854\"/>\n</g>\n<!-- 13 -->\n<g id=\"node14\" class=\"node\">\n<title>13</title>\n<path fill=\"#f7dac4\" stroke=\"#000000\" d=\"M810,-124C810,-124 673,-124 673,-124 667,-124 661,-118 661,-112 661,-112 661,-83 661,-83 661,-77 667,-71 673,-71 673,-71 810,-71 810,-71 816,-71 822,-77 822,-83 822,-83 822,-112 822,-112 822,-118 816,-124 810,-124\"/>\n<text text-anchor=\"middle\" x=\"741.5\" y=\"-108.8\" font-family=\"Helvetica,sans-Serif\" font-size=\"14.00\" fill=\"#000000\">squared_error = 0.012</text>\n<text text-anchor=\"middle\" x=\"741.5\" y=\"-93.8\" font-family=\"Helvetica,sans-Serif\" font-size=\"14.00\" fill=\"#000000\">samples = 13078</text>\n<text text-anchor=\"middle\" x=\"741.5\" y=\"-78.8\" font-family=\"Helvetica,sans-Serif\" font-size=\"14.00\" fill=\"#000000\">value = 0.32</text>\n</g>\n<!-- 12&#45;&gt;13 -->\n<g id=\"edge13\" class=\"edge\">\n<title>12&#45;&gt;13</title>\n<path fill=\"none\" stroke=\"#000000\" d=\"M625.1477,-97.5C633.6177,-97.5 642.164,-97.5 650.5732,-97.5\"/>\n<polygon fill=\"#000000\" stroke=\"#000000\" points=\"650.7482,-101.0001 660.7482,-97.5 650.7482,-94.0001 650.7482,-101.0001\"/>\n</g>\n<!-- 14 -->\n<g id=\"node15\" class=\"node\">\n<title>14</title>\n<path fill=\"#f2c09d\" stroke=\"#000000\" d=\"M810,-53C810,-53 673,-53 673,-53 667,-53 661,-47 661,-41 661,-41 661,-12 661,-12 661,-6 667,0 673,0 673,0 810,0 810,0 816,0 822,-6 822,-12 822,-12 822,-41 822,-41 822,-47 816,-53 810,-53\"/>\n<text text-anchor=\"middle\" x=\"741.5\" y=\"-37.8\" font-family=\"Helvetica,sans-Serif\" font-size=\"14.00\" fill=\"#000000\">squared_error = 0.013</text>\n<text text-anchor=\"middle\" x=\"741.5\" y=\"-22.8\" font-family=\"Helvetica,sans-Serif\" font-size=\"14.00\" fill=\"#000000\">samples = 10714</text>\n<text text-anchor=\"middle\" x=\"741.5\" y=\"-7.8\" font-family=\"Helvetica,sans-Serif\" font-size=\"14.00\" fill=\"#000000\">value = 0.45</text>\n</g>\n<!-- 12&#45;&gt;14 -->\n<g id=\"edge14\" class=\"edge\">\n<title>12&#45;&gt;14</title>\n<path fill=\"none\" stroke=\"#000000\" d=\"M625.1477,-65.0129C634.059,-62.0632 643.0546,-59.0856 651.8863,-56.1623\"/>\n<polygon fill=\"#000000\" stroke=\"#000000\" points=\"652.9998,-59.4806 661.3934,-53.0155 650.8001,-52.8352 652.9998,-59.4806\"/>\n</g>\n</g>\n</svg>\n"
          },
          "metadata": {},
          "execution_count": 22
        }
      ],
      "source": [
        "\n",
        "\n",
        "dot_data = tree.export_graphviz(extracted_model_dt, \n",
        "                                max_depth=5,\n",
        "                                rounded=True,\n",
        "                                out_file=None, \n",
        "                                feature_names=features,  \n",
        "                                filled=True,\n",
        "                                rotate=True)\n",
        "\n",
        "graph = graphviz.Source(dot_data, format=\"svg\") \n",
        "graph\n"
      ]
    },
    {
      "cell_type": "code",
      "execution_count": 23,
      "id": "01306ced-c23b-400f-81e1-151a8b31da67",
      "metadata": {
        "colab": {
          "base_uri": "https://localhost:8080/"
        },
        "id": "01306ced-c23b-400f-81e1-151a8b31da67",
        "outputId": "edd43204-72c4-4d76-f790-bcb571826230"
      },
      "outputs": [
        {
          "output_type": "stream",
          "name": "stdout",
          "text": [
            "Done. Final number of trees: 15\n"
          ]
        }
      ],
      "source": [
        "drand_train = xgb.DMatrix(random_train[features], \n",
        "                          label=model_endpoint(random_train[features]))\n",
        "\n",
        "drand_valid = xgb.DMatrix(random_valid[features], \n",
        "                          label=model_endpoint(random_valid[features]))\n",
        "\n",
        "drand_test = xgb.DMatrix(random_test[features], \n",
        "                          label=model_endpoint(random_test[features]))\n",
        "\n",
        "base_score = model_endpoint(random_train[features]).mean()\n",
        "\n",
        "params = {\n",
        "    'objective': 'reg:squarederror',\n",
        "    'eval_metric': 'rmse',\n",
        "    'eta': 0.1,\n",
        "    'max_depth': 3,\n",
        "    'base_score': base_score,\n",
        "    'seed': SEED\n",
        "}\n",
        "\n",
        "# Train using early stopping on the validation dataset.\n",
        "watchlist = [(drand_train, 'train'), (drand_valid, 'eval')]\n",
        "\n",
        "extracted_model_xgb = xgb.train(params,         \n",
        "                                drand_train,                   \n",
        "                                num_boost_round=15,                     \n",
        "                                evals=watchlist,\n",
        "                                early_stopping_rounds=5,\n",
        "                                verbose_eval=False)\n",
        "print(f\"Done. Final number of trees: {extracted_model_xgb.best_ntree_limit}\")"
      ]
    },
    {
      "cell_type": "code",
      "execution_count": 32,
      "id": "83739f32-45d7-465d-a790-bdf275c14616",
      "metadata": {
        "colab": {
          "base_uri": "https://localhost:8080/"
        },
        "id": "83739f32-45d7-465d-a790-bdf275c14616",
        "outputId": "aba2a236-adb2-4f2d-f829-6b3e9da04ece"
      },
      "outputs": [
        {
          "output_type": "stream",
          "name": "stdout",
          "text": [
            "R2 on training data (simulated): 0.637\n",
            "R2 on test data (simulated): 0.635\n",
            "R2 on real data: 0.632\n",
            "real/test: 0.9952221215926895\n"
          ]
        }
      ],
      "source": [
        "dtest = xgb.DMatrix(test[features], \n",
        "                    label=test[target])\n",
        "\n",
        "r2_train = r2_score(y_true=model_endpoint(random_train[features]), \n",
        "                     y_pred=extracted_model_xgb.predict(drand_train))\n",
        "r2_test = r2_score(y_true=model_endpoint(random_test[features]), \n",
        "                     y_pred=extracted_model_xgb.predict(drand_test))\n",
        "r2_holdout = r2_score(y_true=model_endpoint(test[features]), \n",
        "                     y_pred=extracted_model_xgb.predict(dtest))\n",
        "\n",
        "print(f'R2 on training data (simulated): {np.round(r2_train, 3)}')\n",
        "print(f'R2 on test data (simulated): {np.round(r2_test, 3)}')\n",
        "print(f'R2 on real data: {np.round(r2_holdout, 3)}')\n",
        "\n",
        "print(f'real/test: {r2_holdout/r2_test}')"
      ]
    },
    {
      "cell_type": "code",
      "execution_count": 33,
      "id": "67161797-301f-4bb3-b94a-b812cb1c90c8",
      "metadata": {
        "colab": {
          "base_uri": "https://localhost:8080/"
        },
        "id": "67161797-301f-4bb3-b94a-b812cb1c90c8",
        "outputId": "679324a7-b7a5-497b-fad5-2088ac175c5f"
      },
      "outputs": [
        {
          "output_type": "stream",
          "name": "stdout",
          "text": [
            "MAE on test data (simulated): 0.08063\n",
            "MAE on real data: 0.10758\n",
            "test/real: 0.7495186611129127\n"
          ]
        }
      ],
      "source": [
        "mae_test = mean_absolute_error(y_true=model_endpoint(random_test[features]), \n",
        "                              y_pred=extracted_model_xgb.predict(drand_test))\n",
        "\n",
        "mae_holdout = mean_absolute_error(y_true=model_endpoint(test[features]), \n",
        "                                 y_pred=extracted_model_xgb.predict(dtest))\n",
        "\n",
        "print(f'MAE on test data (simulated): {np.round(mae_test, 5)}')\n",
        "print(f'MAE on real data: {np.round(mae_holdout, 5)}')\n",
        "\n",
        "print(f'test/real: {mae_test/mae_holdout}')"
      ]
    },
    {
      "cell_type": "code",
      "execution_count": 35,
      "id": "eaf13eef-9f28-43e8-a153-4dff3aee25a5",
      "metadata": {
        "colab": {
          "base_uri": "https://localhost:8080/",
          "height": 370
        },
        "id": "eaf13eef-9f28-43e8-a153-4dff3aee25a5",
        "outputId": "44a06498-8260-4dab-ab6e-4ae1c3d7a9cd"
      },
      "outputs": [
        {
          "output_type": "display_data",
          "data": {
            "text/plain": [
              "<Figure size 1080x360 with 3 Axes>"
            ],
            "image/png": "[encoded data removed]"
          },
          "metadata": {
            "needs_background": "light"
          }
        }
      ],
      "source": [
        "fig, axs = plt.subplots(1, 3, figsize=(15, 5))\n",
        "\n",
        "axs[0].scatter(model_endpoint(random_train[features]), extracted_model_xgb.predict(drand_train))\n",
        "axs[0].set_title(\"Training Scores (Simulated)\")\n",
        "axs[0].set_ylabel('Extracted Score')\n",
        "axs[0].set_xlabel('True Score')\n",
        "axs[0].set_ylim([0, 1])\n",
        "\n",
        "axs[1].scatter(model_endpoint(random_test[features]), extracted_model_xgb.predict(drand_test))\n",
        "axs[1].set_title(\"Validation Scores(Simulated)\")\n",
        "axs[1].set_xlabel('True Score')\n",
        "axs[1].set_ylim([0, 1])\n",
        "\n",
        "\n",
        "axs[2].scatter(model_endpoint(test[features]), extracted_model_xgb.predict(dtest))\n",
        "axs[2].set_title(\"Holdout Scores (Real)\")\n",
        "axs[2].set_xlabel('True Score')\n",
        "axs[2].set_ylim([0, 1])\n",
        "\n",
        "_ = fig.suptitle(\"XGBoost Surrogate\")\n",
        "fig.savefig('Data/Figures/overfit_XGB_extraction.png')\n"
      ]
    },
    {
      "cell_type": "code",
      "execution_count": 36,
      "id": "b29dccca-f2d4-4cec-8aca-c75b8feb0fbc",
      "metadata": {
        "colab": {
          "base_uri": "https://localhost:8080/",
          "height": 230
        },
        "id": "b29dccca-f2d4-4cec-8aca-c75b8feb0fbc",
        "outputId": "c6cb44c6-b7f5-4239-84b9-1047adafbe37"
      },
      "outputs": [
        {
          "output_type": "execute_result",
          "data": {
            "text/plain": [
              "<matplotlib.axes._subplots.AxesSubplot at 0x7fb24e80a490>"
            ]
          },
          "metadata": {},
          "execution_count": 36
        },
        {
          "output_type": "display_data",
          "data": {
            "text/plain": [
              "<Figure size 2160x2160 with 1 Axes>"
            ],
            "image/png": "[encoded data removed]"
          },
          "metadata": {
            "needs_background": "light"
          }
        }
      ],
      "source": [
        "# Plot the first tree\n",
        "fig, ax = plt.subplots(figsize=(30,30))\n",
        "xgb.plot_tree(extracted_model_xgb, num_trees=0, ax=ax)"
      ]
    },
    {
      "cell_type": "code",
      "execution_count": 37,
      "id": "1392e52d-3e31-4bb5-b27c-df0545a7b264",
      "metadata": {
        "colab": {
          "base_uri": "https://localhost:8080/"
        },
        "id": "1392e52d-3e31-4bb5-b27c-df0545a7b264",
        "outputId": "36bbd993-676f-455e-ef18-9fa7594b57c0"
      },
      "outputs": [
        {
          "output_type": "stream",
          "name": "stderr",
          "text": [
            "<ipython-input-37-dcf57dd81c12>:4: DataConversionWarning: A column-vector y was passed when a 1d array was expected. Please change the shape of y to (n_samples,), for example using ravel().\n",
            "  extracted_model_rf = RandomForestRegressor(**rf_surrogate_model_params).fit(random_train[features],\n"
          ]
        }
      ],
      "source": [
        "rf_surrogate_model_params = {'n_estimators': 10,\n",
        "                             'max_depth': 5,\n",
        "                             'random_state': SEED}\n",
        "extracted_model_rf = RandomForestRegressor(**rf_surrogate_model_params).fit(random_train[features], \n",
        "                                                                      model_endpoint(random_train[features]))"
      ]
    },
    {
      "cell_type": "code",
      "execution_count": 38,
      "id": "03a5dcd5-5bdb-46fc-b081-8d3a4fd8999d",
      "metadata": {
        "colab": {
          "base_uri": "https://localhost:8080/"
        },
        "id": "03a5dcd5-5bdb-46fc-b081-8d3a4fd8999d",
        "outputId": "21247d11-0b8d-4ce7-f9cf-45e3b5907560"
      },
      "outputs": [
        {
          "output_type": "stream",
          "name": "stdout",
          "text": [
            "R2 on training data (simulated): 0.718\n",
            "R2 on test data (simulated): 0.714\n",
            "R2 on real data: 0.659\n",
            "real/test: 0.9228979450375038 \n",
            "\n",
            "MAE on test data (simulated): 0.06876\n",
            "MAE on real data: 0.09894\n",
            "test/real: 0.694944130708152\n"
          ]
        }
      ],
      "source": [
        "r2_train = r2_score(y_true=model_endpoint(random_train[features]), \n",
        "                     y_pred=extracted_model_rf.predict(random_train[features]))\n",
        "r2_test = r2_score(y_true=model_endpoint(random_test[features]), \n",
        "                     y_pred=extracted_model_rf.predict(random_test[features]))\n",
        "r2_holdout = r2_score(y_true=model_endpoint(test[features]), \n",
        "                     y_pred=extracted_model_rf.predict(test[features]))\n",
        "\n",
        "print(f'R2 on training data (simulated): {np.round(r2_train, 3)}')\n",
        "print(f'R2 on test data (simulated): {np.round(r2_test, 3)}')\n",
        "print(f'R2 on real data: {np.round(r2_holdout, 3)}')\n",
        "\n",
        "print(f'real/test: {r2_holdout/r2_test} \\n')\n",
        "\n",
        "\n",
        "mae_test = mean_absolute_error(y_true=model_endpoint(random_test[features]), \n",
        "                              y_pred=extracted_model_rf.predict(random_test[features]))\n",
        "\n",
        "mae_holdout = mean_absolute_error(y_true=model_endpoint(test[features]), \n",
        "                                 y_pred=extracted_model_rf.predict(test[features]))\n",
        "\n",
        "print(f'MAE on test data (simulated): {np.round(mae_test, 5)}')\n",
        "print(f'MAE on real data: {np.round(mae_holdout, 5)}')\n",
        "\n",
        "print(f'test/real: {mae_test/mae_holdout}')"
      ]
    },
    {
      "cell_type": "code",
      "execution_count": 39,
      "id": "251d5b2f-d6db-4cd9-9815-843ea72d8bc6",
      "metadata": {
        "colab": {
          "base_uri": "https://localhost:8080/",
          "height": 370
        },
        "id": "251d5b2f-d6db-4cd9-9815-843ea72d8bc6",
        "outputId": "cb9c897e-2e20-4e38-a0a4-3d4a5b26a533"
      },
      "outputs": [
        {
          "output_type": "display_data",
          "data": {
            "text/plain": [
              "<Figure size 1080x360 with 3 Axes>"
            ],
            "image/png": "[encoded data removed]"
          },
          "metadata": {
            "needs_background": "light"
          }
        }
      ],
      "source": [
        "fig, axs = plt.subplots(1, 3, figsize=(15, 5))\n",
        "\n",
        "axs[0].scatter(model_endpoint(random_train[features]), extracted_model_rf.predict(random_train[features]))\n",
        "axs[0].set_title(\"Training Scores (Simulated)\")\n",
        "axs[0].set_ylabel('Extracted Score')\n",
        "axs[0].set_xlabel('True Score')\n",
        "axs[0].set_ylim([0, 1])\n",
        "\n",
        "\n",
        "axs[1].scatter(model_endpoint(random_test[features]), extracted_model_rf.predict(random_test[features]))\n",
        "axs[1].set_title(\"Validation Scores(Simulated)\")\n",
        "axs[1].set_xlabel('True Score')\n",
        "axs[1].set_ylim([0, 1])\n",
        "\n",
        "\n",
        "axs[2].scatter(model_endpoint(test[features]), extracted_model_rf.predict(test[features]))\n",
        "axs[2].set_title(\"Holdout Scores (Real)\")\n",
        "axs[2].set_xlabel('True Score')\n",
        "axs[2].set_ylim([0, 1])\n",
        "\n",
        "_ = fig.suptitle(\"Random Forest Surrogate\")\n",
        "fig.savefig('Data/Figures/overfit_RF_extraction.png')"
      ]
    },
    {
      "cell_type": "markdown",
      "id": "XKPC0BNQpQ2K",
      "metadata": {
        "id": "XKPC0BNQpQ2K"
      },
      "source": [
        "## 4. Adversarial Example Attacks\n",
        "\n",
        "Adversarial Examples attack is an integrity attack. It compromises the correctness of\n",
        "model predictions. To perform an adversarial example attack a hacker will probe\n",
        "how a model responds to input data. In computer vision systems, gradient infor‐\n",
        "mation is often used to fine tune images that evoke strange responses from the\n",
        "model. For structured data, we can use individual conditional expectation (ICE)\n",
        "or genetic algorithms to find rows of data that cause unexpected model predic‐\n",
        "tions.\n",
        "\n",
        "For this exercise, we’ll take advantage of the fact that we’ve already extracted a deci‐\n",
        "sion tree representation of our model,"
      ]
    },
    {
      "cell_type": "code",
      "execution_count": 40,
      "id": "e7f70782-a69c-4f77-a269-c77b9915d0fd",
      "metadata": {
        "colab": {
          "base_uri": "https://localhost:8080/"
        },
        "id": "e7f70782-a69c-4f77-a269-c77b9915d0fd",
        "outputId": "7c812d89-084b-41ae-90f7-0e426280b291"
      },
      "outputs": [
        {
          "output_type": "execute_result",
          "data": {
            "text/plain": [
              "LIMIT_BAL     1.147198e+06\n",
              "PAY_0         6.000000e+00\n",
              "PAY_2         2.000000e+00\n",
              "PAY_3         8.000000e+00\n",
              "PAY_4         4.000000e+00\n",
              "PAY_5         6.000000e+00\n",
              "PAY_6         1.000000e+00\n",
              "BILL_AMT1     4.634452e+05\n",
              "BILL_AMT2     1.420634e+05\n",
              "BILL_AMT3     5.395007e+05\n",
              "BILL_AMT4     4.862355e+05\n",
              "BILL_AMT5     3.676834e+05\n",
              "BILL_AMT6     8.278216e+05\n",
              "PAY_AMT1      3.925474e+05\n",
              "PAY_AMT2      1.340791e+05\n",
              "PAY_AMT3      2.130838e+04\n",
              "PAY_AMT4      7.114574e+05\n",
              "PAY_AMT5      1.134584e+05\n",
              "PAY_AMT6      3.428318e+05\n",
              "prediction    2.556394e-01\n",
              "Name: 15, dtype: float64"
            ]
          },
          "metadata": {},
          "execution_count": 40
        }
      ],
      "source": [
        "# Let's target the leaf in our DT surrogate that follows a favorable decision path\n",
        "\n",
        "random_frame['prediction'] = model_endpoint(random_frame[features])\n",
        "\n",
        "# Pick an observation that receieved a high score\n",
        "random_obs = random_frame.loc[(random_frame['prediction'] < 0.3) & (random_frame['prediction'] > 0.2)].iloc[0]\n",
        "random_obs"
      ]
    },
    {
      "cell_type": "code",
      "execution_count": 41,
      "id": "cafd7c1b-ba40-4098-9ce8-fe3347f1123c",
      "metadata": {
        "colab": {
          "base_uri": "https://localhost:8080/"
        },
        "id": "cafd7c1b-ba40-4098-9ce8-fe3347f1123c",
        "outputId": "dd5071bb-c087-429e-a783-caf7f7af59d2"
      },
      "outputs": [
        {
          "output_type": "stream",
          "name": "stdout",
          "text": [
            "Old prediction: 0.256\n",
            "Example 1 prediction: 0.177\n",
            "Example 2 prediction: 0.100\n",
            "Example 3 prediction: 0.057\n"
          ]
        }
      ],
      "source": [
        "adversarial_1 = random_obs.copy()\n",
        "adversarial_1['PAY_0'] = 1.0\n",
        "\n",
        "adversarial_2 = adversarial_1.copy()\n",
        "adversarial_2['PAY_2'] = 0.0\n",
        "\n",
        "adversarial_3 = adversarial_2.copy()\n",
        "adversarial_3['PAY_0'] = 0.0\n",
        "\n",
        "adversaries = pd.DataFrame({'original': random_obs, \n",
        "                            'example_1': adversarial_1,\n",
        "                            'example_2': adversarial_2,\n",
        "                            'example_3': adversarial_3}).transpose()\n",
        "\n",
        "adversarial_example_predictions = model_endpoint(adversaries[features])\n",
        "\n",
        "print(f\"Old prediction: {adversarial_example_predictions[0][0]:.3f}\")\n",
        "print(f\"Example 1 prediction: {adversarial_example_predictions[1][0]:.3f}\")\n",
        "print(f\"Example 2 prediction: {adversarial_example_predictions[2][0]:.3f}\")\n",
        "print(f\"Example 3 prediction: {adversarial_example_predictions[3][0]:.3f}\")"
      ]
    },
    {
      "cell_type": "code",
      "execution_count": 42,
      "id": "05a3bad0-9f13-4431-af24-e5cb97b1a5e5",
      "metadata": {
        "colab": {
          "base_uri": "https://localhost:8080/"
        },
        "id": "05a3bad0-9f13-4431-af24-e5cb97b1a5e5",
        "outputId": "90d7c686-6152-412a-94a6-4cba358f1fd1"
      },
      "outputs": [
        {
          "output_type": "stream",
          "name": "stdout",
          "text": [
            "Original score percentile: 72.7%\n",
            "New score percentile: 20.8%\n"
          ]
        }
      ],
      "source": [
        "original_quantile = len(train.loc[model_endpoint(train[features]) < adversarial_example_predictions[0]]) / len(train)\n",
        "new_quantile = len(train.loc[model_endpoint(train[features]) < adversarial_example_predictions[3]]) / len(train)\n",
        "\n",
        "print(f\"Original score percentile: {100*original_quantile:.1f}%\")\n",
        "print(f\"New score percentile: {100*new_quantile:.1f}%\")"
      ]
    },
    {
      "cell_type": "code",
      "execution_count": 43,
      "id": "700f655c-1545-4dae-91b8-4f6be55d368f",
      "metadata": {
        "colab": {
          "base_uri": "https://localhost:8080/",
          "height": 990
        },
        "id": "700f655c-1545-4dae-91b8-4f6be55d368f",
        "outputId": "4a5de17f-bba4-4143-e1d0-08b1e61fdd48"
      },
      "outputs": [
        {
          "output_type": "execute_result",
          "data": {
            "text/plain": [
              "    Tree  Node    ID    Feature        Split   Yes    No Missing        Gain  \\\n",
              "0      0     0   0-0      PAY_0       2.0000   0-1   0-2     0-1  282.312042   \n",
              "1      0     1   0-1  BILL_AMT2  478224.5310   0-3   0-4     0-3   50.173447   \n",
              "2      0     2   0-2   PAY_AMT5   10073.3379   0-5   0-6     0-5  155.244659   \n",
              "3      0     3   0-3      PAY_0       1.0000   0-7   0-8     0-7    6.844757   \n",
              "4      0     4   0-4  BILL_AMT1  239032.8440   0-9  0-10     0-9    6.116165   \n",
              "5      0     5   0-5  BILL_AMT2  484847.4690  0-11  0-12    0-11    7.451599   \n",
              "6      0     6   0-6  BILL_AMT2  480257.1880  0-13  0-14    0-13   99.216141   \n",
              "7      0     7   0-7       Leaf          NaN   NaN   NaN     NaN   -0.021330   \n",
              "8      0     8   0-8       Leaf          NaN   NaN   NaN     NaN   -0.013889   \n",
              "9      0     9   0-9       Leaf          NaN   NaN   NaN     NaN   -0.010477   \n",
              "10     0    10  0-10       Leaf          NaN   NaN   NaN     NaN   -0.002473   \n",
              "11     0    11  0-11       Leaf          NaN   NaN   NaN     NaN    0.029299   \n",
              "12     0    12  0-12       Leaf          NaN   NaN   NaN     NaN    0.043540   \n",
              "13     0    13  0-13       Leaf          NaN   NaN   NaN     NaN   -0.002081   \n",
              "14     0    14  0-14       Leaf          NaN   NaN   NaN     NaN    0.010898   \n",
              "15     1     0   1-0      PAY_0       2.0000   1-1   1-2     1-1  228.693085   \n",
              "16     1     1   1-1  BILL_AMT2  478224.5310   1-3   1-4     1-3   40.642075   \n",
              "17     1     2   1-2   PAY_AMT5   10075.8262   1-5   1-6     1-5  125.791389   \n",
              "18     1     3   1-3      PAY_0       1.0000   1-7   1-8     1-7    5.543655   \n",
              "19     1     4   1-4      PAY_2       2.0000   1-9  1-10     1-9    5.499996   \n",
              "20     1     5   1-5   PAY_AMT3   13189.3496  1-11  1-12    1-11    7.064346   \n",
              "21     1     6   1-6  BILL_AMT2  484195.2810  1-13  1-14    1-13   80.415260   \n",
              "22     1     7   1-7       Leaf          NaN   NaN   NaN     NaN   -0.019197   \n",
              "23     1     8   1-8       Leaf          NaN   NaN   NaN     NaN   -0.012501   \n",
              "24     1     9   1-9       Leaf          NaN   NaN   NaN     NaN   -0.010679   \n",
              "25     1    10  1-10       Leaf          NaN   NaN   NaN     NaN   -0.002536   \n",
              "26     1    11  1-11       Leaf          NaN   NaN   NaN     NaN    0.045854   \n",
              "27     1    12  1-12       Leaf          NaN   NaN   NaN     NaN    0.029427   \n",
              "28     1    13  1-13       Leaf          NaN   NaN   NaN     NaN   -0.001843   \n",
              "29     1    14  1-14       Leaf          NaN   NaN   NaN     NaN    0.009849   \n",
              "\n",
              "      Cover  Category  \n",
              "0   35849.0       NaN  \n",
              "1   10556.0       NaN  \n",
              "2   25293.0       NaN  \n",
              "3    6350.0       NaN  \n",
              "4    4206.0       NaN  \n",
              "5    1501.0       NaN  \n",
              "6   23792.0       NaN  \n",
              "7    4655.0       NaN  \n",
              "8    1695.0       NaN  \n",
              "9    1465.0       NaN  \n",
              "10   2741.0       NaN  \n",
              "11    701.0       NaN  \n",
              "12    800.0       NaN  \n",
              "13  13078.0       NaN  \n",
              "14  10714.0       NaN  \n",
              "15  35849.0       NaN  \n",
              "16  10556.0       NaN  \n",
              "17  25293.0       NaN  \n",
              "18   6350.0       NaN  \n",
              "19   4206.0       NaN  \n",
              "20   1502.0       NaN  \n",
              "21  23791.0       NaN  \n",
              "22   4655.0       NaN  \n",
              "23   1695.0       NaN  \n",
              "24   1136.0       NaN  \n",
              "25   3070.0       NaN  \n",
              "26    344.0       NaN  \n",
              "27   1158.0       NaN  \n",
              "28  13148.0       NaN  \n",
              "29  10643.0       NaN  "
            ],
            "text/html": [
              "\n",
              "  <div id=\"df-745614d8-fed3-464e-a144-deddf2596d8c\">\n",
              "    <div class=\"colab-df-container\">\n",
              "      <div>\n",
              "<style scoped>\n",
              "    .dataframe tbody tr th:only-of-type {\n",
              "        vertical-align: middle;\n",
              "    }\n",
              "\n",
              "    .dataframe tbody tr th {\n",
              "        vertical-align: top;\n",
              "    }\n",
              "\n",
              "    .dataframe thead th {\n",
              "        text-align: right;\n",
              "    }\n",
              "</style>\n",
              "<table border=\"1\" class=\"dataframe\">\n",
              "  <thead>\n",
              "    <tr style=\"text-align: right;\">\n",
              "      <th></th>\n",
              "      <th>Tree</th>\n",
              "      <th>Node</th>\n",
              "      <th>ID</th>\n",
              "      <th>Feature</th>\n",
              "      <th>Split</th>\n",
              "      <th>Yes</th>\n",
              "      <th>No</th>\n",
              "      <th>Missing</th>\n",
              "      <th>Gain</th>\n",
              "      <th>Cover</th>\n",
              "      <th>Category</th>\n",
              "    </tr>\n",
              "  </thead>\n",
              "  <tbody>\n",
              "    <tr>\n",
              "      <th>0</th>\n",
              "      <td>0</td>\n",
              "      <td>0</td>\n",
              "      <td>0-0</td>\n",
              "      <td>PAY_0</td>\n",
              "      <td>2.0000</td>\n",
              "      <td>0-1</td>\n",
              "      <td>0-2</td>\n",
              "      <td>0-1</td>\n",
              "      <td>282.312042</td>\n",
              "      <td>35849.0</td>\n",
              "      <td>NaN</td>\n",
              "    </tr>\n",
              "    <tr>\n",
              "      <th>1</th>\n",
              "      <td>0</td>\n",
              "      <td>1</td>\n",
              "      <td>0-1</td>\n",
              "      <td>BILL_AMT2</td>\n",
              "      <td>478224.5310</td>\n",
              "      <td>0-3</td>\n",
              "      <td>0-4</td>\n",
              "      <td>0-3</td>\n",
              "      <td>50.173447</td>\n",
              "      <td>10556.0</td>\n",
              "      <td>NaN</td>\n",
              "    </tr>\n",
              "    <tr>\n",
              "      <th>2</th>\n",
              "      <td>0</td>\n",
              "      <td>2</td>\n",
              "      <td>0-2</td>\n",
              "      <td>PAY_AMT5</td>\n",
              "      <td>10073.3379</td>\n",
              "      <td>0-5</td>\n",
              "      <td>0-6</td>\n",
              "      <td>0-5</td>\n",
              "      <td>155.244659</td>\n",
              "      <td>25293.0</td>\n",
              "      <td>NaN</td>\n",
              "    </tr>\n",
              "    <tr>\n",
              "      <th>3</th>\n",
              "      <td>0</td>\n",
              "      <td>3</td>\n",
              "      <td>0-3</td>\n",
              "      <td>PAY_0</td>\n",
              "      <td>1.0000</td>\n",
              "      <td>0-7</td>\n",
              "      <td>0-8</td>\n",
              "      <td>0-7</td>\n",
              "      <td>6.844757</td>\n",
              "      <td>6350.0</td>\n",
              "      <td>NaN</td>\n",
              "    </tr>\n",
              "    <tr>\n",
              "      <th>4</th>\n",
              "      <td>0</td>\n",
              "      <td>4</td>\n",
              "      <td>0-4</td>\n",
              "      <td>BILL_AMT1</td>\n",
              "      <td>239032.8440</td>\n",
              "      <td>0-9</td>\n",
              "      <td>0-10</td>\n",
              "      <td>0-9</td>\n",
              "      <td>6.116165</td>\n",
              "      <td>4206.0</td>\n",
              "      <td>NaN</td>\n",
              "    </tr>\n",
              "    <tr>\n",
              "      <th>5</th>\n",
              "      <td>0</td>\n",
              "      <td>5</td>\n",
              "      <td>0-5</td>\n",
              "      <td>BILL_AMT2</td>\n",
              "      <td>484847.4690</td>\n",
              "      <td>0-11</td>\n",
              "      <td>0-12</td>\n",
              "      <td>0-11</td>\n",
              "      <td>7.451599</td>\n",
              "      <td>1501.0</td>\n",
              "      <td>NaN</td>\n",
              "    </tr>\n",
              "    <tr>\n",
              "      <th>6</th>\n",
              "      <td>0</td>\n",
              "      <td>6</td>\n",
              "      <td>0-6</td>\n",
              "      <td>BILL_AMT2</td>\n",
              "      <td>480257.1880</td>\n",
              "      <td>0-13</td>\n",
              "      <td>0-14</td>\n",
              "      <td>0-13</td>\n",
              "      <td>99.216141</td>\n",
              "      <td>23792.0</td>\n",
              "      <td>NaN</td>\n",
              "    </tr>\n",
              "    <tr>\n",
              "      <th>7</th>\n",
              "      <td>0</td>\n",
              "      <td>7</td>\n",
              "      <td>0-7</td>\n",
              "      <td>Leaf</td>\n",
              "      <td>NaN</td>\n",
              "      <td>NaN</td>\n",
              "      <td>NaN</td>\n",
              "      <td>NaN</td>\n",
              "      <td>-0.021330</td>\n",
              "      <td>4655.0</td>\n",
              "      <td>NaN</td>\n",
              "    </tr>\n",
              "    <tr>\n",
              "      <th>8</th>\n",
              "      <td>0</td>\n",
              "      <td>8</td>\n",
              "      <td>0-8</td>\n",
              "      <td>Leaf</td>\n",
              "      <td>NaN</td>\n",
              "      <td>NaN</td>\n",
              "      <td>NaN</td>\n",
              "      <td>NaN</td>\n",
              "      <td>-0.013889</td>\n",
              "      <td>1695.0</td>\n",
              "      <td>NaN</td>\n",
              "    </tr>\n",
              "    <tr>\n",
              "      <th>9</th>\n",
              "      <td>0</td>\n",
              "      <td>9</td>\n",
              "      <td>0-9</td>\n",
              "      <td>Leaf</td>\n",
              "      <td>NaN</td>\n",
              "      <td>NaN</td>\n",
              "      <td>NaN</td>\n",
              "      <td>NaN</td>\n",
              "      <td>-0.010477</td>\n",
              "      <td>1465.0</td>\n",
              "      <td>NaN</td>\n",
              "    </tr>\n",
              "    <tr>\n",
              "      <th>10</th>\n",
              "      <td>0</td>\n",
              "      <td>10</td>\n",
              "      <td>0-10</td>\n",
              "      <td>Leaf</td>\n",
              "      <td>NaN</td>\n",
              "      <td>NaN</td>\n",
              "      <td>NaN</td>\n",
              "      <td>NaN</td>\n",
              "      <td>-0.002473</td>\n",
              "      <td>2741.0</td>\n",
              "      <td>NaN</td>\n",
              "    </tr>\n",
              "    <tr>\n",
              "      <th>11</th>\n",
              "      <td>0</td>\n",
              "      <td>11</td>\n",
              "      <td>0-11</td>\n",
              "      <td>Leaf</td>\n",
              "      <td>NaN</td>\n",
              "      <td>NaN</td>\n",
              "      <td>NaN</td>\n",
              "      <td>NaN</td>\n",
              "      <td>0.029299</td>\n",
              "      <td>701.0</td>\n",
              "      <td>NaN</td>\n",
              "    </tr>\n",
              "    <tr>\n",
              "      <th>12</th>\n",
              "      <td>0</td>\n",
              "      <td>12</td>\n",
              "      <td>0-12</td>\n",
              "      <td>Leaf</td>\n",
              "      <td>NaN</td>\n",
              "      <td>NaN</td>\n",
              "      <td>NaN</td>\n",
              "      <td>NaN</td>\n",
              "      <td>0.043540</td>\n",
              "      <td>800.0</td>\n",
              "      <td>NaN</td>\n",
              "    </tr>\n",
              "    <tr>\n",
              "      <th>13</th>\n",
              "      <td>0</td>\n",
              "      <td>13</td>\n",
              "      <td>0-13</td>\n",
              "      <td>Leaf</td>\n",
              "      <td>NaN</td>\n",
              "      <td>NaN</td>\n",
              "      <td>NaN</td>\n",
              "      <td>NaN</td>\n",
              "      <td>-0.002081</td>\n",
              "      <td>13078.0</td>\n",
              "      <td>NaN</td>\n",
              "    </tr>\n",
              "    <tr>\n",
              "      <th>14</th>\n",
              "      <td>0</td>\n",
              "      <td>14</td>\n",
              "      <td>0-14</td>\n",
              "      <td>Leaf</td>\n",
              "      <td>NaN</td>\n",
              "      <td>NaN</td>\n",
              "      <td>NaN</td>\n",
              "      <td>NaN</td>\n",
              "      <td>0.010898</td>\n",
              "      <td>10714.0</td>\n",
              "      <td>NaN</td>\n",
              "    </tr>\n",
              "    <tr>\n",
              "      <th>15</th>\n",
              "      <td>1</td>\n",
              "      <td>0</td>\n",
              "      <td>1-0</td>\n",
              "      <td>PAY_0</td>\n",
              "      <td>2.0000</td>\n",
              "      <td>1-1</td>\n",
              "      <td>1-2</td>\n",
              "      <td>1-1</td>\n",
              "      <td>228.693085</td>\n",
              "      <td>35849.0</td>\n",
              "      <td>NaN</td>\n",
              "    </tr>\n",
              "    <tr>\n",
              "      <th>16</th>\n",
              "      <td>1</td>\n",
              "      <td>1</td>\n",
              "      <td>1-1</td>\n",
              "      <td>BILL_AMT2</td>\n",
              "      <td>478224.5310</td>\n",
              "      <td>1-3</td>\n",
              "      <td>1-4</td>\n",
              "      <td>1-3</td>\n",
              "      <td>40.642075</td>\n",
              "      <td>10556.0</td>\n",
              "      <td>NaN</td>\n",
              "    </tr>\n",
              "    <tr>\n",
              "      <th>17</th>\n",
              "      <td>1</td>\n",
              "      <td>2</td>\n",
              "      <td>1-2</td>\n",
              "      <td>PAY_AMT5</td>\n",
              "      <td>10075.8262</td>\n",
              "      <td>1-5</td>\n",
              "      <td>1-6</td>\n",
              "      <td>1-5</td>\n",
              "      <td>125.791389</td>\n",
              "      <td>25293.0</td>\n",
              "      <td>NaN</td>\n",
              "    </tr>\n",
              "    <tr>\n",
              "      <th>18</th>\n",
              "      <td>1</td>\n",
              "      <td>3</td>\n",
              "      <td>1-3</td>\n",
              "      <td>PAY_0</td>\n",
              "      <td>1.0000</td>\n",
              "      <td>1-7</td>\n",
              "      <td>1-8</td>\n",
              "      <td>1-7</td>\n",
              "      <td>5.543655</td>\n",
              "      <td>6350.0</td>\n",
              "      <td>NaN</td>\n",
              "    </tr>\n",
              "    <tr>\n",
              "      <th>19</th>\n",
              "      <td>1</td>\n",
              "      <td>4</td>\n",
              "      <td>1-4</td>\n",
              "      <td>PAY_2</td>\n",
              "      <td>2.0000</td>\n",
              "      <td>1-9</td>\n",
              "      <td>1-10</td>\n",
              "      <td>1-9</td>\n",
              "      <td>5.499996</td>\n",
              "      <td>4206.0</td>\n",
              "      <td>NaN</td>\n",
              "    </tr>\n",
              "    <tr>\n",
              "      <th>20</th>\n",
              "      <td>1</td>\n",
              "      <td>5</td>\n",
              "      <td>1-5</td>\n",
              "      <td>PAY_AMT3</td>\n",
              "      <td>13189.3496</td>\n",
              "      <td>1-11</td>\n",
              "      <td>1-12</td>\n",
              "      <td>1-11</td>\n",
              "      <td>7.064346</td>\n",
              "      <td>1502.0</td>\n",
              "      <td>NaN</td>\n",
              "    </tr>\n",
              "    <tr>\n",
              "      <th>21</th>\n",
              "      <td>1</td>\n",
              "      <td>6</td>\n",
              "      <td>1-6</td>\n",
              "      <td>BILL_AMT2</td>\n",
              "      <td>484195.2810</td>\n",
              "      <td>1-13</td>\n",
              "      <td>1-14</td>\n",
              "      <td>1-13</td>\n",
              "      <td>80.415260</td>\n",
              "      <td>23791.0</td>\n",
              "      <td>NaN</td>\n",
              "    </tr>\n",
              "    <tr>\n",
              "      <th>22</th>\n",
              "      <td>1</td>\n",
              "      <td>7</td>\n",
              "      <td>1-7</td>\n",
              "      <td>Leaf</td>\n",
              "      <td>NaN</td>\n",
              "      <td>NaN</td>\n",
              "      <td>NaN</td>\n",
              "      <td>NaN</td>\n",
              "      <td>-0.019197</td>\n",
              "      <td>4655.0</td>\n",
              "      <td>NaN</td>\n",
              "    </tr>\n",
              "    <tr>\n",
              "      <th>23</th>\n",
              "      <td>1</td>\n",
              "      <td>8</td>\n",
              "      <td>1-8</td>\n",
              "      <td>Leaf</td>\n",
              "      <td>NaN</td>\n",
              "      <td>NaN</td>\n",
              "      <td>NaN</td>\n",
              "      <td>NaN</td>\n",
              "      <td>-0.012501</td>\n",
              "      <td>1695.0</td>\n",
              "      <td>NaN</td>\n",
              "    </tr>\n",
              "    <tr>\n",
              "      <th>24</th>\n",
              "      <td>1</td>\n",
              "      <td>9</td>\n",
              "      <td>1-9</td>\n",
              "      <td>Leaf</td>\n",
              "      <td>NaN</td>\n",
              "      <td>NaN</td>\n",
              "      <td>NaN</td>\n",
              "      <td>NaN</td>\n",
              "      <td>-0.010679</td>\n",
              "      <td>1136.0</td>\n",
              "      <td>NaN</td>\n",
              "    </tr>\n",
              "    <tr>\n",
              "      <th>25</th>\n",
              "      <td>1</td>\n",
              "      <td>10</td>\n",
              "      <td>1-10</td>\n",
              "      <td>Leaf</td>\n",
              "      <td>NaN</td>\n",
              "      <td>NaN</td>\n",
              "      <td>NaN</td>\n",
              "      <td>NaN</td>\n",
              "      <td>-0.002536</td>\n",
              "      <td>3070.0</td>\n",
              "      <td>NaN</td>\n",
              "    </tr>\n",
              "    <tr>\n",
              "      <th>26</th>\n",
              "      <td>1</td>\n",
              "      <td>11</td>\n",
              "      <td>1-11</td>\n",
              "      <td>Leaf</td>\n",
              "      <td>NaN</td>\n",
              "      <td>NaN</td>\n",
              "      <td>NaN</td>\n",
              "      <td>NaN</td>\n",
              "      <td>0.045854</td>\n",
              "      <td>344.0</td>\n",
              "      <td>NaN</td>\n",
              "    </tr>\n",
              "    <tr>\n",
              "      <th>27</th>\n",
              "      <td>1</td>\n",
              "      <td>12</td>\n",
              "      <td>1-12</td>\n",
              "      <td>Leaf</td>\n",
              "      <td>NaN</td>\n",
              "      <td>NaN</td>\n",
              "      <td>NaN</td>\n",
              "      <td>NaN</td>\n",
              "      <td>0.029427</td>\n",
              "      <td>1158.0</td>\n",
              "      <td>NaN</td>\n",
              "    </tr>\n",
              "    <tr>\n",
              "      <th>28</th>\n",
              "      <td>1</td>\n",
              "      <td>13</td>\n",
              "      <td>1-13</td>\n",
              "      <td>Leaf</td>\n",
              "      <td>NaN</td>\n",
              "      <td>NaN</td>\n",
              "      <td>NaN</td>\n",
              "      <td>NaN</td>\n",
              "      <td>-0.001843</td>\n",
              "      <td>13148.0</td>\n",
              "      <td>NaN</td>\n",
              "    </tr>\n",
              "    <tr>\n",
              "      <th>29</th>\n",
              "      <td>1</td>\n",
              "      <td>14</td>\n",
              "      <td>1-14</td>\n",
              "      <td>Leaf</td>\n",
              "      <td>NaN</td>\n",
              "      <td>NaN</td>\n",
              "      <td>NaN</td>\n",
              "      <td>NaN</td>\n",
              "      <td>0.009849</td>\n",
              "      <td>10643.0</td>\n",
              "      <td>NaN</td>\n",
              "    </tr>\n",
              "  </tbody>\n",
              "</table>\n",
              "</div>\n",
              "      <button class=\"colab-df-convert\" onclick=\"convertToInteractive('df-745614d8-fed3-464e-a144-deddf2596d8c')\"\n",
              "              title=\"Convert this dataframe to an interactive table.\"\n",
              "              style=\"display:none;\">\n",
              "        \n",
              "  <svg xmlns=\"http://www.w3.org/2000/svg\" height=\"24px\"viewBox=\"0 0 24 24\"\n",
              "       width=\"24px\">\n",
              "    <path d=\"M0 0h24v24H0V0z\" fill=\"none\"/>\n",
              "    <path d=\"M18.56 5.44l.94 2.06.94-2.06 2.06-.94-2.06-.94-.94-2.06-.94 2.06-2.06.94zm-11 1L8.5 8.5l.94-2.06 2.06-.94-2.06-.94L8.5 2.5l-.94 2.06-2.06.94zm10 10l.94 2.06.94-2.06 2.06-.94-2.06-.94-.94-2.06-.94 2.06-2.06.94z\"/><path d=\"M17.41 7.96l-1.37-1.37c-.4-.4-.92-.59-1.43-.59-.52 0-1.04.2-1.43.59L10.3 9.45l-7.72 7.72c-.78.78-.78 2.05 0 2.83L4 21.41c.39.39.9.59 1.41.59.51 0 1.02-.2 1.41-.59l7.78-7.78 2.81-2.81c.8-.78.8-2.07 0-2.86zM5.41 20L4 18.59l7.72-7.72 1.47 1.35L5.41 20z\"/>\n",
              "  </svg>\n",
              "      </button>\n",
              "      \n",
              "  <style>\n",
              "    .colab-df-container {\n",
              "      display:flex;\n",
              "      flex-wrap:wrap;\n",
              "      gap: 12px;\n",
              "    }\n",
              "\n",
              "    .colab-df-convert {\n",
              "      background-color: #E8F0FE;\n",
              "      border: none;\n",
              "      border-radius: 50%;\n",
              "      cursor: pointer;\n",
              "      display: none;\n",
              "      fill: #1967D2;\n",
              "      height: 32px;\n",
              "      padding: 0 0 0 0;\n",
              "      width: 32px;\n",
              "    }\n",
              "\n",
              "    .colab-df-convert:hover {\n",
              "      background-color: #E2EBFA;\n",
              "      box-shadow: 0px 1px 2px rgba(60, 64, 67, 0.3), 0px 1px 3px 1px rgba(60, 64, 67, 0.15);\n",
              "      fill: #174EA6;\n",
              "    }\n",
              "\n",
              "    [theme=dark] .colab-df-convert {\n",
              "      background-color: #3B4455;\n",
              "      fill: #D2E3FC;\n",
              "    }\n",
              "\n",
              "    [theme=dark] .colab-df-convert:hover {\n",
              "      background-color: #434B5C;\n",
              "      box-shadow: 0px 1px 3px 1px rgba(0, 0, 0, 0.15);\n",
              "      filter: drop-shadow(0px 1px 2px rgba(0, 0, 0, 0.3));\n",
              "      fill: #FFFFFF;\n",
              "    }\n",
              "  </style>\n",
              "\n",
              "      <script>\n",
              "        const buttonEl =\n",
              "          document.querySelector('#df-745614d8-fed3-464e-a144-deddf2596d8c button.colab-df-convert');\n",
              "        buttonEl.style.display =\n",
              "          google.colab.kernel.accessAllowed ? 'block' : 'none';\n",
              "\n",
              "        async function convertToInteractive(key) {\n",
              "          const element = document.querySelector('#df-745614d8-fed3-464e-a144-deddf2596d8c');\n",
              "          const dataTable =\n",
              "            await google.colab.kernel.invokeFunction('convertToInteractive',\n",
              "                                                     [key], {});\n",
              "          if (!dataTable) return;\n",
              "\n",
              "          const docLinkHtml = 'Like what you see? Visit the ' +\n",
              "            '<a target=\"_blank\" href=https://colab.research.google.com/notebooks/data_table.ipynb>data table notebook</a>'\n",
              "            + ' to learn more about interactive tables.';\n",
              "          element.innerHTML = '';\n",
              "          dataTable['output_type'] = 'display_data';\n",
              "          await google.colab.output.renderOutput(dataTable, element);\n",
              "          const docLink = document.createElement('div');\n",
              "          docLink.innerHTML = docLinkHtml;\n",
              "          element.appendChild(docLink);\n",
              "        }\n",
              "      </script>\n",
              "    </div>\n",
              "  </div>\n",
              "  "
            ]
          },
          "metadata": {},
          "execution_count": 43
        }
      ],
      "source": [
        "# We could do a similar exercise using the superior XGB extracted model\n",
        "\n",
        "trees = extracted_model_xgb.trees_to_dataframe()\n",
        "trees.head(30)"
      ]
    },
    {
      "cell_type": "markdown",
      "id": "HuCCXJc9mV-0",
      "metadata": {
        "id": "HuCCXJc9mV-0"
      },
      "source": [
        "## 5. Membership Inference Attack\n",
        "Membership Inference is a confidentiality attack that seeks to compromise\n",
        "model training data. It’s a complex attack that requires two models. The first is a\n",
        "surrogate model similar to those that would be trained in a model extraction\n",
        "attack. The second stage model is then trained to decide whether a row of data is\n",
        "in the training data of the surrogate model or not. When that second-stage model\n",
        "is applied to a row of data, it can decide whether that row was in the training data\n",
        "of the surrogate model or not, and can often extrapolate to decide whether that\n",
        "row was also in the original model training data,"
      ]
    },
    {
      "cell_type": "code",
      "execution_count": 44,
      "id": "7e773166-be28-4599-acce-5db27d1df09d",
      "metadata": {
        "id": "7e773166-be28-4599-acce-5db27d1df09d"
      },
      "outputs": [],
      "source": [
        "\"\"\"\n",
        "Perform a membership inference attack.\n",
        "\"\"\"\n",
        "\n",
        "attack_negative = make_random_frame(schema_dict, 10000).append(random_valid).append(random_test)\n",
        "attack_positive = random_train.copy()\n",
        "attack_negative['in_train'] = 0\n",
        "attack_positive['in_train'] = 1\n",
        "\n",
        "attack_data = attack_positive.append(attack_negative).sample(frac=1).reset_index(drop=True)"
      ]
    },
    {
      "cell_type": "code",
      "execution_count": 45,
      "id": "75397a2e-3595-43be-9902-74aefa91f554",
      "metadata": {
        "colab": {
          "base_uri": "https://localhost:8080/",
          "height": 456
        },
        "id": "75397a2e-3595-43be-9902-74aefa91f554",
        "outputId": "0f5c8c45-e157-48dd-cdfa-157c2c34c88d"
      },
      "outputs": [
        {
          "output_type": "execute_result",
          "data": {
            "text/plain": [
              "      LIMIT_BAL  PAY_0  PAY_2  PAY_3  PAY_4  PAY_5  PAY_6     BILL_AMT1  \\\n",
              "0  7.741047e+05      1      5      7      2     -1      5  3.825222e+05   \n",
              "1  2.234142e+06      8      4      8      4      4      8  1.498241e+06   \n",
              "2  2.006741e+06     -1      7      1      4      3      6  5.845521e+05   \n",
              "3  8.833743e+05      0      9      0      9      2      1  1.642220e+06   \n",
              "4  3.006770e+05      8      4      5      8      4      8  2.740161e+05   \n",
              "5  7.531177e+05      1      1      9      6      4      0  2.048199e+05   \n",
              "6  8.915291e+05      7      1      9      0      7      9  1.976234e+05   \n",
              "7  2.278108e+06      0      7      9      5      4      2  1.387995e+05   \n",
              "8  5.501660e+04      6      3      1      4      0      5  1.431472e+05   \n",
              "9  1.094201e+05      7      7     -1      7      5      9  6.080474e+05   \n",
              "\n",
              "      BILL_AMT2     BILL_AMT3  ...     BILL_AMT5     BILL_AMT6       PAY_AMT1  \\\n",
              "0  1.563087e+05  1.698492e+06  ...  4.009869e+04  3.380200e+05  160212.295208   \n",
              "1  9.559213e+05  4.171585e+05  ...  1.665080e+06  6.251150e+05  232702.803640   \n",
              "2  3.004381e+05  4.200194e+05  ...  5.340501e+05  6.566528e+05  235431.541749   \n",
              "3  6.823426e+04  4.265532e+05  ...  9.852541e+05  2.787417e+05   52053.276167   \n",
              "4  6.655793e+05  2.855127e+06  ...  9.189012e+05  1.323845e+06  203532.946947   \n",
              "5  9.622369e+05  9.800998e+04  ...  2.822446e+05  2.715271e+06    2115.071309   \n",
              "6  5.512582e+05  1.808534e+05  ...  7.058063e+04  5.673100e+05   73715.242385   \n",
              "7  1.421507e+05  4.145218e+05  ...  1.344881e+05  1.372469e+05  233502.240153   \n",
              "8  1.450363e+06  3.430612e+05  ...  1.243924e+06  3.564089e+04  270614.839950   \n",
              "9  2.506749e+04  1.340049e+06  ...  5.119465e+04  1.104901e+05   65493.982508   \n",
              "\n",
              "       PAY_AMT2      PAY_AMT3      PAY_AMT4      PAY_AMT5      PAY_AMT6  \\\n",
              "0  5.790698e+05  9.099407e+05  6.435144e+04  1.684413e+05  1.007401e+06   \n",
              "1  4.185008e+04  7.131705e+04  4.267531e+04  9.061409e+05  1.447189e+05   \n",
              "2  4.542292e+05  1.118720e+06  1.272561e+06  6.594855e+05  7.671139e+03   \n",
              "3  2.892251e+05  7.672275e+03  1.168657e+06  3.086262e+05  1.151426e+06   \n",
              "4  3.906839e+05  8.007463e+04  6.085573e+04  1.281409e+06  2.796911e+05   \n",
              "5  2.117457e+05  2.716670e+05  5.330283e+05  1.383445e+05  4.702704e+05   \n",
              "6  5.174077e+05  3.049073e+05  1.800723e+04  2.198568e+05  6.954688e+04   \n",
              "7  2.366588e+04  1.399352e+05  3.637175e+05  2.510796e+05  9.289959e+05   \n",
              "8  1.126180e+05  2.604212e+05  2.720713e+05  1.838363e+05  1.381723e+05   \n",
              "9  1.021165e+06  4.205204e+05  4.524876e+03  1.285967e+05  2.014761e+05   \n",
              "\n",
              "   in_train  prediction  \n",
              "0         0    0.252688  \n",
              "1         1    0.416882  \n",
              "2         1    0.198146  \n",
              "3         0    0.188579  \n",
              "4         0    0.390118  \n",
              "5         0    0.299548  \n",
              "6         1    0.413418  \n",
              "7         1    0.187473  \n",
              "8         1    0.390118  \n",
              "9         0    0.333632  \n",
              "\n",
              "[10 rows x 21 columns]"
            ],
            "text/html": [
              "\n",
              "  <div id=\"df-a61d2ac4-1e63-44be-9738-ef82c7e4d068\">\n",
              "    <div class=\"colab-df-container\">\n",
              "      <div>\n",
              "<style scoped>\n",
              "    .dataframe tbody tr th:only-of-type {\n",
              "        vertical-align: middle;\n",
              "    }\n",
              "\n",
              "    .dataframe tbody tr th {\n",
              "        vertical-align: top;\n",
              "    }\n",
              "\n",
              "    .dataframe thead th {\n",
              "        text-align: right;\n",
              "    }\n",
              "</style>\n",
              "<table border=\"1\" class=\"dataframe\">\n",
              "  <thead>\n",
              "    <tr style=\"text-align: right;\">\n",
              "      <th></th>\n",
              "      <th>LIMIT_BAL</th>\n",
              "      <th>PAY_0</th>\n",
              "      <th>PAY_2</th>\n",
              "      <th>PAY_3</th>\n",
              "      <th>PAY_4</th>\n",
              "      <th>PAY_5</th>\n",
              "      <th>PAY_6</th>\n",
              "      <th>BILL_AMT1</th>\n",
              "      <th>BILL_AMT2</th>\n",
              "      <th>BILL_AMT3</th>\n",
              "      <th>...</th>\n",
              "      <th>BILL_AMT5</th>\n",
              "      <th>BILL_AMT6</th>\n",
              "      <th>PAY_AMT1</th>\n",
              "      <th>PAY_AMT2</th>\n",
              "      <th>PAY_AMT3</th>\n",
              "      <th>PAY_AMT4</th>\n",
              "      <th>PAY_AMT5</th>\n",
              "      <th>PAY_AMT6</th>\n",
              "      <th>in_train</th>\n",
              "      <th>prediction</th>\n",
              "    </tr>\n",
              "  </thead>\n",
              "  <tbody>\n",
              "    <tr>\n",
              "      <th>0</th>\n",
              "      <td>7.741047e+05</td>\n",
              "      <td>1</td>\n",
              "      <td>5</td>\n",
              "      <td>7</td>\n",
              "      <td>2</td>\n",
              "      <td>-1</td>\n",
              "      <td>5</td>\n",
              "      <td>3.825222e+05</td>\n",
              "      <td>1.563087e+05</td>\n",
              "      <td>1.698492e+06</td>\n",
              "      <td>...</td>\n",
              "      <td>4.009869e+04</td>\n",
              "      <td>3.380200e+05</td>\n",
              "      <td>160212.295208</td>\n",
              "      <td>5.790698e+05</td>\n",
              "      <td>9.099407e+05</td>\n",
              "      <td>6.435144e+04</td>\n",
              "      <td>1.684413e+05</td>\n",
              "      <td>1.007401e+06</td>\n",
              "      <td>0</td>\n",
              "      <td>0.252688</td>\n",
              "    </tr>\n",
              "    <tr>\n",
              "      <th>1</th>\n",
              "      <td>2.234142e+06</td>\n",
              "      <td>8</td>\n",
              "      <td>4</td>\n",
              "      <td>8</td>\n",
              "      <td>4</td>\n",
              "      <td>4</td>\n",
              "      <td>8</td>\n",
              "      <td>1.498241e+06</td>\n",
              "      <td>9.559213e+05</td>\n",
              "      <td>4.171585e+05</td>\n",
              "      <td>...</td>\n",
              "      <td>1.665080e+06</td>\n",
              "      <td>6.251150e+05</td>\n",
              "      <td>232702.803640</td>\n",
              "      <td>4.185008e+04</td>\n",
              "      <td>7.131705e+04</td>\n",
              "      <td>4.267531e+04</td>\n",
              "      <td>9.061409e+05</td>\n",
              "      <td>1.447189e+05</td>\n",
              "      <td>1</td>\n",
              "      <td>0.416882</td>\n",
              "    </tr>\n",
              "    <tr>\n",
              "      <th>2</th>\n",
              "      <td>2.006741e+06</td>\n",
              "      <td>-1</td>\n",
              "      <td>7</td>\n",
              "      <td>1</td>\n",
              "      <td>4</td>\n",
              "      <td>3</td>\n",
              "      <td>6</td>\n",
              "      <td>5.845521e+05</td>\n",
              "      <td>3.004381e+05</td>\n",
              "      <td>4.200194e+05</td>\n",
              "      <td>...</td>\n",
              "      <td>5.340501e+05</td>\n",
              "      <td>6.566528e+05</td>\n",
              "      <td>235431.541749</td>\n",
              "      <td>4.542292e+05</td>\n",
              "      <td>1.118720e+06</td>\n",
              "      <td>1.272561e+06</td>\n",
              "      <td>6.594855e+05</td>\n",
              "      <td>7.671139e+03</td>\n",
              "      <td>1</td>\n",
              "      <td>0.198146</td>\n",
              "    </tr>\n",
              "    <tr>\n",
              "      <th>3</th>\n",
              "      <td>8.833743e+05</td>\n",
              "      <td>0</td>\n",
              "      <td>9</td>\n",
              "      <td>0</td>\n",
              "      <td>9</td>\n",
              "      <td>2</td>\n",
              "      <td>1</td>\n",
              "      <td>1.642220e+06</td>\n",
              "      <td>6.823426e+04</td>\n",
              "      <td>4.265532e+05</td>\n",
              "      <td>...</td>\n",
              "      <td>9.852541e+05</td>\n",
              "      <td>2.787417e+05</td>\n",
              "      <td>52053.276167</td>\n",
              "      <td>2.892251e+05</td>\n",
              "      <td>7.672275e+03</td>\n",
              "      <td>1.168657e+06</td>\n",
              "      <td>3.086262e+05</td>\n",
              "      <td>1.151426e+06</td>\n",
              "      <td>0</td>\n",
              "      <td>0.188579</td>\n",
              "    </tr>\n",
              "    <tr>\n",
              "      <th>4</th>\n",
              "      <td>3.006770e+05</td>\n",
              "      <td>8</td>\n",
              "      <td>4</td>\n",
              "      <td>5</td>\n",
              "      <td>8</td>\n",
              "      <td>4</td>\n",
              "      <td>8</td>\n",
              "      <td>2.740161e+05</td>\n",
              "      <td>6.655793e+05</td>\n",
              "      <td>2.855127e+06</td>\n",
              "      <td>...</td>\n",
              "      <td>9.189012e+05</td>\n",
              "      <td>1.323845e+06</td>\n",
              "      <td>203532.946947</td>\n",
              "      <td>3.906839e+05</td>\n",
              "      <td>8.007463e+04</td>\n",
              "      <td>6.085573e+04</td>\n",
              "      <td>1.281409e+06</td>\n",
              "      <td>2.796911e+05</td>\n",
              "      <td>0</td>\n",
              "      <td>0.390118</td>\n",
              "    </tr>\n",
              "    <tr>\n",
              "      <th>5</th>\n",
              "      <td>7.531177e+05</td>\n",
              "      <td>1</td>\n",
              "      <td>1</td>\n",
              "      <td>9</td>\n",
              "      <td>6</td>\n",
              "      <td>4</td>\n",
              "      <td>0</td>\n",
              "      <td>2.048199e+05</td>\n",
              "      <td>9.622369e+05</td>\n",
              "      <td>9.800998e+04</td>\n",
              "      <td>...</td>\n",
              "      <td>2.822446e+05</td>\n",
              "      <td>2.715271e+06</td>\n",
              "      <td>2115.071309</td>\n",
              "      <td>2.117457e+05</td>\n",
              "      <td>2.716670e+05</td>\n",
              "      <td>5.330283e+05</td>\n",
              "      <td>1.383445e+05</td>\n",
              "      <td>4.702704e+05</td>\n",
              "      <td>0</td>\n",
              "      <td>0.299548</td>\n",
              "    </tr>\n",
              "    <tr>\n",
              "      <th>6</th>\n",
              "      <td>8.915291e+05</td>\n",
              "      <td>7</td>\n",
              "      <td>1</td>\n",
              "      <td>9</td>\n",
              "      <td>0</td>\n",
              "      <td>7</td>\n",
              "      <td>9</td>\n",
              "      <td>1.976234e+05</td>\n",
              "      <td>5.512582e+05</td>\n",
              "      <td>1.808534e+05</td>\n",
              "      <td>...</td>\n",
              "      <td>7.058063e+04</td>\n",
              "      <td>5.673100e+05</td>\n",
              "      <td>73715.242385</td>\n",
              "      <td>5.174077e+05</td>\n",
              "      <td>3.049073e+05</td>\n",
              "      <td>1.800723e+04</td>\n",
              "      <td>2.198568e+05</td>\n",
              "      <td>6.954688e+04</td>\n",
              "      <td>1</td>\n",
              "      <td>0.413418</td>\n",
              "    </tr>\n",
              "    <tr>\n",
              "      <th>7</th>\n",
              "      <td>2.278108e+06</td>\n",
              "      <td>0</td>\n",
              "      <td>7</td>\n",
              "      <td>9</td>\n",
              "      <td>5</td>\n",
              "      <td>4</td>\n",
              "      <td>2</td>\n",
              "      <td>1.387995e+05</td>\n",
              "      <td>1.421507e+05</td>\n",
              "      <td>4.145218e+05</td>\n",
              "      <td>...</td>\n",
              "      <td>1.344881e+05</td>\n",
              "      <td>1.372469e+05</td>\n",
              "      <td>233502.240153</td>\n",
              "      <td>2.366588e+04</td>\n",
              "      <td>1.399352e+05</td>\n",
              "      <td>3.637175e+05</td>\n",
              "      <td>2.510796e+05</td>\n",
              "      <td>9.289959e+05</td>\n",
              "      <td>1</td>\n",
              "      <td>0.187473</td>\n",
              "    </tr>\n",
              "    <tr>\n",
              "      <th>8</th>\n",
              "      <td>5.501660e+04</td>\n",
              "      <td>6</td>\n",
              "      <td>3</td>\n",
              "      <td>1</td>\n",
              "      <td>4</td>\n",
              "      <td>0</td>\n",
              "      <td>5</td>\n",
              "      <td>1.431472e+05</td>\n",
              "      <td>1.450363e+06</td>\n",
              "      <td>3.430612e+05</td>\n",
              "      <td>...</td>\n",
              "      <td>1.243924e+06</td>\n",
              "      <td>3.564089e+04</td>\n",
              "      <td>270614.839950</td>\n",
              "      <td>1.126180e+05</td>\n",
              "      <td>2.604212e+05</td>\n",
              "      <td>2.720713e+05</td>\n",
              "      <td>1.838363e+05</td>\n",
              "      <td>1.381723e+05</td>\n",
              "      <td>1</td>\n",
              "      <td>0.390118</td>\n",
              "    </tr>\n",
              "    <tr>\n",
              "      <th>9</th>\n",
              "      <td>1.094201e+05</td>\n",
              "      <td>7</td>\n",
              "      <td>7</td>\n",
              "      <td>-1</td>\n",
              "      <td>7</td>\n",
              "      <td>5</td>\n",
              "      <td>9</td>\n",
              "      <td>6.080474e+05</td>\n",
              "      <td>2.506749e+04</td>\n",
              "      <td>1.340049e+06</td>\n",
              "      <td>...</td>\n",
              "      <td>5.119465e+04</td>\n",
              "      <td>1.104901e+05</td>\n",
              "      <td>65493.982508</td>\n",
              "      <td>1.021165e+06</td>\n",
              "      <td>4.205204e+05</td>\n",
              "      <td>4.524876e+03</td>\n",
              "      <td>1.285967e+05</td>\n",
              "      <td>2.014761e+05</td>\n",
              "      <td>0</td>\n",
              "      <td>0.333632</td>\n",
              "    </tr>\n",
              "  </tbody>\n",
              "</table>\n",
              "<p>10 rows × 21 columns</p>\n",
              "</div>\n",
              "      <button class=\"colab-df-convert\" onclick=\"convertToInteractive('df-a61d2ac4-1e63-44be-9738-ef82c7e4d068')\"\n",
              "              title=\"Convert this dataframe to an interactive table.\"\n",
              "              style=\"display:none;\">\n",
              "        \n",
              "  <svg xmlns=\"http://www.w3.org/2000/svg\" height=\"24px\"viewBox=\"0 0 24 24\"\n",
              "       width=\"24px\">\n",
              "    <path d=\"M0 0h24v24H0V0z\" fill=\"none\"/>\n",
              "    <path d=\"M18.56 5.44l.94 2.06.94-2.06 2.06-.94-2.06-.94-.94-2.06-.94 2.06-2.06.94zm-11 1L8.5 8.5l.94-2.06 2.06-.94-2.06-.94L8.5 2.5l-.94 2.06-2.06.94zm10 10l.94 2.06.94-2.06 2.06-.94-2.06-.94-.94-2.06-.94 2.06-2.06.94z\"/><path d=\"M17.41 7.96l-1.37-1.37c-.4-.4-.92-.59-1.43-.59-.52 0-1.04.2-1.43.59L10.3 9.45l-7.72 7.72c-.78.78-.78 2.05 0 2.83L4 21.41c.39.39.9.59 1.41.59.51 0 1.02-.2 1.41-.59l7.78-7.78 2.81-2.81c.8-.78.8-2.07 0-2.86zM5.41 20L4 18.59l7.72-7.72 1.47 1.35L5.41 20z\"/>\n",
              "  </svg>\n",
              "      </button>\n",
              "      \n",
              "  <style>\n",
              "    .colab-df-container {\n",
              "      display:flex;\n",
              "      flex-wrap:wrap;\n",
              "      gap: 12px;\n",
              "    }\n",
              "\n",
              "    .colab-df-convert {\n",
              "      background-color: #E8F0FE;\n",
              "      border: none;\n",
              "      border-radius: 50%;\n",
              "      cursor: pointer;\n",
              "      display: none;\n",
              "      fill: #1967D2;\n",
              "      height: 32px;\n",
              "      padding: 0 0 0 0;\n",
              "      width: 32px;\n",
              "    }\n",
              "\n",
              "    .colab-df-convert:hover {\n",
              "      background-color: #E2EBFA;\n",
              "      box-shadow: 0px 1px 2px rgba(60, 64, 67, 0.3), 0px 1px 3px 1px rgba(60, 64, 67, 0.15);\n",
              "      fill: #174EA6;\n",
              "    }\n",
              "\n",
              "    [theme=dark] .colab-df-convert {\n",
              "      background-color: #3B4455;\n",
              "      fill: #D2E3FC;\n",
              "    }\n",
              "\n",
              "    [theme=dark] .colab-df-convert:hover {\n",
              "      background-color: #434B5C;\n",
              "      box-shadow: 0px 1px 3px 1px rgba(0, 0, 0, 0.15);\n",
              "      filter: drop-shadow(0px 1px 2px rgba(0, 0, 0, 0.3));\n",
              "      fill: #FFFFFF;\n",
              "    }\n",
              "  </style>\n",
              "\n",
              "      <script>\n",
              "        const buttonEl =\n",
              "          document.querySelector('#df-a61d2ac4-1e63-44be-9738-ef82c7e4d068 button.colab-df-convert');\n",
              "        buttonEl.style.display =\n",
              "          google.colab.kernel.accessAllowed ? 'block' : 'none';\n",
              "\n",
              "        async function convertToInteractive(key) {\n",
              "          const element = document.querySelector('#df-a61d2ac4-1e63-44be-9738-ef82c7e4d068');\n",
              "          const dataTable =\n",
              "            await google.colab.kernel.invokeFunction('convertToInteractive',\n",
              "                                                     [key], {});\n",
              "          if (!dataTable) return;\n",
              "\n",
              "          const docLinkHtml = 'Like what you see? Visit the ' +\n",
              "            '<a target=\"_blank\" href=https://colab.research.google.com/notebooks/data_table.ipynb>data table notebook</a>'\n",
              "            + ' to learn more about interactive tables.';\n",
              "          element.innerHTML = '';\n",
              "          dataTable['output_type'] = 'display_data';\n",
              "          await google.colab.output.renderOutput(dataTable, element);\n",
              "          const docLink = document.createElement('div');\n",
              "          docLink.innerHTML = docLinkHtml;\n",
              "          element.appendChild(docLink);\n",
              "        }\n",
              "      </script>\n",
              "    </div>\n",
              "  </div>\n",
              "  "
            ]
          },
          "metadata": {},
          "execution_count": 45
        }
      ],
      "source": [
        "dattack_data = xgb.DMatrix(attack_data[features])\n",
        "\n",
        "attack_data['prediction'] = extracted_model_xgb.predict(dattack_data, \n",
        "                                                        iteration_range=(0, extracted_model_xgb.best_iteration))\n",
        "# attack_data['prediction'] = model_endpoint(attack_data)\n",
        "\n",
        "attack_data.head(10)"
      ]
    },
    {
      "cell_type": "code",
      "execution_count": 46,
      "id": "ca1269e9-2699-4758-b663-642893d42759",
      "metadata": {
        "colab": {
          "base_uri": "https://localhost:8080/",
          "height": 499
        },
        "id": "ca1269e9-2699-4758-b663-642893d42759",
        "outputId": "ab0db5a1-2996-477e-d592-d704c2834413"
      },
      "outputs": [
        {
          "output_type": "display_data",
          "data": {
            "text/plain": [
              "<Figure size 360x576 with 2 Axes>"
            ],
            "image/png": "[encoded data removed]"
          },
          "metadata": {
            "needs_background": "light"
          }
        }
      ],
      "source": [
        "# Look at the distribution of extracted model predictions for the training versus new data points.\n",
        "\n",
        "fig, axs = plt.subplots(2, 1, figsize=(5, 8))\n",
        "axs[0].hist(attack_data.loc[attack_data['in_train'] == 0]['prediction'], bins='auto')\n",
        "axs[0].set_title('Not in training data')\n",
        "\n",
        "axs[1].hist(attack_data.loc[attack_data['in_train'] == 1]['prediction'], bins='auto')\n",
        "_ = axs[1].set_title('In training data')\n"
      ]
    },
    {
      "cell_type": "code",
      "execution_count": 47,
      "id": "50e469fc-47e0-4c10-beda-7f3b64cefc9d",
      "metadata": {
        "colab": {
          "base_uri": "https://localhost:8080/"
        },
        "id": "50e469fc-47e0-4c10-beda-7f3b64cefc9d",
        "outputId": "d8786e5e-58c4-4802-96f7-3ab184f2b94e"
      },
      "outputs": [
        {
          "output_type": "stream",
          "name": "stdout",
          "text": [
            "[0]\ttrain-auc:0.51691\teval-auc:0.50838\n",
            "[1]\ttrain-auc:0.52290\teval-auc:0.50948\n",
            "[2]\ttrain-auc:0.52365\teval-auc:0.50832\n",
            "[3]\ttrain-auc:0.52552\teval-auc:0.51072\n",
            "[4]\ttrain-auc:0.52800\teval-auc:0.51187\n",
            "[5]\ttrain-auc:0.52917\teval-auc:0.51146\n",
            "[6]\ttrain-auc:0.52931\teval-auc:0.51367\n",
            "[7]\ttrain-auc:0.53131\teval-auc:0.51456\n",
            "[8]\ttrain-auc:0.53473\teval-auc:0.51576\n",
            "[9]\ttrain-auc:0.53510\teval-auc:0.51569\n",
            "[10]\ttrain-auc:0.53518\teval-auc:0.51554\n",
            "[11]\ttrain-auc:0.53663\teval-auc:0.51657\n",
            "[12]\ttrain-auc:0.53665\teval-auc:0.51554\n",
            "[13]\ttrain-auc:0.53712\teval-auc:0.51598\n",
            "[14]\ttrain-auc:0.53713\teval-auc:0.51629\n",
            "[15]\ttrain-auc:0.53823\teval-auc:0.51766\n",
            "[16]\ttrain-auc:0.54005\teval-auc:0.51953\n",
            "[17]\ttrain-auc:0.54044\teval-auc:0.51901\n",
            "[18]\ttrain-auc:0.54081\teval-auc:0.51913\n",
            "[19]\ttrain-auc:0.54135\teval-auc:0.51861\n",
            "[20]\ttrain-auc:0.54185\teval-auc:0.51855\n",
            "[21]\ttrain-auc:0.54308\teval-auc:0.51790\n",
            "[22]\ttrain-auc:0.54477\teval-auc:0.51800\n",
            "[23]\ttrain-auc:0.54563\teval-auc:0.51790\n",
            "[24]\ttrain-auc:0.54579\teval-auc:0.51765\n",
            "[25]\ttrain-auc:0.54667\teval-auc:0.51763\n"
          ]
        }
      ],
      "source": [
        "# Train an XGBoost attack model.\n",
        "\n",
        "attack_features = features + ['prediction']\n",
        "attack_target = 'in_train'\n",
        "\n",
        "attack_train = attack_data.head(int(len(attack_data)*0.8))\n",
        "attack_valid = attack_data.tail(int(len(attack_data)*0.2))\n",
        "\n",
        "dattack_train = xgb.DMatrix(attack_train[attack_features],\n",
        "                            label = attack_train[attack_target])\n",
        "dattack_valid = xgb.DMatrix(attack_valid[attack_features],\n",
        "                            label = attack_valid[attack_target])\n",
        "\n",
        "base_score = attack_train[attack_target].mean()\n",
        "\n",
        "params = {\n",
        "    'objective': 'binary:logistic',\n",
        "    'eval_metric': 'auc',\n",
        "    'eta': 0.05,\n",
        "    'max_depth': 3,\n",
        "    'base_score': base_score,\n",
        "    'seed': SEED\n",
        "}\n",
        "\n",
        "# Train using early stopping on the validation dataset.\n",
        "watchlist = [(dattack_train, 'train'), (dattack_valid, 'eval')]\n",
        "\n",
        "attack_model = xgb.train(params,         \n",
        "                         dattack_train,                   \n",
        "                         num_boost_round=500,                     \n",
        "                         evals=watchlist,\n",
        "                         early_stopping_rounds=10,\n",
        "                         verbose_eval=True)"
      ]
    },
    {
      "cell_type": "code",
      "execution_count": 48,
      "id": "81a3f784-1534-4c7d-b6cd-6ca016f5637d",
      "metadata": {
        "id": "81a3f784-1534-4c7d-b6cd-6ca016f5637d"
      },
      "outputs": [],
      "source": [
        "train['in_train'] = 1\n",
        "test['in_train'] = 0\n",
        "\n",
        "attack_test = train.head(len(test)).append(test).reset_index(drop=True)\n",
        "attack_test['prediction'] = model_endpoint(attack_test[features])\n",
        "\n",
        "dattack_test = xgb.DMatrix(attack_test[attack_features],\n",
        "                           label = attack_test[attack_target])"
      ]
    },
    {
      "cell_type": "code",
      "execution_count": 49,
      "id": "a0f2a750-f257-4d3a-b988-f69a31cb4cdc",
      "metadata": {
        "colab": {
          "base_uri": "https://localhost:8080/",
          "height": 296
        },
        "id": "a0f2a750-f257-4d3a-b988-f69a31cb4cdc",
        "outputId": "a1e8aa72-b8ea-4219-a79d-4b8f9ee873ac"
      },
      "outputs": [
        {
          "output_type": "execute_result",
          "data": {
            "text/plain": [
              "<matplotlib.legend.Legend at 0x7fb24bb0b5e0>"
            ]
          },
          "metadata": {},
          "execution_count": 49
        },
        {
          "output_type": "display_data",
          "data": {
            "text/plain": [
              "<Figure size 432x288 with 1 Axes>"
            ],
            "image/png": "[encoded data removed]"
          },
          "metadata": {
            "needs_background": "light"
          }
        }
      ],
      "source": [
        "from sklearn.metrics import precision_score, recall_score, roc_curve, RocCurveDisplay\n",
        "\n",
        "fpr, tpr, _ = roc_curve(attack_train['in_train'], \n",
        "                        attack_model.predict(dattack_train, iteration_range=(0, attack_model.best_iteration)))\n",
        "\n",
        "roc_display = RocCurveDisplay(fpr=fpr, tpr=tpr).plot()\n",
        "ax = roc_display.ax_\n",
        "\n",
        "fpr, tpr, _ = roc_curve(attack_test['in_train'], \n",
        "                        attack_model.predict(dattack_test, iteration_range=(0, attack_model.best_iteration)))\n",
        "\n",
        "ax.plot(fpr, tpr)\n",
        "ax.legend(['Train', 'Test'])"
      ]
    },
    {
      "cell_type": "markdown",
      "id": "b6c142ae-21d1-477a-8228-86a460f7e6d1",
      "metadata": {
        "id": "b6c142ae-21d1-477a-8228-86a460f7e6d1"
      },
      "source": [
        "### Attempting attack on the regularized and constrained model"
      ]
    },
    {
      "cell_type": "code",
      "execution_count": 50,
      "id": "bc04c30d-c0b9-4725-9291-290b018ebc88",
      "metadata": {
        "id": "bc04c30d-c0b9-4725-9291-290b018ebc88"
      },
      "outputs": [],
      "source": [
        "# We'll suppose access to a model prediction API endpoint that we can query without restriction\n",
        "\n",
        "def model_endpoint(observations: pd.DataFrame):\n",
        "    pred_frame = h2o.H2OFrame(observations)\n",
        "    prediction = xgb_best.predict(pred_frame)['p1'].as_data_frame().values\n",
        "    return prediction\n"
      ]
    },
    {
      "cell_type": "code",
      "execution_count": 51,
      "id": "5da5c998-8a55-4b48-bec3-587468fc7af0",
      "metadata": {
        "colab": {
          "base_uri": "https://localhost:8080/"
        },
        "id": "5da5c998-8a55-4b48-bec3-587468fc7af0",
        "outputId": "91646dbe-9d70-4af7-d3d4-a921d5e79e55"
      },
      "outputs": [
        {
          "output_type": "stream",
          "name": "stdout",
          "text": [
            "R2 on training data (simulated): 0.945\n",
            "R2 on test data (simulated): 0.943\n",
            "R2 on real data: 0.901\n",
            "real/test: 0.9548061329056085\n"
          ]
        }
      ],
      "source": [
        "from sklearn.tree import DecisionTreeRegressor\n",
        "from sklearn import tree\n",
        "from sklearn.metrics import r2_score\n",
        "\n",
        "surrogate_model_params = {'max_depth': 4,\n",
        "                         'random_state': SEED}\n",
        "extracted_model_dt = DecisionTreeRegressor(**surrogate_model_params).fit(random_train[features], \n",
        "                                                                         model_endpoint(random_train[features]))\n",
        "\n",
        "r2_train = r2_score(y_true=model_endpoint(random_train[features]), \n",
        "                     y_pred=extracted_model_dt.predict(random_train[features]))\n",
        "r2_test = r2_score(y_true=model_endpoint(random_test[features]), \n",
        "                     y_pred=extracted_model_dt.predict(random_test[features]))\n",
        "r2_holdout = r2_score(y_true=model_endpoint(test[features]), \n",
        "                     y_pred=extracted_model_dt.predict(test[features]))\n",
        "\n",
        "print(f'R2 on training data (simulated): {np.round(r2_train, 3)}')\n",
        "print(f'R2 on test data (simulated): {np.round(r2_test, 3)}')\n",
        "print(f'R2 on real data: {np.round(r2_holdout, 3)}')\n",
        "\n",
        "print(f'real/test: {r2_holdout/r2_test}')"
      ]
    },
    {
      "cell_type": "code",
      "execution_count": 52,
      "id": "c0320bcd-aec5-4b60-acd3-36411ffebf86",
      "metadata": {
        "colab": {
          "base_uri": "https://localhost:8080/"
        },
        "id": "c0320bcd-aec5-4b60-acd3-36411ffebf86",
        "outputId": "1d930a1b-621e-49f9-a0d1-66817ff7eefd"
      },
      "outputs": [
        {
          "output_type": "stream",
          "name": "stdout",
          "text": [
            "MAE on test data (simulated): 0.03414\n",
            "MAE on real data: 0.04554\n",
            "test/real: 0.7495946047793284\n"
          ]
        }
      ],
      "source": [
        "mae_test = mean_absolute_error(y_true=model_endpoint(random_test[features]), \n",
        "                              y_pred=extracted_model_dt.predict(random_test[features]))\n",
        "\n",
        "mae_holdout = mean_absolute_error(y_true=model_endpoint(test[features]), \n",
        "                                 y_pred=extracted_model_dt.predict(test[features]))\n",
        "\n",
        "print(f'MAE on test data (simulated): {np.round(mae_test, 5)}')\n",
        "print(f'MAE on real data: {np.round(mae_holdout, 5)}')\n",
        "\n",
        "print(f'test/real: {mae_test/mae_holdout}')"
      ]
    },
    {
      "cell_type": "code",
      "execution_count": 53,
      "id": "79192a23-5698-4b90-bfab-a653dd968df4",
      "metadata": {
        "colab": {
          "base_uri": "https://localhost:8080/",
          "height": 370
        },
        "id": "79192a23-5698-4b90-bfab-a653dd968df4",
        "outputId": "d5531998-1eb3-482b-d6eb-5f9b20c3b49b"
      },
      "outputs": [
        {
          "output_type": "display_data",
          "data": {
            "text/plain": [
              "<Figure size 1080x360 with 3 Axes>"
            ],
            "image/png": "[encoded data removed]"
          },
          "metadata": {
            "needs_background": "light"
          }
        }
      ],
      "source": [
        "fig, axs = plt.subplots(1, 3, figsize=(15, 5))\n",
        "\n",
        "axs[0].scatter(model_endpoint(random_train[features]), extracted_model_dt.predict(random_train[features]))\n",
        "axs[0].set_title(\"Training Scores (Simulated)\")\n",
        "axs[0].set_ylabel('Extracted Score')\n",
        "axs[0].set_xlabel('True Score')\n",
        "axs[0].set_ylim([0, 1])\n",
        "\n",
        "\n",
        "axs[1].scatter(model_endpoint(random_test[features]), extracted_model_dt.predict(random_test[features]))\n",
        "axs[1].set_title(\"Validation Scores(Simulated)\")\n",
        "axs[1].set_xlabel('True Score')\n",
        "axs[1].set_ylim([0, 1])\n",
        "\n",
        "\n",
        "axs[2].scatter(model_endpoint(test[features]), extracted_model_dt.predict(test[features]))\n",
        "axs[2].set_title(\"Holdout Scores (Real)\")\n",
        "axs[2].set_xlabel('True Score')\n",
        "axs[2].set_ylim([0, 1])\n",
        "\n",
        "_ = fig.suptitle(\"Decision Tree Surrogate\")\n",
        "fig.savefig('Data/Figures/constrained_DT_extraction.png')"
      ]
    },
    {
      "cell_type": "code",
      "execution_count": 54,
      "id": "f22e85fc-0cc4-4a1c-98d2-fe05da4320ae",
      "metadata": {
        "colab": {
          "base_uri": "https://localhost:8080/",
          "height": 1000
        },
        "id": "f22e85fc-0cc4-4a1c-98d2-fe05da4320ae",
        "outputId": "74fe93e3-3571-4140-d8b1-96a2ea4ac11a"
      },
      "outputs": [
        {
          "output_type": "execute_result",
          "data": {
            "text/plain": [
              "<graphviz.files.Source at 0x7fb249e6f0d0>"
            ],
            "image/svg+xml": "<?xml version=\"1.0\" encoding=\"UTF-8\" standalone=\"no\"?>\n<!DOCTYPE svg PUBLIC \"-//W3C//DTD SVG 1.1//EN\"\n \"http://www.w3.org/Graphics/SVG/1.1/DTD/svg11.dtd\">\n<!-- Generated by graphviz version 2.40.1 (20161225.0304)\n -->\n<!-- Title: Tree Pages: 1 -->\n<svg width=\"957pt\" height=\"1126pt\"\n viewBox=\"0.00 0.00 957.00 1126.00\" xmlns=\"http://www.w3.org/2000/svg\" xmlns:xlink=\"http://www.w3.org/1999/xlink\">\n<g id=\"graph0\" class=\"graph\" transform=\"scale(1 1) rotate(0) translate(4 1122)\">\n<title>Tree</title>\n<polygon fill=\"#ffffff\" stroke=\"transparent\" points=\"-4,4 -4,-1122 953,-1122 953,4 -4,4\"/>\n<!-- 0 -->\n<g id=\"node1\" class=\"node\">\n<title>0</title>\n<path fill=\"#eca471\" stroke=\"#000000\" d=\"M149,-636.5C149,-636.5 12,-636.5 12,-636.5 6,-636.5 0,-630.5 0,-624.5 0,-624.5 0,-580.5 0,-580.5 0,-574.5 6,-568.5 12,-568.5 12,-568.5 149,-568.5 149,-568.5 155,-568.5 161,-574.5 161,-580.5 161,-580.5 161,-624.5 161,-624.5 161,-630.5 155,-636.5 149,-636.5\"/>\n<text text-anchor=\"middle\" x=\"80.5\" y=\"-621.3\" font-family=\"Helvetica,sans-Serif\" font-size=\"14.00\" fill=\"#000000\">PAY_0 &lt;= 1.5</text>\n<text text-anchor=\"middle\" x=\"80.5\" y=\"-606.3\" font-family=\"Helvetica,sans-Serif\" font-size=\"14.00\" fill=\"#000000\">squared_error = 0.036</text>\n<text text-anchor=\"middle\" x=\"80.5\" y=\"-591.3\" font-family=\"Helvetica,sans-Serif\" font-size=\"14.00\" fill=\"#000000\">samples = 35849</text>\n<text text-anchor=\"middle\" x=\"80.5\" y=\"-576.3\" font-family=\"Helvetica,sans-Serif\" font-size=\"14.00\" fill=\"#000000\">value = 0.535</text>\n</g>\n<!-- 1 -->\n<g id=\"node2\" class=\"node\">\n<title>1</title>\n<path fill=\"#f9e0ce\" stroke=\"#000000\" d=\"M346,-735.5C346,-735.5 209,-735.5 209,-735.5 203,-735.5 197,-729.5 197,-723.5 197,-723.5 197,-679.5 197,-679.5 197,-673.5 203,-667.5 209,-667.5 209,-667.5 346,-667.5 346,-667.5 352,-667.5 358,-673.5 358,-679.5 358,-679.5 358,-723.5 358,-723.5 358,-729.5 352,-735.5 346,-735.5\"/>\n<text text-anchor=\"middle\" x=\"277.5\" y=\"-720.3\" font-family=\"Helvetica,sans-Serif\" font-size=\"14.00\" fill=\"#000000\">PAY_0 &lt;= 0.5</text>\n<text text-anchor=\"middle\" x=\"277.5\" y=\"-705.3\" font-family=\"Helvetica,sans-Serif\" font-size=\"14.00\" fill=\"#000000\">squared_error = 0.009</text>\n<text text-anchor=\"middle\" x=\"277.5\" y=\"-690.3\" font-family=\"Helvetica,sans-Serif\" font-size=\"14.00\" fill=\"#000000\">samples = 10556</text>\n<text text-anchor=\"middle\" x=\"277.5\" y=\"-675.3\" font-family=\"Helvetica,sans-Serif\" font-size=\"14.00\" fill=\"#000000\">value = 0.27</text>\n</g>\n<!-- 0&#45;&gt;1 -->\n<g id=\"edge1\" class=\"edge\">\n<title>0&#45;&gt;1</title>\n<path fill=\"none\" stroke=\"#000000\" d=\"M148.2962,-636.5702C165.0119,-644.9705 183.0384,-654.0295 200.1684,-662.6379\"/>\n<polygon fill=\"#000000\" stroke=\"#000000\" points=\"199.072,-666.004 209.5788,-667.367 202.2152,-659.7494 199.072,-666.004\"/>\n<text text-anchor=\"middle\" x=\"185.8457\" y=\"-671.5246\" font-family=\"Helvetica,sans-Serif\" font-size=\"14.00\" fill=\"#000000\">True</text>\n</g>\n<!-- 16 -->\n<g id=\"node17\" class=\"node\">\n<title>16</title>\n<path fill=\"#e78c4a\" stroke=\"#000000\" d=\"M346,-451.5C346,-451.5 209,-451.5 209,-451.5 203,-451.5 197,-445.5 197,-439.5 197,-439.5 197,-395.5 197,-395.5 197,-389.5 203,-383.5 209,-383.5 209,-383.5 346,-383.5 346,-383.5 352,-383.5 358,-389.5 358,-395.5 358,-395.5 358,-439.5 358,-439.5 358,-445.5 352,-451.5 346,-451.5\"/>\n<text text-anchor=\"middle\" x=\"277.5\" y=\"-436.3\" font-family=\"Helvetica,sans-Serif\" font-size=\"14.00\" fill=\"#000000\">PAY_2 &lt;= 1.5</text>\n<text text-anchor=\"middle\" x=\"277.5\" y=\"-421.3\" font-family=\"Helvetica,sans-Serif\" font-size=\"14.00\" fill=\"#000000\">squared_error = 0.005</text>\n<text text-anchor=\"middle\" x=\"277.5\" y=\"-406.3\" font-family=\"Helvetica,sans-Serif\" font-size=\"14.00\" fill=\"#000000\">samples = 25293</text>\n<text text-anchor=\"middle\" x=\"277.5\" y=\"-391.3\" font-family=\"Helvetica,sans-Serif\" font-size=\"14.00\" fill=\"#000000\">value = 0.646</text>\n</g>\n<!-- 0&#45;&gt;16 -->\n<g id=\"edge16\" class=\"edge\">\n<title>0&#45;&gt;16</title>\n<path fill=\"none\" stroke=\"#000000\" d=\"M117.0925,-568.1365C149.9888,-537.244 198.3776,-491.8027 233.3992,-458.9144\"/>\n<polygon fill=\"#000000\" stroke=\"#000000\" points=\"236.2098,-461.0765 241.1035,-451.6795 231.4179,-455.9737 236.2098,-461.0765\"/>\n<text text-anchor=\"middle\" x=\"216.1158\" y=\"-447.1945\" font-family=\"Helvetica,sans-Serif\" font-size=\"14.00\" fill=\"#000000\">False</text>\n</g>\n<!-- 2 -->\n<g id=\"node3\" class=\"node\">\n<title>2</title>\n<path fill=\"#fae9dc\" stroke=\"#000000\" d=\"M543,-940.5C543,-940.5 406,-940.5 406,-940.5 400,-940.5 394,-934.5 394,-928.5 394,-928.5 394,-884.5 394,-884.5 394,-878.5 400,-872.5 406,-872.5 406,-872.5 543,-872.5 543,-872.5 549,-872.5 555,-878.5 555,-884.5 555,-884.5 555,-928.5 555,-928.5 555,-934.5 549,-940.5 543,-940.5\"/>\n<text text-anchor=\"middle\" x=\"474.5\" y=\"-925.3\" font-family=\"Helvetica,sans-Serif\" font-size=\"14.00\" fill=\"#000000\">PAY_2 &lt;= 1.5</text>\n<text text-anchor=\"middle\" x=\"474.5\" y=\"-910.3\" font-family=\"Helvetica,sans-Serif\" font-size=\"14.00\" fill=\"#000000\">squared_error = 0.005</text>\n<text text-anchor=\"middle\" x=\"474.5\" y=\"-895.3\" font-family=\"Helvetica,sans-Serif\" font-size=\"14.00\" fill=\"#000000\">samples = 7443</text>\n<text text-anchor=\"middle\" x=\"474.5\" y=\"-880.3\" font-family=\"Helvetica,sans-Serif\" font-size=\"14.00\" fill=\"#000000\">value = 0.232</text>\n</g>\n<!-- 1&#45;&gt;2 -->\n<g id=\"edge2\" class=\"edge\">\n<title>1&#45;&gt;2</title>\n<path fill=\"none\" stroke=\"#000000\" d=\"M310.4734,-735.8124C344.6683,-771.396 398.1457,-827.045 434.6777,-865.0606\"/>\n<polygon fill=\"#000000\" stroke=\"#000000\" points=\"432.2948,-867.6322 441.7474,-872.4174 437.3421,-862.7819 432.2948,-867.6322\"/>\n</g>\n<!-- 9 -->\n<g id=\"node10\" class=\"node\">\n<title>9</title>\n<path fill=\"#f4cbae\" stroke=\"#000000\" d=\"M543,-735.5C543,-735.5 406,-735.5 406,-735.5 400,-735.5 394,-729.5 394,-723.5 394,-723.5 394,-679.5 394,-679.5 394,-673.5 400,-667.5 406,-667.5 406,-667.5 543,-667.5 543,-667.5 549,-667.5 555,-673.5 555,-679.5 555,-679.5 555,-723.5 555,-723.5 555,-729.5 549,-735.5 543,-735.5\"/>\n<text text-anchor=\"middle\" x=\"474.5\" y=\"-720.3\" font-family=\"Helvetica,sans-Serif\" font-size=\"14.00\" fill=\"#000000\">PAY_2 &lt;= 1.5</text>\n<text text-anchor=\"middle\" x=\"474.5\" y=\"-705.3\" font-family=\"Helvetica,sans-Serif\" font-size=\"14.00\" fill=\"#000000\">squared_error = 0.006</text>\n<text text-anchor=\"middle\" x=\"474.5\" y=\"-690.3\" font-family=\"Helvetica,sans-Serif\" font-size=\"14.00\" fill=\"#000000\">samples = 3113</text>\n<text text-anchor=\"middle\" x=\"474.5\" y=\"-675.3\" font-family=\"Helvetica,sans-Serif\" font-size=\"14.00\" fill=\"#000000\">value = 0.362</text>\n</g>\n<!-- 1&#45;&gt;9 -->\n<g id=\"edge9\" class=\"edge\">\n<title>1&#45;&gt;9</title>\n<path fill=\"none\" stroke=\"#000000\" d=\"M358.1959,-701.5C366.6733,-701.5 375.3327,-701.5 383.9115,-701.5\"/>\n<polygon fill=\"#000000\" stroke=\"#000000\" points=\"383.9297,-705.0001 393.9296,-701.5 383.9296,-698.0001 383.9297,-705.0001\"/>\n</g>\n<!-- 3 -->\n<g id=\"node4\" class=\"node\">\n<title>3</title>\n<path fill=\"#fef8f4\" stroke=\"#000000\" d=\"M740,-1054.5C740,-1054.5 603,-1054.5 603,-1054.5 597,-1054.5 591,-1048.5 591,-1042.5 591,-1042.5 591,-998.5 591,-998.5 591,-992.5 597,-986.5 603,-986.5 603,-986.5 740,-986.5 740,-986.5 746,-986.5 752,-992.5 752,-998.5 752,-998.5 752,-1042.5 752,-1042.5 752,-1048.5 746,-1054.5 740,-1054.5\"/>\n<text text-anchor=\"middle\" x=\"671.5\" y=\"-1039.3\" font-family=\"Helvetica,sans-Serif\" font-size=\"14.00\" fill=\"#000000\">PAY_3 &lt;= 1.5</text>\n<text text-anchor=\"middle\" x=\"671.5\" y=\"-1024.3\" font-family=\"Helvetica,sans-Serif\" font-size=\"14.00\" fill=\"#000000\">squared_error = 0.002</text>\n<text text-anchor=\"middle\" x=\"671.5\" y=\"-1009.3\" font-family=\"Helvetica,sans-Serif\" font-size=\"14.00\" fill=\"#000000\">samples = 2213</text>\n<text text-anchor=\"middle\" x=\"671.5\" y=\"-994.3\" font-family=\"Helvetica,sans-Serif\" font-size=\"14.00\" fill=\"#000000\">value = 0.164</text>\n</g>\n<!-- 2&#45;&gt;3 -->\n<g id=\"edge3\" class=\"edge\">\n<title>2&#45;&gt;3</title>\n<path fill=\"none\" stroke=\"#000000\" d=\"M533.3397,-940.5493C555.5576,-953.4065 581.0075,-968.1338 603.9606,-981.4163\"/>\n<polygon fill=\"#000000\" stroke=\"#000000\" points=\"602.215,-984.4499 612.6234,-986.4293 605.7211,-978.3912 602.215,-984.4499\"/>\n</g>\n<!-- 6 -->\n<g id=\"node7\" class=\"node\">\n<title>6</title>\n<path fill=\"#f9e2d2\" stroke=\"#000000\" d=\"M740,-940.5C740,-940.5 603,-940.5 603,-940.5 597,-940.5 591,-934.5 591,-928.5 591,-928.5 591,-884.5 591,-884.5 591,-878.5 597,-872.5 603,-872.5 603,-872.5 740,-872.5 740,-872.5 746,-872.5 752,-878.5 752,-884.5 752,-884.5 752,-928.5 752,-928.5 752,-934.5 746,-940.5 740,-940.5\"/>\n<text text-anchor=\"middle\" x=\"671.5\" y=\"-925.3\" font-family=\"Helvetica,sans-Serif\" font-size=\"14.00\" fill=\"#000000\">PAY_3 &lt;= 1.5</text>\n<text text-anchor=\"middle\" x=\"671.5\" y=\"-910.3\" font-family=\"Helvetica,sans-Serif\" font-size=\"14.00\" fill=\"#000000\">squared_error = 0.004</text>\n<text text-anchor=\"middle\" x=\"671.5\" y=\"-895.3\" font-family=\"Helvetica,sans-Serif\" font-size=\"14.00\" fill=\"#000000\">samples = 5230</text>\n<text text-anchor=\"middle\" x=\"671.5\" y=\"-880.3\" font-family=\"Helvetica,sans-Serif\" font-size=\"14.00\" fill=\"#000000\">value = 0.261</text>\n</g>\n<!-- 2&#45;&gt;6 -->\n<g id=\"edge6\" class=\"edge\">\n<title>2&#45;&gt;6</title>\n<path fill=\"none\" stroke=\"#000000\" d=\"M555.1959,-906.5C563.6733,-906.5 572.3327,-906.5 580.9115,-906.5\"/>\n<polygon fill=\"#000000\" stroke=\"#000000\" points=\"580.9297,-910.0001 590.9296,-906.5 580.9296,-903.0001 580.9297,-910.0001\"/>\n</g>\n<!-- 4 -->\n<g id=\"node5\" class=\"node\">\n<title>4</title>\n<path fill=\"#ffffff\" stroke=\"#000000\" d=\"M937,-1118C937,-1118 800,-1118 800,-1118 794,-1118 788,-1112 788,-1106 788,-1106 788,-1077 788,-1077 788,-1071 794,-1065 800,-1065 800,-1065 937,-1065 937,-1065 943,-1065 949,-1071 949,-1077 949,-1077 949,-1106 949,-1106 949,-1112 943,-1118 937,-1118\"/>\n<text text-anchor=\"middle\" x=\"868.5\" y=\"-1102.8\" font-family=\"Helvetica,sans-Serif\" font-size=\"14.00\" fill=\"#000000\">squared_error = 0.001</text>\n<text text-anchor=\"middle\" x=\"868.5\" y=\"-1087.8\" font-family=\"Helvetica,sans-Serif\" font-size=\"14.00\" fill=\"#000000\">samples = 823</text>\n<text text-anchor=\"middle\" x=\"868.5\" y=\"-1072.8\" font-family=\"Helvetica,sans-Serif\" font-size=\"14.00\" fill=\"#000000\">value = 0.132</text>\n</g>\n<!-- 3&#45;&gt;4 -->\n<g id=\"edge4\" class=\"edge\">\n<title>3&#45;&gt;4</title>\n<path fill=\"none\" stroke=\"#000000\" d=\"M752.1959,-1049.5833C763.1263,-1053.5227 774.3594,-1057.5712 785.3322,-1061.5258\"/>\n<polygon fill=\"#000000\" stroke=\"#000000\" points=\"784.2995,-1064.8739 794.8939,-1064.9719 786.6729,-1058.2886 784.2995,-1064.8739\"/>\n</g>\n<!-- 5 -->\n<g id=\"node6\" class=\"node\">\n<title>5</title>\n<path fill=\"#fdf4ed\" stroke=\"#000000\" d=\"M937,-1047C937,-1047 800,-1047 800,-1047 794,-1047 788,-1041 788,-1035 788,-1035 788,-1006 788,-1006 788,-1000 794,-994 800,-994 800,-994 937,-994 937,-994 943,-994 949,-1000 949,-1006 949,-1006 949,-1035 949,-1035 949,-1041 943,-1047 937,-1047\"/>\n<text text-anchor=\"middle\" x=\"868.5\" y=\"-1031.8\" font-family=\"Helvetica,sans-Serif\" font-size=\"14.00\" fill=\"#000000\">squared_error = 0.001</text>\n<text text-anchor=\"middle\" x=\"868.5\" y=\"-1016.8\" font-family=\"Helvetica,sans-Serif\" font-size=\"14.00\" fill=\"#000000\">samples = 1390</text>\n<text text-anchor=\"middle\" x=\"868.5\" y=\"-1001.8\" font-family=\"Helvetica,sans-Serif\" font-size=\"14.00\" fill=\"#000000\">value = 0.183</text>\n</g>\n<!-- 3&#45;&gt;5 -->\n<g id=\"edge5\" class=\"edge\">\n<title>3&#45;&gt;5</title>\n<path fill=\"none\" stroke=\"#000000\" d=\"M752.1959,-1020.5C760.6733,-1020.5 769.3327,-1020.5 777.9115,-1020.5\"/>\n<polygon fill=\"#000000\" stroke=\"#000000\" points=\"777.9297,-1024.0001 787.9296,-1020.5 777.9296,-1017.0001 777.9297,-1024.0001\"/>\n</g>\n<!-- 7 -->\n<g id=\"node8\" class=\"node\">\n<title>7</title>\n<path fill=\"#fbece2\" stroke=\"#000000\" d=\"M937,-976C937,-976 800,-976 800,-976 794,-976 788,-970 788,-964 788,-964 788,-935 788,-935 788,-929 794,-923 800,-923 800,-923 937,-923 937,-923 943,-923 949,-929 949,-935 949,-935 949,-964 949,-964 949,-970 943,-976 937,-976\"/>\n<text text-anchor=\"middle\" x=\"868.5\" y=\"-960.8\" font-family=\"Helvetica,sans-Serif\" font-size=\"14.00\" fill=\"#000000\">squared_error = 0.002</text>\n<text text-anchor=\"middle\" x=\"868.5\" y=\"-945.8\" font-family=\"Helvetica,sans-Serif\" font-size=\"14.00\" fill=\"#000000\">samples = 1716</text>\n<text text-anchor=\"middle\" x=\"868.5\" y=\"-930.8\" font-family=\"Helvetica,sans-Serif\" font-size=\"14.00\" fill=\"#000000\">value = 0.215</text>\n</g>\n<!-- 6&#45;&gt;7 -->\n<g id=\"edge7\" class=\"edge\">\n<title>6&#45;&gt;7</title>\n<path fill=\"none\" stroke=\"#000000\" d=\"M752.1959,-924.1138C760.6733,-925.9642 769.3327,-927.8543 777.9115,-929.7269\"/>\n<polygon fill=\"#000000\" stroke=\"#000000\" points=\"777.4133,-933.2005 787.9296,-931.9136 778.9061,-926.3615 777.4133,-933.2005\"/>\n</g>\n<!-- 8 -->\n<g id=\"node9\" class=\"node\">\n<title>8</title>\n<path fill=\"#f8ddca\" stroke=\"#000000\" d=\"M937,-905C937,-905 800,-905 800,-905 794,-905 788,-899 788,-893 788,-893 788,-864 788,-864 788,-858 794,-852 800,-852 800,-852 937,-852 937,-852 943,-852 949,-858 949,-864 949,-864 949,-893 949,-893 949,-899 943,-905 937,-905\"/>\n<text text-anchor=\"middle\" x=\"868.5\" y=\"-889.8\" font-family=\"Helvetica,sans-Serif\" font-size=\"14.00\" fill=\"#000000\">squared_error = 0.003</text>\n<text text-anchor=\"middle\" x=\"868.5\" y=\"-874.8\" font-family=\"Helvetica,sans-Serif\" font-size=\"14.00\" fill=\"#000000\">samples = 3514</text>\n<text text-anchor=\"middle\" x=\"868.5\" y=\"-859.8\" font-family=\"Helvetica,sans-Serif\" font-size=\"14.00\" fill=\"#000000\">value = 0.283</text>\n</g>\n<!-- 6&#45;&gt;8 -->\n<g id=\"edge8\" class=\"edge\">\n<title>6&#45;&gt;8</title>\n<path fill=\"none\" stroke=\"#000000\" d=\"M752.1959,-895.0305C760.6733,-893.8256 769.3327,-892.5948 777.9115,-891.3755\"/>\n<polygon fill=\"#000000\" stroke=\"#000000\" points=\"778.5217,-894.8241 787.9296,-889.9516 777.5366,-887.8937 778.5217,-894.8241\"/>\n</g>\n<!-- 10 -->\n<g id=\"node11\" class=\"node\">\n<title>10</title>\n<path fill=\"#f8dfcd\" stroke=\"#000000\" d=\"M740,-778.5C740,-778.5 603,-778.5 603,-778.5 597,-778.5 591,-772.5 591,-766.5 591,-766.5 591,-722.5 591,-722.5 591,-716.5 597,-710.5 603,-710.5 603,-710.5 740,-710.5 740,-710.5 746,-710.5 752,-716.5 752,-722.5 752,-722.5 752,-766.5 752,-766.5 752,-772.5 746,-778.5 740,-778.5\"/>\n<text text-anchor=\"middle\" x=\"671.5\" y=\"-763.3\" font-family=\"Helvetica,sans-Serif\" font-size=\"14.00\" fill=\"#000000\">PAY_5 &lt;= 0.5</text>\n<text text-anchor=\"middle\" x=\"671.5\" y=\"-748.3\" font-family=\"Helvetica,sans-Serif\" font-size=\"14.00\" fill=\"#000000\">squared_error = 0.002</text>\n<text text-anchor=\"middle\" x=\"671.5\" y=\"-733.3\" font-family=\"Helvetica,sans-Serif\" font-size=\"14.00\" fill=\"#000000\">samples = 872</text>\n<text text-anchor=\"middle\" x=\"671.5\" y=\"-718.3\" font-family=\"Helvetica,sans-Serif\" font-size=\"14.00\" fill=\"#000000\">value = 0.273</text>\n</g>\n<!-- 9&#45;&gt;10 -->\n<g id=\"edge10\" class=\"edge\">\n<title>9&#45;&gt;10</title>\n<path fill=\"none\" stroke=\"#000000\" d=\"M555.1959,-719.1138C563.6733,-720.9642 572.3327,-722.8543 580.9115,-724.7269\"/>\n<polygon fill=\"#000000\" stroke=\"#000000\" points=\"580.4133,-728.2005 590.9296,-726.9136 581.9061,-721.3615 580.4133,-728.2005\"/>\n</g>\n<!-- 13 -->\n<g id=\"node14\" class=\"node\">\n<title>13</title>\n<path fill=\"#f3c4a2\" stroke=\"#000000\" d=\"M740,-692.5C740,-692.5 603,-692.5 603,-692.5 597,-692.5 591,-686.5 591,-680.5 591,-680.5 591,-636.5 591,-636.5 591,-630.5 597,-624.5 603,-624.5 603,-624.5 740,-624.5 740,-624.5 746,-624.5 752,-630.5 752,-636.5 752,-636.5 752,-680.5 752,-680.5 752,-686.5 746,-692.5 740,-692.5\"/>\n<text text-anchor=\"middle\" x=\"671.5\" y=\"-677.3\" font-family=\"Helvetica,sans-Serif\" font-size=\"14.00\" fill=\"#000000\">PAY_5 &lt;= 0.5</text>\n<text text-anchor=\"middle\" x=\"671.5\" y=\"-662.3\" font-family=\"Helvetica,sans-Serif\" font-size=\"14.00\" fill=\"#000000\">squared_error = 0.003</text>\n<text text-anchor=\"middle\" x=\"671.5\" y=\"-647.3\" font-family=\"Helvetica,sans-Serif\" font-size=\"14.00\" fill=\"#000000\">samples = 2241</text>\n<text text-anchor=\"middle\" x=\"671.5\" y=\"-632.3\" font-family=\"Helvetica,sans-Serif\" font-size=\"14.00\" fill=\"#000000\">value = 0.396</text>\n</g>\n<!-- 9&#45;&gt;13 -->\n<g id=\"edge13\" class=\"edge\">\n<title>9&#45;&gt;13</title>\n<path fill=\"none\" stroke=\"#000000\" d=\"M555.1959,-683.8862C563.6733,-682.0358 572.3327,-680.1457 580.9115,-678.2731\"/>\n<polygon fill=\"#000000\" stroke=\"#000000\" points=\"581.9061,-681.6385 590.9296,-676.0864 580.4133,-674.7995 581.9061,-681.6385\"/>\n</g>\n<!-- 11 -->\n<g id=\"node12\" class=\"node\">\n<title>11</title>\n<path fill=\"#fae8dc\" stroke=\"#000000\" d=\"M937,-834C937,-834 800,-834 800,-834 794,-834 788,-828 788,-822 788,-822 788,-793 788,-793 788,-787 794,-781 800,-781 800,-781 937,-781 937,-781 943,-781 949,-787 949,-793 949,-793 949,-822 949,-822 949,-828 943,-834 937,-834\"/>\n<text text-anchor=\"middle\" x=\"868.5\" y=\"-818.8\" font-family=\"Helvetica,sans-Serif\" font-size=\"14.00\" fill=\"#000000\">squared_error = 0.001</text>\n<text text-anchor=\"middle\" x=\"868.5\" y=\"-803.8\" font-family=\"Helvetica,sans-Serif\" font-size=\"14.00\" fill=\"#000000\">samples = 183</text>\n<text text-anchor=\"middle\" x=\"868.5\" y=\"-788.8\" font-family=\"Helvetica,sans-Serif\" font-size=\"14.00\" fill=\"#000000\">value = 0.232</text>\n</g>\n<!-- 10&#45;&gt;11 -->\n<g id=\"edge11\" class=\"edge\">\n<title>10&#45;&gt;11</title>\n<path fill=\"none\" stroke=\"#000000\" d=\"M752.1959,-770.3063C760.7654,-773.0468 769.521,-775.8468 778.1913,-778.6195\"/>\n<polygon fill=\"#000000\" stroke=\"#000000\" points=\"777.3387,-782.0215 787.9296,-781.7338 779.471,-775.3541 777.3387,-782.0215\"/>\n</g>\n<!-- 12 -->\n<g id=\"node13\" class=\"node\">\n<title>12</title>\n<path fill=\"#f8ddc9\" stroke=\"#000000\" d=\"M937,-763C937,-763 800,-763 800,-763 794,-763 788,-757 788,-751 788,-751 788,-722 788,-722 788,-716 794,-710 800,-710 800,-710 937,-710 937,-710 943,-710 949,-716 949,-722 949,-722 949,-751 949,-751 949,-757 943,-763 937,-763\"/>\n<text text-anchor=\"middle\" x=\"868.5\" y=\"-747.8\" font-family=\"Helvetica,sans-Serif\" font-size=\"14.00\" fill=\"#000000\">squared_error = 0.001</text>\n<text text-anchor=\"middle\" x=\"868.5\" y=\"-732.8\" font-family=\"Helvetica,sans-Serif\" font-size=\"14.00\" fill=\"#000000\">samples = 689</text>\n<text text-anchor=\"middle\" x=\"868.5\" y=\"-717.8\" font-family=\"Helvetica,sans-Serif\" font-size=\"14.00\" fill=\"#000000\">value = 0.284</text>\n</g>\n<!-- 10&#45;&gt;12 -->\n<g id=\"edge12\" class=\"edge\">\n<title>10&#45;&gt;12</title>\n<path fill=\"none\" stroke=\"#000000\" d=\"M752.1959,-741.223C760.6733,-740.8788 769.3327,-740.5271 777.9115,-740.1787\"/>\n<polygon fill=\"#000000\" stroke=\"#000000\" points=\"778.0799,-743.6749 787.9296,-739.7719 777.7958,-736.6806 778.0799,-743.6749\"/>\n</g>\n<!-- 14 -->\n<g id=\"node15\" class=\"node\">\n<title>14</title>\n<path fill=\"#f5cfb4\" stroke=\"#000000\" d=\"M937,-692C937,-692 800,-692 800,-692 794,-692 788,-686 788,-680 788,-680 788,-651 788,-651 788,-645 794,-639 800,-639 800,-639 937,-639 937,-639 943,-639 949,-645 949,-651 949,-651 949,-680 949,-680 949,-686 943,-692 937,-692\"/>\n<text text-anchor=\"middle\" x=\"868.5\" y=\"-676.8\" font-family=\"Helvetica,sans-Serif\" font-size=\"14.00\" fill=\"#000000\">squared_error = 0.002</text>\n<text text-anchor=\"middle\" x=\"868.5\" y=\"-661.8\" font-family=\"Helvetica,sans-Serif\" font-size=\"14.00\" fill=\"#000000\">samples = 429</text>\n<text text-anchor=\"middle\" x=\"868.5\" y=\"-646.8\" font-family=\"Helvetica,sans-Serif\" font-size=\"14.00\" fill=\"#000000\">value = 0.345</text>\n</g>\n<!-- 13&#45;&gt;14 -->\n<g id=\"edge14\" class=\"edge\">\n<title>13&#45;&gt;14</title>\n<path fill=\"none\" stroke=\"#000000\" d=\"M752.1959,-661.3674C760.6733,-661.6686 769.3327,-661.9763 777.9115,-662.2811\"/>\n<polygon fill=\"#000000\" stroke=\"#000000\" points=\"777.8116,-665.7797 787.9296,-662.6371 778.0603,-658.7841 777.8116,-665.7797\"/>\n</g>\n<!-- 15 -->\n<g id=\"node16\" class=\"node\">\n<title>15</title>\n<path fill=\"#f2c19e\" stroke=\"#000000\" d=\"M937,-621C937,-621 800,-621 800,-621 794,-621 788,-615 788,-609 788,-609 788,-580 788,-580 788,-574 794,-568 800,-568 800,-568 937,-568 937,-568 943,-568 949,-574 949,-580 949,-580 949,-609 949,-609 949,-615 943,-621 937,-621\"/>\n<text text-anchor=\"middle\" x=\"868.5\" y=\"-605.8\" font-family=\"Helvetica,sans-Serif\" font-size=\"14.00\" fill=\"#000000\">squared_error = 0.003</text>\n<text text-anchor=\"middle\" x=\"868.5\" y=\"-590.8\" font-family=\"Helvetica,sans-Serif\" font-size=\"14.00\" fill=\"#000000\">samples = 1812</text>\n<text text-anchor=\"middle\" x=\"868.5\" y=\"-575.8\" font-family=\"Helvetica,sans-Serif\" font-size=\"14.00\" fill=\"#000000\">value = 0.408</text>\n</g>\n<!-- 13&#45;&gt;15 -->\n<g id=\"edge15\" class=\"edge\">\n<title>13&#45;&gt;15</title>\n<path fill=\"none\" stroke=\"#000000\" d=\"M752.1959,-632.2841C760.7654,-629.5001 769.521,-626.6556 778.1913,-623.8389\"/>\n<polygon fill=\"#000000\" stroke=\"#000000\" points=\"779.5004,-627.0937 787.9296,-620.6751 777.3375,-620.4362 779.5004,-627.0937\"/>\n</g>\n<!-- 17 -->\n<g id=\"node18\" class=\"node\">\n<title>17</title>\n<path fill=\"#ea9a60\" stroke=\"#000000\" d=\"M543,-451.5C543,-451.5 406,-451.5 406,-451.5 400,-451.5 394,-445.5 394,-439.5 394,-439.5 394,-395.5 394,-395.5 394,-389.5 400,-383.5 406,-383.5 406,-383.5 543,-383.5 543,-383.5 549,-383.5 555,-389.5 555,-395.5 555,-395.5 555,-439.5 555,-439.5 555,-445.5 549,-451.5 543,-451.5\"/>\n<text text-anchor=\"middle\" x=\"474.5\" y=\"-436.3\" font-family=\"Helvetica,sans-Serif\" font-size=\"14.00\" fill=\"#000000\">PAY_3 &lt;= &#45;0.5</text>\n<text text-anchor=\"middle\" x=\"474.5\" y=\"-421.3\" font-family=\"Helvetica,sans-Serif\" font-size=\"14.00\" fill=\"#000000\">squared_error = 0.004</text>\n<text text-anchor=\"middle\" x=\"474.5\" y=\"-406.3\" font-family=\"Helvetica,sans-Serif\" font-size=\"14.00\" fill=\"#000000\">samples = 6966</text>\n<text text-anchor=\"middle\" x=\"474.5\" y=\"-391.3\" font-family=\"Helvetica,sans-Serif\" font-size=\"14.00\" fill=\"#000000\">value = 0.582</text>\n</g>\n<!-- 16&#45;&gt;17 -->\n<g id=\"edge17\" class=\"edge\">\n<title>16&#45;&gt;17</title>\n<path fill=\"none\" stroke=\"#000000\" d=\"M358.1959,-417.5C366.6733,-417.5 375.3327,-417.5 383.9115,-417.5\"/>\n<polygon fill=\"#000000\" stroke=\"#000000\" points=\"383.9297,-421.0001 393.9296,-417.5 383.9296,-414.0001 383.9297,-421.0001\"/>\n</g>\n<!-- 24 -->\n<g id=\"node25\" class=\"node\">\n<title>24</title>\n<path fill=\"#e68641\" stroke=\"#000000\" d=\"M543,-245.5C543,-245.5 406,-245.5 406,-245.5 400,-245.5 394,-239.5 394,-233.5 394,-233.5 394,-189.5 394,-189.5 394,-183.5 400,-177.5 406,-177.5 406,-177.5 543,-177.5 543,-177.5 549,-177.5 555,-183.5 555,-189.5 555,-189.5 555,-233.5 555,-233.5 555,-239.5 549,-245.5 543,-245.5\"/>\n<text text-anchor=\"middle\" x=\"474.5\" y=\"-230.3\" font-family=\"Helvetica,sans-Serif\" font-size=\"14.00\" fill=\"#000000\">PAY_3 &lt;= &#45;0.5</text>\n<text text-anchor=\"middle\" x=\"474.5\" y=\"-215.3\" font-family=\"Helvetica,sans-Serif\" font-size=\"14.00\" fill=\"#000000\">squared_error = 0.004</text>\n<text text-anchor=\"middle\" x=\"474.5\" y=\"-200.3\" font-family=\"Helvetica,sans-Serif\" font-size=\"14.00\" fill=\"#000000\">samples = 18327</text>\n<text text-anchor=\"middle\" x=\"474.5\" y=\"-185.3\" font-family=\"Helvetica,sans-Serif\" font-size=\"14.00\" fill=\"#000000\">value = 0.67</text>\n</g>\n<!-- 16&#45;&gt;24 -->\n<g id=\"edge24\" class=\"edge\">\n<title>16&#45;&gt;24</title>\n<path fill=\"none\" stroke=\"#000000\" d=\"M310.0305,-383.4833C344.2502,-347.7003 398.1292,-291.3598 434.8225,-252.9901\"/>\n<polygon fill=\"#000000\" stroke=\"#000000\" points=\"437.5392,-255.2135 441.9211,-245.5672 432.4801,-250.3754 437.5392,-255.2135\"/>\n</g>\n<!-- 18 -->\n<g id=\"node19\" class=\"node\">\n<title>18</title>\n<path fill=\"#efb286\" stroke=\"#000000\" d=\"M740,-494.5C740,-494.5 603,-494.5 603,-494.5 597,-494.5 591,-488.5 591,-482.5 591,-482.5 591,-438.5 591,-438.5 591,-432.5 597,-426.5 603,-426.5 603,-426.5 740,-426.5 740,-426.5 746,-426.5 752,-432.5 752,-438.5 752,-438.5 752,-482.5 752,-482.5 752,-488.5 746,-494.5 740,-494.5\"/>\n<text text-anchor=\"middle\" x=\"671.5\" y=\"-479.3\" font-family=\"Helvetica,sans-Serif\" font-size=\"14.00\" fill=\"#000000\">PAY_5 &lt;= 0.5</text>\n<text text-anchor=\"middle\" x=\"671.5\" y=\"-464.3\" font-family=\"Helvetica,sans-Serif\" font-size=\"14.00\" fill=\"#000000\">squared_error = 0.003</text>\n<text text-anchor=\"middle\" x=\"671.5\" y=\"-449.3\" font-family=\"Helvetica,sans-Serif\" font-size=\"14.00\" fill=\"#000000\">samples = 595</text>\n<text text-anchor=\"middle\" x=\"671.5\" y=\"-434.3\" font-family=\"Helvetica,sans-Serif\" font-size=\"14.00\" fill=\"#000000\">value = 0.475</text>\n</g>\n<!-- 17&#45;&gt;18 -->\n<g id=\"edge18\" class=\"edge\">\n<title>17&#45;&gt;18</title>\n<path fill=\"none\" stroke=\"#000000\" d=\"M555.1959,-435.1138C563.6733,-436.9642 572.3327,-438.8543 580.9115,-440.7269\"/>\n<polygon fill=\"#000000\" stroke=\"#000000\" points=\"580.4133,-444.2005 590.9296,-442.9136 581.9061,-437.3615 580.4133,-444.2005\"/>\n</g>\n<!-- 21 -->\n<g id=\"node22\" class=\"node\">\n<title>21</title>\n<path fill=\"#ea985c\" stroke=\"#000000\" d=\"M740,-408.5C740,-408.5 603,-408.5 603,-408.5 597,-408.5 591,-402.5 591,-396.5 591,-396.5 591,-352.5 591,-352.5 591,-346.5 597,-340.5 603,-340.5 603,-340.5 740,-340.5 740,-340.5 746,-340.5 752,-346.5 752,-352.5 752,-352.5 752,-396.5 752,-396.5 752,-402.5 746,-408.5 740,-408.5\"/>\n<text text-anchor=\"middle\" x=\"671.5\" y=\"-393.3\" font-family=\"Helvetica,sans-Serif\" font-size=\"14.00\" fill=\"#000000\">PAY_5 &lt;= 0.5</text>\n<text text-anchor=\"middle\" x=\"671.5\" y=\"-378.3\" font-family=\"Helvetica,sans-Serif\" font-size=\"14.00\" fill=\"#000000\">squared_error = 0.003</text>\n<text text-anchor=\"middle\" x=\"671.5\" y=\"-363.3\" font-family=\"Helvetica,sans-Serif\" font-size=\"14.00\" fill=\"#000000\">samples = 6371</text>\n<text text-anchor=\"middle\" x=\"671.5\" y=\"-348.3\" font-family=\"Helvetica,sans-Serif\" font-size=\"14.00\" fill=\"#000000\">value = 0.592</text>\n</g>\n<!-- 17&#45;&gt;21 -->\n<g id=\"edge21\" class=\"edge\">\n<title>17&#45;&gt;21</title>\n<path fill=\"none\" stroke=\"#000000\" d=\"M555.1959,-399.8862C563.6733,-398.0358 572.3327,-396.1457 580.9115,-394.2731\"/>\n<polygon fill=\"#000000\" stroke=\"#000000\" points=\"581.9061,-397.6385 590.9296,-392.0864 580.4133,-390.7995 581.9061,-397.6385\"/>\n</g>\n<!-- 19 -->\n<g id=\"node20\" class=\"node\">\n<title>19</title>\n<path fill=\"#f1bd98\" stroke=\"#000000\" d=\"M937,-550C937,-550 800,-550 800,-550 794,-550 788,-544 788,-538 788,-538 788,-509 788,-509 788,-503 794,-497 800,-497 800,-497 937,-497 937,-497 943,-497 949,-503 949,-509 949,-509 949,-538 949,-538 949,-544 943,-550 937,-550\"/>\n<text text-anchor=\"middle\" x=\"868.5\" y=\"-534.8\" font-family=\"Helvetica,sans-Serif\" font-size=\"14.00\" fill=\"#000000\">squared_error = 0.002</text>\n<text text-anchor=\"middle\" x=\"868.5\" y=\"-519.8\" font-family=\"Helvetica,sans-Serif\" font-size=\"14.00\" fill=\"#000000\">samples = 109</text>\n<text text-anchor=\"middle\" x=\"868.5\" y=\"-504.8\" font-family=\"Helvetica,sans-Serif\" font-size=\"14.00\" fill=\"#000000\">value = 0.425</text>\n</g>\n<!-- 18&#45;&gt;19 -->\n<g id=\"edge19\" class=\"edge\">\n<title>18&#45;&gt;19</title>\n<path fill=\"none\" stroke=\"#000000\" d=\"M752.1959,-486.3063C760.7654,-489.0468 769.521,-491.8468 778.1913,-494.6195\"/>\n<polygon fill=\"#000000\" stroke=\"#000000\" points=\"777.3387,-498.0215 787.9296,-497.7338 779.471,-491.3541 777.3387,-498.0215\"/>\n</g>\n<!-- 20 -->\n<g id=\"node21\" class=\"node\">\n<title>20</title>\n<path fill=\"#efb082\" stroke=\"#000000\" d=\"M937,-479C937,-479 800,-479 800,-479 794,-479 788,-473 788,-467 788,-467 788,-438 788,-438 788,-432 794,-426 800,-426 800,-426 937,-426 937,-426 943,-426 949,-432 949,-438 949,-438 949,-467 949,-467 949,-473 943,-479 937,-479\"/>\n<text text-anchor=\"middle\" x=\"868.5\" y=\"-463.8\" font-family=\"Helvetica,sans-Serif\" font-size=\"14.00\" fill=\"#000000\">squared_error = 0.002</text>\n<text text-anchor=\"middle\" x=\"868.5\" y=\"-448.8\" font-family=\"Helvetica,sans-Serif\" font-size=\"14.00\" fill=\"#000000\">samples = 486</text>\n<text text-anchor=\"middle\" x=\"868.5\" y=\"-433.8\" font-family=\"Helvetica,sans-Serif\" font-size=\"14.00\" fill=\"#000000\">value = 0.486</text>\n</g>\n<!-- 18&#45;&gt;20 -->\n<g id=\"edge20\" class=\"edge\">\n<title>18&#45;&gt;20</title>\n<path fill=\"none\" stroke=\"#000000\" d=\"M752.1959,-457.223C760.6733,-456.8788 769.3327,-456.5271 777.9115,-456.1787\"/>\n<polygon fill=\"#000000\" stroke=\"#000000\" points=\"778.0799,-459.6749 787.9296,-455.7719 777.7958,-452.6806 778.0799,-459.6749\"/>\n</g>\n<!-- 22 -->\n<g id=\"node23\" class=\"node\">\n<title>22</title>\n<path fill=\"#eca26d\" stroke=\"#000000\" d=\"M937,-408C937,-408 800,-408 800,-408 794,-408 788,-402 788,-396 788,-396 788,-367 788,-367 788,-361 794,-355 800,-355 800,-355 937,-355 937,-355 943,-355 949,-361 949,-367 949,-367 949,-396 949,-396 949,-402 943,-408 937,-408\"/>\n<text text-anchor=\"middle\" x=\"868.5\" y=\"-392.8\" font-family=\"Helvetica,sans-Serif\" font-size=\"14.00\" fill=\"#000000\">squared_error = 0.003</text>\n<text text-anchor=\"middle\" x=\"868.5\" y=\"-377.8\" font-family=\"Helvetica,sans-Serif\" font-size=\"14.00\" fill=\"#000000\">samples = 1216</text>\n<text text-anchor=\"middle\" x=\"868.5\" y=\"-362.8\" font-family=\"Helvetica,sans-Serif\" font-size=\"14.00\" fill=\"#000000\">value = 0.546</text>\n</g>\n<!-- 21&#45;&gt;22 -->\n<g id=\"edge22\" class=\"edge\">\n<title>21&#45;&gt;22</title>\n<path fill=\"none\" stroke=\"#000000\" d=\"M752.1959,-377.3674C760.6733,-377.6686 769.3327,-377.9763 777.9115,-378.2811\"/>\n<polygon fill=\"#000000\" stroke=\"#000000\" points=\"777.8116,-381.7797 787.9296,-378.6371 778.0603,-374.7841 777.8116,-381.7797\"/>\n</g>\n<!-- 23 -->\n<g id=\"node24\" class=\"node\">\n<title>23</title>\n<path fill=\"#e99559\" stroke=\"#000000\" d=\"M937,-337C937,-337 800,-337 800,-337 794,-337 788,-331 788,-325 788,-325 788,-296 788,-296 788,-290 794,-284 800,-284 800,-284 937,-284 937,-284 943,-284 949,-290 949,-296 949,-296 949,-325 949,-325 949,-331 943,-337 937,-337\"/>\n<text text-anchor=\"middle\" x=\"868.5\" y=\"-321.8\" font-family=\"Helvetica,sans-Serif\" font-size=\"14.00\" fill=\"#000000\">squared_error = 0.002</text>\n<text text-anchor=\"middle\" x=\"868.5\" y=\"-306.8\" font-family=\"Helvetica,sans-Serif\" font-size=\"14.00\" fill=\"#000000\">samples = 5155</text>\n<text text-anchor=\"middle\" x=\"868.5\" y=\"-291.8\" font-family=\"Helvetica,sans-Serif\" font-size=\"14.00\" fill=\"#000000\">value = 0.603</text>\n</g>\n<!-- 21&#45;&gt;23 -->\n<g id=\"edge23\" class=\"edge\">\n<title>21&#45;&gt;23</title>\n<path fill=\"none\" stroke=\"#000000\" d=\"M752.1959,-348.2841C760.7654,-345.5001 769.521,-342.6556 778.1913,-339.8389\"/>\n<polygon fill=\"#000000\" stroke=\"#000000\" points=\"779.5004,-343.0937 787.9296,-336.6751 777.3375,-336.4362 779.5004,-343.0937\"/>\n</g>\n<!-- 25 -->\n<g id=\"node26\" class=\"node\">\n<title>25</title>\n<path fill=\"#eb9e66\" stroke=\"#000000\" d=\"M740,-245.5C740,-245.5 603,-245.5 603,-245.5 597,-245.5 591,-239.5 591,-233.5 591,-233.5 591,-189.5 591,-189.5 591,-183.5 597,-177.5 603,-177.5 603,-177.5 740,-177.5 740,-177.5 746,-177.5 752,-183.5 752,-189.5 752,-189.5 752,-233.5 752,-233.5 752,-239.5 746,-245.5 740,-245.5\"/>\n<text text-anchor=\"middle\" x=\"671.5\" y=\"-230.3\" font-family=\"Helvetica,sans-Serif\" font-size=\"14.00\" fill=\"#000000\">PAY_6 &lt;= 0.5</text>\n<text text-anchor=\"middle\" x=\"671.5\" y=\"-215.3\" font-family=\"Helvetica,sans-Serif\" font-size=\"14.00\" fill=\"#000000\">squared_error = 0.003</text>\n<text text-anchor=\"middle\" x=\"671.5\" y=\"-200.3\" font-family=\"Helvetica,sans-Serif\" font-size=\"14.00\" fill=\"#000000\">samples = 1586</text>\n<text text-anchor=\"middle\" x=\"671.5\" y=\"-185.3\" font-family=\"Helvetica,sans-Serif\" font-size=\"14.00\" fill=\"#000000\">value = 0.565</text>\n</g>\n<!-- 24&#45;&gt;25 -->\n<g id=\"edge25\" class=\"edge\">\n<title>24&#45;&gt;25</title>\n<path fill=\"none\" stroke=\"#000000\" d=\"M555.1959,-211.5C563.6733,-211.5 572.3327,-211.5 580.9115,-211.5\"/>\n<polygon fill=\"#000000\" stroke=\"#000000\" points=\"580.9297,-215.0001 590.9296,-211.5 580.9296,-208.0001 580.9297,-215.0001\"/>\n</g>\n<!-- 28 -->\n<g id=\"node29\" class=\"node\">\n<title>28</title>\n<path fill=\"#e6843d\" stroke=\"#000000\" d=\"M740,-131.5C740,-131.5 603,-131.5 603,-131.5 597,-131.5 591,-125.5 591,-119.5 591,-119.5 591,-75.5 591,-75.5 591,-69.5 597,-63.5 603,-63.5 603,-63.5 740,-63.5 740,-63.5 746,-63.5 752,-69.5 752,-75.5 752,-75.5 752,-119.5 752,-119.5 752,-125.5 746,-131.5 740,-131.5\"/>\n<text text-anchor=\"middle\" x=\"671.5\" y=\"-116.3\" font-family=\"Helvetica,sans-Serif\" font-size=\"14.00\" fill=\"#000000\">PAY_6 &lt;= 0.5</text>\n<text text-anchor=\"middle\" x=\"671.5\" y=\"-101.3\" font-family=\"Helvetica,sans-Serif\" font-size=\"14.00\" fill=\"#000000\">squared_error = 0.002</text>\n<text text-anchor=\"middle\" x=\"671.5\" y=\"-86.3\" font-family=\"Helvetica,sans-Serif\" font-size=\"14.00\" fill=\"#000000\">samples = 16741</text>\n<text text-anchor=\"middle\" x=\"671.5\" y=\"-71.3\" font-family=\"Helvetica,sans-Serif\" font-size=\"14.00\" fill=\"#000000\">value = 0.68</text>\n</g>\n<!-- 24&#45;&gt;28 -->\n<g id=\"edge28\" class=\"edge\">\n<title>24&#45;&gt;28</title>\n<path fill=\"none\" stroke=\"#000000\" d=\"M533.3397,-177.4507C555.5576,-164.5935 581.0075,-149.8662 603.9606,-136.5837\"/>\n<polygon fill=\"#000000\" stroke=\"#000000\" points=\"605.7211,-139.6088 612.6234,-131.5707 602.215,-133.5501 605.7211,-139.6088\"/>\n</g>\n<!-- 26 -->\n<g id=\"node27\" class=\"node\">\n<title>26</title>\n<path fill=\"#eeae80\" stroke=\"#000000\" d=\"M937,-266C937,-266 800,-266 800,-266 794,-266 788,-260 788,-254 788,-254 788,-225 788,-225 788,-219 794,-213 800,-213 800,-213 937,-213 937,-213 943,-213 949,-219 949,-225 949,-225 949,-254 949,-254 949,-260 943,-266 937,-266\"/>\n<text text-anchor=\"middle\" x=\"868.5\" y=\"-250.8\" font-family=\"Helvetica,sans-Serif\" font-size=\"14.00\" fill=\"#000000\">squared_error = 0.002</text>\n<text text-anchor=\"middle\" x=\"868.5\" y=\"-235.8\" font-family=\"Helvetica,sans-Serif\" font-size=\"14.00\" fill=\"#000000\">samples = 316</text>\n<text text-anchor=\"middle\" x=\"868.5\" y=\"-220.8\" font-family=\"Helvetica,sans-Serif\" font-size=\"14.00\" fill=\"#000000\">value = 0.492</text>\n</g>\n<!-- 25&#45;&gt;26 -->\n<g id=\"edge26\" class=\"edge\">\n<title>25&#45;&gt;26</title>\n<path fill=\"none\" stroke=\"#000000\" d=\"M752.1959,-222.9695C760.6733,-224.1744 769.3327,-225.4052 777.9115,-226.6245\"/>\n<polygon fill=\"#000000\" stroke=\"#000000\" points=\"777.5366,-230.1063 787.9296,-228.0484 778.5217,-223.1759 777.5366,-230.1063\"/>\n</g>\n<!-- 27 -->\n<g id=\"node28\" class=\"node\">\n<title>27</title>\n<path fill=\"#ea9a60\" stroke=\"#000000\" d=\"M937,-195C937,-195 800,-195 800,-195 794,-195 788,-189 788,-183 788,-183 788,-154 788,-154 788,-148 794,-142 800,-142 800,-142 937,-142 937,-142 943,-142 949,-148 949,-154 949,-154 949,-183 949,-183 949,-189 943,-195 937,-195\"/>\n<text text-anchor=\"middle\" x=\"868.5\" y=\"-179.8\" font-family=\"Helvetica,sans-Serif\" font-size=\"14.00\" fill=\"#000000\">squared_error = 0.002</text>\n<text text-anchor=\"middle\" x=\"868.5\" y=\"-164.8\" font-family=\"Helvetica,sans-Serif\" font-size=\"14.00\" fill=\"#000000\">samples = 1270</text>\n<text text-anchor=\"middle\" x=\"868.5\" y=\"-149.8\" font-family=\"Helvetica,sans-Serif\" font-size=\"14.00\" fill=\"#000000\">value = 0.583</text>\n</g>\n<!-- 25&#45;&gt;27 -->\n<g id=\"edge27\" class=\"edge\">\n<title>25&#45;&gt;27</title>\n<path fill=\"none\" stroke=\"#000000\" d=\"M752.1959,-193.8862C760.6733,-192.0358 769.3327,-190.1457 777.9115,-188.2731\"/>\n<polygon fill=\"#000000\" stroke=\"#000000\" points=\"778.9061,-191.6385 787.9296,-186.0864 777.4133,-184.7995 778.9061,-191.6385\"/>\n</g>\n<!-- 29 -->\n<g id=\"node30\" class=\"node\">\n<title>29</title>\n<path fill=\"#e89152\" stroke=\"#000000\" d=\"M937,-124C937,-124 800,-124 800,-124 794,-124 788,-118 788,-112 788,-112 788,-83 788,-83 788,-77 794,-71 800,-71 800,-71 937,-71 937,-71 943,-71 949,-77 949,-83 949,-83 949,-112 949,-112 949,-118 943,-124 937,-124\"/>\n<text text-anchor=\"middle\" x=\"868.5\" y=\"-108.8\" font-family=\"Helvetica,sans-Serif\" font-size=\"14.00\" fill=\"#000000\">squared_error = 0.002</text>\n<text text-anchor=\"middle\" x=\"868.5\" y=\"-93.8\" font-family=\"Helvetica,sans-Serif\" font-size=\"14.00\" fill=\"#000000\">samples = 3038</text>\n<text text-anchor=\"middle\" x=\"868.5\" y=\"-78.8\" font-family=\"Helvetica,sans-Serif\" font-size=\"14.00\" fill=\"#000000\">value = 0.623</text>\n</g>\n<!-- 28&#45;&gt;29 -->\n<g id=\"edge29\" class=\"edge\">\n<title>28&#45;&gt;29</title>\n<path fill=\"none\" stroke=\"#000000\" d=\"M752.1959,-97.5C760.6733,-97.5 769.3327,-97.5 777.9115,-97.5\"/>\n<polygon fill=\"#000000\" stroke=\"#000000\" points=\"777.9297,-101.0001 787.9296,-97.5 777.9296,-94.0001 777.9297,-101.0001\"/>\n</g>\n<!-- 30 -->\n<g id=\"node31\" class=\"node\">\n<title>30</title>\n<path fill=\"#e58139\" stroke=\"#000000\" d=\"M937,-53C937,-53 800,-53 800,-53 794,-53 788,-47 788,-41 788,-41 788,-12 788,-12 788,-6 794,0 800,0 800,0 937,0 937,0 943,0 949,-6 949,-12 949,-12 949,-41 949,-41 949,-47 943,-53 937,-53\"/>\n<text text-anchor=\"middle\" x=\"868.5\" y=\"-37.8\" font-family=\"Helvetica,sans-Serif\" font-size=\"14.00\" fill=\"#000000\">squared_error = 0.002</text>\n<text text-anchor=\"middle\" x=\"868.5\" y=\"-22.8\" font-family=\"Helvetica,sans-Serif\" font-size=\"14.00\" fill=\"#000000\">samples = 13703</text>\n<text text-anchor=\"middle\" x=\"868.5\" y=\"-7.8\" font-family=\"Helvetica,sans-Serif\" font-size=\"14.00\" fill=\"#000000\">value = 0.693</text>\n</g>\n<!-- 28&#45;&gt;30 -->\n<g id=\"edge30\" class=\"edge\">\n<title>28&#45;&gt;30</title>\n<path fill=\"none\" stroke=\"#000000\" d=\"M752.1959,-68.4167C763.1263,-64.4773 774.3594,-60.4288 785.3322,-56.4742\"/>\n<polygon fill=\"#000000\" stroke=\"#000000\" points=\"786.6729,-59.7114 794.8939,-53.0281 784.2995,-53.1261 786.6729,-59.7114\"/>\n</g>\n</g>\n</svg>\n"
          },
          "metadata": {},
          "execution_count": 54
        }
      ],
      "source": [
        "import graphviz\n",
        "\n",
        "dot_data = tree.export_graphviz(extracted_model_dt, \n",
        "                                max_depth=5,\n",
        "                                rounded=True,\n",
        "                                out_file=None, \n",
        "                                feature_names=features,  \n",
        "                                filled=True,\n",
        "                                rotate=True)\n",
        "\n",
        "graph = graphviz.Source(dot_data, format=\"svg\") \n",
        "graph"
      ]
    },
    {
      "cell_type": "code",
      "execution_count": 55,
      "id": "979b211e-7f9b-46f5-a56b-6736d2007585",
      "metadata": {
        "colab": {
          "base_uri": "https://localhost:8080/"
        },
        "id": "979b211e-7f9b-46f5-a56b-6736d2007585",
        "outputId": "8476fc60-c88f-4117-a8ed-24a5d5ab6325"
      },
      "outputs": [
        {
          "output_type": "stream",
          "name": "stdout",
          "text": [
            "Done. Final number of trees: 20\n"
          ]
        }
      ],
      "source": [
        "drand_train = xgb.DMatrix(random_train[features], \n",
        "                          label=model_endpoint(random_train[features]))\n",
        "\n",
        "drand_valid = xgb.DMatrix(random_valid[features], \n",
        "                          label=model_endpoint(random_valid[features]))\n",
        "\n",
        "drand_test = xgb.DMatrix(random_test[features], \n",
        "                          label=model_endpoint(random_test[features]))\n",
        "\n",
        "base_score = model_endpoint(random_train[features]).mean()\n",
        "\n",
        "params = {\n",
        "    'objective': 'reg:squarederror',\n",
        "    'eval_metric': 'rmse',\n",
        "    'eta': 0.1,\n",
        "    'reg_lambda': 0.25,\n",
        "    'max_depth': 3,\n",
        "    'subsample': 0.8,\n",
        "    'colsample_bytree': 0.8,\n",
        "    'base_score': base_score,\n",
        "    'seed': SEED\n",
        "}\n",
        "\n",
        "# Train using early stopping on the validation dataset.\n",
        "watchlist = [(drand_train, 'train'), (drand_valid, 'eval')]\n",
        "\n",
        "extracted_model_xgb = xgb.train(params,         \n",
        "                                drand_train,                   \n",
        "                                num_boost_round=20,                     \n",
        "                                evals=watchlist,\n",
        "                                early_stopping_rounds=5,\n",
        "                                verbose_eval=False)\n",
        "print(f\"Done. Final number of trees: {extracted_model_xgb.best_ntree_limit}\")"
      ]
    },
    {
      "cell_type": "code",
      "execution_count": 56,
      "id": "6c4fccd0-4b04-44eb-9fc9-f7fab873f80f",
      "metadata": {
        "colab": {
          "base_uri": "https://localhost:8080/"
        },
        "id": "6c4fccd0-4b04-44eb-9fc9-f7fab873f80f",
        "outputId": "8777270b-bd8e-4be3-ec4f-91ab87ae4ec8"
      },
      "outputs": [
        {
          "output_type": "stream",
          "name": "stdout",
          "text": [
            "R2 on training data (simulated): 0.908\n",
            "R2 on test data (simulated): 0.907\n",
            "R2 on real data: 0.77\n",
            "real/test: 0.8481582555995182\n"
          ]
        }
      ],
      "source": [
        "dtest = xgb.DMatrix(test[features], \n",
        "                    label=test[target])\n",
        "\n",
        "r2_train = r2_score(y_true=model_endpoint(random_train[features]), \n",
        "                     y_pred=extracted_model_xgb.predict(drand_train))\n",
        "r2_test = r2_score(y_true=model_endpoint(random_test[features]), \n",
        "                     y_pred=extracted_model_xgb.predict(drand_test))\n",
        "r2_holdout = r2_score(y_true=model_endpoint(test[features]), \n",
        "                     y_pred=extracted_model_xgb.predict(dtest))\n",
        "\n",
        "print(f'R2 on training data (simulated): {np.round(r2_train, 3)}')\n",
        "print(f'R2 on test data (simulated): {np.round(r2_test, 3)}')\n",
        "print(f'R2 on real data: {np.round(r2_holdout, 3)}')\n",
        "\n",
        "print(f'real/test: {r2_holdout/r2_test}')"
      ]
    },
    {
      "cell_type": "code",
      "execution_count": 57,
      "id": "77e0a295-57f3-4402-8a06-775f71b0ccad",
      "metadata": {
        "colab": {
          "base_uri": "https://localhost:8080/"
        },
        "id": "77e0a295-57f3-4402-8a06-775f71b0ccad",
        "outputId": "65ddb71c-34ea-4be8-921c-5feb7fbbd994"
      },
      "outputs": [
        {
          "output_type": "stream",
          "name": "stdout",
          "text": [
            "MAE on test data (simulated): 0.04714\n",
            "MAE on real data: 0.07868\n",
            "test/real: 0.5991132343127024\n"
          ]
        }
      ],
      "source": [
        "mae_test = mean_absolute_error(y_true=model_endpoint(random_test[features]), \n",
        "                              y_pred=extracted_model_xgb.predict(drand_test))\n",
        "\n",
        "mae_holdout = mean_absolute_error(y_true=model_endpoint(test[features]), \n",
        "                                 y_pred=extracted_model_xgb.predict(dtest))\n",
        "\n",
        "print(f'MAE on test data (simulated): {np.round(mae_test, 5)}')\n",
        "print(f'MAE on real data: {np.round(mae_holdout, 5)}')\n",
        "\n",
        "print(f'test/real: {mae_test/mae_holdout}')"
      ]
    },
    {
      "cell_type": "code",
      "execution_count": 60,
      "id": "e6345e1d-48c7-4640-87fe-9aead9e60fd8",
      "metadata": {
        "colab": {
          "base_uri": "https://localhost:8080/",
          "height": 370
        },
        "id": "e6345e1d-48c7-4640-87fe-9aead9e60fd8",
        "outputId": "c4f57f87-3a5f-4c8a-c4e9-0643c3cb552e"
      },
      "outputs": [
        {
          "output_type": "display_data",
          "data": {
            "text/plain": [
              "<Figure size 1080x360 with 3 Axes>"
            ],
            "image/png": "[encoded data removed]"
          },
          "metadata": {
            "needs_background": "light"
          }
        }
      ],
      "source": [
        "fig, axs = plt.subplots(1, 3, figsize=(15, 5))\n",
        "\n",
        "axs[0].scatter(model_endpoint(random_train[features]), extracted_model_xgb.predict(drand_train))\n",
        "axs[0].set_title(\"Training Scores (Simulated)\")\n",
        "axs[0].set_ylabel('Extracted Score')\n",
        "axs[0].set_xlabel('True Score')\n",
        "axs[0].set_ylim([0, 1])\n",
        "\n",
        "axs[1].scatter(model_endpoint(random_test[features]), extracted_model_xgb.predict(drand_test))\n",
        "axs[1].set_title(\"Validation Scores(Simulated)\")\n",
        "axs[1].set_xlabel('True Score')\n",
        "axs[1].set_ylim([0, 1])\n",
        "\n",
        "\n",
        "axs[2].scatter(model_endpoint(test[features]), extracted_model_xgb.predict(dtest))\n",
        "axs[2].set_title(\"Holdout Scores (Real)\")\n",
        "axs[2].set_xlabel('True Score')\n",
        "axs[2].set_ylim([0, 1])\n",
        "\n",
        "_ = fig.suptitle(\"XGBoost Surrogate\")\n",
        "fig.savefig('Data/Figures/constrained_XGB_extraction.png')"
      ]
    },
    {
      "cell_type": "code",
      "execution_count": 61,
      "id": "3a236970-4ad5-4fd9-954c-aa7d4fd466a7",
      "metadata": {
        "colab": {
          "base_uri": "https://localhost:8080/",
          "height": 230
        },
        "id": "3a236970-4ad5-4fd9-954c-aa7d4fd466a7",
        "outputId": "b986e2ed-f9c6-44c3-d6ee-a072f51ac36c"
      },
      "outputs": [
        {
          "output_type": "execute_result",
          "data": {
            "text/plain": [
              "<matplotlib.axes._subplots.AxesSubplot at 0x7fb24e32aaf0>"
            ]
          },
          "metadata": {},
          "execution_count": 61
        },
        {
          "output_type": "display_data",
          "data": {
            "text/plain": [
              "<Figure size 2160x2160 with 1 Axes>"
            ],
            "image/png": "[encoded data removed]"
          },
          "metadata": {
            "needs_background": "light"
          }
        }
      ],
      "source": [
        "# Plot the first tree\n",
        "fig, ax = plt.subplots(figsize=(30,30))\n",
        "xgb.plot_tree(extracted_model_xgb, num_trees=0, ax=ax)"
      ]
    },
    {
      "cell_type": "code",
      "execution_count": 62,
      "id": "a13730fb-f5c7-4e3c-a6f9-1934a91be4ba",
      "metadata": {
        "colab": {
          "base_uri": "https://localhost:8080/"
        },
        "id": "a13730fb-f5c7-4e3c-a6f9-1934a91be4ba",
        "outputId": "4c731ee0-1a9b-4b91-aa84-5ca2da1029fb"
      },
      "outputs": [
        {
          "output_type": "stream",
          "name": "stderr",
          "text": [
            "<ipython-input-62-dcf57dd81c12>:4: DataConversionWarning: A column-vector y was passed when a 1d array was expected. Please change the shape of y to (n_samples,), for example using ravel().\n",
            "  extracted_model_rf = RandomForestRegressor(**rf_surrogate_model_params).fit(random_train[features],\n"
          ]
        }
      ],
      "source": [
        "\n",
        "rf_surrogate_model_params = {'n_estimators': 10,\n",
        "                             'max_depth': 5,\n",
        "                             'random_state': SEED}\n",
        "extracted_model_rf = RandomForestRegressor(**rf_surrogate_model_params).fit(random_train[features], \n",
        "                                                                      model_endpoint(random_train[features]))"
      ]
    },
    {
      "cell_type": "code",
      "execution_count": 63,
      "id": "cee4f40a-126e-4e28-bd9a-e99e291d34a2",
      "metadata": {
        "colab": {
          "base_uri": "https://localhost:8080/"
        },
        "id": "cee4f40a-126e-4e28-bd9a-e99e291d34a2",
        "outputId": "b1cd2f3e-4c8f-4550-dde5-94e50dd81e18"
      },
      "outputs": [
        {
          "output_type": "stream",
          "name": "stdout",
          "text": [
            "R2 on training data (simulated): 0.961\n",
            "R2 on test data (simulated): 0.959\n",
            "R2 on real data: 0.903\n",
            "real/test: 0.9417007542624453 \n",
            "\n",
            "MAE on test data (simulated): 0.0287\n",
            "MAE on real data: 0.04418\n",
            "test/real: 0.6496495766154428\n"
          ]
        }
      ],
      "source": [
        "r2_train = r2_score(y_true=model_endpoint(random_train[features]), \n",
        "                     y_pred=extracted_model_rf.predict(random_train[features]))\n",
        "r2_test = r2_score(y_true=model_endpoint(random_test[features]), \n",
        "                     y_pred=extracted_model_rf.predict(random_test[features]))\n",
        "r2_holdout = r2_score(y_true=model_endpoint(test[features]), \n",
        "                     y_pred=extracted_model_rf.predict(test[features]))\n",
        "\n",
        "print(f'R2 on training data (simulated): {np.round(r2_train, 3)}')\n",
        "print(f'R2 on test data (simulated): {np.round(r2_test, 3)}')\n",
        "print(f'R2 on real data: {np.round(r2_holdout, 3)}')\n",
        "\n",
        "print(f'real/test: {r2_holdout/r2_test} \\n')\n",
        "\n",
        "\n",
        "mae_test = mean_absolute_error(y_true=model_endpoint(random_test[features]), \n",
        "                              y_pred=extracted_model_rf.predict(random_test[features]))\n",
        "\n",
        "mae_holdout = mean_absolute_error(y_true=model_endpoint(test[features]), \n",
        "                                 y_pred=extracted_model_rf.predict(test[features]))\n",
        "\n",
        "print(f'MAE on test data (simulated): {np.round(mae_test, 5)}')\n",
        "print(f'MAE on real data: {np.round(mae_holdout, 5)}')\n",
        "\n",
        "print(f'test/real: {mae_test/mae_holdout}')"
      ]
    },
    {
      "cell_type": "code",
      "execution_count": 65,
      "id": "9f81c15e-aa6b-4ae6-92f4-65ee5bdcc098",
      "metadata": {
        "colab": {
          "base_uri": "https://localhost:8080/",
          "height": 370
        },
        "id": "9f81c15e-aa6b-4ae6-92f4-65ee5bdcc098",
        "outputId": "41c6dd69-2f57-47a0-8758-df696a91d091"
      },
      "outputs": [
        {
          "output_type": "display_data",
          "data": {
            "text/plain": [
              "<Figure size 1080x360 with 3 Axes>"
            ],
            "image/png": "[encoded data removed]"
          },
          "metadata": {
            "needs_background": "light"
          }
        }
      ],
      "source": [
        "fig, axs = plt.subplots(1, 3, figsize=(15, 5))\n",
        "\n",
        "axs[0].scatter(model_endpoint(random_train[features]), extracted_model_rf.predict(random_train[features]))\n",
        "axs[0].set_title(\"Training Scores (Simulated)\")\n",
        "axs[0].set_ylabel('Extracted Score')\n",
        "axs[0].set_xlabel('True Score')\n",
        "axs[0].set_ylim([0, 1])\n",
        "\n",
        "\n",
        "axs[1].scatter(model_endpoint(random_test[features]), extracted_model_rf.predict(random_test[features]))\n",
        "axs[1].set_title(\"Validation Scores(Simulated)\")\n",
        "axs[1].set_xlabel('True Score')\n",
        "axs[1].set_ylim([0, 1])\n",
        "\n",
        "\n",
        "axs[2].scatter(model_endpoint(test[features]), extracted_model_rf.predict(test[features]))\n",
        "axs[2].set_title(\"Holdout Scores (Real)\")\n",
        "axs[2].set_xlabel('True Score')\n",
        "axs[2].set_ylim([0, 1])\n",
        "\n",
        "_ = fig.suptitle(\"Random Forest Surrogate\")\n",
        "fig.savefig('Data/Figures/constrained_RF_extraction.png')"
      ]
    },
    {
      "cell_type": "code",
      "execution_count": 66,
      "id": "a75c6652-7c10-404c-84a7-cd858f99582b",
      "metadata": {
        "colab": {
          "base_uri": "https://localhost:8080/"
        },
        "id": "a75c6652-7c10-404c-84a7-cd858f99582b",
        "outputId": "eb97591f-de97-470c-8dc0-ac0c163cd40f"
      },
      "outputs": [
        {
          "output_type": "execute_result",
          "data": {
            "text/plain": [
              "LIMIT_BAL     5.254639e+05\n",
              "PAY_0        -1.000000e+00\n",
              "PAY_2         3.000000e+00\n",
              "PAY_3         4.000000e+00\n",
              "PAY_4         5.000000e+00\n",
              "PAY_5         8.000000e+00\n",
              "PAY_6         0.000000e+00\n",
              "BILL_AMT1     4.140504e+05\n",
              "BILL_AMT2     7.472992e+05\n",
              "BILL_AMT3     3.186408e+05\n",
              "BILL_AMT4     4.407328e+05\n",
              "BILL_AMT5     1.240457e+06\n",
              "BILL_AMT6     7.708404e+05\n",
              "PAY_AMT1      9.107068e+04\n",
              "PAY_AMT2      9.529484e+03\n",
              "PAY_AMT3      1.223909e+05\n",
              "PAY_AMT4      6.300606e+05\n",
              "PAY_AMT5      2.643749e+05\n",
              "PAY_AMT6      4.976049e+05\n",
              "prediction    2.939615e-01\n",
              "Name: 12, dtype: float64"
            ]
          },
          "metadata": {},
          "execution_count": 66
        }
      ],
      "source": [
        "# Let's target the leaf in our DT surrogate that follows a favorable decision path\n",
        "\n",
        "random_frame['prediction'] = model_endpoint(random_frame[features])\n",
        "\n",
        "# Pick an observation that receieved a high score\n",
        "random_obs = random_frame.loc[(random_frame['prediction'] < 0.3) & (random_frame['prediction'] > 0.2)].iloc[0]\n",
        "random_obs"
      ]
    },
    {
      "cell_type": "code",
      "execution_count": 67,
      "id": "ce18ea6a-aafc-4951-9e49-a5bcfa0896d5",
      "metadata": {
        "colab": {
          "base_uri": "https://localhost:8080/"
        },
        "id": "ce18ea6a-aafc-4951-9e49-a5bcfa0896d5",
        "outputId": "100fbf5d-29dc-4b1b-8991-d9ab3f22a265"
      },
      "outputs": [
        {
          "output_type": "stream",
          "name": "stdout",
          "text": [
            "Old prediction: 0.294\n",
            "Example 1 prediction: 0.210\n",
            "Example 2 prediction: 0.161\n",
            "Example 3 prediction: 0.161\n"
          ]
        }
      ],
      "source": [
        "adversarial_1 = random_obs.copy()\n",
        "adversarial_1['PAY_2'] = 0\n",
        "\n",
        "adversarial_2 = adversarial_1.copy()\n",
        "adversarial_2['PAY_3'] = 0\n",
        "\n",
        "adversarial_3 = adversarial_2.copy()\n",
        "adversarial_3['PAY_0'] = 0.0\n",
        "\n",
        "adversaries = pd.DataFrame({'original': random_obs, \n",
        "                            'example_1': adversarial_1,\n",
        "                            'example_2': adversarial_2,\n",
        "                            'example_3': adversarial_3}).transpose()\n",
        "\n",
        "adversarial_example_predictions = model_endpoint(adversaries[features])\n",
        "\n",
        "print(f\"Old prediction: {adversarial_example_predictions[0][0]:.3f}\")\n",
        "print(f\"Example 1 prediction: {adversarial_example_predictions[1][0]:.3f}\")\n",
        "print(f\"Example 2 prediction: {adversarial_example_predictions[2][0]:.3f}\")\n",
        "print(f\"Example 3 prediction: {adversarial_example_predictions[3][0]:.3f}\")"
      ]
    },
    {
      "cell_type": "code",
      "execution_count": 68,
      "id": "c88c94ce-cff3-4301-bfa6-8fa5dc700324",
      "metadata": {
        "colab": {
          "base_uri": "https://localhost:8080/"
        },
        "id": "c88c94ce-cff3-4301-bfa6-8fa5dc700324",
        "outputId": "1308cb92-1537-4647-f597-537c8f423d78"
      },
      "outputs": [
        {
          "output_type": "stream",
          "name": "stdout",
          "text": [
            "Original score percentile: 79.9%\n",
            "New score percentile: 52.8%\n"
          ]
        }
      ],
      "source": [
        "original_quantile = len(train.loc[model_endpoint(train[features]) < adversarial_example_predictions[0]]) / len(train)\n",
        "new_quantile = len(train.loc[model_endpoint(train[features]) < adversarial_example_predictions[3]]) / len(train)\n",
        "\n",
        "print(f\"Original score percentile: {100*original_quantile:.1f}%\")\n",
        "print(f\"New score percentile: {100*new_quantile:.1f}%\")"
      ]
    },
    {
      "cell_type": "code",
      "execution_count": 69,
      "id": "fb90ebe5-ffe7-43ab-9545-c7d2a8f2572e",
      "metadata": {
        "id": "fb90ebe5-ffe7-43ab-9545-c7d2a8f2572e"
      },
      "outputs": [],
      "source": [
        "# Let's target the leaf in our DT surrogate that follows a favorable decision path\n",
        "\n",
        "random_frame['prediction'] = model_endpoint(random_frame[features])\n",
        "\n",
        "# Pick an observation that receieved a high score\n",
        "random_obs = random_frame.loc[(random_frame['prediction'] < 0.6) & (random_frame['prediction'] > 0.5)].iloc[0]"
      ]
    },
    {
      "cell_type": "code",
      "execution_count": 70,
      "id": "c8477c7f-d7b1-44e6-b19a-05761efda3ae",
      "metadata": {
        "colab": {
          "base_uri": "https://localhost:8080/"
        },
        "id": "c8477c7f-d7b1-44e6-b19a-05761efda3ae",
        "outputId": "87de94cb-7b2a-4af4-e289-7fb994f1f2ca"
      },
      "outputs": [
        {
          "output_type": "stream",
          "name": "stdout",
          "text": [
            "Old prediction: 0.528\n",
            "Example 1 prediction: 0.452\n",
            "Example 2 prediction: 0.316\n",
            "Example 3 prediction: 0.242\n"
          ]
        }
      ],
      "source": [
        "adversarial_1 = random_obs.copy()\n",
        "adversarial_1['PAY_0'] = -1\n",
        "\n",
        "adversarial_2 = adversarial_1.copy()\n",
        "adversarial_2['PAY_2'] = 0\n",
        "\n",
        "adversarial_3 = adversarial_2.copy()\n",
        "adversarial_3['PAY_3'] = 0\n",
        "\n",
        "adversaries = pd.DataFrame({'original': random_obs, \n",
        "                            'example_1': adversarial_1,\n",
        "                            'example_2': adversarial_2,\n",
        "                            'example_3': adversarial_3}).transpose()\n",
        "\n",
        "adversarial_example_predictions = model_endpoint(adversaries[features])\n",
        "\n",
        "print(f\"Old prediction: {adversarial_example_predictions[0][0]:.3f}\")\n",
        "print(f\"Example 1 prediction: {adversarial_example_predictions[1][0]:.3f}\")\n",
        "print(f\"Example 2 prediction: {adversarial_example_predictions[2][0]:.3f}\")\n",
        "print(f\"Example 3 prediction: {adversarial_example_predictions[3][0]:.3f}\")"
      ]
    },
    {
      "cell_type": "code",
      "execution_count": 71,
      "id": "2e54f482-62c0-42b3-b8ce-98086f44ff34",
      "metadata": {
        "colab": {
          "base_uri": "https://localhost:8080/"
        },
        "id": "2e54f482-62c0-42b3-b8ce-98086f44ff34",
        "outputId": "4bb65e66-6847-4492-c5dd-73c7300374cc"
      },
      "outputs": [
        {
          "output_type": "stream",
          "name": "stdout",
          "text": [
            "Original score percentile: 89.2%\n",
            "New score percentile: 75.8%\n"
          ]
        }
      ],
      "source": [
        "original_quantile = len(train.loc[model_endpoint(train[features]) < adversarial_example_predictions[0]]) / len(train)\n",
        "new_quantile = len(train.loc[model_endpoint(train[features]) < adversarial_example_predictions[3]]) / len(train)\n",
        "\n",
        "print(f\"Original score percentile: {100*original_quantile:.1f}%\")\n",
        "print(f\"New score percentile: {100*new_quantile:.1f}%\")"
      ]
    },
    {
      "cell_type": "code",
      "execution_count": 72,
      "id": "d0f4d27a-7128-4fd7-b118-8523ee0204a2",
      "metadata": {
        "id": "d0f4d27a-7128-4fd7-b118-8523ee0204a2"
      },
      "outputs": [],
      "source": [
        "\"\"\"\n",
        "Perform a membership inference attack.\n",
        "\"\"\"\n",
        "\n",
        "attack_negative = make_random_frame(schema_dict, 10000).append(random_valid).append(random_test)\n",
        "attack_positive = random_train.copy()\n",
        "attack_negative['in_train'] = 0\n",
        "attack_positive['in_train'] = 1\n",
        "\n",
        "attack_data = attack_positive.append(attack_negative).sample(frac=1).reset_index(drop=True)"
      ]
    },
    {
      "cell_type": "code",
      "execution_count": 73,
      "id": "358a828a-770f-442c-a13a-0d2ba85eef1e",
      "metadata": {
        "colab": {
          "base_uri": "https://localhost:8080/",
          "height": 456
        },
        "id": "358a828a-770f-442c-a13a-0d2ba85eef1e",
        "outputId": "7787e16b-7fa8-4a6f-c546-e6e32b556568"
      },
      "outputs": [
        {
          "output_type": "execute_result",
          "data": {
            "text/plain": [
              "      LIMIT_BAL  PAY_0  PAY_2  PAY_3  PAY_4  PAY_5  PAY_6     BILL_AMT1  \\\n",
              "0  3.532671e+05      3      6      3      9      0      7  4.249143e+05   \n",
              "1  3.499011e+05      5      9     -1      5      1      6  4.861733e+05   \n",
              "2  2.510857e+06      4      8      7      3      1     -1  1.761015e+06   \n",
              "3  5.108782e+04      2      8      9      1      8      8  2.919804e+06   \n",
              "4  1.883075e+05      0      4      3      5      7      8  3.284158e+05   \n",
              "5  1.582516e+05      2      7      7     -1      1      9  1.446374e+06   \n",
              "6  1.666749e+05      6      6      2      4      6     -1  2.434958e+05   \n",
              "7  2.034970e+05      6      6      9      3      2      7  1.012826e+06   \n",
              "8  1.193527e+06      1      8      5      8      9      6  1.301173e+06   \n",
              "9  2.744731e+06      2      1      8      7      8      4  4.700999e+05   \n",
              "\n",
              "      BILL_AMT2     BILL_AMT3  ...     BILL_AMT5     BILL_AMT6      PAY_AMT1  \\\n",
              "0  6.427655e+04  1.427683e+05  ...  3.658471e+06  4.828197e+05  1.983541e+05   \n",
              "1  1.223341e+05  2.814394e+05  ...  7.448494e+05  3.675559e+05  1.523356e+04   \n",
              "2  4.477663e+05  1.741556e+05  ...  1.831996e+06  1.500997e+06  1.308210e+05   \n",
              "3  1.159670e+05  3.084323e+05  ...  3.502891e+05  4.302844e+05  1.551763e+05   \n",
              "4  2.480358e+05  1.903364e+05  ...  1.260028e+06  5.174183e+05  7.112088e+05   \n",
              "5  1.304415e+05  8.613840e+04  ...  9.158656e+05  3.998826e+05  7.705667e+04   \n",
              "6  4.123463e+05  3.193616e+05  ...  9.242161e+05  7.249556e+05  1.034411e+06   \n",
              "7  1.101667e+06  4.697881e+05  ...  1.157165e+05  5.773211e+05  3.285587e+05   \n",
              "8  7.893954e+05  4.239026e+06  ...  1.349520e+06  7.207526e+05  9.785152e+04   \n",
              "9  8.663200e+05  1.081203e+06  ...  5.479399e+04  7.515999e+05  1.547550e+05   \n",
              "\n",
              "       PAY_AMT2       PAY_AMT3       PAY_AMT4       PAY_AMT5       PAY_AMT6  \\\n",
              "0  7.075546e+05  282101.624594  237985.458388  164357.538228  606510.760601   \n",
              "1  1.000044e+05  721726.742190  595030.683807   65715.650271   82806.726411   \n",
              "2  1.339618e+05  142474.230881  567713.496342   98717.149281  578674.665667   \n",
              "3  1.303735e+06  321835.299522   67884.969529   44047.312996   89473.132158   \n",
              "4  3.031434e+05   35110.385488  243725.233566   92395.790721   31210.485043   \n",
              "5  6.081977e+05   46632.269197  392629.862319  274606.226499   45192.864493   \n",
              "6  1.271945e+05  174693.939707  139874.216723   67583.656063   26813.851045   \n",
              "7  2.127042e+04  896912.148389  588521.533930  268749.781236   67686.769830   \n",
              "8  4.862949e+04  614612.651630  213264.556486  359972.299057   95426.832921   \n",
              "9  7.132272e+05  406604.105405  232644.673548  122115.981584  695522.903232   \n",
              "\n",
              "   in_train  prediction  \n",
              "0         0    0.618966  \n",
              "1         1    0.587356  \n",
              "2         0    0.615782  \n",
              "3         0    0.654467  \n",
              "4         0    0.359234  \n",
              "5         1    0.654467  \n",
              "6         0    0.605820  \n",
              "7         0    0.641691  \n",
              "8         0    0.444273  \n",
              "9         0    0.573870  \n",
              "\n",
              "[10 rows x 21 columns]"
            ],
            "text/html": [
              "\n",
              "  <div id=\"df-c94b358d-22e2-4a87-aad7-c4dd6a97d7cf\">\n",
              "    <div class=\"colab-df-container\">\n",
              "      <div>\n",
              "<style scoped>\n",
              "    .dataframe tbody tr th:only-of-type {\n",
              "        vertical-align: middle;\n",
              "    }\n",
              "\n",
              "    .dataframe tbody tr th {\n",
              "        vertical-align: top;\n",
              "    }\n",
              "\n",
              "    .dataframe thead th {\n",
              "        text-align: right;\n",
              "    }\n",
              "</style>\n",
              "<table border=\"1\" class=\"dataframe\">\n",
              "  <thead>\n",
              "    <tr style=\"text-align: right;\">\n",
              "      <th></th>\n",
              "      <th>LIMIT_BAL</th>\n",
              "      <th>PAY_0</th>\n",
              "      <th>PAY_2</th>\n",
              "      <th>PAY_3</th>\n",
              "      <th>PAY_4</th>\n",
              "      <th>PAY_5</th>\n",
              "      <th>PAY_6</th>\n",
              "      <th>BILL_AMT1</th>\n",
              "      <th>BILL_AMT2</th>\n",
              "      <th>BILL_AMT3</th>\n",
              "      <th>...</th>\n",
              "      <th>BILL_AMT5</th>\n",
              "      <th>BILL_AMT6</th>\n",
              "      <th>PAY_AMT1</th>\n",
              "      <th>PAY_AMT2</th>\n",
              "      <th>PAY_AMT3</th>\n",
              "      <th>PAY_AMT4</th>\n",
              "      <th>PAY_AMT5</th>\n",
              "      <th>PAY_AMT6</th>\n",
              "      <th>in_train</th>\n",
              "      <th>prediction</th>\n",
              "    </tr>\n",
              "  </thead>\n",
              "  <tbody>\n",
              "    <tr>\n",
              "      <th>0</th>\n",
              "      <td>3.532671e+05</td>\n",
              "      <td>3</td>\n",
              "      <td>6</td>\n",
              "      <td>3</td>\n",
              "      <td>9</td>\n",
              "      <td>0</td>\n",
              "      <td>7</td>\n",
              "      <td>4.249143e+05</td>\n",
              "      <td>6.427655e+04</td>\n",
              "      <td>1.427683e+05</td>\n",
              "      <td>...</td>\n",
              "      <td>3.658471e+06</td>\n",
              "      <td>4.828197e+05</td>\n",
              "      <td>1.983541e+05</td>\n",
              "      <td>7.075546e+05</td>\n",
              "      <td>282101.624594</td>\n",
              "      <td>237985.458388</td>\n",
              "      <td>164357.538228</td>\n",
              "      <td>606510.760601</td>\n",
              "      <td>0</td>\n",
              "      <td>0.618966</td>\n",
              "    </tr>\n",
              "    <tr>\n",
              "      <th>1</th>\n",
              "      <td>3.499011e+05</td>\n",
              "      <td>5</td>\n",
              "      <td>9</td>\n",
              "      <td>-1</td>\n",
              "      <td>5</td>\n",
              "      <td>1</td>\n",
              "      <td>6</td>\n",
              "      <td>4.861733e+05</td>\n",
              "      <td>1.223341e+05</td>\n",
              "      <td>2.814394e+05</td>\n",
              "      <td>...</td>\n",
              "      <td>7.448494e+05</td>\n",
              "      <td>3.675559e+05</td>\n",
              "      <td>1.523356e+04</td>\n",
              "      <td>1.000044e+05</td>\n",
              "      <td>721726.742190</td>\n",
              "      <td>595030.683807</td>\n",
              "      <td>65715.650271</td>\n",
              "      <td>82806.726411</td>\n",
              "      <td>1</td>\n",
              "      <td>0.587356</td>\n",
              "    </tr>\n",
              "    <tr>\n",
              "      <th>2</th>\n",
              "      <td>2.510857e+06</td>\n",
              "      <td>4</td>\n",
              "      <td>8</td>\n",
              "      <td>7</td>\n",
              "      <td>3</td>\n",
              "      <td>1</td>\n",
              "      <td>-1</td>\n",
              "      <td>1.761015e+06</td>\n",
              "      <td>4.477663e+05</td>\n",
              "      <td>1.741556e+05</td>\n",
              "      <td>...</td>\n",
              "      <td>1.831996e+06</td>\n",
              "      <td>1.500997e+06</td>\n",
              "      <td>1.308210e+05</td>\n",
              "      <td>1.339618e+05</td>\n",
              "      <td>142474.230881</td>\n",
              "      <td>567713.496342</td>\n",
              "      <td>98717.149281</td>\n",
              "      <td>578674.665667</td>\n",
              "      <td>0</td>\n",
              "      <td>0.615782</td>\n",
              "    </tr>\n",
              "    <tr>\n",
              "      <th>3</th>\n",
              "      <td>5.108782e+04</td>\n",
              "      <td>2</td>\n",
              "      <td>8</td>\n",
              "      <td>9</td>\n",
              "      <td>1</td>\n",
              "      <td>8</td>\n",
              "      <td>8</td>\n",
              "      <td>2.919804e+06</td>\n",
              "      <td>1.159670e+05</td>\n",
              "      <td>3.084323e+05</td>\n",
              "      <td>...</td>\n",
              "      <td>3.502891e+05</td>\n",
              "      <td>4.302844e+05</td>\n",
              "      <td>1.551763e+05</td>\n",
              "      <td>1.303735e+06</td>\n",
              "      <td>321835.299522</td>\n",
              "      <td>67884.969529</td>\n",
              "      <td>44047.312996</td>\n",
              "      <td>89473.132158</td>\n",
              "      <td>0</td>\n",
              "      <td>0.654467</td>\n",
              "    </tr>\n",
              "    <tr>\n",
              "      <th>4</th>\n",
              "      <td>1.883075e+05</td>\n",
              "      <td>0</td>\n",
              "      <td>4</td>\n",
              "      <td>3</td>\n",
              "      <td>5</td>\n",
              "      <td>7</td>\n",
              "      <td>8</td>\n",
              "      <td>3.284158e+05</td>\n",
              "      <td>2.480358e+05</td>\n",
              "      <td>1.903364e+05</td>\n",
              "      <td>...</td>\n",
              "      <td>1.260028e+06</td>\n",
              "      <td>5.174183e+05</td>\n",
              "      <td>7.112088e+05</td>\n",
              "      <td>3.031434e+05</td>\n",
              "      <td>35110.385488</td>\n",
              "      <td>243725.233566</td>\n",
              "      <td>92395.790721</td>\n",
              "      <td>31210.485043</td>\n",
              "      <td>0</td>\n",
              "      <td>0.359234</td>\n",
              "    </tr>\n",
              "    <tr>\n",
              "      <th>5</th>\n",
              "      <td>1.582516e+05</td>\n",
              "      <td>2</td>\n",
              "      <td>7</td>\n",
              "      <td>7</td>\n",
              "      <td>-1</td>\n",
              "      <td>1</td>\n",
              "      <td>9</td>\n",
              "      <td>1.446374e+06</td>\n",
              "      <td>1.304415e+05</td>\n",
              "      <td>8.613840e+04</td>\n",
              "      <td>...</td>\n",
              "      <td>9.158656e+05</td>\n",
              "      <td>3.998826e+05</td>\n",
              "      <td>7.705667e+04</td>\n",
              "      <td>6.081977e+05</td>\n",
              "      <td>46632.269197</td>\n",
              "      <td>392629.862319</td>\n",
              "      <td>274606.226499</td>\n",
              "      <td>45192.864493</td>\n",
              "      <td>1</td>\n",
              "      <td>0.654467</td>\n",
              "    </tr>\n",
              "    <tr>\n",
              "      <th>6</th>\n",
              "      <td>1.666749e+05</td>\n",
              "      <td>6</td>\n",
              "      <td>6</td>\n",
              "      <td>2</td>\n",
              "      <td>4</td>\n",
              "      <td>6</td>\n",
              "      <td>-1</td>\n",
              "      <td>2.434958e+05</td>\n",
              "      <td>4.123463e+05</td>\n",
              "      <td>3.193616e+05</td>\n",
              "      <td>...</td>\n",
              "      <td>9.242161e+05</td>\n",
              "      <td>7.249556e+05</td>\n",
              "      <td>1.034411e+06</td>\n",
              "      <td>1.271945e+05</td>\n",
              "      <td>174693.939707</td>\n",
              "      <td>139874.216723</td>\n",
              "      <td>67583.656063</td>\n",
              "      <td>26813.851045</td>\n",
              "      <td>0</td>\n",
              "      <td>0.605820</td>\n",
              "    </tr>\n",
              "    <tr>\n",
              "      <th>7</th>\n",
              "      <td>2.034970e+05</td>\n",
              "      <td>6</td>\n",
              "      <td>6</td>\n",
              "      <td>9</td>\n",
              "      <td>3</td>\n",
              "      <td>2</td>\n",
              "      <td>7</td>\n",
              "      <td>1.012826e+06</td>\n",
              "      <td>1.101667e+06</td>\n",
              "      <td>4.697881e+05</td>\n",
              "      <td>...</td>\n",
              "      <td>1.157165e+05</td>\n",
              "      <td>5.773211e+05</td>\n",
              "      <td>3.285587e+05</td>\n",
              "      <td>2.127042e+04</td>\n",
              "      <td>896912.148389</td>\n",
              "      <td>588521.533930</td>\n",
              "      <td>268749.781236</td>\n",
              "      <td>67686.769830</td>\n",
              "      <td>0</td>\n",
              "      <td>0.641691</td>\n",
              "    </tr>\n",
              "    <tr>\n",
              "      <th>8</th>\n",
              "      <td>1.193527e+06</td>\n",
              "      <td>1</td>\n",
              "      <td>8</td>\n",
              "      <td>5</td>\n",
              "      <td>8</td>\n",
              "      <td>9</td>\n",
              "      <td>6</td>\n",
              "      <td>1.301173e+06</td>\n",
              "      <td>7.893954e+05</td>\n",
              "      <td>4.239026e+06</td>\n",
              "      <td>...</td>\n",
              "      <td>1.349520e+06</td>\n",
              "      <td>7.207526e+05</td>\n",
              "      <td>9.785152e+04</td>\n",
              "      <td>4.862949e+04</td>\n",
              "      <td>614612.651630</td>\n",
              "      <td>213264.556486</td>\n",
              "      <td>359972.299057</td>\n",
              "      <td>95426.832921</td>\n",
              "      <td>0</td>\n",
              "      <td>0.444273</td>\n",
              "    </tr>\n",
              "    <tr>\n",
              "      <th>9</th>\n",
              "      <td>2.744731e+06</td>\n",
              "      <td>2</td>\n",
              "      <td>1</td>\n",
              "      <td>8</td>\n",
              "      <td>7</td>\n",
              "      <td>8</td>\n",
              "      <td>4</td>\n",
              "      <td>4.700999e+05</td>\n",
              "      <td>8.663200e+05</td>\n",
              "      <td>1.081203e+06</td>\n",
              "      <td>...</td>\n",
              "      <td>5.479399e+04</td>\n",
              "      <td>7.515999e+05</td>\n",
              "      <td>1.547550e+05</td>\n",
              "      <td>7.132272e+05</td>\n",
              "      <td>406604.105405</td>\n",
              "      <td>232644.673548</td>\n",
              "      <td>122115.981584</td>\n",
              "      <td>695522.903232</td>\n",
              "      <td>0</td>\n",
              "      <td>0.573870</td>\n",
              "    </tr>\n",
              "  </tbody>\n",
              "</table>\n",
              "<p>10 rows × 21 columns</p>\n",
              "</div>\n",
              "      <button class=\"colab-df-convert\" onclick=\"convertToInteractive('df-c94b358d-22e2-4a87-aad7-c4dd6a97d7cf')\"\n",
              "              title=\"Convert this dataframe to an interactive table.\"\n",
              "              style=\"display:none;\">\n",
              "        \n",
              "  <svg xmlns=\"http://www.w3.org/2000/svg\" height=\"24px\"viewBox=\"0 0 24 24\"\n",
              "       width=\"24px\">\n",
              "    <path d=\"M0 0h24v24H0V0z\" fill=\"none\"/>\n",
              "    <path d=\"M18.56 5.44l.94 2.06.94-2.06 2.06-.94-2.06-.94-.94-2.06-.94 2.06-2.06.94zm-11 1L8.5 8.5l.94-2.06 2.06-.94-2.06-.94L8.5 2.5l-.94 2.06-2.06.94zm10 10l.94 2.06.94-2.06 2.06-.94-2.06-.94-.94-2.06-.94 2.06-2.06.94z\"/><path d=\"M17.41 7.96l-1.37-1.37c-.4-.4-.92-.59-1.43-.59-.52 0-1.04.2-1.43.59L10.3 9.45l-7.72 7.72c-.78.78-.78 2.05 0 2.83L4 21.41c.39.39.9.59 1.41.59.51 0 1.02-.2 1.41-.59l7.78-7.78 2.81-2.81c.8-.78.8-2.07 0-2.86zM5.41 20L4 18.59l7.72-7.72 1.47 1.35L5.41 20z\"/>\n",
              "  </svg>\n",
              "      </button>\n",
              "      \n",
              "  <style>\n",
              "    .colab-df-container {\n",
              "      display:flex;\n",
              "      flex-wrap:wrap;\n",
              "      gap: 12px;\n",
              "    }\n",
              "\n",
              "    .colab-df-convert {\n",
              "      background-color: #E8F0FE;\n",
              "      border: none;\n",
              "      border-radius: 50%;\n",
              "      cursor: pointer;\n",
              "      display: none;\n",
              "      fill: #1967D2;\n",
              "      height: 32px;\n",
              "      padding: 0 0 0 0;\n",
              "      width: 32px;\n",
              "    }\n",
              "\n",
              "    .colab-df-convert:hover {\n",
              "      background-color: #E2EBFA;\n",
              "      box-shadow: 0px 1px 2px rgba(60, 64, 67, 0.3), 0px 1px 3px 1px rgba(60, 64, 67, 0.15);\n",
              "      fill: #174EA6;\n",
              "    }\n",
              "\n",
              "    [theme=dark] .colab-df-convert {\n",
              "      background-color: #3B4455;\n",
              "      fill: #D2E3FC;\n",
              "    }\n",
              "\n",
              "    [theme=dark] .colab-df-convert:hover {\n",
              "      background-color: #434B5C;\n",
              "      box-shadow: 0px 1px 3px 1px rgba(0, 0, 0, 0.15);\n",
              "      filter: drop-shadow(0px 1px 2px rgba(0, 0, 0, 0.3));\n",
              "      fill: #FFFFFF;\n",
              "    }\n",
              "  </style>\n",
              "\n",
              "      <script>\n",
              "        const buttonEl =\n",
              "          document.querySelector('#df-c94b358d-22e2-4a87-aad7-c4dd6a97d7cf button.colab-df-convert');\n",
              "        buttonEl.style.display =\n",
              "          google.colab.kernel.accessAllowed ? 'block' : 'none';\n",
              "\n",
              "        async function convertToInteractive(key) {\n",
              "          const element = document.querySelector('#df-c94b358d-22e2-4a87-aad7-c4dd6a97d7cf');\n",
              "          const dataTable =\n",
              "            await google.colab.kernel.invokeFunction('convertToInteractive',\n",
              "                                                     [key], {});\n",
              "          if (!dataTable) return;\n",
              "\n",
              "          const docLinkHtml = 'Like what you see? Visit the ' +\n",
              "            '<a target=\"_blank\" href=https://colab.research.google.com/notebooks/data_table.ipynb>data table notebook</a>'\n",
              "            + ' to learn more about interactive tables.';\n",
              "          element.innerHTML = '';\n",
              "          dataTable['output_type'] = 'display_data';\n",
              "          await google.colab.output.renderOutput(dataTable, element);\n",
              "          const docLink = document.createElement('div');\n",
              "          docLink.innerHTML = docLinkHtml;\n",
              "          element.appendChild(docLink);\n",
              "        }\n",
              "      </script>\n",
              "    </div>\n",
              "  </div>\n",
              "  "
            ]
          },
          "metadata": {},
          "execution_count": 73
        }
      ],
      "source": [
        "dattack_data = xgb.DMatrix(attack_data[features])\n",
        "\n",
        "attack_data['prediction'] = extracted_model_xgb.predict(dattack_data, \n",
        "                                                        iteration_range=(0, extracted_model_xgb.best_iteration))\n",
        "# attack_data['prediction'] = model_endpoint(attack_data)\n",
        "\n",
        "attack_data.head(10)"
      ]
    },
    {
      "cell_type": "code",
      "execution_count": 74,
      "id": "a0dc4590-4c69-4a77-bb8c-d1e8bf7ee3ea",
      "metadata": {
        "colab": {
          "base_uri": "https://localhost:8080/",
          "height": 499
        },
        "id": "a0dc4590-4c69-4a77-bb8c-d1e8bf7ee3ea",
        "outputId": "142fbee8-d98b-409d-ef2e-f3da9a34d452"
      },
      "outputs": [
        {
          "output_type": "display_data",
          "data": {
            "text/plain": [
              "<Figure size 360x576 with 2 Axes>"
            ],
            "image/png": "[encoded data removed]"
          },
          "metadata": {
            "needs_background": "light"
          }
        }
      ],
      "source": [
        "# Look at the distribution of extracted model predictions for the training versus new data points. We expect\n",
        "#  the training data points to be most concentrated on the extremes of [0, 1]\n",
        "\n",
        "\"\"\"\n",
        "Eh - not really. Hopefully this happens:\n",
        "\n",
        "\"If we use model-based synthesis from Section V-C, all of the raw training data for the attack model is drawn \n",
        "from the records that are classified by the target model with high confidence. This is true, however, both for \n",
        "the records used in the shadow models’ training datasets and for the test records left out of these datasets. \n",
        "Therefore, it is not the case that the attack model simply learns to recognize inputs that are classified with \n",
        "high confidence. Instead, it learns to perform a much subtler task: how to distinguish between the training \n",
        "inputs classified with high confidence and other, non-training inputs that are also classified with high \n",
        "confidence.\"\n",
        "\"\"\"\n",
        "\n",
        "fig, axs = plt.subplots(2, 1, figsize=(5, 8))\n",
        "axs[0].hist(attack_data.loc[attack_data['in_train'] == 0]['prediction'], bins='auto')\n",
        "axs[0].set_title('Not in training data')\n",
        "\n",
        "axs[1].hist(attack_data.loc[attack_data['in_train'] == 1]['prediction'], bins='auto')\n",
        "_ = axs[1].set_title('In training data')\n"
      ]
    },
    {
      "cell_type": "code",
      "execution_count": 75,
      "id": "2c583a5f-ae4a-47fa-8036-e8a410ef25d7",
      "metadata": {
        "colab": {
          "base_uri": "https://localhost:8080/"
        },
        "id": "2c583a5f-ae4a-47fa-8036-e8a410ef25d7",
        "outputId": "36853898-49d1-46b7-d20b-bc7465111fd9"
      },
      "outputs": [
        {
          "output_type": "stream",
          "name": "stdout",
          "text": [
            "[0]\ttrain-auc:0.51346\teval-auc:0.50681\n",
            "[1]\ttrain-auc:0.51437\teval-auc:0.50688\n",
            "[2]\ttrain-auc:0.52117\teval-auc:0.50895\n",
            "[3]\ttrain-auc:0.52118\teval-auc:0.50889\n",
            "[4]\ttrain-auc:0.52490\teval-auc:0.51227\n",
            "[5]\ttrain-auc:0.52640\teval-auc:0.51363\n",
            "[6]\ttrain-auc:0.52852\teval-auc:0.51378\n",
            "[7]\ttrain-auc:0.53114\teval-auc:0.51786\n",
            "[8]\ttrain-auc:0.53169\teval-auc:0.51756\n",
            "[9]\ttrain-auc:0.53242\teval-auc:0.51714\n",
            "[10]\ttrain-auc:0.53292\teval-auc:0.51752\n",
            "[11]\ttrain-auc:0.53310\teval-auc:0.51664\n",
            "[12]\ttrain-auc:0.53292\teval-auc:0.51672\n",
            "[13]\ttrain-auc:0.53334\teval-auc:0.51662\n",
            "[14]\ttrain-auc:0.53650\teval-auc:0.51648\n",
            "[15]\ttrain-auc:0.53707\teval-auc:0.51608\n",
            "[16]\ttrain-auc:0.53796\teval-auc:0.51580\n"
          ]
        }
      ],
      "source": [
        "# Train an XGBoost attack model.\n",
        "\n",
        "attack_features = features + ['prediction']\n",
        "attack_target = 'in_train'\n",
        "\n",
        "attack_train = attack_data.head(int(len(attack_data)*0.8))\n",
        "attack_valid = attack_data.tail(int(len(attack_data)*0.2))\n",
        "\n",
        "dattack_train = xgb.DMatrix(attack_train[attack_features],\n",
        "                            label = attack_train[attack_target])\n",
        "dattack_valid = xgb.DMatrix(attack_valid[attack_features],\n",
        "                            label = attack_valid[attack_target])\n",
        "\n",
        "base_score = attack_train[attack_target].mean()\n",
        "\n",
        "params = {\n",
        "    'objective': 'binary:logistic',\n",
        "    'eval_metric': 'auc',\n",
        "    'eta': 0.05,\n",
        "    'max_depth': 3,\n",
        "    'base_score': base_score,\n",
        "    'seed': SEED\n",
        "}\n",
        "\n",
        "# Train using early stopping on the validation dataset.\n",
        "watchlist = [(dattack_train, 'train'), (dattack_valid, 'eval')]\n",
        "\n",
        "attack_model = xgb.train(params,         \n",
        "                         dattack_train,                   \n",
        "                         num_boost_round=500,                     \n",
        "                         evals=watchlist,\n",
        "                         early_stopping_rounds=10,\n",
        "                         verbose_eval=True)"
      ]
    },
    {
      "cell_type": "code",
      "execution_count": 76,
      "id": "48eca67f-da5d-4dcb-9769-2323ebc6a4c0",
      "metadata": {
        "id": "48eca67f-da5d-4dcb-9769-2323ebc6a4c0"
      },
      "outputs": [],
      "source": [
        "train['in_train'] = 1\n",
        "test['in_train'] = 0\n",
        "\n",
        "attack_test = train.head(len(test)).append(test).reset_index(drop=True)\n",
        "attack_test['prediction'] = model_endpoint(attack_test[features])\n",
        "\n",
        "dattack_test = xgb.DMatrix(attack_test[attack_features],\n",
        "                           label = attack_test[attack_target])"
      ]
    },
    {
      "cell_type": "code",
      "execution_count": 77,
      "id": "fb68fedf-e7f7-4eb1-a44e-d436e31eb4d1",
      "metadata": {
        "colab": {
          "base_uri": "https://localhost:8080/",
          "height": 296
        },
        "id": "fb68fedf-e7f7-4eb1-a44e-d436e31eb4d1",
        "outputId": "faa5797e-2589-4b1d-b65a-badb0676bb20"
      },
      "outputs": [
        {
          "output_type": "execute_result",
          "data": {
            "text/plain": [
              "<matplotlib.legend.Legend at 0x7fb24e81e310>"
            ]
          },
          "metadata": {},
          "execution_count": 77
        },
        {
          "output_type": "display_data",
          "data": {
            "text/plain": [
              "<Figure size 432x288 with 1 Axes>"
            ],
            "image/png": "[encoded data removed]"
          },
          "metadata": {
            "needs_background": "light"
          }
        }
      ],
      "source": [
        "from sklearn.metrics import precision_score, recall_score, roc_curve, RocCurveDisplay\n",
        "\n",
        "fpr, tpr, _ = roc_curve(attack_train['in_train'], \n",
        "                        attack_model.predict(dattack_train, iteration_range=(0, attack_model.best_iteration)))\n",
        "\n",
        "roc_display = RocCurveDisplay(fpr=fpr, tpr=tpr).plot()\n",
        "ax = roc_display.ax_\n",
        "\n",
        "fpr, tpr, _ = roc_curve(attack_test['in_train'], \n",
        "                        attack_model.predict(dattack_test, iteration_range=(0, attack_model.best_iteration)))\n",
        "\n",
        "ax.plot(fpr, tpr)\n",
        "ax.legend(['Train', 'Test'])"
      ]
    },
    {
      "cell_type": "code",
      "execution_count": 78,
      "id": "ba67fba6-4e8f-4d3a-a831-80e9a75f0319",
      "metadata": {
        "id": "ba67fba6-4e8f-4d3a-a831-80e9a75f0319"
      },
      "outputs": [],
      "source": [
        "# Let's try and improve the random data to get more realisic points. We'll implement Algorithm 1 from Shokri et al.\n",
        "\n",
        "def model_endpoint_data_synthesis(schema, features, predict_class,\n",
        "                                  iter_max=100, k_min=2, max_rejects=5, \n",
        "                                  confidence_bound=0.3):\n",
        "    \n",
        "    # Initialize a random record from the schema dict\n",
        "    random_obs = make_random_frame(schema, 1)\n",
        "    last_accepted = random_obs\n",
        "    # The objective is simply the class probability\n",
        "    objective = 0\n",
        "    num_failed_iterations = 0\n",
        "    k = len(features)\n",
        "    j = 0\n",
        "    \n",
        "    for i in range(iter_max):\n",
        "        obj_i = predict_class(random_obs[features])\n",
        "        if obj_i > objective:\n",
        "            if obj_i > confidence_bound:\n",
        "                if np.random.rand() < obj_i:\n",
        "                    return random_obs\n",
        "            num_failed_iterations = 0\n",
        "            objective = obj_i\n",
        "            last_accepted = random_obs.copy()\n",
        "        else:\n",
        "            j += 1\n",
        "            if j > max_rejects:\n",
        "                k = np.max([k_min, int(np.ceil(k/2))])\n",
        "                j = 0\n",
        "        \n",
        "        # Randomize k features in x\n",
        "        random_obs = randomize_features(last_accepted, schema, k)\n",
        "        \n",
        "    return\n",
        "\n",
        "def randomize_features(obs, schema, k):\n",
        "    features_to_modify = np.random.choice(list(schema.keys()), k, replace=False)\n",
        "    \n",
        "    for feature in features_to_modify:\n",
        "        if schema[feature]['dist'] == 'uniform':\n",
        "            obs[feature] = np.random.choice(schema[feature]['values'],\n",
        "                                            size=1)[0]\n",
        "\n",
        "        # simulate LIMIT_BAL, BILL_AMT*, PAY_AMT* features\n",
        "        if schema[feature]['dist'] == 'exponential':\n",
        "            obs[feature] = schema[feature]['min'] + np.random.exponential(scale=schema[feature]['scale'], \n",
        "                                                                          size=1)\n",
        "    return obs\n",
        "\n",
        "\n",
        "def randomize_features_vectorized(obs, schema):\n",
        "    features_to_modify = [np.random.choice(list(schema.keys()), k, replace=False) for k in obs['num_to_shuffle']]\n",
        "    \n",
        "    for i, features in enumerate(features_to_modify):\n",
        "        for feature in features: \n",
        "            if schema[feature]['dist'] == 'uniform':\n",
        "                obs.iloc[i][feature] = np.random.choice(schema[feature]['values'],\n",
        "                                                size=1)[0]\n",
        "\n",
        "            if schema[feature]['dist'] == 'exponential':\n",
        "                obs.iloc[i][feature] = schema[feature]['min'] + np.random.exponential(scale=schema[feature]['scale'], \n",
        "                                                                              size=1)\n",
        "    \n",
        "    return obs\n",
        "\n",
        "def make_random_frame(schema, N):\n",
        "    random_frame = pd.DataFrame(columns=list(schema.keys())) # init empty frame\n",
        "\n",
        "\n",
        "    for j in list(schema.keys()): # loop through features\n",
        "\n",
        "        # simulate PAY_* features\n",
        "        if schema[j]['dist'] == 'uniform':\n",
        "            random_frame[j] = np.random.choice(schema[j]['values'],\n",
        "                                               size=N)\n",
        "\n",
        "        # simulate LIMIT_BAL, BILL_AMT*, PAY_AMT* features\n",
        "        if schema[j]['dist'] == 'exponential':\n",
        "            random_frame[j] = schema[j]['min'] + np.random.exponential(scale=schema[j]['scale'], \n",
        "                                                                       size=N)\n",
        "            \n",
        "    return random_frame\n"
      ]
    },
    {
      "cell_type": "markdown",
      "id": "b2e8c4c5-1d94-46dc-9695-84fdbbdad1f0",
      "metadata": {
        "id": "b2e8c4c5-1d94-46dc-9695-84fdbbdad1f0"
      },
      "source": [
        "## 6. Synthetic Data Generation\n",
        "\n",
        "We use the below code to generate new synthetic data points (eventually Data/synthetic_data.csv)"
      ]
    },
    {
      "cell_type": "code",
      "execution_count": null,
      "id": "1c73feb1-15e6-43bc-9f65-83c9b3603653",
      "metadata": {
        "id": "1c73feb1-15e6-43bc-9f65-83c9b3603653"
      },
      "outputs": [],
      "source": [
        "# new_random_frame = pd.DataFrame(columns=list(schema_dict.keys()))\n",
        "\n",
        "# schema_dict = {'PAY_0': {'values': np.arange(-1, 10), 'dist': 'uniform'},\n",
        "#                'PAY_2': {'values': np.arange(-1, 10), 'dist': 'uniform'},\n",
        "#                'PAY_3': {'values': np.arange(-1, 10), 'dist': 'uniform'},\n",
        "#                'PAY_4': {'values': np.arange(-1, 10), 'dist': 'uniform'},\n",
        "#                'PAY_5': {'values': np.arange(-1, 10), 'dist': 'uniform'},\n",
        "#                'PAY_6': {'values': np.arange(-1, 10), 'dist': 'uniform'},\n",
        "#                'LIMIT_BAL': {'min': 500, 'scale': 1000000, 'dist': 'exponential'},\n",
        "#                'BILL_AMT1': {'min': 0, 'scale': 600000, 'dist': 'exponential'},\n",
        "#                'BILL_AMT2': {'min': 0, 'scale': 600000, 'dist': 'exponential'},\n",
        "#                'BILL_AMT3': {'min': 0, 'scale': 600000, 'dist': 'exponential'},\n",
        "#                'BILL_AMT4': {'min': 0, 'scale': 600000, 'dist': 'exponential'},\n",
        "#                'BILL_AMT5': {'min': 0, 'scale': 600000, 'dist': 'exponential'},\n",
        "#                'BILL_AMT6': {'min': 0, 'scale': 600000, 'dist': 'exponential'},\n",
        "#                'PAY_AMT1': {'min': 0, 'scale': 100000, 'dist': 'exponential'},\n",
        "#                'PAY_AMT2': {'min': 0, 'scale': 100000, 'dist': 'exponential'},\n",
        "#                'PAY_AMT3': {'min': 0, 'scale': 100000, 'dist': 'exponential'},\n",
        "#                'PAY_AMT4': {'min': 0, 'scale': 100000, 'dist': 'exponential'},\n",
        "#                'PAY_AMT5': {'min': 0, 'scale': 100000, 'dist': 'exponential'},\n",
        "#                'PAY_AMT6': {'min': 0, 'scale': 100000, 'dist': 'exponential'}}\n",
        "\n",
        "# while len(new_random_frame) < 500:\n",
        "# # while len(new_random_frame) < 10:\n",
        "#     random_obs = model_endpoint_data_synthesis(schema_dict, features, predict_class=lambda x: 1 - model_endpoint(x), \n",
        "#                                                confidence_bound=0.9, k_min=8,\n",
        "#                                                iter_max=50)\n",
        "#     new_random_frame = new_random_frame.append(random_obs)\n",
        "\n",
        "    \n",
        "# while len(new_random_frame) < 1500:\n",
        "# # while len(new_random_frame) < 10:\n",
        "#     random_obs = model_endpoint_data_synthesis(schema_dict, features, predict_class=lambda x: 1 - model_endpoint(x), \n",
        "#                                                confidence_bound=0.85, k_min=8,\n",
        "#                                                iter_max=50)\n",
        "#     new_random_frame = new_random_frame.append(random_obs)\n",
        "\n",
        "\n",
        "# print(f\"Done with stage 1.\")\n",
        "\n",
        "# while len(new_random_frame) < 1600:\n",
        "# # while len(new_random_frame) < 15:\n",
        "#     random_obs = model_endpoint_data_synthesis(schema_dict, features, predict_class=lambda x: 1 - model_endpoint(x), \n",
        "#                                                confidence_bound=0.94, k_min=8,\n",
        "#                                                iter_max=50)\n",
        "#     new_random_frame = new_random_frame.append(random_obs)\n",
        "\n",
        "# print(f\"Done with stage 2.\")\n",
        "\n",
        "# schema_dict = {'PAY_0': {'values': np.arange(-1, 10), 'dist': 'uniform'},\n",
        "#                'PAY_2': {'values': np.arange(-1, 10), 'dist': 'uniform'},\n",
        "#                'PAY_3': {'values': np.arange(-1, 10), 'dist': 'uniform'},\n",
        "#                'PAY_4': {'values': np.arange(-1, 10), 'dist': 'uniform'},\n",
        "#                'PAY_5': {'values': np.arange(-1, 10), 'dist': 'uniform'},\n",
        "#                'PAY_6': {'values': np.arange(-1, 10), 'dist': 'uniform'},\n",
        "#                'LIMIT_BAL': {'min': 500, 'scale': 1000000, 'dist': 'exponential'},\n",
        "#                'BILL_AMT1': {'min': 0, 'scale': 1000000, 'dist': 'exponential'},\n",
        "#                'BILL_AMT2': {'min': 0, 'scale': 1000000, 'dist': 'exponential'},\n",
        "#                'BILL_AMT3': {'min': 0, 'scale': 1000000, 'dist': 'exponential'},\n",
        "#                'BILL_AMT4': {'min': 0, 'scale': 1000000, 'dist': 'exponential'},\n",
        "#                'BILL_AMT5': {'min': 0, 'scale': 1000000, 'dist': 'exponential'},\n",
        "#                'BILL_AMT6': {'min': 0, 'scale': 1000000, 'dist': 'exponential'},\n",
        "#                'PAY_AMT1': {'min': 0, 'scale': 80000, 'dist': 'exponential'},\n",
        "#                'PAY_AMT2': {'min': 0, 'scale': 80000, 'dist': 'exponential'},\n",
        "#                'PAY_AMT3': {'min': 0, 'scale': 80000, 'dist': 'exponential'},\n",
        "#                'PAY_AMT4': {'min': 0, 'scale': 80000, 'dist': 'exponential'},\n",
        "#                'PAY_AMT5': {'min': 0, 'scale': 80000, 'dist': 'exponential'},\n",
        "#                'PAY_AMT6': {'min': 0, 'scale': 800000, 'dist': 'exponential'}}\n",
        "\n",
        "# while len(new_random_frame) < 1800:\n",
        "# # while len(new_random_frame) < 20:\n",
        "#     random_obs = model_endpoint_data_synthesis(schema_dict, features, predict_class=lambda x: model_endpoint(x), \n",
        "#                                                confidence_bound=0.4, k_min=8,\n",
        "#                                                iter_max=50)\n",
        "#     new_random_frame = new_random_frame.append(random_obs)\n",
        "\n",
        "# print(f\"Done with stage 3.\")\n",
        "# new_random_frame.to_csv(f\"stage_3.csv\")\n",
        "    \n",
        "# while len(new_random_frame) < 2000:\n",
        "# # while len(new_random_frame) < 25:\n",
        "#     random_obs = model_endpoint_data_synthesis(schema_dict, features, predict_class=lambda x: model_endpoint(x), \n",
        "#                                                confidence_bound=0.5, k_min=8,\n",
        "#                                                iter_max=50)\n",
        "#     new_random_frame = new_random_frame.append(random_obs)\n",
        "\n",
        "# print(f\"Done with stage 4.\")\n",
        "# new_random_frame.to_csv(f\"stage_4.csv\")\n",
        "\n",
        "# while len(new_random_frame) < 2200:\n",
        "# # while len(new_random_frame) < 30:\n",
        "#     random_obs = model_endpoint_data_synthesis(schema_dict, features, predict_class=lambda x: model_endpoint(x), \n",
        "#                                                confidence_bound=0.6, k_min=8,\n",
        "#                                                iter_max=50)\n",
        "#     new_random_frame = new_random_frame.append(random_obs)\n",
        "\n",
        "# print(f\"Done with stage 5.\")\n",
        "\n",
        "# while len(new_random_frame) < 2300:\n",
        "# # while len(new_random_frame) < 35:\n",
        "#     random_obs = model_endpoint_data_synthesis(schema_dict, features, predict_class=lambda x: model_endpoint(x), \n",
        "#                                                confidence_bound=0.7, k_min=8,\n",
        "#                                                iter_max=50)\n",
        "#     new_random_frame = new_random_frame.append(random_obs)\n",
        "    \n",
        "\n",
        "# while len(new_random_frame) < 2500:\n",
        "# # while len(new_random_frame) < 35:\n",
        "#     random_obs = model_endpoint_data_synthesis(schema_dict, features, predict_class=lambda x: model_endpoint(x), \n",
        "#                                                confidence_bound=0.65, k_min=8,\n",
        "#                                                iter_max=50)\n",
        "#     new_random_frame = new_random_frame.append(random_obs)\n",
        "    \n",
        "# for categorical_feat in ['PAY_0', 'PAY_2', 'PAY_3', 'PAY_4', 'PAY_5', 'PAY_6']:\n",
        "#     new_random_frame[categorical_feat] = new_random_frame[categorical_feat].astype(int)\n",
        "    \n",
        "# new_random_frame.to_csv(f\"new_synthetic_data.csv\")\n"
      ]
    },
    {
      "cell_type": "code",
      "execution_count": null,
      "id": "GNnVcQbRi1n2",
      "metadata": {
        "colab": {
          "base_uri": "https://localhost:8080/"
        },
        "id": "GNnVcQbRi1n2",
        "outputId": "99869d86-b288-49b3-8f43-ac91bda63dd6"
      },
      "outputs": [
        {
          "name": "stdout",
          "output_type": "stream",
          "text": [
            "Are you sure you want to shutdown the H2O instance running at http://127.0.0.1:54321 (Y/N)? Y\n",
            "H2O session _sid_b6b9 closed.\n"
          ]
        }
      ],
      "source": [
        "h2o.cluster().shutdown(prompt=True)"
      ]
    }
  ],
  "metadata": {
    "colab": {
      "provenance": []
    },
    "kernelspec": {
      "display_name": "Python 3 (ipykernel)",
      "language": "python",
      "name": "python3"
    },
    "language_info": {
      "codemirror_mode": {
        "name": "ipython",
        "version": 3
      },
      "file_extension": ".py",
      "mimetype": "text/x-python",
      "name": "python",
      "nbconvert_exporter": "python",
      "pygments_lexer": "ipython3",
      "version": "3.9.6"
    }
  },
  "nbformat": 4,
  "nbformat_minor": 5
}