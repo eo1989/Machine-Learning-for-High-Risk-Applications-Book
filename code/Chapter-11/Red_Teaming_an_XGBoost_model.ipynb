{
  "cells": [
    {
      "cell_type": "markdown",
      "id": "0b40829a",
      "metadata": {},
      "source": [
        "[![Open In Colab](https://colab.research.google.com/assets/colab-badge.svg)](https://githubtocolab.com/ml-for-high-risk-apps-book/Machine-Learning-for-High-Risk-Applications-Book/blob/main/code/Chapter-11/Red_Teaming_an_XGBoost_model.ipynb) "
      ]
    },
    {
      "cell_type": "markdown",
      "id": "35fa989a-74d8-44dc-b417-1badcfcdc18d",
      "metadata": {
        "id": "35fa989a-74d8-44dc-b417-1badcfcdc18d"
      },
      "source": [
        "# Chapter 11: Red-Teaming an XGBoost Credit Model\n",
        "\n",
        "## Attacks for Red-teaming \n"
      ]
    },
    {
      "cell_type": "markdown",
      "id": "Fzu4Qr2IgEOm",
      "metadata": {
        "id": "Fzu4Qr2IgEOm"
      },
      "source": [
        "## 1. Setting the environment\n",
        "\n",
        "Download the [zipped **data_and_package** folder](https://github.com/ml-for-high-risk-apps-book/Machine-Learning-for-High-Risk-Applications-Book/blob/main/code/data_and_package.zip) onto your local system and save it as `Data.zip`. "
      ]
    },
    {
      "cell_type": "code",
      "execution_count": null,
      "id": "u8QvrPfmgMKb",
      "metadata": {
        "colab": {
          "base_uri": "https://localhost:8080/",
          "height": 73
        },
        "id": "u8QvrPfmgMKb",
        "outputId": "c325eec3-bf41-493f-bb65-3bcb37345c70"
      },
      "outputs": [
        {
          "data": {
            "text/html": [
              "\n",
              "     <input type=\"file\" id=\"files-ffdd235a-a8a0-4113-a503-623db50b6afe\" name=\"files[]\" multiple disabled\n",
              "        style=\"border:none\" />\n",
              "     <output id=\"result-ffdd235a-a8a0-4113-a503-623db50b6afe\">\n",
              "      Upload widget is only available when the cell has been executed in the\n",
              "      current browser session. Please rerun this cell to enable.\n",
              "      </output>\n",
              "      <script>// Copyright 2017 Google LLC\n",
              "//\n",
              "// Licensed under the Apache License, Version 2.0 (the \"License\");\n",
              "// you may not use this file except in compliance with the License.\n",
              "// You may obtain a copy of the License at\n",
              "//\n",
              "//      http://www.apache.org/licenses/LICENSE-2.0\n",
              "//\n",
              "// Unless required by applicable law or agreed to in writing, software\n",
              "// distributed under the License is distributed on an \"AS IS\" BASIS,\n",
              "// WITHOUT WARRANTIES OR CONDITIONS OF ANY KIND, either express or implied.\n",
              "// See the License for the specific language governing permissions and\n",
              "// limitations under the License.\n",
              "\n",
              "/**\n",
              " * @fileoverview Helpers for google.colab Python module.\n",
              " */\n",
              "(function(scope) {\n",
              "function span(text, styleAttributes = {}) {\n",
              "  const element = document.createElement('span');\n",
              "  element.textContent = text;\n",
              "  for (const key of Object.keys(styleAttributes)) {\n",
              "    element.style[key] = styleAttributes[key];\n",
              "  }\n",
              "  return element;\n",
              "}\n",
              "\n",
              "// Max number of bytes which will be uploaded at a time.\n",
              "const MAX_PAYLOAD_SIZE = 100 * 1024;\n",
              "\n",
              "function _uploadFiles(inputId, outputId) {\n",
              "  const steps = uploadFilesStep(inputId, outputId);\n",
              "  const outputElement = document.getElementById(outputId);\n",
              "  // Cache steps on the outputElement to make it available for the next call\n",
              "  // to uploadFilesContinue from Python.\n",
              "  outputElement.steps = steps;\n",
              "\n",
              "  return _uploadFilesContinue(outputId);\n",
              "}\n",
              "\n",
              "// This is roughly an async generator (not supported in the browser yet),\n",
              "// where there are multiple asynchronous steps and the Python side is going\n",
              "// to poll for completion of each step.\n",
              "// This uses a Promise to block the python side on completion of each step,\n",
              "// then passes the result of the previous step as the input to the next step.\n",
              "function _uploadFilesContinue(outputId) {\n",
              "  const outputElement = document.getElementById(outputId);\n",
              "  const steps = outputElement.steps;\n",
              "\n",
              "  const next = steps.next(outputElement.lastPromiseValue);\n",
              "  return Promise.resolve(next.value.promise).then((value) => {\n",
              "    // Cache the last promise value to make it available to the next\n",
              "    // step of the generator.\n",
              "    outputElement.lastPromiseValue = value;\n",
              "    return next.value.response;\n",
              "  });\n",
              "}\n",
              "\n",
              "/**\n",
              " * Generator function which is called between each async step of the upload\n",
              " * process.\n",
              " * @param {string} inputId Element ID of the input file picker element.\n",
              " * @param {string} outputId Element ID of the output display.\n",
              " * @return {!Iterable<!Object>} Iterable of next steps.\n",
              " */\n",
              "function* uploadFilesStep(inputId, outputId) {\n",
              "  const inputElement = document.getElementById(inputId);\n",
              "  inputElement.disabled = false;\n",
              "\n",
              "  const outputElement = document.getElementById(outputId);\n",
              "  outputElement.innerHTML = '';\n",
              "\n",
              "  const pickedPromise = new Promise((resolve) => {\n",
              "    inputElement.addEventListener('change', (e) => {\n",
              "      resolve(e.target.files);\n",
              "    });\n",
              "  });\n",
              "\n",
              "  const cancel = document.createElement('button');\n",
              "  inputElement.parentElement.appendChild(cancel);\n",
              "  cancel.textContent = 'Cancel upload';\n",
              "  const cancelPromise = new Promise((resolve) => {\n",
              "    cancel.onclick = () => {\n",
              "      resolve(null);\n",
              "    };\n",
              "  });\n",
              "\n",
              "  // Wait for the user to pick the files.\n",
              "  const files = yield {\n",
              "    promise: Promise.race([pickedPromise, cancelPromise]),\n",
              "    response: {\n",
              "      action: 'starting',\n",
              "    }\n",
              "  };\n",
              "\n",
              "  cancel.remove();\n",
              "\n",
              "  // Disable the input element since further picks are not allowed.\n",
              "  inputElement.disabled = true;\n",
              "\n",
              "  if (!files) {\n",
              "    return {\n",
              "      response: {\n",
              "        action: 'complete',\n",
              "      }\n",
              "    };\n",
              "  }\n",
              "\n",
              "  for (const file of files) {\n",
              "    const li = document.createElement('li');\n",
              "    li.append(span(file.name, {fontWeight: 'bold'}));\n",
              "    li.append(span(\n",
              "        `(${file.type || 'n/a'}) - ${file.size} bytes, ` +\n",
              "        `last modified: ${\n",
              "            file.lastModifiedDate ? file.lastModifiedDate.toLocaleDateString() :\n",
              "                                    'n/a'} - `));\n",
              "    const percent = span('0% done');\n",
              "    li.appendChild(percent);\n",
              "\n",
              "    outputElement.appendChild(li);\n",
              "\n",
              "    const fileDataPromise = new Promise((resolve) => {\n",
              "      const reader = new FileReader();\n",
              "      reader.onload = (e) => {\n",
              "        resolve(e.target.result);\n",
              "      };\n",
              "      reader.readAsArrayBuffer(file);\n",
              "    });\n",
              "    // Wait for the data to be ready.\n",
              "    let fileData = yield {\n",
              "      promise: fileDataPromise,\n",
              "      response: {\n",
              "        action: 'continue',\n",
              "      }\n",
              "    };\n",
              "\n",
              "    // Use a chunked sending to avoid message size limits. See b/62115660.\n",
              "    let position = 0;\n",
              "    do {\n",
              "      const length = Math.min(fileData.byteLength - position, MAX_PAYLOAD_SIZE);\n",
              "      const chunk = new Uint8Array(fileData, position, length);\n",
              "      position += length;\n",
              "\n",
              "      const base64 = btoa(String.fromCharCode.apply(null, chunk));\n",
              "      yield {\n",
              "        response: {\n",
              "          action: 'append',\n",
              "          file: file.name,\n",
              "          data: base64,\n",
              "        },\n",
              "      };\n",
              "\n",
              "      let percentDone = fileData.byteLength === 0 ?\n",
              "          100 :\n",
              "          Math.round((position / fileData.byteLength) * 100);\n",
              "      percent.textContent = `${percentDone}% done`;\n",
              "\n",
              "    } while (position < fileData.byteLength);\n",
              "  }\n",
              "\n",
              "  // All done.\n",
              "  yield {\n",
              "    response: {\n",
              "      action: 'complete',\n",
              "    }\n",
              "  };\n",
              "}\n",
              "\n",
              "scope.google = scope.google || {};\n",
              "scope.google.colab = scope.google.colab || {};\n",
              "scope.google.colab._files = {\n",
              "  _uploadFiles,\n",
              "  _uploadFilesContinue,\n",
              "};\n",
              "})(self);\n",
              "</script> "
            ],
            "text/plain": [
              "<IPython.core.display.HTML object>"
            ]
          },
          "metadata": {},
          "output_type": "display_data"
        },
        {
          "name": "stdout",
          "output_type": "stream",
          "text": [
            "Saving Data.zip to Data.zip\n"
          ]
        }
      ],
      "source": [
        "# Upload the downloaded zipped file from your system to the colab environment. \n",
        "from google.colab import files\n",
        "uploaded = files.upload()"
      ]
    },
    {
      "cell_type": "code",
      "execution_count": null,
      "id": "o8EiLp0fgZ6z",
      "metadata": {
        "colab": {
          "base_uri": "https://localhost:8080/"
        },
        "id": "o8EiLp0fgZ6z",
        "outputId": "da66ca57-285d-4ef5-a4e1-f1b573831ef1"
      },
      "outputs": [
        {
          "name": "stdout",
          "output_type": "stream",
          "text": [
            "/content/Data\n"
          ]
        }
      ],
      "source": [
        "!unzip -q \"/content/Data.zip\" \n",
        "%cd /content/Data"
      ]
    },
    {
      "cell_type": "code",
      "execution_count": null,
      "id": "1ThB0Z78haq8",
      "metadata": {
        "colab": {
          "base_uri": "https://localhost:8080/"
        },
        "id": "1ThB0Z78haq8",
        "outputId": "ef8e2bc7-6a07-4e7b-998a-739e55c87ebe"
      },
      "outputs": [
        {
          "name": "stdout",
          "output_type": "stream",
          "text": [
            "Looking in indexes: https://pypi.org/simple, https://us-python.pkg.dev/colab-wheels/public/simple/\n",
            "Collecting h2o\n",
            "  Downloading h2o-3.38.0.2.tar.gz (177.4 MB)\n",
            "\u001b[K     |████████████████████████████████| 177.4 MB 39 kB/s \n",
            "\u001b[?25hRequirement already satisfied: requests in /usr/local/lib/python3.7/dist-packages (from h2o) (2.23.0)\n",
            "Requirement already satisfied: tabulate in /usr/local/lib/python3.7/dist-packages (from h2o) (0.8.10)\n",
            "Requirement already satisfied: future in /usr/local/lib/python3.7/dist-packages (from h2o) (0.16.0)\n",
            "Requirement already satisfied: certifi>=2017.4.17 in /usr/local/lib/python3.7/dist-packages (from requests->h2o) (2022.9.24)\n",
            "Requirement already satisfied: urllib3!=1.25.0,!=1.25.1,<1.26,>=1.21.1 in /usr/local/lib/python3.7/dist-packages (from requests->h2o) (1.24.3)\n",
            "Requirement already satisfied: idna<3,>=2.5 in /usr/local/lib/python3.7/dist-packages (from requests->h2o) (2.10)\n",
            "Requirement already satisfied: chardet<4,>=3.0.2 in /usr/local/lib/python3.7/dist-packages (from requests->h2o) (3.0.4)\n",
            "Building wheels for collected packages: h2o\n",
            "  Building wheel for h2o (setup.py) ... \u001b[?25l\u001b[?25hdone\n",
            "  Created wheel for h2o: filename=h2o-3.38.0.2-py2.py3-none-any.whl size=177521195 sha256=0375a3f2940cbab562e0db442e17c2ba5498a03021a79e7018df0794bf162b0a\n",
            "  Stored in directory: /root/.cache/pip/wheels/e4/ef/ab/a9b2e452e18b3dfea0b6114bc57c3b9e8b0e464eb2d03230e1\n",
            "Successfully built h2o\n",
            "Installing collected packages: h2o\n",
            "Successfully installed h2o-3.38.0.2\n",
            "Looking in indexes: https://pypi.org/simple, https://us-python.pkg.dev/colab-wheels/public/simple/\n",
            "Collecting XGBoost==1.6\n",
            "  Downloading xgboost-1.6.0-py3-none-manylinux2014_x86_64.whl (193.7 MB)\n",
            "\u001b[K     |████████████████████████████████| 193.7 MB 29 kB/s \n",
            "\u001b[?25hRequirement already satisfied: scipy in /usr/local/lib/python3.7/dist-packages (from XGBoost==1.6) (1.7.3)\n",
            "Requirement already satisfied: numpy in /usr/local/lib/python3.7/dist-packages (from XGBoost==1.6) (1.21.6)\n",
            "Installing collected packages: XGBoost\n",
            "  Attempting uninstall: XGBoost\n",
            "    Found existing installation: xgboost 0.90\n",
            "    Uninstalling xgboost-0.90:\n",
            "      Successfully uninstalled xgboost-0.90\n",
            "Successfully installed XGBoost-1.6.0\n"
          ]
        }
      ],
      "source": [
        "# Installing the libraries\n",
        "%pip install h2o \n",
        "%pip install 'XGBoost==1.6'"
      ]
    },
    {
      "cell_type": "markdown",
      "id": "JfywpYTVhnwd",
      "metadata": {
        "id": "JfywpYTVhnwd"
      },
      "source": [
        "Global hyperpameters\n"
      ]
    },
    {
      "cell_type": "code",
      "execution_count": null,
      "id": "tyAon7hwhfxb",
      "metadata": {
        "id": "tyAon7hwhfxb"
      },
      "outputs": [],
      "source": [
        "SEED = 3141 # global random seed for better reproducibility"
      ]
    },
    {
      "cell_type": "markdown",
      "id": "zFvJsKERhs7-",
      "metadata": {
        "id": "zFvJsKERhs7-"
      },
      "source": [
        "Python imports and inits"
      ]
    },
    {
      "cell_type": "code",
      "execution_count": null,
      "id": "9dedd2b4-7a59-4912-aae4-54a308259c0c",
      "metadata": {
        "colab": {
          "base_uri": "https://localhost:8080/",
          "height": 544
        },
        "id": "9dedd2b4-7a59-4912-aae4-54a308259c0c",
        "outputId": "dce0bf08-e1bf-4de8-e1ea-44666b2e35f0"
      },
      "outputs": [
        {
          "name": "stdout",
          "output_type": "stream",
          "text": [
            "Checking whether there is an H2O instance running at http://localhost:54321 ..... not found.\n",
            "Attempting to start a local H2O server...\n",
            "  Java Version: openjdk version \"11.0.16\" 2022-07-19; OpenJDK Runtime Environment (build 11.0.16+8-post-Ubuntu-0ubuntu118.04); OpenJDK 64-Bit Server VM (build 11.0.16+8-post-Ubuntu-0ubuntu118.04, mixed mode, sharing)\n",
            "  Starting server from /usr/local/lib/python3.7/dist-packages/h2o/backend/bin/h2o.jar\n",
            "  Ice root: /tmp/tmpf58uumk0\n",
            "  JVM stdout: /tmp/tmpf58uumk0/h2o_unknownUser_started_from_python.out\n",
            "  JVM stderr: /tmp/tmpf58uumk0/h2o_unknownUser_started_from_python.err\n",
            "  Server is running at http://127.0.0.1:54321\n",
            "Connecting to H2O server at http://127.0.0.1:54321 ... successful.\n"
          ]
        },
        {
          "data": {
            "text/html": [
              "\n",
              "<style>\n",
              "\n",
              "#h2o-table-1.h2o-container {\n",
              "  overflow-x: auto;\n",
              "}\n",
              "#h2o-table-1 .h2o-table {\n",
              "  /* width: 100%; */\n",
              "  margin-top: 1em;\n",
              "  margin-bottom: 1em;\n",
              "}\n",
              "#h2o-table-1 .h2o-table caption {\n",
              "  white-space: nowrap;\n",
              "  caption-side: top;\n",
              "  text-align: left;\n",
              "  /* margin-left: 1em; */\n",
              "  margin: 0;\n",
              "  font-size: larger;\n",
              "}\n",
              "#h2o-table-1 .h2o-table thead {\n",
              "  white-space: nowrap; \n",
              "  position: sticky;\n",
              "  top: 0;\n",
              "  box-shadow: 0 -1px inset;\n",
              "}\n",
              "#h2o-table-1 .h2o-table tbody {\n",
              "  overflow: auto;\n",
              "}\n",
              "#h2o-table-1 .h2o-table th,\n",
              "#h2o-table-1 .h2o-table td {\n",
              "  text-align: right;\n",
              "  /* border: 1px solid; */\n",
              "}\n",
              "#h2o-table-1 .h2o-table tr:nth-child(even) {\n",
              "  /* background: #F5F5F5 */\n",
              "}\n",
              "\n",
              "</style>      \n",
              "<div id=\"h2o-table-1\" class=\"h2o-container\">\n",
              "  <table class=\"h2o-table\">\n",
              "    <caption></caption>\n",
              "    <thead></thead>\n",
              "    <tbody><tr><td>H2O_cluster_uptime:</td>\n",
              "<td>03 secs</td></tr>\n",
              "<tr><td>H2O_cluster_timezone:</td>\n",
              "<td>Etc/UTC</td></tr>\n",
              "<tr><td>H2O_data_parsing_timezone:</td>\n",
              "<td>UTC</td></tr>\n",
              "<tr><td>H2O_cluster_version:</td>\n",
              "<td>3.38.0.2</td></tr>\n",
              "<tr><td>H2O_cluster_version_age:</td>\n",
              "<td>5 days </td></tr>\n",
              "<tr><td>H2O_cluster_name:</td>\n",
              "<td>H2O_from_python_unknownUser_8t7xrm</td></tr>\n",
              "<tr><td>H2O_cluster_total_nodes:</td>\n",
              "<td>1</td></tr>\n",
              "<tr><td>H2O_cluster_free_memory:</td>\n",
              "<td>4 Gb</td></tr>\n",
              "<tr><td>H2O_cluster_total_cores:</td>\n",
              "<td>2</td></tr>\n",
              "<tr><td>H2O_cluster_allowed_cores:</td>\n",
              "<td>2</td></tr>\n",
              "<tr><td>H2O_cluster_status:</td>\n",
              "<td>locked, healthy</td></tr>\n",
              "<tr><td>H2O_connection_url:</td>\n",
              "<td>http://127.0.0.1:54321</td></tr>\n",
              "<tr><td>H2O_connection_proxy:</td>\n",
              "<td>{\"http\": null, \"https\": null}</td></tr>\n",
              "<tr><td>H2O_internal_security:</td>\n",
              "<td>False</td></tr>\n",
              "<tr><td>Python_version:</td>\n",
              "<td>3.7.15 final</td></tr></tbody>\n",
              "  </table>\n",
              "</div>\n"
            ],
            "text/plain": [
              "--------------------------  ----------------------------------\n",
              "H2O_cluster_uptime:         03 secs\n",
              "H2O_cluster_timezone:       Etc/UTC\n",
              "H2O_data_parsing_timezone:  UTC\n",
              "H2O_cluster_version:        3.38.0.2\n",
              "H2O_cluster_version_age:    5 days\n",
              "H2O_cluster_name:           H2O_from_python_unknownUser_8t7xrm\n",
              "H2O_cluster_total_nodes:    1\n",
              "H2O_cluster_free_memory:    4 Gb\n",
              "H2O_cluster_total_cores:    2\n",
              "H2O_cluster_allowed_cores:  2\n",
              "H2O_cluster_status:         locked, healthy\n",
              "H2O_connection_url:         http://127.0.0.1:54321\n",
              "H2O_connection_proxy:       {\"http\": null, \"https\": null}\n",
              "H2O_internal_security:      False\n",
              "Python_version:             3.7.15 final\n",
              "--------------------------  ----------------------------------"
            ]
          },
          "metadata": {},
          "output_type": "display_data"
        }
      ],
      "source": [
        "import h2o\n",
        "from h2o.estimators import H2OXGBoostEstimator\n",
        "from h2o.grid.grid_search import H2OGridSearch\n",
        "from sklearn.ensemble import RandomForestRegressor\n",
        "\n",
        "import xgboost as xgb\n",
        "import pandas as pd\n",
        "import numpy as np\n",
        "import matplotlib.pyplot as plt\n",
        "import graphviz\n",
        "\n",
        "h2o.init(max_mem_size='4G')\n",
        "h2o.remove_all()\n",
        "h2o.no_progress()\n",
        "\n",
        "SEED = SEED"
      ]
    },
    {
      "cell_type": "markdown",
      "id": "DVdf5v1uh40A",
      "metadata": {
        "id": "DVdf5v1uh40A"
      },
      "source": [
        "### Importing dataset "
      ]
    },
    {
      "cell_type": "code",
      "execution_count": null,
      "id": "22ebe648-e2c2-45be-8b3f-e645aa7cd1f9",
      "metadata": {
        "colab": {
          "base_uri": "https://localhost:8080/",
          "height": 300
        },
        "id": "22ebe648-e2c2-45be-8b3f-e645aa7cd1f9",
        "outputId": "d410277b-dcd6-4d3b-c621-30dd6d1da5aa"
      },
      "outputs": [
        {
          "data": {
            "text/html": [
              "\n",
              "  <div id=\"df-a57cdbf5-0ce4-4f37-a71e-db2f14f28560\">\n",
              "    <div class=\"colab-df-container\">\n",
              "      <div>\n",
              "<style scoped>\n",
              "    .dataframe tbody tr th:only-of-type {\n",
              "        vertical-align: middle;\n",
              "    }\n",
              "\n",
              "    .dataframe tbody tr th {\n",
              "        vertical-align: top;\n",
              "    }\n",
              "\n",
              "    .dataframe thead th {\n",
              "        text-align: right;\n",
              "    }\n",
              "</style>\n",
              "<table border=\"1\" class=\"dataframe\">\n",
              "  <thead>\n",
              "    <tr style=\"text-align: right;\">\n",
              "      <th></th>\n",
              "      <th>ID</th>\n",
              "      <th>LIMIT_BAL</th>\n",
              "      <th>SEX</th>\n",
              "      <th>RACE</th>\n",
              "      <th>EDUCATION</th>\n",
              "      <th>MARRIAGE</th>\n",
              "      <th>AGE</th>\n",
              "      <th>PAY_0</th>\n",
              "      <th>PAY_2</th>\n",
              "      <th>PAY_3</th>\n",
              "      <th>...</th>\n",
              "      <th>BILL_AMT4</th>\n",
              "      <th>BILL_AMT5</th>\n",
              "      <th>BILL_AMT6</th>\n",
              "      <th>PAY_AMT1</th>\n",
              "      <th>PAY_AMT2</th>\n",
              "      <th>PAY_AMT3</th>\n",
              "      <th>PAY_AMT4</th>\n",
              "      <th>PAY_AMT5</th>\n",
              "      <th>PAY_AMT6</th>\n",
              "      <th>DELINQ_NEXT</th>\n",
              "    </tr>\n",
              "  </thead>\n",
              "  <tbody>\n",
              "    <tr>\n",
              "      <th>0</th>\n",
              "      <td>1</td>\n",
              "      <td>20000</td>\n",
              "      <td>2</td>\n",
              "      <td>1.0</td>\n",
              "      <td>2</td>\n",
              "      <td>1</td>\n",
              "      <td>24</td>\n",
              "      <td>2</td>\n",
              "      <td>2</td>\n",
              "      <td>-1</td>\n",
              "      <td>...</td>\n",
              "      <td>0</td>\n",
              "      <td>0</td>\n",
              "      <td>0</td>\n",
              "      <td>0</td>\n",
              "      <td>689</td>\n",
              "      <td>0</td>\n",
              "      <td>0</td>\n",
              "      <td>0</td>\n",
              "      <td>0</td>\n",
              "      <td>1</td>\n",
              "    </tr>\n",
              "    <tr>\n",
              "      <th>1</th>\n",
              "      <td>2</td>\n",
              "      <td>120000</td>\n",
              "      <td>2</td>\n",
              "      <td>2.0</td>\n",
              "      <td>2</td>\n",
              "      <td>2</td>\n",
              "      <td>26</td>\n",
              "      <td>-1</td>\n",
              "      <td>2</td>\n",
              "      <td>0</td>\n",
              "      <td>...</td>\n",
              "      <td>3272</td>\n",
              "      <td>3455</td>\n",
              "      <td>3261</td>\n",
              "      <td>0</td>\n",
              "      <td>1000</td>\n",
              "      <td>1000</td>\n",
              "      <td>1000</td>\n",
              "      <td>0</td>\n",
              "      <td>2000</td>\n",
              "      <td>1</td>\n",
              "    </tr>\n",
              "    <tr>\n",
              "      <th>2</th>\n",
              "      <td>3</td>\n",
              "      <td>90000</td>\n",
              "      <td>2</td>\n",
              "      <td>3.0</td>\n",
              "      <td>2</td>\n",
              "      <td>2</td>\n",
              "      <td>34</td>\n",
              "      <td>0</td>\n",
              "      <td>0</td>\n",
              "      <td>0</td>\n",
              "      <td>...</td>\n",
              "      <td>14331</td>\n",
              "      <td>14948</td>\n",
              "      <td>15549</td>\n",
              "      <td>1518</td>\n",
              "      <td>1500</td>\n",
              "      <td>1000</td>\n",
              "      <td>1000</td>\n",
              "      <td>1000</td>\n",
              "      <td>5000</td>\n",
              "      <td>0</td>\n",
              "    </tr>\n",
              "    <tr>\n",
              "      <th>3</th>\n",
              "      <td>4</td>\n",
              "      <td>50000</td>\n",
              "      <td>2</td>\n",
              "      <td>4.0</td>\n",
              "      <td>2</td>\n",
              "      <td>1</td>\n",
              "      <td>37</td>\n",
              "      <td>0</td>\n",
              "      <td>0</td>\n",
              "      <td>0</td>\n",
              "      <td>...</td>\n",
              "      <td>28314</td>\n",
              "      <td>28959</td>\n",
              "      <td>29547</td>\n",
              "      <td>2000</td>\n",
              "      <td>2019</td>\n",
              "      <td>1200</td>\n",
              "      <td>1100</td>\n",
              "      <td>1069</td>\n",
              "      <td>1000</td>\n",
              "      <td>0</td>\n",
              "    </tr>\n",
              "    <tr>\n",
              "      <th>4</th>\n",
              "      <td>5</td>\n",
              "      <td>50000</td>\n",
              "      <td>1</td>\n",
              "      <td>3.0</td>\n",
              "      <td>2</td>\n",
              "      <td>1</td>\n",
              "      <td>57</td>\n",
              "      <td>-1</td>\n",
              "      <td>0</td>\n",
              "      <td>-1</td>\n",
              "      <td>...</td>\n",
              "      <td>20940</td>\n",
              "      <td>19146</td>\n",
              "      <td>19131</td>\n",
              "      <td>2000</td>\n",
              "      <td>36681</td>\n",
              "      <td>10000</td>\n",
              "      <td>9000</td>\n",
              "      <td>689</td>\n",
              "      <td>679</td>\n",
              "      <td>0</td>\n",
              "    </tr>\n",
              "  </tbody>\n",
              "</table>\n",
              "<p>5 rows × 26 columns</p>\n",
              "</div>\n",
              "      <button class=\"colab-df-convert\" onclick=\"convertToInteractive('df-a57cdbf5-0ce4-4f37-a71e-db2f14f28560')\"\n",
              "              title=\"Convert this dataframe to an interactive table.\"\n",
              "              style=\"display:none;\">\n",
              "        \n",
              "  <svg xmlns=\"http://www.w3.org/2000/svg\" height=\"24px\"viewBox=\"0 0 24 24\"\n",
              "       width=\"24px\">\n",
              "    <path d=\"M0 0h24v24H0V0z\" fill=\"none\"/>\n",
              "    <path d=\"M18.56 5.44l.94 2.06.94-2.06 2.06-.94-2.06-.94-.94-2.06-.94 2.06-2.06.94zm-11 1L8.5 8.5l.94-2.06 2.06-.94-2.06-.94L8.5 2.5l-.94 2.06-2.06.94zm10 10l.94 2.06.94-2.06 2.06-.94-2.06-.94-.94-2.06-.94 2.06-2.06.94z\"/><path d=\"M17.41 7.96l-1.37-1.37c-.4-.4-.92-.59-1.43-.59-.52 0-1.04.2-1.43.59L10.3 9.45l-7.72 7.72c-.78.78-.78 2.05 0 2.83L4 21.41c.39.39.9.59 1.41.59.51 0 1.02-.2 1.41-.59l7.78-7.78 2.81-2.81c.8-.78.8-2.07 0-2.86zM5.41 20L4 18.59l7.72-7.72 1.47 1.35L5.41 20z\"/>\n",
              "  </svg>\n",
              "      </button>\n",
              "      \n",
              "  <style>\n",
              "    .colab-df-container {\n",
              "      display:flex;\n",
              "      flex-wrap:wrap;\n",
              "      gap: 12px;\n",
              "    }\n",
              "\n",
              "    .colab-df-convert {\n",
              "      background-color: #E8F0FE;\n",
              "      border: none;\n",
              "      border-radius: 50%;\n",
              "      cursor: pointer;\n",
              "      display: none;\n",
              "      fill: #1967D2;\n",
              "      height: 32px;\n",
              "      padding: 0 0 0 0;\n",
              "      width: 32px;\n",
              "    }\n",
              "\n",
              "    .colab-df-convert:hover {\n",
              "      background-color: #E2EBFA;\n",
              "      box-shadow: 0px 1px 2px rgba(60, 64, 67, 0.3), 0px 1px 3px 1px rgba(60, 64, 67, 0.15);\n",
              "      fill: #174EA6;\n",
              "    }\n",
              "\n",
              "    [theme=dark] .colab-df-convert {\n",
              "      background-color: #3B4455;\n",
              "      fill: #D2E3FC;\n",
              "    }\n",
              "\n",
              "    [theme=dark] .colab-df-convert:hover {\n",
              "      background-color: #434B5C;\n",
              "      box-shadow: 0px 1px 3px 1px rgba(0, 0, 0, 0.15);\n",
              "      filter: drop-shadow(0px 1px 2px rgba(0, 0, 0, 0.3));\n",
              "      fill: #FFFFFF;\n",
              "    }\n",
              "  </style>\n",
              "\n",
              "      <script>\n",
              "        const buttonEl =\n",
              "          document.querySelector('#df-a57cdbf5-0ce4-4f37-a71e-db2f14f28560 button.colab-df-convert');\n",
              "        buttonEl.style.display =\n",
              "          google.colab.kernel.accessAllowed ? 'block' : 'none';\n",
              "\n",
              "        async function convertToInteractive(key) {\n",
              "          const element = document.querySelector('#df-a57cdbf5-0ce4-4f37-a71e-db2f14f28560');\n",
              "          const dataTable =\n",
              "            await google.colab.kernel.invokeFunction('convertToInteractive',\n",
              "                                                     [key], {});\n",
              "          if (!dataTable) return;\n",
              "\n",
              "          const docLinkHtml = 'Like what you see? Visit the ' +\n",
              "            '<a target=\"_blank\" href=https://colab.research.google.com/notebooks/data_table.ipynb>data table notebook</a>'\n",
              "            + ' to learn more about interactive tables.';\n",
              "          element.innerHTML = '';\n",
              "          dataTable['output_type'] = 'display_data';\n",
              "          await google.colab.output.renderOutput(dataTable, element);\n",
              "          const docLink = document.createElement('div');\n",
              "          docLink.innerHTML = docLinkHtml;\n",
              "          element.appendChild(docLink);\n",
              "        }\n",
              "      </script>\n",
              "    </div>\n",
              "  </div>\n",
              "  "
            ],
            "text/plain": [
              "   ID  LIMIT_BAL  SEX  RACE  EDUCATION  MARRIAGE  AGE  PAY_0  PAY_2  PAY_3  \\\n",
              "0   1      20000    2   1.0          2         1   24      2      2     -1   \n",
              "1   2     120000    2   2.0          2         2   26     -1      2      0   \n",
              "2   3      90000    2   3.0          2         2   34      0      0      0   \n",
              "3   4      50000    2   4.0          2         1   37      0      0      0   \n",
              "4   5      50000    1   3.0          2         1   57     -1      0     -1   \n",
              "\n",
              "   ...  BILL_AMT4  BILL_AMT5  BILL_AMT6  PAY_AMT1  PAY_AMT2  PAY_AMT3  \\\n",
              "0  ...          0          0          0         0       689         0   \n",
              "1  ...       3272       3455       3261         0      1000      1000   \n",
              "2  ...      14331      14948      15549      1518      1500      1000   \n",
              "3  ...      28314      28959      29547      2000      2019      1200   \n",
              "4  ...      20940      19146      19131      2000     36681     10000   \n",
              "\n",
              "   PAY_AMT4  PAY_AMT5  PAY_AMT6  DELINQ_NEXT  \n",
              "0         0         0         0            1  \n",
              "1      1000         0      2000            1  \n",
              "2      1000      1000      5000            0  \n",
              "3      1100      1069      1000            0  \n",
              "4      9000       689       679            0  \n",
              "\n",
              "[5 rows x 26 columns]"
            ]
          },
          "execution_count": 9,
          "metadata": {},
          "output_type": "execute_result"
        }
      ],
      "source": [
        "data = pd.read_csv('../Data/credit_line_increase.csv')\n",
        "data.head()"
      ]
    },
    {
      "cell_type": "markdown",
      "id": "PNWk_n0nidJZ",
      "metadata": {
        "id": "PNWk_n0nidJZ"
      },
      "source": [
        "### Assign target and inputs for models\n",
        "Note that Demographic features are not used as model inputs."
      ]
    },
    {
      "cell_type": "code",
      "execution_count": null,
      "id": "ede32daf-0899-49b2-8fc3-d2df2fec7116",
      "metadata": {
        "id": "ede32daf-0899-49b2-8fc3-d2df2fec7116"
      },
      "outputs": [],
      "source": [
        "id_col = 'ID'\n",
        "groups = ['SEX', 'RACE', 'EDUCATION', 'MARRIAGE', 'AGE']\n",
        "target = 'DELINQ_NEXT'\n",
        "demographic_cols = ['SEX', 'RACE','EDUCATION', 'MARRIAGE', 'AGE']"
      ]
    },
    {
      "cell_type": "markdown",
      "id": "gKp190SQiijs",
      "metadata": {
        "id": "gKp190SQiijs"
      },
      "source": [
        "### Splitting dataset into train, validation and test set"
      ]
    },
    {
      "cell_type": "code",
      "execution_count": null,
      "id": "03ed75d0-db86-4265-8365-2318cb4d49bf",
      "metadata": {
        "colab": {
          "base_uri": "https://localhost:8080/"
        },
        "id": "03ed75d0-db86-4265-8365-2318cb4d49bf",
        "outputId": "fbcd295c-fd75-4b51-e3e5-73737af15c38"
      },
      "outputs": [
        {
          "name": "stdout",
          "output_type": "stream",
          "text": [
            "Train/Validation/Test sizes: 19958/5036/5006\n"
          ]
        }
      ],
      "source": [
        "np.random.seed(SEED)\n",
        "\n",
        "split_train_test = 2/3\n",
        "\n",
        "split = np.random.rand(len(data)) < split_train_test\n",
        "train = data[split].copy()\n",
        "test = data[~split].copy()\n",
        "\n",
        "split_test_valid = 1/2\n",
        "\n",
        "split = np.random.rand(len(test)) < split_test_valid\n",
        "valid = test[split].copy()\n",
        "test = test[~split].copy()\n",
        "\n",
        "del data\n",
        "\n",
        "print(f\"Train/Validation/Test sizes: {len(train)}/{len(valid)}/{len(test)}\")"
      ]
    },
    {
      "cell_type": "markdown",
      "id": "bkZi3pi7iOcD",
      "metadata": {
        "id": "bkZi3pi7iOcD"
      },
      "source": [
        "### Converting Pandas dataframe into H2O Frame"
      ]
    },
    {
      "cell_type": "code",
      "execution_count": null,
      "id": "7722a87e-3bcc-40b3-8f51-67582cddc730",
      "metadata": {
        "id": "7722a87e-3bcc-40b3-8f51-67582cddc730"
      },
      "outputs": [],
      "source": [
        "features = [col for col in train.columns if col not in groups + ['ID', target]]\n",
        "\n",
        "# Converting Pandas dataframe into H2O Frame\n",
        "training_frame = h2o.H2OFrame(train)\n",
        "validation_frame = h2o.H2OFrame(valid)\n",
        "test_frame = h2o.H2OFrame(test)\n",
        "\n",
        "# Setting target column to factor so we can build classification model\n",
        "training_frame[target] = training_frame[target].asfactor()\n",
        "validation_frame[target] = validation_frame[target].asfactor()\n",
        "test_frame[target] = test_frame[target].asfactor()"
      ]
    },
    {
      "cell_type": "markdown",
      "id": "05893426-87fa-4424-bee5-486cc695f32d",
      "metadata": {
        "id": "05893426-87fa-4424-bee5-486cc695f32d"
      },
      "source": [
        "## 2. Training an H2O XGBoost model\n",
        "\n"
      ]
    },
    {
      "cell_type": "markdown",
      "id": "014c9c6a",
      "metadata": {},
      "source": [
        "### Setting XGBooost Parameters"
      ]
    },
    {
      "cell_type": "code",
      "execution_count": null,
      "id": "d4bee56e-1bd1-4446-98e9-1c8b5a37040a",
      "metadata": {
        "id": "d4bee56e-1bd1-4446-98e9-1c8b5a37040a"
      },
      "outputs": [],
      "source": [
        "param = {\n",
        "      \"ntrees\" : 100\n",
        "    , \"max_depth\" : 10\n",
        "    , \"learn_rate\" : 0.1\n",
        "    , \"sample_rate\" : 0.9\n",
        "    , \"col_sample_rate_per_tree\" : 1\n",
        "    , \"min_rows\" : 5\n",
        "    , \"seed\": SEED\n",
        "    , \"score_tree_interval\": 10\n",
        "}\n",
        "\n",
        "xgb_clf = H2OXGBoostEstimator(**param)\n",
        "xgb_clf = xgb_clf.train(x=features, y=target, \n",
        "                        training_frame=training_frame, validation_frame=validation_frame)"
      ]
    },
    {
      "cell_type": "markdown",
      "id": "ee6db46c-4f7a-4c5e-9064-93d65c57aaf0",
      "metadata": {
        "id": "ee6db46c-4f7a-4c5e-9064-93d65c57aaf0"
      },
      "source": [
        "### Investigating Pairwise Spearman Correlations with the Target Variable"
      ]
    },
    {
      "cell_type": "code",
      "execution_count": null,
      "id": "d8108cad-95c2-486d-9497-f8273e197ab9",
      "metadata": {
        "id": "d8108cad-95c2-486d-9497-f8273e197ab9"
      },
      "outputs": [],
      "source": [
        "corr = pd.DataFrame(train[features + [target]].corr(method='spearman')[target]).iloc[:-1]\n",
        "corr.columns = ['Spearman Correlation Coefficient']\n",
        "\n",
        "values = [int(i) for i in np.sign(corr.values)]\n",
        "mono_constraints = dict(zip(corr.index, values))"
      ]
    },
    {
      "cell_type": "markdown",
      "id": "85f3a04d-77a1-48c4-b5df-7340d475c926",
      "metadata": {
        "id": "85f3a04d-77a1-48c4-b5df-7340d475c926"
      },
      "source": [
        "### Train XGBoost with  L2 Regularisation\n",
        "\n",
        "Using grid Search to find the best hyperparameter values"
      ]
    },
    {
      "cell_type": "code",
      "execution_count": null,
      "id": "749b88bd-dbdb-4bed-8796-74020d4354e7",
      "metadata": {
        "colab": {
          "base_uri": "https://localhost:8080/"
        },
        "id": "749b88bd-dbdb-4bed-8796-74020d4354e7",
        "outputId": "0240b62f-4e2b-4453-9c91-1922a60ea0da"
      },
      "outputs": [
        {
          "name": "stderr",
          "output_type": "stream",
          "text": [
            "/usr/local/lib/python3.7/dist-packages/h2o/estimators/estimator_base.py:193: RuntimeWarning: Using user-provided parameter eta instead of learn_rate.\"\n",
            "  warnings.warn(mesg[\"message\"], RuntimeWarning)\n"
          ]
        }
      ],
      "source": [
        "# params obtained out of grid Search\n",
        "params_best = {'reg_lambda': 0.25,\n",
        "               'min_child_weight': 1,\n",
        "               'eta': 0.08,\n",
        "               'sample_rate': 0.8,\n",
        "               'col_sample_rate_per_tree': 0.8,\n",
        "               'max_depth': 3}\n",
        "\n",
        "xgb_best = H2OXGBoostEstimator(**params_best, \n",
        "                               monotone_constraints=mono_constraints)\n",
        "\n",
        "xgb_best = xgb_best.train(x=features, y=target, \n",
        "                          training_frame=training_frame, \n",
        "                          validation_frame=validation_frame)"
      ]
    },
    {
      "cell_type": "markdown",
      "id": "dd4e8cbf-7a24-4ea8-a98e-f597901eebcf",
      "metadata": {
        "id": "dd4e8cbf-7a24-4ea8-a98e-f597901eebcf"
      },
      "source": [
        "## 3. Model Extraction Attacks\n",
        "\n",
        "Model Extraction is a confidentiality attack, meaning it compromises the confi‐\n",
        "dentiality of an ML model. To conduct a model extraction attack, a hacker sub‐\n",
        "mits data to a prediction API, gets predictions back and builds a surrogate model\n",
        "between the submitted data and the received predictions to reverse-engineer a\n",
        "copy of the model. With this information, they may uncover proprietary business\n",
        "processes and decision-making."
      ]
    },
    {
      "cell_type": "code",
      "execution_count": null,
      "id": "f50972b7-7270-4cf7-a2d3-458a4273ce03",
      "metadata": {
        "id": "f50972b7-7270-4cf7-a2d3-458a4273ce03"
      },
      "outputs": [],
      "source": [
        "# We'll suppose access to a model prediction API endpoint that we can query without restriction\n",
        "\n",
        "def model_endpoint(observations: pd.DataFrame):\n",
        "    pred_frame = h2o.H2OFrame(observations)\n",
        "    prediction = xgb_clf.predict(pred_frame)['p1'].as_data_frame().values\n",
        "    return prediction\n"
      ]
    },
    {
      "cell_type": "code",
      "execution_count": null,
      "id": "07023cc5-4e23-4908-bf95-ccde984e80c8",
      "metadata": {
        "id": "07023cc5-4e23-4908-bf95-ccde984e80c8"
      },
      "outputs": [],
      "source": [
        "# best guess at feature distributions\n",
        "schema_dict = {'PAY_0': {'values': np.arange(-1, 10), 'dist': 'uniform'},\n",
        "               'PAY_2': {'values': np.arange(-1, 10), 'dist': 'uniform'},\n",
        "               'PAY_3': {'values': np.arange(-1, 10), 'dist': 'uniform'},\n",
        "               'PAY_4': {'values': np.arange(-1, 10), 'dist': 'uniform'},\n",
        "               'PAY_5': {'values': np.arange(-1, 10), 'dist': 'uniform'},\n",
        "               'PAY_6': {'values': np.arange(-1, 10), 'dist': 'uniform'},\n",
        "               'LIMIT_BAL': {'min': 500, 'scale': 1000000, 'dist': 'exponential'},\n",
        "               'BILL_AMT1': {'min': 0, 'scale': 600000, 'dist': 'exponential'},\n",
        "               'BILL_AMT2': {'min': 0, 'scale': 600000, 'dist': 'exponential'},\n",
        "               'BILL_AMT3': {'min': 0, 'scale': 600000, 'dist': 'exponential'},\n",
        "               'BILL_AMT4': {'min': 0, 'scale': 600000, 'dist': 'exponential'},\n",
        "               'BILL_AMT5': {'min': 0, 'scale': 600000, 'dist': 'exponential'},\n",
        "               'BILL_AMT6': {'min': 0, 'scale': 600000, 'dist': 'exponential'},\n",
        "               'PAY_AMT1': {'min': 0, 'scale': 300000, 'dist': 'exponential'},\n",
        "               'PAY_AMT2': {'min': 0, 'scale': 300000, 'dist': 'exponential'},\n",
        "               'PAY_AMT3': {'min': 0, 'scale': 300000, 'dist': 'exponential'},\n",
        "               'PAY_AMT4': {'min': 0, 'scale': 300000, 'dist': 'exponential'},\n",
        "               'PAY_AMT5': {'min': 0, 'scale': 300000, 'dist': 'exponential'},\n",
        "               'PAY_AMT6': {'min': 0, 'scale': 300000, 'dist': 'exponential'}}\n",
        "\n",
        "N = 50000 # rows of simulated data\n",
        "np.random.seed(SEED) # same results each time cell is run    \n",
        "\n",
        "def make_random_frame(schema, N):\n",
        "    random_frame = pd.DataFrame(columns=list(schema_dict.keys())) # init empty frame\n",
        "\n",
        "\n",
        "    for j in list(schema_dict.keys()): # loop through features\n",
        "\n",
        "        # simulate PAY_* features\n",
        "        if schema_dict[j]['dist'] == 'uniform':\n",
        "            random_frame[j] = np.random.choice(schema_dict[j]['values'],\n",
        "                                               size=N)\n",
        "\n",
        "        # simulate LIMIT_BAL, BILL_AMT*, PAY_AMT* features\n",
        "        if schema_dict[j]['dist'] == 'exponential':\n",
        "            random_frame[j] = schema_dict[j]['min'] + np.random.exponential(scale=schema_dict[j]['scale'], \n",
        "                                                                            size=N)\n",
        "            \n",
        "    return random_frame\n",
        "\n",
        "random_frame = make_random_frame(schema_dict, N)"
      ]
    },
    {
      "cell_type": "code",
      "execution_count": null,
      "id": "b85f6ea4-cba8-4e04-865c-104cc86fe4a7",
      "metadata": {
        "id": "b85f6ea4-cba8-4e04-865c-104cc86fe4a7"
      },
      "outputs": [],
      "source": [
        "# We augmented the random data above with another data synthesis technique that leverages \n",
        "#  access to the model endpoint.\n",
        "\n",
        "random_frame = pd.read_csv('../Data/synthetic_data.csv', index_col=0)\n",
        "\n",
        "split = np.random.rand(len(random_frame)) < split_train_test\n",
        "random_train = random_frame[split].copy()\n",
        "random_test = random_frame[~split].copy()\n",
        "\n",
        "split = np.random.rand(len(random_test)) < split_test_valid\n",
        "random_valid = random_test[split].copy()\n",
        "random_test = random_test[~split].copy()"
      ]
    },
    {
      "cell_type": "code",
      "execution_count": null,
      "id": "251de1ca-e099-4942-92df-a43b29aafd9a",
      "metadata": {
        "colab": {
          "base_uri": "https://localhost:8080/"
        },
        "id": "251de1ca-e099-4942-92df-a43b29aafd9a",
        "outputId": "c41a51fe-dd28-4d38-fc57-fa5d1ab055b3"
      },
      "outputs": [
        {
          "name": "stdout",
          "output_type": "stream",
          "text": [
            "R2 on training data (simulated): 0.605\n",
            "R2 on test data (simulated): 0.601\n",
            "R2 on real data: 0.608\n",
            "real/test: 1.0120976812025775\n"
          ]
        }
      ],
      "source": [
        "from sklearn.tree import DecisionTreeRegressor\n",
        "from sklearn import tree\n",
        "from sklearn.metrics import r2_score\n",
        "\n",
        "surrogate_model_params = {'max_depth': 3,\n",
        "                         'random_state': SEED}\n",
        "extracted_model_dt = DecisionTreeRegressor(**surrogate_model_params).fit(random_train[features], \n",
        "                                                                         model_endpoint(random_train[features]))\n",
        "\n",
        "r2_train = r2_score(y_true=model_endpoint(random_train[features]), \n",
        "                     y_pred=extracted_model_dt.predict(random_train[features]))\n",
        "r2_test = r2_score(y_true=model_endpoint(random_test[features]), \n",
        "                     y_pred=extracted_model_dt.predict(random_test[features]))\n",
        "r2_holdout = r2_score(y_true=model_endpoint(test[features]), \n",
        "                     y_pred=extracted_model_dt.predict(test[features]))\n",
        "\n",
        "print(f'R2 on training data (simulated): {np.round(r2_train, 3)}')\n",
        "print(f'R2 on test data (simulated): {np.round(r2_test, 3)}')\n",
        "print(f'R2 on real data: {np.round(r2_holdout, 3)}')\n",
        "\n",
        "print(f'real/test: {r2_holdout/r2_test}')"
      ]
    },
    {
      "cell_type": "code",
      "execution_count": null,
      "id": "63806856-291c-4055-930c-c97f3c1abe8a",
      "metadata": {
        "colab": {
          "base_uri": "https://localhost:8080/"
        },
        "id": "63806856-291c-4055-930c-c97f3c1abe8a",
        "outputId": "9674b5b0-8676-4a26-8f53-f89623ab2ec3"
      },
      "outputs": [
        {
          "name": "stdout",
          "output_type": "stream",
          "text": [
            "MAE on test data (simulated): 0.0825\n",
            "MAE on real data: 0.09586\n",
            "test/real: 0.860618968222088\n"
          ]
        }
      ],
      "source": [
        "from sklearn.metrics import mean_absolute_error\n",
        "\n",
        "mae_test = mean_absolute_error(y_true=model_endpoint(random_test[features]), \n",
        "                              y_pred=extracted_model_dt.predict(random_test[features]))\n",
        "\n",
        "mae_holdout = mean_absolute_error(y_true=model_endpoint(test[features]), \n",
        "                                 y_pred=extracted_model_dt.predict(test[features]))\n",
        "\n",
        "print(f'MAE on test data (simulated): {np.round(mae_test, 5)}')\n",
        "print(f'MAE on real data: {np.round(mae_holdout, 5)}')\n",
        "\n",
        "print(f'test/real: {mae_test/mae_holdout}')"
      ]
    },
    {
      "cell_type": "code",
      "execution_count": null,
      "id": "86286435-410b-4e25-8fca-eab81524f2aa",
      "metadata": {
        "colab": {
          "base_uri": "https://localhost:8080/",
          "height": 370
        },
        "id": "86286435-410b-4e25-8fca-eab81524f2aa",
        "outputId": "7d690e56-363b-43b2-c82a-31a66626c642"
      },
      "outputs": [
        {
          "data": {
            "image/png": "[encoded data removed]",
            "text/plain": [
              "<Figure size 1080x360 with 3 Axes>"
            ]
          },
          "metadata": {
            "needs_background": "light"
          },
          "output_type": "display_data"
        }
      ],
      "source": [
        "fig, axs = plt.subplots(1, 3, figsize=(15, 5))\n",
        "\n",
        "axs[0].scatter(model_endpoint(random_train[features]), extracted_model_dt.predict(random_train[features]))\n",
        "axs[0].set_title(\"Training Data (Simulated)\")\n",
        "axs[0].set_ylabel('Extracted Score')\n",
        "axs[0].set_xlabel('True Score')\n",
        "\n",
        "axs[1].scatter(model_endpoint(random_test[features]), extracted_model_dt.predict(random_test[features]))\n",
        "axs[1].set_title(\"Test Data (Simulated)\")\n",
        "axs[1].set_xlabel('True Score')\n",
        "\n",
        "\n",
        "axs[2].scatter(model_endpoint(test[features]), extracted_model_dt.predict(test[features]))\n",
        "axs[2].set_title(\"Holdout Data (Real)\")\n",
        "axs[2].set_xlabel('True Score')\n",
        "\n",
        "_ = fig.suptitle(\"Decision Tree Surrogate\")\n",
        "fig.savefig('Data/Data/Figures/overfit_DT_extraction')"
      ]
    },
    {
      "cell_type": "code",
      "execution_count": null,
      "id": "8150cdfd-cf57-4a88-a3c4-17ed3466549a",
      "metadata": {
        "colab": {
          "base_uri": "https://localhost:8080/",
          "height": 785
        },
        "id": "8150cdfd-cf57-4a88-a3c4-17ed3466549a",
        "outputId": "c984d54b-3967-46b9-f996-20225f7c31c0"
      },
      "outputs": [
        {
          "data": {
            "image/svg+xml": "<?xml version=\"1.0\" encoding=\"UTF-8\" standalone=\"no\"?>\n<!DOCTYPE svg PUBLIC \"-//W3C//DTD SVG 1.1//EN\"\n \"http://www.w3.org/Graphics/SVG/1.1/DTD/svg11.dtd\">\n<!-- Generated by graphviz version 2.40.1 (20161225.0304)\n -->\n<!-- Title: Tree Pages: 1 -->\n<svg width=\"830pt\" height=\"558pt\"\n viewBox=\"0.00 0.00 830.00 558.00\" xmlns=\"http://www.w3.org/2000/svg\" xmlns:xlink=\"http://www.w3.org/1999/xlink\">\n<g id=\"graph0\" class=\"graph\" transform=\"scale(1 1) rotate(0) translate(4 554)\">\n<title>Tree</title>\n<polygon fill=\"#ffffff\" stroke=\"transparent\" points=\"-4,4 -4,-554 826,-554 826,4 -4,4\"/>\n<!-- 0 -->\n<g id=\"node1\" class=\"node\">\n<title>0</title>\n<path fill=\"#f6d6be\" stroke=\"#000000\" d=\"M149,-336.5C149,-336.5 12,-336.5 12,-336.5 6,-336.5 0,-330.5 0,-324.5 0,-324.5 0,-280.5 0,-280.5 0,-274.5 6,-268.5 12,-268.5 12,-268.5 149,-268.5 149,-268.5 155,-268.5 161,-274.5 161,-280.5 161,-280.5 161,-324.5 161,-324.5 161,-330.5 155,-336.5 149,-336.5\"/>\n<text text-anchor=\"middle\" x=\"80.5\" y=\"-321.3\" font-family=\"Helvetica,sans-Serif\" font-size=\"14.00\" fill=\"#000000\">PAY_0 &lt;= 1.5</text>\n<text text-anchor=\"middle\" x=\"80.5\" y=\"-306.3\" font-family=\"Helvetica,sans-Serif\" font-size=\"14.00\" fill=\"#000000\">squared_error = 0.028</text>\n<text text-anchor=\"middle\" x=\"80.5\" y=\"-291.3\" font-family=\"Helvetica,sans-Serif\" font-size=\"14.00\" fill=\"#000000\">samples = 35849</text>\n<text text-anchor=\"middle\" x=\"80.5\" y=\"-276.3\" font-family=\"Helvetica,sans-Serif\" font-size=\"14.00\" fill=\"#000000\">value = 0.341</text>\n</g>\n<!-- 1 -->\n<g id=\"node2\" class=\"node\">\n<title>1</title>\n<path fill=\"#fcf0e8\" stroke=\"#000000\" d=\"M381,-372.5C381,-372.5 209,-372.5 209,-372.5 203,-372.5 197,-366.5 197,-360.5 197,-360.5 197,-316.5 197,-316.5 197,-310.5 203,-304.5 209,-304.5 209,-304.5 381,-304.5 381,-304.5 387,-304.5 393,-310.5 393,-316.5 393,-316.5 393,-360.5 393,-360.5 393,-366.5 387,-372.5 381,-372.5\"/>\n<text text-anchor=\"middle\" x=\"295\" y=\"-357.3\" font-family=\"Helvetica,sans-Serif\" font-size=\"14.00\" fill=\"#000000\">BILL_AMT2 &lt;= 478224.531</text>\n<text text-anchor=\"middle\" x=\"295\" y=\"-342.3\" font-family=\"Helvetica,sans-Serif\" font-size=\"14.00\" fill=\"#000000\">squared_error = 0.013</text>\n<text text-anchor=\"middle\" x=\"295\" y=\"-327.3\" font-family=\"Helvetica,sans-Serif\" font-size=\"14.00\" fill=\"#000000\">samples = 10556</text>\n<text text-anchor=\"middle\" x=\"295\" y=\"-312.3\" font-family=\"Helvetica,sans-Serif\" font-size=\"14.00\" fill=\"#000000\">value = 0.203</text>\n</g>\n<!-- 0&#45;&gt;1 -->\n<g id=\"edge1\" class=\"edge\">\n<title>0&#45;&gt;1</title>\n<path fill=\"none\" stroke=\"#000000\" d=\"M161.2876,-316.0588C169.6526,-317.4627 178.2468,-318.9051 186.8486,-320.3487\"/>\n<polygon fill=\"#000000\" stroke=\"#000000\" points=\"186.4953,-323.8383 196.9367,-322.0418 187.654,-316.9349 186.4953,-323.8383\"/>\n<text text-anchor=\"middle\" x=\"176.5769\" y=\"-332.8497\" font-family=\"Helvetica,sans-Serif\" font-size=\"14.00\" fill=\"#000000\">True</text>\n</g>\n<!-- 8 -->\n<g id=\"node9\" class=\"node\">\n<title>8</title>\n<path fill=\"#f4caac\" stroke=\"#000000\" d=\"M375.5,-245.5C375.5,-245.5 214.5,-245.5 214.5,-245.5 208.5,-245.5 202.5,-239.5 202.5,-233.5 202.5,-233.5 202.5,-189.5 202.5,-189.5 202.5,-183.5 208.5,-177.5 214.5,-177.5 214.5,-177.5 375.5,-177.5 375.5,-177.5 381.5,-177.5 387.5,-183.5 387.5,-189.5 387.5,-189.5 387.5,-233.5 387.5,-233.5 387.5,-239.5 381.5,-245.5 375.5,-245.5\"/>\n<text text-anchor=\"middle\" x=\"295\" y=\"-230.3\" font-family=\"Helvetica,sans-Serif\" font-size=\"14.00\" fill=\"#000000\">PAY_AMT5 &lt;= 10073.337</text>\n<text text-anchor=\"middle\" x=\"295\" y=\"-215.3\" font-family=\"Helvetica,sans-Serif\" font-size=\"14.00\" fill=\"#000000\">squared_error = 0.023</text>\n<text text-anchor=\"middle\" x=\"295\" y=\"-200.3\" font-family=\"Helvetica,sans-Serif\" font-size=\"14.00\" fill=\"#000000\">samples = 25293</text>\n<text text-anchor=\"middle\" x=\"295\" y=\"-185.3\" font-family=\"Helvetica,sans-Serif\" font-size=\"14.00\" fill=\"#000000\">value = 0.398</text>\n</g>\n<!-- 0&#45;&gt;8 -->\n<g id=\"edge8\" class=\"edge\">\n<title>0&#45;&gt;8</title>\n<path fill=\"none\" stroke=\"#000000\" d=\"M160.6769,-268.4856C175.1237,-262.3566 190.2717,-255.9302 204.9761,-249.6919\"/>\n<polygon fill=\"#000000\" stroke=\"#000000\" points=\"206.7243,-252.7523 214.5632,-245.6247 203.9904,-246.3082 206.7243,-252.7523\"/>\n<text text-anchor=\"middle\" x=\"191.3854\" y=\"-232.555\" font-family=\"Helvetica,sans-Serif\" font-size=\"14.00\" fill=\"#000000\">False</text>\n</g>\n<!-- 2 -->\n<g id=\"node3\" class=\"node\">\n<title>2</title>\n<path fill=\"#fefbf9\" stroke=\"#000000\" d=\"M595.5,-486.5C595.5,-486.5 458.5,-486.5 458.5,-486.5 452.5,-486.5 446.5,-480.5 446.5,-474.5 446.5,-474.5 446.5,-430.5 446.5,-430.5 446.5,-424.5 452.5,-418.5 458.5,-418.5 458.5,-418.5 595.5,-418.5 595.5,-418.5 601.5,-418.5 607.5,-424.5 607.5,-430.5 607.5,-430.5 607.5,-474.5 607.5,-474.5 607.5,-480.5 601.5,-486.5 595.5,-486.5\"/>\n<text text-anchor=\"middle\" x=\"527\" y=\"-471.3\" font-family=\"Helvetica,sans-Serif\" font-size=\"14.00\" fill=\"#000000\">PAY_0 &lt;= 0.5</text>\n<text text-anchor=\"middle\" x=\"527\" y=\"-456.3\" font-family=\"Helvetica,sans-Serif\" font-size=\"14.00\" fill=\"#000000\">squared_error = 0.007</text>\n<text text-anchor=\"middle\" x=\"527\" y=\"-441.3\" font-family=\"Helvetica,sans-Serif\" font-size=\"14.00\" fill=\"#000000\">samples = 6350</text>\n<text text-anchor=\"middle\" x=\"527\" y=\"-426.3\" font-family=\"Helvetica,sans-Serif\" font-size=\"14.00\" fill=\"#000000\">value = 0.147</text>\n</g>\n<!-- 1&#45;&gt;2 -->\n<g id=\"edge2\" class=\"edge\">\n<title>1&#45;&gt;2</title>\n<path fill=\"none\" stroke=\"#000000\" d=\"M364.2934,-372.5493C390.8045,-385.5764 421.2231,-400.5234 448.5313,-413.9421\"/>\n<polygon fill=\"#000000\" stroke=\"#000000\" points=\"447.1445,-417.1603 457.663,-418.4293 450.2316,-410.8778 447.1445,-417.1603\"/>\n</g>\n<!-- 5 -->\n<g id=\"node6\" class=\"node\">\n<title>5</title>\n<path fill=\"#f9e0ce\" stroke=\"#000000\" d=\"M613,-372.5C613,-372.5 441,-372.5 441,-372.5 435,-372.5 429,-366.5 429,-360.5 429,-360.5 429,-316.5 429,-316.5 429,-310.5 435,-304.5 441,-304.5 441,-304.5 613,-304.5 613,-304.5 619,-304.5 625,-310.5 625,-316.5 625,-316.5 625,-360.5 625,-360.5 625,-366.5 619,-372.5 613,-372.5\"/>\n<text text-anchor=\"middle\" x=\"527\" y=\"-357.3\" font-family=\"Helvetica,sans-Serif\" font-size=\"14.00\" fill=\"#000000\">BILL_AMT1 &lt;= 239032.852</text>\n<text text-anchor=\"middle\" x=\"527\" y=\"-342.3\" font-family=\"Helvetica,sans-Serif\" font-size=\"14.00\" fill=\"#000000\">squared_error = 0.011</text>\n<text text-anchor=\"middle\" x=\"527\" y=\"-327.3\" font-family=\"Helvetica,sans-Serif\" font-size=\"14.00\" fill=\"#000000\">samples = 4206</text>\n<text text-anchor=\"middle\" x=\"527\" y=\"-312.3\" font-family=\"Helvetica,sans-Serif\" font-size=\"14.00\" fill=\"#000000\">value = 0.288</text>\n</g>\n<!-- 1&#45;&gt;5 -->\n<g id=\"edge5\" class=\"edge\">\n<title>1&#45;&gt;5</title>\n<path fill=\"none\" stroke=\"#000000\" d=\"M393.0526,-338.5C401.5857,-338.5 410.2516,-338.5 418.8595,-338.5\"/>\n<polygon fill=\"#000000\" stroke=\"#000000\" points=\"418.9264,-342.0001 428.9264,-338.5 418.9263,-335.0001 418.9264,-342.0001\"/>\n</g>\n<!-- 3 -->\n<g id=\"node4\" class=\"node\">\n<title>3</title>\n<path fill=\"#ffffff\" stroke=\"#000000\" d=\"M810,-550C810,-550 673,-550 673,-550 667,-550 661,-544 661,-538 661,-538 661,-509 661,-509 661,-503 667,-497 673,-497 673,-497 810,-497 810,-497 816,-497 822,-503 822,-509 822,-509 822,-538 822,-538 822,-544 816,-550 810,-550\"/>\n<text text-anchor=\"middle\" x=\"741.5\" y=\"-534.8\" font-family=\"Helvetica,sans-Serif\" font-size=\"14.00\" fill=\"#000000\">squared_error = 0.005</text>\n<text text-anchor=\"middle\" x=\"741.5\" y=\"-519.8\" font-family=\"Helvetica,sans-Serif\" font-size=\"14.00\" fill=\"#000000\">samples = 4655</text>\n<text text-anchor=\"middle\" x=\"741.5\" y=\"-504.8\" font-family=\"Helvetica,sans-Serif\" font-size=\"14.00\" fill=\"#000000\">value = 0.127</text>\n</g>\n<!-- 2&#45;&gt;3 -->\n<g id=\"edge3\" class=\"edge\">\n<title>2&#45;&gt;3</title>\n<path fill=\"none\" stroke=\"#000000\" d=\"M607.7876,-479.2409C621.9718,-483.9359 636.8147,-488.8489 651.237,-493.6227\"/>\n<polygon fill=\"#000000\" stroke=\"#000000\" points=\"650.548,-497.0814 661.1413,-496.9011 652.7477,-490.4359 650.548,-497.0814\"/>\n</g>\n<!-- 4 -->\n<g id=\"node5\" class=\"node\">\n<title>4</title>\n<path fill=\"#fcf1e8\" stroke=\"#000000\" d=\"M810,-479C810,-479 673,-479 673,-479 667,-479 661,-473 661,-467 661,-467 661,-438 661,-438 661,-432 667,-426 673,-426 673,-426 810,-426 810,-426 816,-426 822,-432 822,-438 822,-438 822,-467 822,-467 822,-473 816,-479 810,-479\"/>\n<text text-anchor=\"middle\" x=\"741.5\" y=\"-463.8\" font-family=\"Helvetica,sans-Serif\" font-size=\"14.00\" fill=\"#000000\">squared_error = 0.008</text>\n<text text-anchor=\"middle\" x=\"741.5\" y=\"-448.8\" font-family=\"Helvetica,sans-Serif\" font-size=\"14.00\" fill=\"#000000\">samples = 1695</text>\n<text text-anchor=\"middle\" x=\"741.5\" y=\"-433.8\" font-family=\"Helvetica,sans-Serif\" font-size=\"14.00\" fill=\"#000000\">value = 0.202</text>\n</g>\n<!-- 2&#45;&gt;4 -->\n<g id=\"edge4\" class=\"edge\">\n<title>2&#45;&gt;4</title>\n<path fill=\"none\" stroke=\"#000000\" d=\"M607.7876,-452.5C621.7398,-452.5 636.3294,-452.5 650.5291,-452.5\"/>\n<polygon fill=\"#000000\" stroke=\"#000000\" points=\"650.7852,-456.0001 660.7852,-452.5 650.7852,-449.0001 650.7852,-456.0001\"/>\n</g>\n<!-- 6 -->\n<g id=\"node7\" class=\"node\">\n<title>6</title>\n<path fill=\"#fbeade\" stroke=\"#000000\" d=\"M805.5,-408C805.5,-408 677.5,-408 677.5,-408 671.5,-408 665.5,-402 665.5,-396 665.5,-396 665.5,-367 665.5,-367 665.5,-361 671.5,-355 677.5,-355 677.5,-355 805.5,-355 805.5,-355 811.5,-355 817.5,-361 817.5,-367 817.5,-367 817.5,-396 817.5,-396 817.5,-402 811.5,-408 805.5,-408\"/>\n<text text-anchor=\"middle\" x=\"741.5\" y=\"-392.8\" font-family=\"Helvetica,sans-Serif\" font-size=\"14.00\" fill=\"#000000\">squared_error = 0.01</text>\n<text text-anchor=\"middle\" x=\"741.5\" y=\"-377.8\" font-family=\"Helvetica,sans-Serif\" font-size=\"14.00\" fill=\"#000000\">samples = 1465</text>\n<text text-anchor=\"middle\" x=\"741.5\" y=\"-362.8\" font-family=\"Helvetica,sans-Serif\" font-size=\"14.00\" fill=\"#000000\">value = 0.236</text>\n</g>\n<!-- 5&#45;&gt;6 -->\n<g id=\"edge6\" class=\"edge\">\n<title>5&#45;&gt;6</title>\n<path fill=\"none\" stroke=\"#000000\" d=\"M625.1477,-358.1753C635.2414,-360.1987 645.4434,-362.2439 655.3926,-364.2384\"/>\n<polygon fill=\"#000000\" stroke=\"#000000\" points=\"654.7513,-367.6794 665.2442,-366.2133 656.1273,-360.8159 654.7513,-367.6794\"/>\n</g>\n<!-- 7 -->\n<g id=\"node8\" class=\"node\">\n<title>7</title>\n<path fill=\"#f7dac5\" stroke=\"#000000\" d=\"M810,-337C810,-337 673,-337 673,-337 667,-337 661,-331 661,-325 661,-325 661,-296 661,-296 661,-290 667,-284 673,-284 673,-284 810,-284 810,-284 816,-284 822,-290 822,-296 822,-296 822,-325 822,-325 822,-331 816,-337 810,-337\"/>\n<text text-anchor=\"middle\" x=\"741.5\" y=\"-321.8\" font-family=\"Helvetica,sans-Serif\" font-size=\"14.00\" fill=\"#000000\">squared_error = 0.009</text>\n<text text-anchor=\"middle\" x=\"741.5\" y=\"-306.8\" font-family=\"Helvetica,sans-Serif\" font-size=\"14.00\" fill=\"#000000\">samples = 2741</text>\n<text text-anchor=\"middle\" x=\"741.5\" y=\"-291.8\" font-family=\"Helvetica,sans-Serif\" font-size=\"14.00\" fill=\"#000000\">value = 0.316</text>\n</g>\n<!-- 5&#45;&gt;7 -->\n<g id=\"edge7\" class=\"edge\">\n<title>5&#45;&gt;7</title>\n<path fill=\"none\" stroke=\"#000000\" d=\"M625.1477,-325.6882C633.6177,-324.5825 642.164,-323.4669 650.5732,-322.3692\"/>\n<polygon fill=\"#000000\" stroke=\"#000000\" points=\"651.2854,-325.806 660.7482,-321.041 650.3793,-318.8649 651.2854,-325.806\"/>\n</g>\n<!-- 9 -->\n<g id=\"node10\" class=\"node\">\n<title>9</title>\n<path fill=\"#e88e4d\" stroke=\"#000000\" d=\"M613,-245.5C613,-245.5 441,-245.5 441,-245.5 435,-245.5 429,-239.5 429,-233.5 429,-233.5 429,-189.5 429,-189.5 429,-183.5 435,-177.5 441,-177.5 441,-177.5 613,-177.5 613,-177.5 619,-177.5 625,-183.5 625,-189.5 625,-189.5 625,-233.5 625,-233.5 625,-239.5 619,-245.5 613,-245.5\"/>\n<text text-anchor=\"middle\" x=\"527\" y=\"-230.3\" font-family=\"Helvetica,sans-Serif\" font-size=\"14.00\" fill=\"#000000\">BILL_AMT2 &lt;= 484847.469</text>\n<text text-anchor=\"middle\" x=\"527\" y=\"-215.3\" font-family=\"Helvetica,sans-Serif\" font-size=\"14.00\" fill=\"#000000\">squared_error = 0.023</text>\n<text text-anchor=\"middle\" x=\"527\" y=\"-200.3\" font-family=\"Helvetica,sans-Serif\" font-size=\"14.00\" fill=\"#000000\">samples = 1501</text>\n<text text-anchor=\"middle\" x=\"527\" y=\"-185.3\" font-family=\"Helvetica,sans-Serif\" font-size=\"14.00\" fill=\"#000000\">value = 0.71</text>\n</g>\n<!-- 8&#45;&gt;9 -->\n<g id=\"edge9\" class=\"edge\">\n<title>8&#45;&gt;9</title>\n<path fill=\"none\" stroke=\"#000000\" d=\"M387.6927,-211.5C397.8213,-211.5 408.1972,-211.5 418.494,-211.5\"/>\n<polygon fill=\"#000000\" stroke=\"#000000\" points=\"418.7524,-215.0001 428.7523,-211.5 418.7523,-208.0001 418.7524,-215.0001\"/>\n</g>\n<!-- 12 -->\n<g id=\"node13\" class=\"node\">\n<title>12</title>\n<path fill=\"#f5ceb2\" stroke=\"#000000\" d=\"M613,-131.5C613,-131.5 441,-131.5 441,-131.5 435,-131.5 429,-125.5 429,-119.5 429,-119.5 429,-75.5 429,-75.5 429,-69.5 435,-63.5 441,-63.5 441,-63.5 613,-63.5 613,-63.5 619,-63.5 625,-69.5 625,-75.5 625,-75.5 625,-119.5 625,-119.5 625,-125.5 619,-131.5 613,-131.5\"/>\n<text text-anchor=\"middle\" x=\"527\" y=\"-116.3\" font-family=\"Helvetica,sans-Serif\" font-size=\"14.00\" fill=\"#000000\">BILL_AMT2 &lt;= 480257.203</text>\n<text text-anchor=\"middle\" x=\"527\" y=\"-101.3\" font-family=\"Helvetica,sans-Serif\" font-size=\"14.00\" fill=\"#000000\">squared_error = 0.016</text>\n<text text-anchor=\"middle\" x=\"527\" y=\"-86.3\" font-family=\"Helvetica,sans-Serif\" font-size=\"14.00\" fill=\"#000000\">samples = 23792</text>\n<text text-anchor=\"middle\" x=\"527\" y=\"-71.3\" font-family=\"Helvetica,sans-Serif\" font-size=\"14.00\" fill=\"#000000\">value = 0.378</text>\n</g>\n<!-- 8&#45;&gt;12 -->\n<g id=\"edge12\" class=\"edge\">\n<title>8&#45;&gt;12</title>\n<path fill=\"none\" stroke=\"#000000\" d=\"M364.2934,-177.4507C390.8045,-164.4236 421.2231,-149.4766 448.5313,-136.0579\"/>\n<polygon fill=\"#000000\" stroke=\"#000000\" points=\"450.2316,-139.1222 457.663,-131.5707 447.1445,-132.8397 450.2316,-139.1222\"/>\n</g>\n<!-- 10 -->\n<g id=\"node11\" class=\"node\">\n<title>10</title>\n<path fill=\"#eb9d64\" stroke=\"#000000\" d=\"M810,-266C810,-266 673,-266 673,-266 667,-266 661,-260 661,-254 661,-254 661,-225 661,-225 661,-219 667,-213 673,-213 673,-213 810,-213 810,-213 816,-213 822,-219 822,-225 822,-225 822,-254 822,-254 822,-260 816,-266 810,-266\"/>\n<text text-anchor=\"middle\" x=\"741.5\" y=\"-250.8\" font-family=\"Helvetica,sans-Serif\" font-size=\"14.00\" fill=\"#000000\">squared_error = 0.023</text>\n<text text-anchor=\"middle\" x=\"741.5\" y=\"-235.8\" font-family=\"Helvetica,sans-Serif\" font-size=\"14.00\" fill=\"#000000\">samples = 701</text>\n<text text-anchor=\"middle\" x=\"741.5\" y=\"-220.8\" font-family=\"Helvetica,sans-Serif\" font-size=\"14.00\" fill=\"#000000\">value = 0.634</text>\n</g>\n<!-- 9&#45;&gt;10 -->\n<g id=\"edge10\" class=\"edge\">\n<title>9&#45;&gt;10</title>\n<path fill=\"none\" stroke=\"#000000\" d=\"M625.1477,-224.3118C633.6177,-225.4175 642.164,-226.5331 650.5732,-227.6308\"/>\n<polygon fill=\"#000000\" stroke=\"#000000\" points=\"650.3793,-231.1351 660.7482,-228.959 651.2854,-224.194 650.3793,-231.1351\"/>\n</g>\n<!-- 11 -->\n<g id=\"node12\" class=\"node\">\n<title>11</title>\n<path fill=\"#e58139\" stroke=\"#000000\" d=\"M810,-195C810,-195 673,-195 673,-195 667,-195 661,-189 661,-183 661,-183 661,-154 661,-154 661,-148 667,-142 673,-142 673,-142 810,-142 810,-142 816,-142 822,-148 822,-154 822,-154 822,-183 822,-183 822,-189 816,-195 810,-195\"/>\n<text text-anchor=\"middle\" x=\"741.5\" y=\"-179.8\" font-family=\"Helvetica,sans-Serif\" font-size=\"14.00\" fill=\"#000000\">squared_error = 0.014</text>\n<text text-anchor=\"middle\" x=\"741.5\" y=\"-164.8\" font-family=\"Helvetica,sans-Serif\" font-size=\"14.00\" fill=\"#000000\">samples = 800</text>\n<text text-anchor=\"middle\" x=\"741.5\" y=\"-149.8\" font-family=\"Helvetica,sans-Serif\" font-size=\"14.00\" fill=\"#000000\">value = 0.777</text>\n</g>\n<!-- 9&#45;&gt;11 -->\n<g id=\"edge11\" class=\"edge\">\n<title>9&#45;&gt;11</title>\n<path fill=\"none\" stroke=\"#000000\" d=\"M625.1477,-191.8247C633.7108,-190.1081 642.3518,-188.3759 650.8503,-186.6722\"/>\n<polygon fill=\"#000000\" stroke=\"#000000\" points=\"651.6312,-190.0854 660.7482,-184.688 650.2553,-183.2219 651.6312,-190.0854\"/>\n</g>\n<!-- 13 -->\n<g id=\"node14\" class=\"node\">\n<title>13</title>\n<path fill=\"#f7dac4\" stroke=\"#000000\" d=\"M810,-124C810,-124 673,-124 673,-124 667,-124 661,-118 661,-112 661,-112 661,-83 661,-83 661,-77 667,-71 673,-71 673,-71 810,-71 810,-71 816,-71 822,-77 822,-83 822,-83 822,-112 822,-112 822,-118 816,-124 810,-124\"/>\n<text text-anchor=\"middle\" x=\"741.5\" y=\"-108.8\" font-family=\"Helvetica,sans-Serif\" font-size=\"14.00\" fill=\"#000000\">squared_error = 0.012</text>\n<text text-anchor=\"middle\" x=\"741.5\" y=\"-93.8\" font-family=\"Helvetica,sans-Serif\" font-size=\"14.00\" fill=\"#000000\">samples = 13078</text>\n<text text-anchor=\"middle\" x=\"741.5\" y=\"-78.8\" font-family=\"Helvetica,sans-Serif\" font-size=\"14.00\" fill=\"#000000\">value = 0.32</text>\n</g>\n<!-- 12&#45;&gt;13 -->\n<g id=\"edge13\" class=\"edge\">\n<title>12&#45;&gt;13</title>\n<path fill=\"none\" stroke=\"#000000\" d=\"M625.1477,-97.5C633.6177,-97.5 642.164,-97.5 650.5732,-97.5\"/>\n<polygon fill=\"#000000\" stroke=\"#000000\" points=\"650.7482,-101.0001 660.7482,-97.5 650.7482,-94.0001 650.7482,-101.0001\"/>\n</g>\n<!-- 14 -->\n<g id=\"node15\" class=\"node\">\n<title>14</title>\n<path fill=\"#f2c09d\" stroke=\"#000000\" d=\"M810,-53C810,-53 673,-53 673,-53 667,-53 661,-47 661,-41 661,-41 661,-12 661,-12 661,-6 667,0 673,0 673,0 810,0 810,0 816,0 822,-6 822,-12 822,-12 822,-41 822,-41 822,-47 816,-53 810,-53\"/>\n<text text-anchor=\"middle\" x=\"741.5\" y=\"-37.8\" font-family=\"Helvetica,sans-Serif\" font-size=\"14.00\" fill=\"#000000\">squared_error = 0.013</text>\n<text text-anchor=\"middle\" x=\"741.5\" y=\"-22.8\" font-family=\"Helvetica,sans-Serif\" font-size=\"14.00\" fill=\"#000000\">samples = 10714</text>\n<text text-anchor=\"middle\" x=\"741.5\" y=\"-7.8\" font-family=\"Helvetica,sans-Serif\" font-size=\"14.00\" fill=\"#000000\">value = 0.45</text>\n</g>\n<!-- 12&#45;&gt;14 -->\n<g id=\"edge14\" class=\"edge\">\n<title>12&#45;&gt;14</title>\n<path fill=\"none\" stroke=\"#000000\" d=\"M625.1477,-65.0129C634.059,-62.0632 643.0546,-59.0856 651.8863,-56.1623\"/>\n<polygon fill=\"#000000\" stroke=\"#000000\" points=\"652.9998,-59.4806 661.3934,-53.0155 650.8001,-52.8352 652.9998,-59.4806\"/>\n</g>\n</g>\n</svg>\n",
            "text/plain": [
              "<graphviz.files.Source at 0x7fb53d6b7050>"
            ]
          },
          "execution_count": 23,
          "metadata": {},
          "output_type": "execute_result"
        }
      ],
      "source": [
        "\n",
        "\n",
        "dot_data = tree.export_graphviz(extracted_model_dt, \n",
        "                                max_depth=5,\n",
        "                                rounded=True,\n",
        "                                out_file=None, \n",
        "                                feature_names=features,  \n",
        "                                filled=True,\n",
        "                                rotate=True)\n",
        "\n",
        "graph = graphviz.Source(dot_data, format=\"svg\") \n",
        "graph\n"
      ]
    },
    {
      "cell_type": "code",
      "execution_count": null,
      "id": "01306ced-c23b-400f-81e1-151a8b31da67",
      "metadata": {
        "colab": {
          "base_uri": "https://localhost:8080/"
        },
        "id": "01306ced-c23b-400f-81e1-151a8b31da67",
        "outputId": "71581c15-685f-4649-bd29-099e4c384e3c"
      },
      "outputs": [
        {
          "name": "stdout",
          "output_type": "stream",
          "text": [
            "Done. Final number of trees: 15\n"
          ]
        }
      ],
      "source": [
        "drand_train = xgb.DMatrix(random_train[features], \n",
        "                          label=model_endpoint(random_train[features]))\n",
        "\n",
        "drand_valid = xgb.DMatrix(random_valid[features], \n",
        "                          label=model_endpoint(random_valid[features]))\n",
        "\n",
        "drand_test = xgb.DMatrix(random_test[features], \n",
        "                          label=model_endpoint(random_test[features]))\n",
        "\n",
        "base_score = model_endpoint(random_train[features]).mean()\n",
        "\n",
        "params = {\n",
        "    'objective': 'reg:squarederror',\n",
        "    'eval_metric': 'rmse',\n",
        "    'eta': 0.1,\n",
        "    'max_depth': 3,\n",
        "    'base_score': base_score,\n",
        "    'seed': SEED\n",
        "}\n",
        "\n",
        "# Train using early stopping on the validation dataset.\n",
        "watchlist = [(drand_train, 'train'), (drand_valid, 'eval')]\n",
        "\n",
        "extracted_model_xgb = xgb.train(params,         \n",
        "                                drand_train,                   \n",
        "                                num_boost_round=15,                     \n",
        "                                evals=watchlist,\n",
        "                                early_stopping_rounds=5,\n",
        "                                verbose_eval=False)\n",
        "print(f\"Done. Final number of trees: {extracted_model_xgb.best_ntree_limit}\")"
      ]
    },
    {
      "cell_type": "code",
      "execution_count": null,
      "id": "83739f32-45d7-465d-a790-bdf275c14616",
      "metadata": {
        "colab": {
          "base_uri": "https://localhost:8080/"
        },
        "id": "83739f32-45d7-465d-a790-bdf275c14616",
        "outputId": "e0ee719d-4af1-4ee4-a49b-c9815f379f72"
      },
      "outputs": [
        {
          "name": "stdout",
          "output_type": "stream",
          "text": [
            "R2 on training data (simulated): 0.637\n",
            "R2 on test data (simulated): 0.635\n",
            "R2 on real data: 0.632\n",
            "real/test: 0.9952221215926895\n"
          ]
        }
      ],
      "source": [
        "dtest = xgb.DMatrix(test[features], \n",
        "                    label=test[target])\n",
        "\n",
        "r2_train = r2_score(y_true=model_endpoint(random_train[features]), \n",
        "                     y_pred=extracted_model_xgb.predict(drand_train))\n",
        "r2_test = r2_score(y_true=model_endpoint(random_test[features]), \n",
        "                     y_pred=extracted_model_xgb.predict(drand_test))\n",
        "r2_holdout = r2_score(y_true=model_endpoint(test[features]), \n",
        "                     y_pred=extracted_model_xgb.predict(dtest))\n",
        "\n",
        "print(f'R2 on training data (simulated): {np.round(r2_train, 3)}')\n",
        "print(f'R2 on test data (simulated): {np.round(r2_test, 3)}')\n",
        "print(f'R2 on real data: {np.round(r2_holdout, 3)}')\n",
        "\n",
        "print(f'real/test: {r2_holdout/r2_test}')"
      ]
    },
    {
      "cell_type": "code",
      "execution_count": null,
      "id": "67161797-301f-4bb3-b94a-b812cb1c90c8",
      "metadata": {
        "colab": {
          "base_uri": "https://localhost:8080/"
        },
        "id": "67161797-301f-4bb3-b94a-b812cb1c90c8",
        "outputId": "ec15a7cd-0111-48a0-c2e7-664b704ffcc3"
      },
      "outputs": [
        {
          "name": "stdout",
          "output_type": "stream",
          "text": [
            "MAE on test data (simulated): 0.08063\n",
            "MAE on real data: 0.10758\n",
            "test/real: 0.7495186611129127\n"
          ]
        }
      ],
      "source": [
        "mae_test = mean_absolute_error(y_true=model_endpoint(random_test[features]), \n",
        "                              y_pred=extracted_model_xgb.predict(drand_test))\n",
        "\n",
        "mae_holdout = mean_absolute_error(y_true=model_endpoint(test[features]), \n",
        "                                 y_pred=extracted_model_xgb.predict(dtest))\n",
        "\n",
        "print(f'MAE on test data (simulated): {np.round(mae_test, 5)}')\n",
        "print(f'MAE on real data: {np.round(mae_holdout, 5)}')\n",
        "\n",
        "print(f'test/real: {mae_test/mae_holdout}')"
      ]
    },
    {
      "cell_type": "code",
      "execution_count": null,
      "id": "eaf13eef-9f28-43e8-a153-4dff3aee25a5",
      "metadata": {
        "colab": {
          "base_uri": "https://localhost:8080/",
          "height": 370
        },
        "id": "eaf13eef-9f28-43e8-a153-4dff3aee25a5",
        "outputId": "a9c70c1a-020d-41da-d6f8-e04f60d801c2"
      },
      "outputs": [
        {
          "data": {
            "image/png": "[encoded data removed]",
            "text/plain": [
              "<Figure size 1080x360 with 3 Axes>"
            ]
          },
          "metadata": {
            "needs_background": "light"
          },
          "output_type": "display_data"
        }
      ],
      "source": [
        "fig, axs = plt.subplots(1, 3, figsize=(15, 5))\n",
        "\n",
        "axs[0].scatter(model_endpoint(random_train[features]), extracted_model_xgb.predict(drand_train))\n",
        "axs[0].set_title(\"Training Data (Simulated)\")\n",
        "axs[0].set_ylabel('Extracted Score')\n",
        "axs[0].set_xlabel('True Score')\n",
        "\n",
        "axs[1].scatter(model_endpoint(random_test[features]), extracted_model_xgb.predict(drand_test))\n",
        "axs[1].set_title(\"Test Data (Simulated)\")\n",
        "axs[1].set_xlabel('True Score')\n",
        "\n",
        "\n",
        "axs[2].scatter(model_endpoint(test[features]), extracted_model_xgb.predict(dtest))\n",
        "axs[2].set_title(\"Holdout Data (Real)\")\n",
        "axs[2].set_xlabel('True Score')\n",
        "\n",
        "_ = fig.suptitle(\"XGBoost Surrogate\")\n",
        "fig.savefig('Data/Data/Figures/overfit_XGB_extraction')"
      ]
    },
    {
      "cell_type": "code",
      "execution_count": null,
      "id": "b29dccca-f2d4-4cec-8aca-c75b8feb0fbc",
      "metadata": {
        "colab": {
          "base_uri": "https://localhost:8080/",
          "height": 239
        },
        "id": "b29dccca-f2d4-4cec-8aca-c75b8feb0fbc",
        "outputId": "3a7c3d8f-3744-46bb-8f33-db1944e511de"
      },
      "outputs": [
        {
          "data": {
            "text/plain": [
              "<matplotlib.axes._subplots.AxesSubplot at 0x7fb53d1bea50>"
            ]
          },
          "execution_count": 28,
          "metadata": {},
          "output_type": "execute_result"
        },
        {
          "data": {
            "image/png": "[encoded data removed]",
            "text/plain": [
              "<Figure size 2160x2160 with 1 Axes>"
            ]
          },
          "metadata": {
            "needs_background": "light"
          },
          "output_type": "display_data"
        }
      ],
      "source": [
        "# Plot the first tree\n",
        "fig, ax = plt.subplots(figsize=(30,30))\n",
        "xgb.plot_tree(extracted_model_xgb, num_trees=0, ax=ax)"
      ]
    },
    {
      "cell_type": "code",
      "execution_count": null,
      "id": "1392e52d-3e31-4bb5-b27c-df0545a7b264",
      "metadata": {
        "colab": {
          "base_uri": "https://localhost:8080/"
        },
        "id": "1392e52d-3e31-4bb5-b27c-df0545a7b264",
        "outputId": "548c8e07-8994-4e4e-d2f1-02aa54653433"
      },
      "outputs": [
        {
          "name": "stderr",
          "output_type": "stream",
          "text": [
            "/usr/local/lib/python3.7/dist-packages/ipykernel_launcher.py:5: DataConversionWarning: A column-vector y was passed when a 1d array was expected. Please change the shape of y to (n_samples,), for example using ravel().\n",
            "  \"\"\"\n"
          ]
        }
      ],
      "source": [
        "\n",
        "\n",
        "rf_surrogate_model_params = {'n_estimators': 10,\n",
        "                             'max_depth': 5,\n",
        "                             'random_state': SEED}\n",
        "extracted_model_rf = RandomForestRegressor(**rf_surrogate_model_params).fit(random_train[features], \n",
        "                                                                      model_endpoint(random_train[features]))"
      ]
    },
    {
      "cell_type": "code",
      "execution_count": null,
      "id": "03a5dcd5-5bdb-46fc-b081-8d3a4fd8999d",
      "metadata": {
        "colab": {
          "base_uri": "https://localhost:8080/"
        },
        "id": "03a5dcd5-5bdb-46fc-b081-8d3a4fd8999d",
        "outputId": "8c44fb57-862d-4b83-cdaf-3eef1a702115"
      },
      "outputs": [
        {
          "name": "stdout",
          "output_type": "stream",
          "text": [
            "R2 on training data (simulated): 0.718\n",
            "R2 on test data (simulated): 0.714\n",
            "R2 on real data: 0.659\n",
            "real/test: 0.9228979450375038 \n",
            "\n",
            "MAE on test data (simulated): 0.06876\n",
            "MAE on real data: 0.09894\n",
            "test/real: 0.694944130708152\n"
          ]
        }
      ],
      "source": [
        "r2_train = r2_score(y_true=model_endpoint(random_train[features]), \n",
        "                     y_pred=extracted_model_rf.predict(random_train[features]))\n",
        "r2_test = r2_score(y_true=model_endpoint(random_test[features]), \n",
        "                     y_pred=extracted_model_rf.predict(random_test[features]))\n",
        "r2_holdout = r2_score(y_true=model_endpoint(test[features]), \n",
        "                     y_pred=extracted_model_rf.predict(test[features]))\n",
        "\n",
        "print(f'R2 on training data (simulated): {np.round(r2_train, 3)}')\n",
        "print(f'R2 on test data (simulated): {np.round(r2_test, 3)}')\n",
        "print(f'R2 on real data: {np.round(r2_holdout, 3)}')\n",
        "\n",
        "print(f'real/test: {r2_holdout/r2_test} \\n')\n",
        "\n",
        "\n",
        "mae_test = mean_absolute_error(y_true=model_endpoint(random_test[features]), \n",
        "                              y_pred=extracted_model_rf.predict(random_test[features]))\n",
        "\n",
        "mae_holdout = mean_absolute_error(y_true=model_endpoint(test[features]), \n",
        "                                 y_pred=extracted_model_rf.predict(test[features]))\n",
        "\n",
        "print(f'MAE on test data (simulated): {np.round(mae_test, 5)}')\n",
        "print(f'MAE on real data: {np.round(mae_holdout, 5)}')\n",
        "\n",
        "print(f'test/real: {mae_test/mae_holdout}')"
      ]
    },
    {
      "cell_type": "code",
      "execution_count": null,
      "id": "251d5b2f-d6db-4cd9-9815-843ea72d8bc6",
      "metadata": {
        "colab": {
          "base_uri": "https://localhost:8080/",
          "height": 370
        },
        "id": "251d5b2f-d6db-4cd9-9815-843ea72d8bc6",
        "outputId": "492fffe6-1906-4893-bc9e-e651f551dc2e"
      },
      "outputs": [
        {
          "data": {
            "image/png": "[encoded data removed]",
            "text/plain": [
              "<Figure size 1080x360 with 3 Axes>"
            ]
          },
          "metadata": {
            "needs_background": "light"
          },
          "output_type": "display_data"
        }
      ],
      "source": [
        "fig, axs = plt.subplots(1, 3, figsize=(15, 5))\n",
        "\n",
        "axs[0].scatter(model_endpoint(random_train[features]), extracted_model_rf.predict(random_train[features]))\n",
        "axs[0].set_title(\"Training Data (Simulated)\")\n",
        "axs[0].set_ylabel('Extracted Score')\n",
        "axs[0].set_xlabel('True Score')\n",
        "\n",
        "axs[1].scatter(model_endpoint(random_test[features]), extracted_model_rf.predict(random_test[features]))\n",
        "axs[1].set_title(\"Test Data (Simulated)\")\n",
        "axs[1].set_xlabel('True Score')\n",
        "\n",
        "\n",
        "axs[2].scatter(model_endpoint(test[features]), extracted_model_rf.predict(test[features]))\n",
        "axs[2].set_title(\"Holdout Data (Real)\")\n",
        "axs[2].set_xlabel('True Score')\n",
        "\n",
        "_ = fig.suptitle(\"Random Forest Surrogate\")\n",
        "fig.savefig('Data/Data/Figures/overfit_RF_extraction')"
      ]
    },
    {
      "cell_type": "markdown",
      "id": "XKPC0BNQpQ2K",
      "metadata": {
        "id": "XKPC0BNQpQ2K"
      },
      "source": [
        "## 4. Adversarial Example Attacks\n",
        "\n",
        "Adversarial Examples attack is an integrity attack. It compromises the correctness of\n",
        "model predictions. To perform an adversarial example attack a hacker will probe\n",
        "how a model responds to input data. In computer vision systems, gradient infor‐\n",
        "mation is often used to fine tune images that evoke strange responses from the\n",
        "model. For structured data, we can use individual conditional expectation (ICE)\n",
        "or genetic algorithms to find rows of data that cause unexpected model predic‐\n",
        "tions.\n",
        "\n",
        "For this exercise, we’ll take advantage of the fact that we’ve already extracted a deci‐\n",
        "sion tree representation of our model,"
      ]
    },
    {
      "cell_type": "code",
      "execution_count": null,
      "id": "e7f70782-a69c-4f77-a269-c77b9915d0fd",
      "metadata": {
        "colab": {
          "base_uri": "https://localhost:8080/"
        },
        "id": "e7f70782-a69c-4f77-a269-c77b9915d0fd",
        "outputId": "10aa0e35-7754-47b4-e4b1-3dc049e9743c"
      },
      "outputs": [
        {
          "data": {
            "text/plain": [
              "LIMIT_BAL     1.147198e+06\n",
              "PAY_0         6.000000e+00\n",
              "PAY_2         2.000000e+00\n",
              "PAY_3         8.000000e+00\n",
              "PAY_4         4.000000e+00\n",
              "PAY_5         6.000000e+00\n",
              "PAY_6         1.000000e+00\n",
              "BILL_AMT1     4.634452e+05\n",
              "BILL_AMT2     1.420634e+05\n",
              "BILL_AMT3     5.395007e+05\n",
              "BILL_AMT4     4.862355e+05\n",
              "BILL_AMT5     3.676834e+05\n",
              "BILL_AMT6     8.278216e+05\n",
              "PAY_AMT1      3.925474e+05\n",
              "PAY_AMT2      1.340791e+05\n",
              "PAY_AMT3      2.130838e+04\n",
              "PAY_AMT4      7.114574e+05\n",
              "PAY_AMT5      1.134584e+05\n",
              "PAY_AMT6      3.428318e+05\n",
              "prediction    2.556394e-01\n",
              "Name: 15, dtype: float64"
            ]
          },
          "execution_count": 34,
          "metadata": {},
          "output_type": "execute_result"
        }
      ],
      "source": [
        "# Let's target the leaf in our DT surrogate that follows a favorable decision path\n",
        "\n",
        "random_frame['prediction'] = model_endpoint(random_frame[features])\n",
        "\n",
        "# Pick an observation that receieved a high score\n",
        "random_obs = random_frame.loc[(random_frame['prediction'] < 0.3) & (random_frame['prediction'] > 0.2)].iloc[0]\n",
        "random_obs"
      ]
    },
    {
      "cell_type": "code",
      "execution_count": null,
      "id": "cafd7c1b-ba40-4098-9ce8-fe3347f1123c",
      "metadata": {
        "colab": {
          "base_uri": "https://localhost:8080/"
        },
        "id": "cafd7c1b-ba40-4098-9ce8-fe3347f1123c",
        "outputId": "941d1950-a70c-4b38-b926-8d075b0836c8"
      },
      "outputs": [
        {
          "name": "stdout",
          "output_type": "stream",
          "text": [
            "Old prediction: 0.256\n",
            "Example 1 prediction: 0.177\n",
            "Example 2 prediction: 0.100\n",
            "Example 3 prediction: 0.057\n"
          ]
        }
      ],
      "source": [
        "adversarial_1 = random_obs.copy()\n",
        "adversarial_1['PAY_0'] = 1.0\n",
        "\n",
        "adversarial_2 = adversarial_1.copy()\n",
        "adversarial_2['PAY_2'] = 0.0\n",
        "\n",
        "adversarial_3 = adversarial_2.copy()\n",
        "adversarial_3['PAY_0'] = 0.0\n",
        "\n",
        "adversaries = pd.DataFrame({'original': random_obs, \n",
        "                            'example_1': adversarial_1,\n",
        "                            'example_2': adversarial_2,\n",
        "                            'example_3': adversarial_3}).transpose()\n",
        "\n",
        "adversarial_example_predictions = model_endpoint(adversaries[features])\n",
        "\n",
        "print(f\"Old prediction: {adversarial_example_predictions[0][0]:.3f}\")\n",
        "print(f\"Example 1 prediction: {adversarial_example_predictions[1][0]:.3f}\")\n",
        "print(f\"Example 2 prediction: {adversarial_example_predictions[2][0]:.3f}\")\n",
        "print(f\"Example 3 prediction: {adversarial_example_predictions[3][0]:.3f}\")"
      ]
    },
    {
      "cell_type": "code",
      "execution_count": null,
      "id": "05a3bad0-9f13-4431-af24-e5cb97b1a5e5",
      "metadata": {
        "colab": {
          "base_uri": "https://localhost:8080/"
        },
        "id": "05a3bad0-9f13-4431-af24-e5cb97b1a5e5",
        "outputId": "81fffc12-1266-4b92-e98a-237d0f82aeb8"
      },
      "outputs": [
        {
          "name": "stdout",
          "output_type": "stream",
          "text": [
            "Original score percentile: 72.7%\n",
            "New score percentile: 20.8%\n"
          ]
        }
      ],
      "source": [
        "original_quantile = len(train.loc[model_endpoint(train[features]) < adversarial_example_predictions[0]]) / len(train)\n",
        "new_quantile = len(train.loc[model_endpoint(train[features]) < adversarial_example_predictions[3]]) / len(train)\n",
        "\n",
        "print(f\"Original score percentile: {100*original_quantile:.1f}%\")\n",
        "print(f\"New score percentile: {100*new_quantile:.1f}%\")"
      ]
    },
    {
      "cell_type": "code",
      "execution_count": null,
      "id": "700f655c-1545-4dae-91b8-4f6be55d368f",
      "metadata": {
        "colab": {
          "base_uri": "https://localhost:8080/",
          "height": 990
        },
        "id": "700f655c-1545-4dae-91b8-4f6be55d368f",
        "outputId": "ffc4103c-badb-4e8f-eacb-f3943d59a538"
      },
      "outputs": [
        {
          "data": {
            "text/html": [
              "\n",
              "  <div id=\"df-c6cb805c-d485-44e4-b12c-8ab60924fb94\">\n",
              "    <div class=\"colab-df-container\">\n",
              "      <div>\n",
              "<style scoped>\n",
              "    .dataframe tbody tr th:only-of-type {\n",
              "        vertical-align: middle;\n",
              "    }\n",
              "\n",
              "    .dataframe tbody tr th {\n",
              "        vertical-align: top;\n",
              "    }\n",
              "\n",
              "    .dataframe thead th {\n",
              "        text-align: right;\n",
              "    }\n",
              "</style>\n",
              "<table border=\"1\" class=\"dataframe\">\n",
              "  <thead>\n",
              "    <tr style=\"text-align: right;\">\n",
              "      <th></th>\n",
              "      <th>Tree</th>\n",
              "      <th>Node</th>\n",
              "      <th>ID</th>\n",
              "      <th>Feature</th>\n",
              "      <th>Split</th>\n",
              "      <th>Yes</th>\n",
              "      <th>No</th>\n",
              "      <th>Missing</th>\n",
              "      <th>Gain</th>\n",
              "      <th>Cover</th>\n",
              "      <th>Category</th>\n",
              "    </tr>\n",
              "  </thead>\n",
              "  <tbody>\n",
              "    <tr>\n",
              "      <th>0</th>\n",
              "      <td>0</td>\n",
              "      <td>0</td>\n",
              "      <td>0-0</td>\n",
              "      <td>PAY_0</td>\n",
              "      <td>2.0000</td>\n",
              "      <td>0-1</td>\n",
              "      <td>0-2</td>\n",
              "      <td>0-1</td>\n",
              "      <td>282.312042</td>\n",
              "      <td>35849.0</td>\n",
              "      <td>NaN</td>\n",
              "    </tr>\n",
              "    <tr>\n",
              "      <th>1</th>\n",
              "      <td>0</td>\n",
              "      <td>1</td>\n",
              "      <td>0-1</td>\n",
              "      <td>BILL_AMT2</td>\n",
              "      <td>478224.5310</td>\n",
              "      <td>0-3</td>\n",
              "      <td>0-4</td>\n",
              "      <td>0-3</td>\n",
              "      <td>50.173447</td>\n",
              "      <td>10556.0</td>\n",
              "      <td>NaN</td>\n",
              "    </tr>\n",
              "    <tr>\n",
              "      <th>2</th>\n",
              "      <td>0</td>\n",
              "      <td>2</td>\n",
              "      <td>0-2</td>\n",
              "      <td>PAY_AMT5</td>\n",
              "      <td>10073.3379</td>\n",
              "      <td>0-5</td>\n",
              "      <td>0-6</td>\n",
              "      <td>0-5</td>\n",
              "      <td>155.244659</td>\n",
              "      <td>25293.0</td>\n",
              "      <td>NaN</td>\n",
              "    </tr>\n",
              "    <tr>\n",
              "      <th>3</th>\n",
              "      <td>0</td>\n",
              "      <td>3</td>\n",
              "      <td>0-3</td>\n",
              "      <td>PAY_0</td>\n",
              "      <td>1.0000</td>\n",
              "      <td>0-7</td>\n",
              "      <td>0-8</td>\n",
              "      <td>0-7</td>\n",
              "      <td>6.844757</td>\n",
              "      <td>6350.0</td>\n",
              "      <td>NaN</td>\n",
              "    </tr>\n",
              "    <tr>\n",
              "      <th>4</th>\n",
              "      <td>0</td>\n",
              "      <td>4</td>\n",
              "      <td>0-4</td>\n",
              "      <td>BILL_AMT1</td>\n",
              "      <td>239032.8440</td>\n",
              "      <td>0-9</td>\n",
              "      <td>0-10</td>\n",
              "      <td>0-9</td>\n",
              "      <td>6.116165</td>\n",
              "      <td>4206.0</td>\n",
              "      <td>NaN</td>\n",
              "    </tr>\n",
              "    <tr>\n",
              "      <th>5</th>\n",
              "      <td>0</td>\n",
              "      <td>5</td>\n",
              "      <td>0-5</td>\n",
              "      <td>BILL_AMT2</td>\n",
              "      <td>484847.4690</td>\n",
              "      <td>0-11</td>\n",
              "      <td>0-12</td>\n",
              "      <td>0-11</td>\n",
              "      <td>7.451599</td>\n",
              "      <td>1501.0</td>\n",
              "      <td>NaN</td>\n",
              "    </tr>\n",
              "    <tr>\n",
              "      <th>6</th>\n",
              "      <td>0</td>\n",
              "      <td>6</td>\n",
              "      <td>0-6</td>\n",
              "      <td>BILL_AMT2</td>\n",
              "      <td>480257.1880</td>\n",
              "      <td>0-13</td>\n",
              "      <td>0-14</td>\n",
              "      <td>0-13</td>\n",
              "      <td>99.216141</td>\n",
              "      <td>23792.0</td>\n",
              "      <td>NaN</td>\n",
              "    </tr>\n",
              "    <tr>\n",
              "      <th>7</th>\n",
              "      <td>0</td>\n",
              "      <td>7</td>\n",
              "      <td>0-7</td>\n",
              "      <td>Leaf</td>\n",
              "      <td>NaN</td>\n",
              "      <td>NaN</td>\n",
              "      <td>NaN</td>\n",
              "      <td>NaN</td>\n",
              "      <td>-0.021330</td>\n",
              "      <td>4655.0</td>\n",
              "      <td>NaN</td>\n",
              "    </tr>\n",
              "    <tr>\n",
              "      <th>8</th>\n",
              "      <td>0</td>\n",
              "      <td>8</td>\n",
              "      <td>0-8</td>\n",
              "      <td>Leaf</td>\n",
              "      <td>NaN</td>\n",
              "      <td>NaN</td>\n",
              "      <td>NaN</td>\n",
              "      <td>NaN</td>\n",
              "      <td>-0.013889</td>\n",
              "      <td>1695.0</td>\n",
              "      <td>NaN</td>\n",
              "    </tr>\n",
              "    <tr>\n",
              "      <th>9</th>\n",
              "      <td>0</td>\n",
              "      <td>9</td>\n",
              "      <td>0-9</td>\n",
              "      <td>Leaf</td>\n",
              "      <td>NaN</td>\n",
              "      <td>NaN</td>\n",
              "      <td>NaN</td>\n",
              "      <td>NaN</td>\n",
              "      <td>-0.010477</td>\n",
              "      <td>1465.0</td>\n",
              "      <td>NaN</td>\n",
              "    </tr>\n",
              "    <tr>\n",
              "      <th>10</th>\n",
              "      <td>0</td>\n",
              "      <td>10</td>\n",
              "      <td>0-10</td>\n",
              "      <td>Leaf</td>\n",
              "      <td>NaN</td>\n",
              "      <td>NaN</td>\n",
              "      <td>NaN</td>\n",
              "      <td>NaN</td>\n",
              "      <td>-0.002473</td>\n",
              "      <td>2741.0</td>\n",
              "      <td>NaN</td>\n",
              "    </tr>\n",
              "    <tr>\n",
              "      <th>11</th>\n",
              "      <td>0</td>\n",
              "      <td>11</td>\n",
              "      <td>0-11</td>\n",
              "      <td>Leaf</td>\n",
              "      <td>NaN</td>\n",
              "      <td>NaN</td>\n",
              "      <td>NaN</td>\n",
              "      <td>NaN</td>\n",
              "      <td>0.029299</td>\n",
              "      <td>701.0</td>\n",
              "      <td>NaN</td>\n",
              "    </tr>\n",
              "    <tr>\n",
              "      <th>12</th>\n",
              "      <td>0</td>\n",
              "      <td>12</td>\n",
              "      <td>0-12</td>\n",
              "      <td>Leaf</td>\n",
              "      <td>NaN</td>\n",
              "      <td>NaN</td>\n",
              "      <td>NaN</td>\n",
              "      <td>NaN</td>\n",
              "      <td>0.043540</td>\n",
              "      <td>800.0</td>\n",
              "      <td>NaN</td>\n",
              "    </tr>\n",
              "    <tr>\n",
              "      <th>13</th>\n",
              "      <td>0</td>\n",
              "      <td>13</td>\n",
              "      <td>0-13</td>\n",
              "      <td>Leaf</td>\n",
              "      <td>NaN</td>\n",
              "      <td>NaN</td>\n",
              "      <td>NaN</td>\n",
              "      <td>NaN</td>\n",
              "      <td>-0.002081</td>\n",
              "      <td>13078.0</td>\n",
              "      <td>NaN</td>\n",
              "    </tr>\n",
              "    <tr>\n",
              "      <th>14</th>\n",
              "      <td>0</td>\n",
              "      <td>14</td>\n",
              "      <td>0-14</td>\n",
              "      <td>Leaf</td>\n",
              "      <td>NaN</td>\n",
              "      <td>NaN</td>\n",
              "      <td>NaN</td>\n",
              "      <td>NaN</td>\n",
              "      <td>0.010898</td>\n",
              "      <td>10714.0</td>\n",
              "      <td>NaN</td>\n",
              "    </tr>\n",
              "    <tr>\n",
              "      <th>15</th>\n",
              "      <td>1</td>\n",
              "      <td>0</td>\n",
              "      <td>1-0</td>\n",
              "      <td>PAY_0</td>\n",
              "      <td>2.0000</td>\n",
              "      <td>1-1</td>\n",
              "      <td>1-2</td>\n",
              "      <td>1-1</td>\n",
              "      <td>228.693085</td>\n",
              "      <td>35849.0</td>\n",
              "      <td>NaN</td>\n",
              "    </tr>\n",
              "    <tr>\n",
              "      <th>16</th>\n",
              "      <td>1</td>\n",
              "      <td>1</td>\n",
              "      <td>1-1</td>\n",
              "      <td>BILL_AMT2</td>\n",
              "      <td>478224.5310</td>\n",
              "      <td>1-3</td>\n",
              "      <td>1-4</td>\n",
              "      <td>1-3</td>\n",
              "      <td>40.642075</td>\n",
              "      <td>10556.0</td>\n",
              "      <td>NaN</td>\n",
              "    </tr>\n",
              "    <tr>\n",
              "      <th>17</th>\n",
              "      <td>1</td>\n",
              "      <td>2</td>\n",
              "      <td>1-2</td>\n",
              "      <td>PAY_AMT5</td>\n",
              "      <td>10075.8262</td>\n",
              "      <td>1-5</td>\n",
              "      <td>1-6</td>\n",
              "      <td>1-5</td>\n",
              "      <td>125.791389</td>\n",
              "      <td>25293.0</td>\n",
              "      <td>NaN</td>\n",
              "    </tr>\n",
              "    <tr>\n",
              "      <th>18</th>\n",
              "      <td>1</td>\n",
              "      <td>3</td>\n",
              "      <td>1-3</td>\n",
              "      <td>PAY_0</td>\n",
              "      <td>1.0000</td>\n",
              "      <td>1-7</td>\n",
              "      <td>1-8</td>\n",
              "      <td>1-7</td>\n",
              "      <td>5.543655</td>\n",
              "      <td>6350.0</td>\n",
              "      <td>NaN</td>\n",
              "    </tr>\n",
              "    <tr>\n",
              "      <th>19</th>\n",
              "      <td>1</td>\n",
              "      <td>4</td>\n",
              "      <td>1-4</td>\n",
              "      <td>PAY_2</td>\n",
              "      <td>2.0000</td>\n",
              "      <td>1-9</td>\n",
              "      <td>1-10</td>\n",
              "      <td>1-9</td>\n",
              "      <td>5.499996</td>\n",
              "      <td>4206.0</td>\n",
              "      <td>NaN</td>\n",
              "    </tr>\n",
              "    <tr>\n",
              "      <th>20</th>\n",
              "      <td>1</td>\n",
              "      <td>5</td>\n",
              "      <td>1-5</td>\n",
              "      <td>PAY_AMT3</td>\n",
              "      <td>13189.3496</td>\n",
              "      <td>1-11</td>\n",
              "      <td>1-12</td>\n",
              "      <td>1-11</td>\n",
              "      <td>7.064346</td>\n",
              "      <td>1502.0</td>\n",
              "      <td>NaN</td>\n",
              "    </tr>\n",
              "    <tr>\n",
              "      <th>21</th>\n",
              "      <td>1</td>\n",
              "      <td>6</td>\n",
              "      <td>1-6</td>\n",
              "      <td>BILL_AMT2</td>\n",
              "      <td>484195.2810</td>\n",
              "      <td>1-13</td>\n",
              "      <td>1-14</td>\n",
              "      <td>1-13</td>\n",
              "      <td>80.415260</td>\n",
              "      <td>23791.0</td>\n",
              "      <td>NaN</td>\n",
              "    </tr>\n",
              "    <tr>\n",
              "      <th>22</th>\n",
              "      <td>1</td>\n",
              "      <td>7</td>\n",
              "      <td>1-7</td>\n",
              "      <td>Leaf</td>\n",
              "      <td>NaN</td>\n",
              "      <td>NaN</td>\n",
              "      <td>NaN</td>\n",
              "      <td>NaN</td>\n",
              "      <td>-0.019197</td>\n",
              "      <td>4655.0</td>\n",
              "      <td>NaN</td>\n",
              "    </tr>\n",
              "    <tr>\n",
              "      <th>23</th>\n",
              "      <td>1</td>\n",
              "      <td>8</td>\n",
              "      <td>1-8</td>\n",
              "      <td>Leaf</td>\n",
              "      <td>NaN</td>\n",
              "      <td>NaN</td>\n",
              "      <td>NaN</td>\n",
              "      <td>NaN</td>\n",
              "      <td>-0.012501</td>\n",
              "      <td>1695.0</td>\n",
              "      <td>NaN</td>\n",
              "    </tr>\n",
              "    <tr>\n",
              "      <th>24</th>\n",
              "      <td>1</td>\n",
              "      <td>9</td>\n",
              "      <td>1-9</td>\n",
              "      <td>Leaf</td>\n",
              "      <td>NaN</td>\n",
              "      <td>NaN</td>\n",
              "      <td>NaN</td>\n",
              "      <td>NaN</td>\n",
              "      <td>-0.010679</td>\n",
              "      <td>1136.0</td>\n",
              "      <td>NaN</td>\n",
              "    </tr>\n",
              "    <tr>\n",
              "      <th>25</th>\n",
              "      <td>1</td>\n",
              "      <td>10</td>\n",
              "      <td>1-10</td>\n",
              "      <td>Leaf</td>\n",
              "      <td>NaN</td>\n",
              "      <td>NaN</td>\n",
              "      <td>NaN</td>\n",
              "      <td>NaN</td>\n",
              "      <td>-0.002536</td>\n",
              "      <td>3070.0</td>\n",
              "      <td>NaN</td>\n",
              "    </tr>\n",
              "    <tr>\n",
              "      <th>26</th>\n",
              "      <td>1</td>\n",
              "      <td>11</td>\n",
              "      <td>1-11</td>\n",
              "      <td>Leaf</td>\n",
              "      <td>NaN</td>\n",
              "      <td>NaN</td>\n",
              "      <td>NaN</td>\n",
              "      <td>NaN</td>\n",
              "      <td>0.045854</td>\n",
              "      <td>344.0</td>\n",
              "      <td>NaN</td>\n",
              "    </tr>\n",
              "    <tr>\n",
              "      <th>27</th>\n",
              "      <td>1</td>\n",
              "      <td>12</td>\n",
              "      <td>1-12</td>\n",
              "      <td>Leaf</td>\n",
              "      <td>NaN</td>\n",
              "      <td>NaN</td>\n",
              "      <td>NaN</td>\n",
              "      <td>NaN</td>\n",
              "      <td>0.029427</td>\n",
              "      <td>1158.0</td>\n",
              "      <td>NaN</td>\n",
              "    </tr>\n",
              "    <tr>\n",
              "      <th>28</th>\n",
              "      <td>1</td>\n",
              "      <td>13</td>\n",
              "      <td>1-13</td>\n",
              "      <td>Leaf</td>\n",
              "      <td>NaN</td>\n",
              "      <td>NaN</td>\n",
              "      <td>NaN</td>\n",
              "      <td>NaN</td>\n",
              "      <td>-0.001843</td>\n",
              "      <td>13148.0</td>\n",
              "      <td>NaN</td>\n",
              "    </tr>\n",
              "    <tr>\n",
              "      <th>29</th>\n",
              "      <td>1</td>\n",
              "      <td>14</td>\n",
              "      <td>1-14</td>\n",
              "      <td>Leaf</td>\n",
              "      <td>NaN</td>\n",
              "      <td>NaN</td>\n",
              "      <td>NaN</td>\n",
              "      <td>NaN</td>\n",
              "      <td>0.009849</td>\n",
              "      <td>10643.0</td>\n",
              "      <td>NaN</td>\n",
              "    </tr>\n",
              "  </tbody>\n",
              "</table>\n",
              "</div>\n",
              "      <button class=\"colab-df-convert\" onclick=\"convertToInteractive('df-c6cb805c-d485-44e4-b12c-8ab60924fb94')\"\n",
              "              title=\"Convert this dataframe to an interactive table.\"\n",
              "              style=\"display:none;\">\n",
              "        \n",
              "  <svg xmlns=\"http://www.w3.org/2000/svg\" height=\"24px\"viewBox=\"0 0 24 24\"\n",
              "       width=\"24px\">\n",
              "    <path d=\"M0 0h24v24H0V0z\" fill=\"none\"/>\n",
              "    <path d=\"M18.56 5.44l.94 2.06.94-2.06 2.06-.94-2.06-.94-.94-2.06-.94 2.06-2.06.94zm-11 1L8.5 8.5l.94-2.06 2.06-.94-2.06-.94L8.5 2.5l-.94 2.06-2.06.94zm10 10l.94 2.06.94-2.06 2.06-.94-2.06-.94-.94-2.06-.94 2.06-2.06.94z\"/><path d=\"M17.41 7.96l-1.37-1.37c-.4-.4-.92-.59-1.43-.59-.52 0-1.04.2-1.43.59L10.3 9.45l-7.72 7.72c-.78.78-.78 2.05 0 2.83L4 21.41c.39.39.9.59 1.41.59.51 0 1.02-.2 1.41-.59l7.78-7.78 2.81-2.81c.8-.78.8-2.07 0-2.86zM5.41 20L4 18.59l7.72-7.72 1.47 1.35L5.41 20z\"/>\n",
              "  </svg>\n",
              "      </button>\n",
              "      \n",
              "  <style>\n",
              "    .colab-df-container {\n",
              "      display:flex;\n",
              "      flex-wrap:wrap;\n",
              "      gap: 12px;\n",
              "    }\n",
              "\n",
              "    .colab-df-convert {\n",
              "      background-color: #E8F0FE;\n",
              "      border: none;\n",
              "      border-radius: 50%;\n",
              "      cursor: pointer;\n",
              "      display: none;\n",
              "      fill: #1967D2;\n",
              "      height: 32px;\n",
              "      padding: 0 0 0 0;\n",
              "      width: 32px;\n",
              "    }\n",
              "\n",
              "    .colab-df-convert:hover {\n",
              "      background-color: #E2EBFA;\n",
              "      box-shadow: 0px 1px 2px rgba(60, 64, 67, 0.3), 0px 1px 3px 1px rgba(60, 64, 67, 0.15);\n",
              "      fill: #174EA6;\n",
              "    }\n",
              "\n",
              "    [theme=dark] .colab-df-convert {\n",
              "      background-color: #3B4455;\n",
              "      fill: #D2E3FC;\n",
              "    }\n",
              "\n",
              "    [theme=dark] .colab-df-convert:hover {\n",
              "      background-color: #434B5C;\n",
              "      box-shadow: 0px 1px 3px 1px rgba(0, 0, 0, 0.15);\n",
              "      filter: drop-shadow(0px 1px 2px rgba(0, 0, 0, 0.3));\n",
              "      fill: #FFFFFF;\n",
              "    }\n",
              "  </style>\n",
              "\n",
              "      <script>\n",
              "        const buttonEl =\n",
              "          document.querySelector('#df-c6cb805c-d485-44e4-b12c-8ab60924fb94 button.colab-df-convert');\n",
              "        buttonEl.style.display =\n",
              "          google.colab.kernel.accessAllowed ? 'block' : 'none';\n",
              "\n",
              "        async function convertToInteractive(key) {\n",
              "          const element = document.querySelector('#df-c6cb805c-d485-44e4-b12c-8ab60924fb94');\n",
              "          const dataTable =\n",
              "            await google.colab.kernel.invokeFunction('convertToInteractive',\n",
              "                                                     [key], {});\n",
              "          if (!dataTable) return;\n",
              "\n",
              "          const docLinkHtml = 'Like what you see? Visit the ' +\n",
              "            '<a target=\"_blank\" href=https://colab.research.google.com/notebooks/data_table.ipynb>data table notebook</a>'\n",
              "            + ' to learn more about interactive tables.';\n",
              "          element.innerHTML = '';\n",
              "          dataTable['output_type'] = 'display_data';\n",
              "          await google.colab.output.renderOutput(dataTable, element);\n",
              "          const docLink = document.createElement('div');\n",
              "          docLink.innerHTML = docLinkHtml;\n",
              "          element.appendChild(docLink);\n",
              "        }\n",
              "      </script>\n",
              "    </div>\n",
              "  </div>\n",
              "  "
            ],
            "text/plain": [
              "    Tree  Node    ID    Feature        Split   Yes    No Missing        Gain  \\\n",
              "0      0     0   0-0      PAY_0       2.0000   0-1   0-2     0-1  282.312042   \n",
              "1      0     1   0-1  BILL_AMT2  478224.5310   0-3   0-4     0-3   50.173447   \n",
              "2      0     2   0-2   PAY_AMT5   10073.3379   0-5   0-6     0-5  155.244659   \n",
              "3      0     3   0-3      PAY_0       1.0000   0-7   0-8     0-7    6.844757   \n",
              "4      0     4   0-4  BILL_AMT1  239032.8440   0-9  0-10     0-9    6.116165   \n",
              "5      0     5   0-5  BILL_AMT2  484847.4690  0-11  0-12    0-11    7.451599   \n",
              "6      0     6   0-6  BILL_AMT2  480257.1880  0-13  0-14    0-13   99.216141   \n",
              "7      0     7   0-7       Leaf          NaN   NaN   NaN     NaN   -0.021330   \n",
              "8      0     8   0-8       Leaf          NaN   NaN   NaN     NaN   -0.013889   \n",
              "9      0     9   0-9       Leaf          NaN   NaN   NaN     NaN   -0.010477   \n",
              "10     0    10  0-10       Leaf          NaN   NaN   NaN     NaN   -0.002473   \n",
              "11     0    11  0-11       Leaf          NaN   NaN   NaN     NaN    0.029299   \n",
              "12     0    12  0-12       Leaf          NaN   NaN   NaN     NaN    0.043540   \n",
              "13     0    13  0-13       Leaf          NaN   NaN   NaN     NaN   -0.002081   \n",
              "14     0    14  0-14       Leaf          NaN   NaN   NaN     NaN    0.010898   \n",
              "15     1     0   1-0      PAY_0       2.0000   1-1   1-2     1-1  228.693085   \n",
              "16     1     1   1-1  BILL_AMT2  478224.5310   1-3   1-4     1-3   40.642075   \n",
              "17     1     2   1-2   PAY_AMT5   10075.8262   1-5   1-6     1-5  125.791389   \n",
              "18     1     3   1-3      PAY_0       1.0000   1-7   1-8     1-7    5.543655   \n",
              "19     1     4   1-4      PAY_2       2.0000   1-9  1-10     1-9    5.499996   \n",
              "20     1     5   1-5   PAY_AMT3   13189.3496  1-11  1-12    1-11    7.064346   \n",
              "21     1     6   1-6  BILL_AMT2  484195.2810  1-13  1-14    1-13   80.415260   \n",
              "22     1     7   1-7       Leaf          NaN   NaN   NaN     NaN   -0.019197   \n",
              "23     1     8   1-8       Leaf          NaN   NaN   NaN     NaN   -0.012501   \n",
              "24     1     9   1-9       Leaf          NaN   NaN   NaN     NaN   -0.010679   \n",
              "25     1    10  1-10       Leaf          NaN   NaN   NaN     NaN   -0.002536   \n",
              "26     1    11  1-11       Leaf          NaN   NaN   NaN     NaN    0.045854   \n",
              "27     1    12  1-12       Leaf          NaN   NaN   NaN     NaN    0.029427   \n",
              "28     1    13  1-13       Leaf          NaN   NaN   NaN     NaN   -0.001843   \n",
              "29     1    14  1-14       Leaf          NaN   NaN   NaN     NaN    0.009849   \n",
              "\n",
              "      Cover  Category  \n",
              "0   35849.0       NaN  \n",
              "1   10556.0       NaN  \n",
              "2   25293.0       NaN  \n",
              "3    6350.0       NaN  \n",
              "4    4206.0       NaN  \n",
              "5    1501.0       NaN  \n",
              "6   23792.0       NaN  \n",
              "7    4655.0       NaN  \n",
              "8    1695.0       NaN  \n",
              "9    1465.0       NaN  \n",
              "10   2741.0       NaN  \n",
              "11    701.0       NaN  \n",
              "12    800.0       NaN  \n",
              "13  13078.0       NaN  \n",
              "14  10714.0       NaN  \n",
              "15  35849.0       NaN  \n",
              "16  10556.0       NaN  \n",
              "17  25293.0       NaN  \n",
              "18   6350.0       NaN  \n",
              "19   4206.0       NaN  \n",
              "20   1502.0       NaN  \n",
              "21  23791.0       NaN  \n",
              "22   4655.0       NaN  \n",
              "23   1695.0       NaN  \n",
              "24   1136.0       NaN  \n",
              "25   3070.0       NaN  \n",
              "26    344.0       NaN  \n",
              "27   1158.0       NaN  \n",
              "28  13148.0       NaN  \n",
              "29  10643.0       NaN  "
            ]
          },
          "execution_count": 37,
          "metadata": {},
          "output_type": "execute_result"
        }
      ],
      "source": [
        "# We could do a similar exercise using the superior XGB extracted model\n",
        "\n",
        "trees = extracted_model_xgb.trees_to_dataframe()\n",
        "trees.head(30)"
      ]
    },
    {
      "cell_type": "markdown",
      "id": "HuCCXJc9mV-0",
      "metadata": {
        "id": "HuCCXJc9mV-0"
      },
      "source": [
        "## 5. Membership Inference Attack\n",
        "Membership Inference is a confidentiality attack that seeks to compromise\n",
        "model training data. It’s a complex attack that requires two models. The first is a\n",
        "surrogate model similar to those that would be trained in a model extraction\n",
        "attack. The second stage model is then trained to decide whether a row of data is\n",
        "in the training data of the surrogate model or not. When that second-stage model\n",
        "is applied to a row of data, it can decide whether that row was in the training data\n",
        "of the surrogate model or not, and can often extrapolate to decide whether that\n",
        "row was also in the original model training data,"
      ]
    },
    {
      "cell_type": "code",
      "execution_count": null,
      "id": "7e773166-be28-4599-acce-5db27d1df09d",
      "metadata": {
        "id": "7e773166-be28-4599-acce-5db27d1df09d"
      },
      "outputs": [],
      "source": [
        "\"\"\"\n",
        "Perform a membership inference attack.\n",
        "\"\"\"\n",
        "\n",
        "attack_negative = make_random_frame(schema_dict, 10000).append(random_valid).append(random_test)\n",
        "attack_positive = random_train.copy()\n",
        "attack_negative['in_train'] = 0\n",
        "attack_positive['in_train'] = 1\n",
        "\n",
        "attack_data = attack_positive.append(attack_negative).sample(frac=1).reset_index(drop=True)"
      ]
    },
    {
      "cell_type": "code",
      "execution_count": null,
      "id": "75397a2e-3595-43be-9902-74aefa91f554",
      "metadata": {
        "colab": {
          "base_uri": "https://localhost:8080/",
          "height": 456
        },
        "id": "75397a2e-3595-43be-9902-74aefa91f554",
        "outputId": "f6d79a23-80ca-4906-acd7-41a368b02046"
      },
      "outputs": [
        {
          "data": {
            "text/html": [
              "\n",
              "  <div id=\"df-39d3751f-967a-471e-a9a2-3525bc4804fe\">\n",
              "    <div class=\"colab-df-container\">\n",
              "      <div>\n",
              "<style scoped>\n",
              "    .dataframe tbody tr th:only-of-type {\n",
              "        vertical-align: middle;\n",
              "    }\n",
              "\n",
              "    .dataframe tbody tr th {\n",
              "        vertical-align: top;\n",
              "    }\n",
              "\n",
              "    .dataframe thead th {\n",
              "        text-align: right;\n",
              "    }\n",
              "</style>\n",
              "<table border=\"1\" class=\"dataframe\">\n",
              "  <thead>\n",
              "    <tr style=\"text-align: right;\">\n",
              "      <th></th>\n",
              "      <th>LIMIT_BAL</th>\n",
              "      <th>PAY_0</th>\n",
              "      <th>PAY_2</th>\n",
              "      <th>PAY_3</th>\n",
              "      <th>PAY_4</th>\n",
              "      <th>PAY_5</th>\n",
              "      <th>PAY_6</th>\n",
              "      <th>BILL_AMT1</th>\n",
              "      <th>BILL_AMT2</th>\n",
              "      <th>BILL_AMT3</th>\n",
              "      <th>...</th>\n",
              "      <th>BILL_AMT5</th>\n",
              "      <th>BILL_AMT6</th>\n",
              "      <th>PAY_AMT1</th>\n",
              "      <th>PAY_AMT2</th>\n",
              "      <th>PAY_AMT3</th>\n",
              "      <th>PAY_AMT4</th>\n",
              "      <th>PAY_AMT5</th>\n",
              "      <th>PAY_AMT6</th>\n",
              "      <th>in_train</th>\n",
              "      <th>prediction</th>\n",
              "    </tr>\n",
              "  </thead>\n",
              "  <tbody>\n",
              "    <tr>\n",
              "      <th>0</th>\n",
              "      <td>7.741047e+05</td>\n",
              "      <td>1</td>\n",
              "      <td>5</td>\n",
              "      <td>7</td>\n",
              "      <td>2</td>\n",
              "      <td>-1</td>\n",
              "      <td>5</td>\n",
              "      <td>3.825222e+05</td>\n",
              "      <td>1.563087e+05</td>\n",
              "      <td>1.698492e+06</td>\n",
              "      <td>...</td>\n",
              "      <td>4.009869e+04</td>\n",
              "      <td>3.380200e+05</td>\n",
              "      <td>160212.295208</td>\n",
              "      <td>5.790698e+05</td>\n",
              "      <td>9.099407e+05</td>\n",
              "      <td>6.435144e+04</td>\n",
              "      <td>1.684413e+05</td>\n",
              "      <td>1.007401e+06</td>\n",
              "      <td>0</td>\n",
              "      <td>0.252688</td>\n",
              "    </tr>\n",
              "    <tr>\n",
              "      <th>1</th>\n",
              "      <td>2.234142e+06</td>\n",
              "      <td>8</td>\n",
              "      <td>4</td>\n",
              "      <td>8</td>\n",
              "      <td>4</td>\n",
              "      <td>4</td>\n",
              "      <td>8</td>\n",
              "      <td>1.498241e+06</td>\n",
              "      <td>9.559213e+05</td>\n",
              "      <td>4.171585e+05</td>\n",
              "      <td>...</td>\n",
              "      <td>1.665080e+06</td>\n",
              "      <td>6.251150e+05</td>\n",
              "      <td>232702.803640</td>\n",
              "      <td>4.185008e+04</td>\n",
              "      <td>7.131705e+04</td>\n",
              "      <td>4.267531e+04</td>\n",
              "      <td>9.061409e+05</td>\n",
              "      <td>1.447189e+05</td>\n",
              "      <td>1</td>\n",
              "      <td>0.416882</td>\n",
              "    </tr>\n",
              "    <tr>\n",
              "      <th>2</th>\n",
              "      <td>2.006741e+06</td>\n",
              "      <td>-1</td>\n",
              "      <td>7</td>\n",
              "      <td>1</td>\n",
              "      <td>4</td>\n",
              "      <td>3</td>\n",
              "      <td>6</td>\n",
              "      <td>5.845521e+05</td>\n",
              "      <td>3.004381e+05</td>\n",
              "      <td>4.200194e+05</td>\n",
              "      <td>...</td>\n",
              "      <td>5.340501e+05</td>\n",
              "      <td>6.566528e+05</td>\n",
              "      <td>235431.541749</td>\n",
              "      <td>4.542292e+05</td>\n",
              "      <td>1.118720e+06</td>\n",
              "      <td>1.272561e+06</td>\n",
              "      <td>6.594855e+05</td>\n",
              "      <td>7.671139e+03</td>\n",
              "      <td>1</td>\n",
              "      <td>0.198146</td>\n",
              "    </tr>\n",
              "    <tr>\n",
              "      <th>3</th>\n",
              "      <td>8.833743e+05</td>\n",
              "      <td>0</td>\n",
              "      <td>9</td>\n",
              "      <td>0</td>\n",
              "      <td>9</td>\n",
              "      <td>2</td>\n",
              "      <td>1</td>\n",
              "      <td>1.642220e+06</td>\n",
              "      <td>6.823426e+04</td>\n",
              "      <td>4.265532e+05</td>\n",
              "      <td>...</td>\n",
              "      <td>9.852541e+05</td>\n",
              "      <td>2.787417e+05</td>\n",
              "      <td>52053.276167</td>\n",
              "      <td>2.892251e+05</td>\n",
              "      <td>7.672275e+03</td>\n",
              "      <td>1.168657e+06</td>\n",
              "      <td>3.086262e+05</td>\n",
              "      <td>1.151426e+06</td>\n",
              "      <td>0</td>\n",
              "      <td>0.188579</td>\n",
              "    </tr>\n",
              "    <tr>\n",
              "      <th>4</th>\n",
              "      <td>3.006770e+05</td>\n",
              "      <td>8</td>\n",
              "      <td>4</td>\n",
              "      <td>5</td>\n",
              "      <td>8</td>\n",
              "      <td>4</td>\n",
              "      <td>8</td>\n",
              "      <td>2.740161e+05</td>\n",
              "      <td>6.655793e+05</td>\n",
              "      <td>2.855127e+06</td>\n",
              "      <td>...</td>\n",
              "      <td>9.189012e+05</td>\n",
              "      <td>1.323845e+06</td>\n",
              "      <td>203532.946947</td>\n",
              "      <td>3.906839e+05</td>\n",
              "      <td>8.007463e+04</td>\n",
              "      <td>6.085573e+04</td>\n",
              "      <td>1.281409e+06</td>\n",
              "      <td>2.796911e+05</td>\n",
              "      <td>0</td>\n",
              "      <td>0.390118</td>\n",
              "    </tr>\n",
              "    <tr>\n",
              "      <th>5</th>\n",
              "      <td>7.531177e+05</td>\n",
              "      <td>1</td>\n",
              "      <td>1</td>\n",
              "      <td>9</td>\n",
              "      <td>6</td>\n",
              "      <td>4</td>\n",
              "      <td>0</td>\n",
              "      <td>2.048199e+05</td>\n",
              "      <td>9.622369e+05</td>\n",
              "      <td>9.800998e+04</td>\n",
              "      <td>...</td>\n",
              "      <td>2.822446e+05</td>\n",
              "      <td>2.715271e+06</td>\n",
              "      <td>2115.071309</td>\n",
              "      <td>2.117457e+05</td>\n",
              "      <td>2.716670e+05</td>\n",
              "      <td>5.330283e+05</td>\n",
              "      <td>1.383445e+05</td>\n",
              "      <td>4.702704e+05</td>\n",
              "      <td>0</td>\n",
              "      <td>0.299548</td>\n",
              "    </tr>\n",
              "    <tr>\n",
              "      <th>6</th>\n",
              "      <td>8.915291e+05</td>\n",
              "      <td>7</td>\n",
              "      <td>1</td>\n",
              "      <td>9</td>\n",
              "      <td>0</td>\n",
              "      <td>7</td>\n",
              "      <td>9</td>\n",
              "      <td>1.976234e+05</td>\n",
              "      <td>5.512582e+05</td>\n",
              "      <td>1.808534e+05</td>\n",
              "      <td>...</td>\n",
              "      <td>7.058063e+04</td>\n",
              "      <td>5.673100e+05</td>\n",
              "      <td>73715.242385</td>\n",
              "      <td>5.174077e+05</td>\n",
              "      <td>3.049073e+05</td>\n",
              "      <td>1.800723e+04</td>\n",
              "      <td>2.198568e+05</td>\n",
              "      <td>6.954688e+04</td>\n",
              "      <td>1</td>\n",
              "      <td>0.413418</td>\n",
              "    </tr>\n",
              "    <tr>\n",
              "      <th>7</th>\n",
              "      <td>2.278108e+06</td>\n",
              "      <td>0</td>\n",
              "      <td>7</td>\n",
              "      <td>9</td>\n",
              "      <td>5</td>\n",
              "      <td>4</td>\n",
              "      <td>2</td>\n",
              "      <td>1.387995e+05</td>\n",
              "      <td>1.421507e+05</td>\n",
              "      <td>4.145218e+05</td>\n",
              "      <td>...</td>\n",
              "      <td>1.344881e+05</td>\n",
              "      <td>1.372469e+05</td>\n",
              "      <td>233502.240153</td>\n",
              "      <td>2.366588e+04</td>\n",
              "      <td>1.399352e+05</td>\n",
              "      <td>3.637175e+05</td>\n",
              "      <td>2.510796e+05</td>\n",
              "      <td>9.289959e+05</td>\n",
              "      <td>1</td>\n",
              "      <td>0.187473</td>\n",
              "    </tr>\n",
              "    <tr>\n",
              "      <th>8</th>\n",
              "      <td>5.501660e+04</td>\n",
              "      <td>6</td>\n",
              "      <td>3</td>\n",
              "      <td>1</td>\n",
              "      <td>4</td>\n",
              "      <td>0</td>\n",
              "      <td>5</td>\n",
              "      <td>1.431472e+05</td>\n",
              "      <td>1.450363e+06</td>\n",
              "      <td>3.430612e+05</td>\n",
              "      <td>...</td>\n",
              "      <td>1.243924e+06</td>\n",
              "      <td>3.564089e+04</td>\n",
              "      <td>270614.839950</td>\n",
              "      <td>1.126180e+05</td>\n",
              "      <td>2.604212e+05</td>\n",
              "      <td>2.720713e+05</td>\n",
              "      <td>1.838363e+05</td>\n",
              "      <td>1.381723e+05</td>\n",
              "      <td>1</td>\n",
              "      <td>0.390118</td>\n",
              "    </tr>\n",
              "    <tr>\n",
              "      <th>9</th>\n",
              "      <td>1.094201e+05</td>\n",
              "      <td>7</td>\n",
              "      <td>7</td>\n",
              "      <td>-1</td>\n",
              "      <td>7</td>\n",
              "      <td>5</td>\n",
              "      <td>9</td>\n",
              "      <td>6.080474e+05</td>\n",
              "      <td>2.506749e+04</td>\n",
              "      <td>1.340049e+06</td>\n",
              "      <td>...</td>\n",
              "      <td>5.119465e+04</td>\n",
              "      <td>1.104901e+05</td>\n",
              "      <td>65493.982508</td>\n",
              "      <td>1.021165e+06</td>\n",
              "      <td>4.205204e+05</td>\n",
              "      <td>4.524876e+03</td>\n",
              "      <td>1.285967e+05</td>\n",
              "      <td>2.014761e+05</td>\n",
              "      <td>0</td>\n",
              "      <td>0.333632</td>\n",
              "    </tr>\n",
              "  </tbody>\n",
              "</table>\n",
              "<p>10 rows × 21 columns</p>\n",
              "</div>\n",
              "      <button class=\"colab-df-convert\" onclick=\"convertToInteractive('df-39d3751f-967a-471e-a9a2-3525bc4804fe')\"\n",
              "              title=\"Convert this dataframe to an interactive table.\"\n",
              "              style=\"display:none;\">\n",
              "        \n",
              "  <svg xmlns=\"http://www.w3.org/2000/svg\" height=\"24px\"viewBox=\"0 0 24 24\"\n",
              "       width=\"24px\">\n",
              "    <path d=\"M0 0h24v24H0V0z\" fill=\"none\"/>\n",
              "    <path d=\"M18.56 5.44l.94 2.06.94-2.06 2.06-.94-2.06-.94-.94-2.06-.94 2.06-2.06.94zm-11 1L8.5 8.5l.94-2.06 2.06-.94-2.06-.94L8.5 2.5l-.94 2.06-2.06.94zm10 10l.94 2.06.94-2.06 2.06-.94-2.06-.94-.94-2.06-.94 2.06-2.06.94z\"/><path d=\"M17.41 7.96l-1.37-1.37c-.4-.4-.92-.59-1.43-.59-.52 0-1.04.2-1.43.59L10.3 9.45l-7.72 7.72c-.78.78-.78 2.05 0 2.83L4 21.41c.39.39.9.59 1.41.59.51 0 1.02-.2 1.41-.59l7.78-7.78 2.81-2.81c.8-.78.8-2.07 0-2.86zM5.41 20L4 18.59l7.72-7.72 1.47 1.35L5.41 20z\"/>\n",
              "  </svg>\n",
              "      </button>\n",
              "      \n",
              "  <style>\n",
              "    .colab-df-container {\n",
              "      display:flex;\n",
              "      flex-wrap:wrap;\n",
              "      gap: 12px;\n",
              "    }\n",
              "\n",
              "    .colab-df-convert {\n",
              "      background-color: #E8F0FE;\n",
              "      border: none;\n",
              "      border-radius: 50%;\n",
              "      cursor: pointer;\n",
              "      display: none;\n",
              "      fill: #1967D2;\n",
              "      height: 32px;\n",
              "      padding: 0 0 0 0;\n",
              "      width: 32px;\n",
              "    }\n",
              "\n",
              "    .colab-df-convert:hover {\n",
              "      background-color: #E2EBFA;\n",
              "      box-shadow: 0px 1px 2px rgba(60, 64, 67, 0.3), 0px 1px 3px 1px rgba(60, 64, 67, 0.15);\n",
              "      fill: #174EA6;\n",
              "    }\n",
              "\n",
              "    [theme=dark] .colab-df-convert {\n",
              "      background-color: #3B4455;\n",
              "      fill: #D2E3FC;\n",
              "    }\n",
              "\n",
              "    [theme=dark] .colab-df-convert:hover {\n",
              "      background-color: #434B5C;\n",
              "      box-shadow: 0px 1px 3px 1px rgba(0, 0, 0, 0.15);\n",
              "      filter: drop-shadow(0px 1px 2px rgba(0, 0, 0, 0.3));\n",
              "      fill: #FFFFFF;\n",
              "    }\n",
              "  </style>\n",
              "\n",
              "      <script>\n",
              "        const buttonEl =\n",
              "          document.querySelector('#df-39d3751f-967a-471e-a9a2-3525bc4804fe button.colab-df-convert');\n",
              "        buttonEl.style.display =\n",
              "          google.colab.kernel.accessAllowed ? 'block' : 'none';\n",
              "\n",
              "        async function convertToInteractive(key) {\n",
              "          const element = document.querySelector('#df-39d3751f-967a-471e-a9a2-3525bc4804fe');\n",
              "          const dataTable =\n",
              "            await google.colab.kernel.invokeFunction('convertToInteractive',\n",
              "                                                     [key], {});\n",
              "          if (!dataTable) return;\n",
              "\n",
              "          const docLinkHtml = 'Like what you see? Visit the ' +\n",
              "            '<a target=\"_blank\" href=https://colab.research.google.com/notebooks/data_table.ipynb>data table notebook</a>'\n",
              "            + ' to learn more about interactive tables.';\n",
              "          element.innerHTML = '';\n",
              "          dataTable['output_type'] = 'display_data';\n",
              "          await google.colab.output.renderOutput(dataTable, element);\n",
              "          const docLink = document.createElement('div');\n",
              "          docLink.innerHTML = docLinkHtml;\n",
              "          element.appendChild(docLink);\n",
              "        }\n",
              "      </script>\n",
              "    </div>\n",
              "  </div>\n",
              "  "
            ],
            "text/plain": [
              "      LIMIT_BAL  PAY_0  PAY_2  PAY_3  PAY_4  PAY_5  PAY_6     BILL_AMT1  \\\n",
              "0  7.741047e+05      1      5      7      2     -1      5  3.825222e+05   \n",
              "1  2.234142e+06      8      4      8      4      4      8  1.498241e+06   \n",
              "2  2.006741e+06     -1      7      1      4      3      6  5.845521e+05   \n",
              "3  8.833743e+05      0      9      0      9      2      1  1.642220e+06   \n",
              "4  3.006770e+05      8      4      5      8      4      8  2.740161e+05   \n",
              "5  7.531177e+05      1      1      9      6      4      0  2.048199e+05   \n",
              "6  8.915291e+05      7      1      9      0      7      9  1.976234e+05   \n",
              "7  2.278108e+06      0      7      9      5      4      2  1.387995e+05   \n",
              "8  5.501660e+04      6      3      1      4      0      5  1.431472e+05   \n",
              "9  1.094201e+05      7      7     -1      7      5      9  6.080474e+05   \n",
              "\n",
              "      BILL_AMT2     BILL_AMT3  ...     BILL_AMT5     BILL_AMT6       PAY_AMT1  \\\n",
              "0  1.563087e+05  1.698492e+06  ...  4.009869e+04  3.380200e+05  160212.295208   \n",
              "1  9.559213e+05  4.171585e+05  ...  1.665080e+06  6.251150e+05  232702.803640   \n",
              "2  3.004381e+05  4.200194e+05  ...  5.340501e+05  6.566528e+05  235431.541749   \n",
              "3  6.823426e+04  4.265532e+05  ...  9.852541e+05  2.787417e+05   52053.276167   \n",
              "4  6.655793e+05  2.855127e+06  ...  9.189012e+05  1.323845e+06  203532.946947   \n",
              "5  9.622369e+05  9.800998e+04  ...  2.822446e+05  2.715271e+06    2115.071309   \n",
              "6  5.512582e+05  1.808534e+05  ...  7.058063e+04  5.673100e+05   73715.242385   \n",
              "7  1.421507e+05  4.145218e+05  ...  1.344881e+05  1.372469e+05  233502.240153   \n",
              "8  1.450363e+06  3.430612e+05  ...  1.243924e+06  3.564089e+04  270614.839950   \n",
              "9  2.506749e+04  1.340049e+06  ...  5.119465e+04  1.104901e+05   65493.982508   \n",
              "\n",
              "       PAY_AMT2      PAY_AMT3      PAY_AMT4      PAY_AMT5      PAY_AMT6  \\\n",
              "0  5.790698e+05  9.099407e+05  6.435144e+04  1.684413e+05  1.007401e+06   \n",
              "1  4.185008e+04  7.131705e+04  4.267531e+04  9.061409e+05  1.447189e+05   \n",
              "2  4.542292e+05  1.118720e+06  1.272561e+06  6.594855e+05  7.671139e+03   \n",
              "3  2.892251e+05  7.672275e+03  1.168657e+06  3.086262e+05  1.151426e+06   \n",
              "4  3.906839e+05  8.007463e+04  6.085573e+04  1.281409e+06  2.796911e+05   \n",
              "5  2.117457e+05  2.716670e+05  5.330283e+05  1.383445e+05  4.702704e+05   \n",
              "6  5.174077e+05  3.049073e+05  1.800723e+04  2.198568e+05  6.954688e+04   \n",
              "7  2.366588e+04  1.399352e+05  3.637175e+05  2.510796e+05  9.289959e+05   \n",
              "8  1.126180e+05  2.604212e+05  2.720713e+05  1.838363e+05  1.381723e+05   \n",
              "9  1.021165e+06  4.205204e+05  4.524876e+03  1.285967e+05  2.014761e+05   \n",
              "\n",
              "   in_train  prediction  \n",
              "0         0    0.252688  \n",
              "1         1    0.416882  \n",
              "2         1    0.198146  \n",
              "3         0    0.188579  \n",
              "4         0    0.390118  \n",
              "5         0    0.299548  \n",
              "6         1    0.413418  \n",
              "7         1    0.187473  \n",
              "8         1    0.390118  \n",
              "9         0    0.333632  \n",
              "\n",
              "[10 rows x 21 columns]"
            ]
          },
          "execution_count": 39,
          "metadata": {},
          "output_type": "execute_result"
        }
      ],
      "source": [
        "dattack_data = xgb.DMatrix(attack_data[features])\n",
        "\n",
        "attack_data['prediction'] = extracted_model_xgb.predict(dattack_data, \n",
        "                                                        iteration_range=(0, extracted_model_xgb.best_iteration))\n",
        "# attack_data['prediction'] = model_endpoint(attack_data)\n",
        "\n",
        "attack_data.head(10)"
      ]
    },
    {
      "cell_type": "code",
      "execution_count": null,
      "id": "ca1269e9-2699-4758-b663-642893d42759",
      "metadata": {
        "colab": {
          "base_uri": "https://localhost:8080/",
          "height": 499
        },
        "id": "ca1269e9-2699-4758-b663-642893d42759",
        "outputId": "8ee0609e-5933-447b-f40a-275aecf252d5"
      },
      "outputs": [
        {
          "data": {
            "image/png": "[encoded data removed]",
            "text/plain": [
              "<Figure size 360x576 with 2 Axes>"
            ]
          },
          "metadata": {
            "needs_background": "light"
          },
          "output_type": "display_data"
        }
      ],
      "source": [
        "# Look at the distribution of extracted model predictions for the training versus new data points.\n",
        "\n",
        "fig, axs = plt.subplots(2, 1, figsize=(5, 8))\n",
        "axs[0].hist(attack_data.loc[attack_data['in_train'] == 0]['prediction'], bins='auto')\n",
        "axs[0].set_title('Not in training data')\n",
        "\n",
        "axs[1].hist(attack_data.loc[attack_data['in_train'] == 1]['prediction'], bins='auto')\n",
        "_ = axs[1].set_title('In training data')\n"
      ]
    },
    {
      "cell_type": "code",
      "execution_count": null,
      "id": "50e469fc-47e0-4c10-beda-7f3b64cefc9d",
      "metadata": {
        "colab": {
          "base_uri": "https://localhost:8080/"
        },
        "id": "50e469fc-47e0-4c10-beda-7f3b64cefc9d",
        "outputId": "81d369e6-7117-4070-a607-8138a4ae4516"
      },
      "outputs": [
        {
          "name": "stdout",
          "output_type": "stream",
          "text": [
            "[0]\ttrain-auc:0.51691\teval-auc:0.50838\n",
            "[1]\ttrain-auc:0.52290\teval-auc:0.50948\n",
            "[2]\ttrain-auc:0.52365\teval-auc:0.50832\n",
            "[3]\ttrain-auc:0.52552\teval-auc:0.51072\n",
            "[4]\ttrain-auc:0.52800\teval-auc:0.51187\n",
            "[5]\ttrain-auc:0.52917\teval-auc:0.51146\n",
            "[6]\ttrain-auc:0.52931\teval-auc:0.51367\n",
            "[7]\ttrain-auc:0.53131\teval-auc:0.51456\n",
            "[8]\ttrain-auc:0.53473\teval-auc:0.51576\n",
            "[9]\ttrain-auc:0.53510\teval-auc:0.51569\n",
            "[10]\ttrain-auc:0.53518\teval-auc:0.51554\n",
            "[11]\ttrain-auc:0.53663\teval-auc:0.51657\n",
            "[12]\ttrain-auc:0.53665\teval-auc:0.51554\n",
            "[13]\ttrain-auc:0.53712\teval-auc:0.51598\n",
            "[14]\ttrain-auc:0.53713\teval-auc:0.51629\n",
            "[15]\ttrain-auc:0.53823\teval-auc:0.51766\n",
            "[16]\ttrain-auc:0.54005\teval-auc:0.51953\n",
            "[17]\ttrain-auc:0.54044\teval-auc:0.51901\n",
            "[18]\ttrain-auc:0.54081\teval-auc:0.51913\n",
            "[19]\ttrain-auc:0.54135\teval-auc:0.51861\n",
            "[20]\ttrain-auc:0.54185\teval-auc:0.51855\n",
            "[21]\ttrain-auc:0.54308\teval-auc:0.51790\n",
            "[22]\ttrain-auc:0.54477\teval-auc:0.51800\n",
            "[23]\ttrain-auc:0.54563\teval-auc:0.51790\n",
            "[24]\ttrain-auc:0.54579\teval-auc:0.51765\n",
            "[25]\ttrain-auc:0.54667\teval-auc:0.51763\n",
            "[26]\ttrain-auc:0.54707\teval-auc:0.51779\n"
          ]
        }
      ],
      "source": [
        "# Train an XGBoost attack model.\n",
        "\n",
        "attack_features = features + ['prediction']\n",
        "attack_target = 'in_train'\n",
        "\n",
        "attack_train = attack_data.head(int(len(attack_data)*0.8))\n",
        "attack_valid = attack_data.tail(int(len(attack_data)*0.2))\n",
        "\n",
        "dattack_train = xgb.DMatrix(attack_train[attack_features],\n",
        "                            label = attack_train[attack_target])\n",
        "dattack_valid = xgb.DMatrix(attack_valid[attack_features],\n",
        "                            label = attack_valid[attack_target])\n",
        "\n",
        "base_score = attack_train[attack_target].mean()\n",
        "\n",
        "params = {\n",
        "    'objective': 'binary:logistic',\n",
        "    'eval_metric': 'auc',\n",
        "    'eta': 0.05,\n",
        "    'max_depth': 3,\n",
        "    'base_score': base_score,\n",
        "    'seed': SEED\n",
        "}\n",
        "\n",
        "# Train using early stopping on the validation dataset.\n",
        "watchlist = [(dattack_train, 'train'), (dattack_valid, 'eval')]\n",
        "\n",
        "attack_model = xgb.train(params,         \n",
        "                         dattack_train,                   \n",
        "                         num_boost_round=500,                     \n",
        "                         evals=watchlist,\n",
        "                         early_stopping_rounds=10,\n",
        "                         verbose_eval=True)"
      ]
    },
    {
      "cell_type": "code",
      "execution_count": null,
      "id": "81a3f784-1534-4c7d-b6cd-6ca016f5637d",
      "metadata": {
        "id": "81a3f784-1534-4c7d-b6cd-6ca016f5637d"
      },
      "outputs": [],
      "source": [
        "train['in_train'] = 1\n",
        "test['in_train'] = 0\n",
        "\n",
        "attack_test = train.head(len(test)).append(test).reset_index(drop=True)\n",
        "attack_test['prediction'] = model_endpoint(attack_test[features])\n",
        "\n",
        "dattack_test = xgb.DMatrix(attack_test[attack_features],\n",
        "                           label = attack_test[attack_target])"
      ]
    },
    {
      "cell_type": "code",
      "execution_count": null,
      "id": "a0f2a750-f257-4d3a-b988-f69a31cb4cdc",
      "metadata": {
        "colab": {
          "base_uri": "https://localhost:8080/",
          "height": 296
        },
        "id": "a0f2a750-f257-4d3a-b988-f69a31cb4cdc",
        "outputId": "893ddabd-2f41-428f-f671-4bc2eae6fb83"
      },
      "outputs": [
        {
          "data": {
            "text/plain": [
              "<matplotlib.legend.Legend at 0x7fb53b972e50>"
            ]
          },
          "execution_count": 43,
          "metadata": {},
          "output_type": "execute_result"
        },
        {
          "data": {
            "image/png": "[encoded data removed]",
            "text/plain": [
              "<Figure size 432x288 with 1 Axes>"
            ]
          },
          "metadata": {
            "needs_background": "light"
          },
          "output_type": "display_data"
        }
      ],
      "source": [
        "from sklearn.metrics import precision_score, recall_score, roc_curve, RocCurveDisplay\n",
        "\n",
        "fpr, tpr, _ = roc_curve(attack_train['in_train'], \n",
        "                        attack_model.predict(dattack_train, iteration_range=(0, attack_model.best_iteration)))\n",
        "\n",
        "roc_display = RocCurveDisplay(fpr=fpr, tpr=tpr).plot()\n",
        "ax = roc_display.ax_\n",
        "\n",
        "fpr, tpr, _ = roc_curve(attack_test['in_train'], \n",
        "                        attack_model.predict(dattack_test, iteration_range=(0, attack_model.best_iteration)))\n",
        "\n",
        "ax.plot(fpr, tpr)\n",
        "ax.legend(['Train', 'Test'])"
      ]
    },
    {
      "cell_type": "markdown",
      "id": "b6c142ae-21d1-477a-8228-86a460f7e6d1",
      "metadata": {
        "id": "b6c142ae-21d1-477a-8228-86a460f7e6d1"
      },
      "source": [
        "### Attempting attack on the regularized and constrained model"
      ]
    },
    {
      "cell_type": "code",
      "execution_count": null,
      "id": "bc04c30d-c0b9-4725-9291-290b018ebc88",
      "metadata": {
        "id": "bc04c30d-c0b9-4725-9291-290b018ebc88"
      },
      "outputs": [],
      "source": [
        "# We'll suppose access to a model prediction API endpoint that we can query without restriction\n",
        "\n",
        "def model_endpoint(observations: pd.DataFrame):\n",
        "    pred_frame = h2o.H2OFrame(observations)\n",
        "    prediction = xgb_best.predict(pred_frame)['p1'].as_data_frame().values\n",
        "    return prediction\n"
      ]
    },
    {
      "cell_type": "code",
      "execution_count": null,
      "id": "5da5c998-8a55-4b48-bec3-587468fc7af0",
      "metadata": {
        "colab": {
          "base_uri": "https://localhost:8080/"
        },
        "id": "5da5c998-8a55-4b48-bec3-587468fc7af0",
        "outputId": "7b9d3b3f-46bb-4463-9638-4faca3cfdc1a"
      },
      "outputs": [
        {
          "name": "stdout",
          "output_type": "stream",
          "text": [
            "R2 on training data (simulated): 0.931\n",
            "R2 on test data (simulated): 0.93\n",
            "R2 on real data: 0.889\n",
            "real/test: 0.9567194863720975\n"
          ]
        }
      ],
      "source": [
        "from sklearn.tree import DecisionTreeRegressor\n",
        "from sklearn import tree\n",
        "from sklearn.metrics import r2_score\n",
        "\n",
        "surrogate_model_params = {'max_depth': 4,\n",
        "                         'random_state': SEED}\n",
        "extracted_model_dt = DecisionTreeRegressor(**surrogate_model_params).fit(random_train[features], \n",
        "                                                                         model_endpoint(random_train[features]))\n",
        "\n",
        "r2_train = r2_score(y_true=model_endpoint(random_train[features]), \n",
        "                     y_pred=extracted_model_dt.predict(random_train[features]))\n",
        "r2_test = r2_score(y_true=model_endpoint(random_test[features]), \n",
        "                     y_pred=extracted_model_dt.predict(random_test[features]))\n",
        "r2_holdout = r2_score(y_true=model_endpoint(test[features]), \n",
        "                     y_pred=extracted_model_dt.predict(test[features]))\n",
        "\n",
        "print(f'R2 on training data (simulated): {np.round(r2_train, 3)}')\n",
        "print(f'R2 on test data (simulated): {np.round(r2_test, 3)}')\n",
        "print(f'R2 on real data: {np.round(r2_holdout, 3)}')\n",
        "\n",
        "print(f'real/test: {r2_holdout/r2_test}')"
      ]
    },
    {
      "cell_type": "code",
      "execution_count": null,
      "id": "c0320bcd-aec5-4b60-acd3-36411ffebf86",
      "metadata": {
        "colab": {
          "base_uri": "https://localhost:8080/"
        },
        "id": "c0320bcd-aec5-4b60-acd3-36411ffebf86",
        "outputId": "f709b252-66f9-4f30-eead-984f0fbd812f"
      },
      "outputs": [
        {
          "name": "stdout",
          "output_type": "stream",
          "text": [
            "MAE on test data (simulated): 0.03876\n",
            "MAE on real data: 0.04513\n",
            "test/real: 0.8589336991318512\n"
          ]
        }
      ],
      "source": [
        "mae_test = mean_absolute_error(y_true=model_endpoint(random_test[features]), \n",
        "                              y_pred=extracted_model_dt.predict(random_test[features]))\n",
        "\n",
        "mae_holdout = mean_absolute_error(y_true=model_endpoint(test[features]), \n",
        "                                 y_pred=extracted_model_dt.predict(test[features]))\n",
        "\n",
        "print(f'MAE on test data (simulated): {np.round(mae_test, 5)}')\n",
        "print(f'MAE on real data: {np.round(mae_holdout, 5)}')\n",
        "\n",
        "print(f'test/real: {mae_test/mae_holdout}')"
      ]
    },
    {
      "cell_type": "code",
      "execution_count": null,
      "id": "79192a23-5698-4b90-bfab-a653dd968df4",
      "metadata": {
        "colab": {
          "base_uri": "https://localhost:8080/",
          "height": 370
        },
        "id": "79192a23-5698-4b90-bfab-a653dd968df4",
        "outputId": "6a69a1b6-e2e0-4290-a6ef-a06488883e16"
      },
      "outputs": [
        {
          "data": {
            "image/png": "[encoded data removed]",
            "text/plain": [
              "<Figure size 1080x360 with 3 Axes>"
            ]
          },
          "metadata": {
            "needs_background": "light"
          },
          "output_type": "display_data"
        }
      ],
      "source": [
        "fig, axs = plt.subplots(1, 3, figsize=(15, 5))\n",
        "\n",
        "axs[0].scatter(model_endpoint(random_train[features]), extracted_model_dt.predict(random_train[features]))\n",
        "axs[0].set_title(\"Training Data (Simulated)\")\n",
        "axs[0].set_ylabel('Extracted Score')\n",
        "axs[0].set_xlabel('True Score')\n",
        "\n",
        "axs[1].scatter(model_endpoint(random_test[features]), extracted_model_dt.predict(random_test[features]))\n",
        "axs[1].set_title(\"Test Data (Simulated)\")\n",
        "axs[1].set_xlabel('True Score')\n",
        "\n",
        "\n",
        "axs[2].scatter(model_endpoint(test[features]), extracted_model_dt.predict(test[features]))\n",
        "axs[2].set_title(\"Holdout Data (Real)\")\n",
        "axs[2].set_xlabel('True Score')\n",
        "\n",
        "_ = fig.suptitle(\"Decision Tree Surrogate\")\n",
        "fig.savefig('Data/Data/Figures/constrained_DT_extraction')"
      ]
    },
    {
      "cell_type": "code",
      "execution_count": null,
      "id": "f22e85fc-0cc4-4a1c-98d2-fe05da4320ae",
      "metadata": {
        "colab": {
          "base_uri": "https://localhost:8080/",
          "height": 1000
        },
        "id": "f22e85fc-0cc4-4a1c-98d2-fe05da4320ae",
        "outputId": "5caf0726-1cda-406b-f145-c46060b9e105"
      },
      "outputs": [
        {
          "data": {
            "image/svg+xml": "<?xml version=\"1.0\" encoding=\"UTF-8\" standalone=\"no\"?>\n<!DOCTYPE svg PUBLIC \"-//W3C//DTD SVG 1.1//EN\"\n \"http://www.w3.org/Graphics/SVG/1.1/DTD/svg11.dtd\">\n<!-- Generated by graphviz version 2.40.1 (20161225.0304)\n -->\n<!-- Title: Tree Pages: 1 -->\n<svg width=\"992pt\" height=\"1126pt\"\n viewBox=\"0.00 0.00 992.00 1126.00\" xmlns=\"http://www.w3.org/2000/svg\" xmlns:xlink=\"http://www.w3.org/1999/xlink\">\n<g id=\"graph0\" class=\"graph\" transform=\"scale(1 1) rotate(0) translate(4 1122)\">\n<title>Tree</title>\n<polygon fill=\"#ffffff\" stroke=\"transparent\" points=\"-4,4 -4,-1122 988,-1122 988,4 -4,4\"/>\n<!-- 0 -->\n<g id=\"node1\" class=\"node\">\n<title>0</title>\n<path fill=\"#eca571\" stroke=\"#000000\" d=\"M149,-636.5C149,-636.5 12,-636.5 12,-636.5 6,-636.5 0,-630.5 0,-624.5 0,-624.5 0,-580.5 0,-580.5 0,-574.5 6,-568.5 12,-568.5 12,-568.5 149,-568.5 149,-568.5 155,-568.5 161,-574.5 161,-580.5 161,-580.5 161,-624.5 161,-624.5 161,-630.5 155,-636.5 149,-636.5\"/>\n<text text-anchor=\"middle\" x=\"80.5\" y=\"-621.3\" font-family=\"Helvetica,sans-Serif\" font-size=\"14.00\" fill=\"#000000\">PAY_0 &lt;= 1.5</text>\n<text text-anchor=\"middle\" x=\"80.5\" y=\"-606.3\" font-family=\"Helvetica,sans-Serif\" font-size=\"14.00\" fill=\"#000000\">squared_error = 0.035</text>\n<text text-anchor=\"middle\" x=\"80.5\" y=\"-591.3\" font-family=\"Helvetica,sans-Serif\" font-size=\"14.00\" fill=\"#000000\">samples = 35849</text>\n<text text-anchor=\"middle\" x=\"80.5\" y=\"-576.3\" font-family=\"Helvetica,sans-Serif\" font-size=\"14.00\" fill=\"#000000\">value = 0.526</text>\n</g>\n<!-- 1 -->\n<g id=\"node2\" class=\"node\">\n<title>1</title>\n<path fill=\"#f8dfcd\" stroke=\"#000000\" d=\"M346,-735.5C346,-735.5 209,-735.5 209,-735.5 203,-735.5 197,-729.5 197,-723.5 197,-723.5 197,-679.5 197,-679.5 197,-673.5 203,-667.5 209,-667.5 209,-667.5 346,-667.5 346,-667.5 352,-667.5 358,-673.5 358,-679.5 358,-679.5 358,-723.5 358,-723.5 358,-729.5 352,-735.5 346,-735.5\"/>\n<text text-anchor=\"middle\" x=\"277.5\" y=\"-720.3\" font-family=\"Helvetica,sans-Serif\" font-size=\"14.00\" fill=\"#000000\">PAY_0 &lt;= 0.5</text>\n<text text-anchor=\"middle\" x=\"277.5\" y=\"-705.3\" font-family=\"Helvetica,sans-Serif\" font-size=\"14.00\" fill=\"#000000\">squared_error = 0.011</text>\n<text text-anchor=\"middle\" x=\"277.5\" y=\"-690.3\" font-family=\"Helvetica,sans-Serif\" font-size=\"14.00\" fill=\"#000000\">samples = 10556</text>\n<text text-anchor=\"middle\" x=\"277.5\" y=\"-675.3\" font-family=\"Helvetica,sans-Serif\" font-size=\"14.00\" fill=\"#000000\">value = 0.268</text>\n</g>\n<!-- 0&#45;&gt;1 -->\n<g id=\"edge1\" class=\"edge\">\n<title>0&#45;&gt;1</title>\n<path fill=\"none\" stroke=\"#000000\" d=\"M148.2962,-636.5702C165.0119,-644.9705 183.0384,-654.0295 200.1684,-662.6379\"/>\n<polygon fill=\"#000000\" stroke=\"#000000\" points=\"199.072,-666.004 209.5788,-667.367 202.2152,-659.7494 199.072,-666.004\"/>\n<text text-anchor=\"middle\" x=\"185.8457\" y=\"-671.5246\" font-family=\"Helvetica,sans-Serif\" font-size=\"14.00\" fill=\"#000000\">True</text>\n</g>\n<!-- 16 -->\n<g id=\"node17\" class=\"node\">\n<title>16</title>\n<path fill=\"#e78c4b\" stroke=\"#000000\" d=\"M346,-451.5C346,-451.5 209,-451.5 209,-451.5 203,-451.5 197,-445.5 197,-439.5 197,-439.5 197,-395.5 197,-395.5 197,-389.5 203,-383.5 209,-383.5 209,-383.5 346,-383.5 346,-383.5 352,-383.5 358,-389.5 358,-395.5 358,-395.5 358,-439.5 358,-439.5 358,-445.5 352,-451.5 346,-451.5\"/>\n<text text-anchor=\"middle\" x=\"277.5\" y=\"-436.3\" font-family=\"Helvetica,sans-Serif\" font-size=\"14.00\" fill=\"#000000\">PAY_3 &lt;= &#45;0.5</text>\n<text text-anchor=\"middle\" x=\"277.5\" y=\"-421.3\" font-family=\"Helvetica,sans-Serif\" font-size=\"14.00\" fill=\"#000000\">squared_error = 0.006</text>\n<text text-anchor=\"middle\" x=\"277.5\" y=\"-406.3\" font-family=\"Helvetica,sans-Serif\" font-size=\"14.00\" fill=\"#000000\">samples = 25293</text>\n<text text-anchor=\"middle\" x=\"277.5\" y=\"-391.3\" font-family=\"Helvetica,sans-Serif\" font-size=\"14.00\" fill=\"#000000\">value = 0.633</text>\n</g>\n<!-- 0&#45;&gt;16 -->\n<g id=\"edge16\" class=\"edge\">\n<title>0&#45;&gt;16</title>\n<path fill=\"none\" stroke=\"#000000\" d=\"M117.0925,-568.1365C149.9888,-537.244 198.3776,-491.8027 233.3992,-458.9144\"/>\n<polygon fill=\"#000000\" stroke=\"#000000\" points=\"236.2098,-461.0765 241.1035,-451.6795 231.4179,-455.9737 236.2098,-461.0765\"/>\n<text text-anchor=\"middle\" x=\"216.1158\" y=\"-447.1945\" font-family=\"Helvetica,sans-Serif\" font-size=\"14.00\" fill=\"#000000\">False</text>\n</g>\n<!-- 2 -->\n<g id=\"node3\" class=\"node\">\n<title>2</title>\n<path fill=\"#fbebe0\" stroke=\"#000000\" d=\"M560.5,-940.5C560.5,-940.5 423.5,-940.5 423.5,-940.5 417.5,-940.5 411.5,-934.5 411.5,-928.5 411.5,-928.5 411.5,-884.5 411.5,-884.5 411.5,-878.5 417.5,-872.5 423.5,-872.5 423.5,-872.5 560.5,-872.5 560.5,-872.5 566.5,-872.5 572.5,-878.5 572.5,-884.5 572.5,-884.5 572.5,-928.5 572.5,-928.5 572.5,-934.5 566.5,-940.5 560.5,-940.5\"/>\n<text text-anchor=\"middle\" x=\"492\" y=\"-925.3\" font-family=\"Helvetica,sans-Serif\" font-size=\"14.00\" fill=\"#000000\">PAY_2 &lt;= 1.5</text>\n<text text-anchor=\"middle\" x=\"492\" y=\"-910.3\" font-family=\"Helvetica,sans-Serif\" font-size=\"14.00\" fill=\"#000000\">squared_error = 0.004</text>\n<text text-anchor=\"middle\" x=\"492\" y=\"-895.3\" font-family=\"Helvetica,sans-Serif\" font-size=\"14.00\" fill=\"#000000\">samples = 7443</text>\n<text text-anchor=\"middle\" x=\"492\" y=\"-880.3\" font-family=\"Helvetica,sans-Serif\" font-size=\"14.00\" fill=\"#000000\">value = 0.216</text>\n</g>\n<!-- 1&#45;&gt;2 -->\n<g id=\"edge2\" class=\"edge\">\n<title>1&#45;&gt;2</title>\n<path fill=\"none\" stroke=\"#000000\" d=\"M313.4025,-735.8124C350.635,-771.396 408.8629,-827.045 448.6402,-865.0606\"/>\n<polygon fill=\"#000000\" stroke=\"#000000\" points=\"446.6904,-868.0385 456.338,-872.4174 451.5268,-862.9779 446.6904,-868.0385\"/>\n</g>\n<!-- 9 -->\n<g id=\"node10\" class=\"node\">\n<title>9</title>\n<path fill=\"#f3c3a0\" stroke=\"#000000\" d=\"M560.5,-735.5C560.5,-735.5 423.5,-735.5 423.5,-735.5 417.5,-735.5 411.5,-729.5 411.5,-723.5 411.5,-723.5 411.5,-679.5 411.5,-679.5 411.5,-673.5 417.5,-667.5 423.5,-667.5 423.5,-667.5 560.5,-667.5 560.5,-667.5 566.5,-667.5 572.5,-673.5 572.5,-679.5 572.5,-679.5 572.5,-723.5 572.5,-723.5 572.5,-729.5 566.5,-735.5 560.5,-735.5\"/>\n<text text-anchor=\"middle\" x=\"492\" y=\"-720.3\" font-family=\"Helvetica,sans-Serif\" font-size=\"14.00\" fill=\"#000000\">PAY_2 &lt;= 1.5</text>\n<text text-anchor=\"middle\" x=\"492\" y=\"-705.3\" font-family=\"Helvetica,sans-Serif\" font-size=\"14.00\" fill=\"#000000\">squared_error = 0.006</text>\n<text text-anchor=\"middle\" x=\"492\" y=\"-690.3\" font-family=\"Helvetica,sans-Serif\" font-size=\"14.00\" fill=\"#000000\">samples = 3113</text>\n<text text-anchor=\"middle\" x=\"492\" y=\"-675.3\" font-family=\"Helvetica,sans-Serif\" font-size=\"14.00\" fill=\"#000000\">value = 0.393</text>\n</g>\n<!-- 1&#45;&gt;9 -->\n<g id=\"edge9\" class=\"edge\">\n<title>1&#45;&gt;9</title>\n<path fill=\"none\" stroke=\"#000000\" d=\"M358.2876,-701.5C372.2398,-701.5 386.8294,-701.5 401.0291,-701.5\"/>\n<polygon fill=\"#000000\" stroke=\"#000000\" points=\"401.2852,-705.0001 411.2852,-701.5 401.2852,-698.0001 401.2852,-705.0001\"/>\n</g>\n<!-- 3 -->\n<g id=\"node4\" class=\"node\">\n<title>3</title>\n<path fill=\"#fdf6f1\" stroke=\"#000000\" d=\"M775,-1054.5C775,-1054.5 638,-1054.5 638,-1054.5 632,-1054.5 626,-1048.5 626,-1042.5 626,-1042.5 626,-998.5 626,-998.5 626,-992.5 632,-986.5 638,-986.5 638,-986.5 775,-986.5 775,-986.5 781,-986.5 787,-992.5 787,-998.5 787,-998.5 787,-1042.5 787,-1042.5 787,-1048.5 781,-1054.5 775,-1054.5\"/>\n<text text-anchor=\"middle\" x=\"706.5\" y=\"-1039.3\" font-family=\"Helvetica,sans-Serif\" font-size=\"14.00\" fill=\"#000000\">PAY_3 &lt;= 0.5</text>\n<text text-anchor=\"middle\" x=\"706.5\" y=\"-1024.3\" font-family=\"Helvetica,sans-Serif\" font-size=\"14.00\" fill=\"#000000\">squared_error = 0.002</text>\n<text text-anchor=\"middle\" x=\"706.5\" y=\"-1009.3\" font-family=\"Helvetica,sans-Serif\" font-size=\"14.00\" fill=\"#000000\">samples = 2213</text>\n<text text-anchor=\"middle\" x=\"706.5\" y=\"-994.3\" font-family=\"Helvetica,sans-Serif\" font-size=\"14.00\" fill=\"#000000\">value = 0.167</text>\n</g>\n<!-- 2&#45;&gt;3 -->\n<g id=\"edge3\" class=\"edge\">\n<title>2&#45;&gt;3</title>\n<path fill=\"none\" stroke=\"#000000\" d=\"M556.0665,-940.5493C580.3648,-953.4631 608.2131,-968.2636 633.291,-981.5917\"/>\n<polygon fill=\"#000000\" stroke=\"#000000\" points=\"631.9202,-984.8268 642.3932,-986.4293 635.2054,-978.6455 631.9202,-984.8268\"/>\n</g>\n<!-- 6 -->\n<g id=\"node7\" class=\"node\">\n<title>6</title>\n<path fill=\"#fae6d8\" stroke=\"#000000\" d=\"M775,-940.5C775,-940.5 638,-940.5 638,-940.5 632,-940.5 626,-934.5 626,-928.5 626,-928.5 626,-884.5 626,-884.5 626,-878.5 632,-872.5 638,-872.5 638,-872.5 775,-872.5 775,-872.5 781,-872.5 787,-878.5 787,-884.5 787,-884.5 787,-928.5 787,-928.5 787,-934.5 781,-940.5 775,-940.5\"/>\n<text text-anchor=\"middle\" x=\"706.5\" y=\"-925.3\" font-family=\"Helvetica,sans-Serif\" font-size=\"14.00\" fill=\"#000000\">PAY_3 &lt;= 0.5</text>\n<text text-anchor=\"middle\" x=\"706.5\" y=\"-910.3\" font-family=\"Helvetica,sans-Serif\" font-size=\"14.00\" fill=\"#000000\">squared_error = 0.003</text>\n<text text-anchor=\"middle\" x=\"706.5\" y=\"-895.3\" font-family=\"Helvetica,sans-Serif\" font-size=\"14.00\" fill=\"#000000\">samples = 5230</text>\n<text text-anchor=\"middle\" x=\"706.5\" y=\"-880.3\" font-family=\"Helvetica,sans-Serif\" font-size=\"14.00\" fill=\"#000000\">value = 0.236</text>\n</g>\n<!-- 2&#45;&gt;6 -->\n<g id=\"edge6\" class=\"edge\">\n<title>2&#45;&gt;6</title>\n<path fill=\"none\" stroke=\"#000000\" d=\"M572.7876,-906.5C586.7398,-906.5 601.3294,-906.5 615.5291,-906.5\"/>\n<polygon fill=\"#000000\" stroke=\"#000000\" points=\"615.7852,-910.0001 625.7852,-906.5 615.7852,-903.0001 615.7852,-910.0001\"/>\n</g>\n<!-- 4 -->\n<g id=\"node5\" class=\"node\">\n<title>4</title>\n<path fill=\"#ffffff\" stroke=\"#000000\" d=\"M972,-1118C972,-1118 835,-1118 835,-1118 829,-1118 823,-1112 823,-1106 823,-1106 823,-1077 823,-1077 823,-1071 829,-1065 835,-1065 835,-1065 972,-1065 972,-1065 978,-1065 984,-1071 984,-1077 984,-1077 984,-1106 984,-1106 984,-1112 978,-1118 972,-1118\"/>\n<text text-anchor=\"middle\" x=\"903.5\" y=\"-1102.8\" font-family=\"Helvetica,sans-Serif\" font-size=\"14.00\" fill=\"#000000\">squared_error = 0.001</text>\n<text text-anchor=\"middle\" x=\"903.5\" y=\"-1087.8\" font-family=\"Helvetica,sans-Serif\" font-size=\"14.00\" fill=\"#000000\">samples = 668</text>\n<text text-anchor=\"middle\" x=\"903.5\" y=\"-1072.8\" font-family=\"Helvetica,sans-Serif\" font-size=\"14.00\" fill=\"#000000\">value = 0.128</text>\n</g>\n<!-- 3&#45;&gt;4 -->\n<g id=\"edge4\" class=\"edge\">\n<title>3&#45;&gt;4</title>\n<path fill=\"none\" stroke=\"#000000\" d=\"M787.1959,-1049.5833C798.1263,-1053.5227 809.3594,-1057.5712 820.3322,-1061.5258\"/>\n<polygon fill=\"#000000\" stroke=\"#000000\" points=\"819.2995,-1064.8739 829.8939,-1064.9719 821.6729,-1058.2886 819.2995,-1064.8739\"/>\n</g>\n<!-- 5 -->\n<g id=\"node6\" class=\"node\">\n<title>5</title>\n<path fill=\"#fcf2eb\" stroke=\"#000000\" d=\"M972,-1047C972,-1047 835,-1047 835,-1047 829,-1047 823,-1041 823,-1035 823,-1035 823,-1006 823,-1006 823,-1000 829,-994 835,-994 835,-994 972,-994 972,-994 978,-994 984,-1000 984,-1006 984,-1006 984,-1035 984,-1035 984,-1041 978,-1047 972,-1047\"/>\n<text text-anchor=\"middle\" x=\"903.5\" y=\"-1031.8\" font-family=\"Helvetica,sans-Serif\" font-size=\"14.00\" fill=\"#000000\">squared_error = 0.002</text>\n<text text-anchor=\"middle\" x=\"903.5\" y=\"-1016.8\" font-family=\"Helvetica,sans-Serif\" font-size=\"14.00\" fill=\"#000000\">samples = 1545</text>\n<text text-anchor=\"middle\" x=\"903.5\" y=\"-1001.8\" font-family=\"Helvetica,sans-Serif\" font-size=\"14.00\" fill=\"#000000\">value = 0.184</text>\n</g>\n<!-- 3&#45;&gt;5 -->\n<g id=\"edge5\" class=\"edge\">\n<title>3&#45;&gt;5</title>\n<path fill=\"none\" stroke=\"#000000\" d=\"M787.1959,-1020.5C795.6733,-1020.5 804.3327,-1020.5 812.9115,-1020.5\"/>\n<polygon fill=\"#000000\" stroke=\"#000000\" points=\"812.9297,-1024.0001 822.9296,-1020.5 812.9296,-1017.0001 812.9297,-1024.0001\"/>\n</g>\n<!-- 7 -->\n<g id=\"node8\" class=\"node\">\n<title>7</title>\n<path fill=\"#fcf2eb\" stroke=\"#000000\" d=\"M972,-976C972,-976 835,-976 835,-976 829,-976 823,-970 823,-964 823,-964 823,-935 823,-935 823,-929 829,-923 835,-923 835,-923 972,-923 972,-923 978,-923 984,-929 984,-935 984,-935 984,-964 984,-964 984,-970 978,-976 972,-976\"/>\n<text text-anchor=\"middle\" x=\"903.5\" y=\"-960.8\" font-family=\"Helvetica,sans-Serif\" font-size=\"14.00\" fill=\"#000000\">squared_error = 0.002</text>\n<text text-anchor=\"middle\" x=\"903.5\" y=\"-945.8\" font-family=\"Helvetica,sans-Serif\" font-size=\"14.00\" fill=\"#000000\">samples = 1290</text>\n<text text-anchor=\"middle\" x=\"903.5\" y=\"-930.8\" font-family=\"Helvetica,sans-Serif\" font-size=\"14.00\" fill=\"#000000\">value = 0.183</text>\n</g>\n<!-- 6&#45;&gt;7 -->\n<g id=\"edge7\" class=\"edge\">\n<title>6&#45;&gt;7</title>\n<path fill=\"none\" stroke=\"#000000\" d=\"M787.1959,-924.1138C795.6733,-925.9642 804.3327,-927.8543 812.9115,-929.7269\"/>\n<polygon fill=\"#000000\" stroke=\"#000000\" points=\"812.4133,-933.2005 822.9296,-931.9136 813.9061,-926.3615 812.4133,-933.2005\"/>\n</g>\n<!-- 8 -->\n<g id=\"node9\" class=\"node\">\n<title>8</title>\n<path fill=\"#f9e2d2\" stroke=\"#000000\" d=\"M972,-905C972,-905 835,-905 835,-905 829,-905 823,-899 823,-893 823,-893 823,-864 823,-864 823,-858 829,-852 835,-852 835,-852 972,-852 972,-852 978,-852 984,-858 984,-864 984,-864 984,-893 984,-893 984,-899 978,-905 972,-905\"/>\n<text text-anchor=\"middle\" x=\"903.5\" y=\"-889.8\" font-family=\"Helvetica,sans-Serif\" font-size=\"14.00\" fill=\"#000000\">squared_error = 0.003</text>\n<text text-anchor=\"middle\" x=\"903.5\" y=\"-874.8\" font-family=\"Helvetica,sans-Serif\" font-size=\"14.00\" fill=\"#000000\">samples = 3940</text>\n<text text-anchor=\"middle\" x=\"903.5\" y=\"-859.8\" font-family=\"Helvetica,sans-Serif\" font-size=\"14.00\" fill=\"#000000\">value = 0.254</text>\n</g>\n<!-- 6&#45;&gt;8 -->\n<g id=\"edge8\" class=\"edge\">\n<title>6&#45;&gt;8</title>\n<path fill=\"none\" stroke=\"#000000\" d=\"M787.1959,-895.0305C795.6733,-893.8256 804.3327,-892.5948 812.9115,-891.3755\"/>\n<polygon fill=\"#000000\" stroke=\"#000000\" points=\"813.5217,-894.8241 822.9296,-889.9516 812.5366,-887.8937 813.5217,-894.8241\"/>\n</g>\n<!-- 10 -->\n<g id=\"node11\" class=\"node\">\n<title>10</title>\n<path fill=\"#f6d2b9\" stroke=\"#000000\" d=\"M775,-778.5C775,-778.5 638,-778.5 638,-778.5 632,-778.5 626,-772.5 626,-766.5 626,-766.5 626,-722.5 626,-722.5 626,-716.5 632,-710.5 638,-710.5 638,-710.5 775,-710.5 775,-710.5 781,-710.5 787,-716.5 787,-722.5 787,-722.5 787,-766.5 787,-766.5 787,-772.5 781,-778.5 775,-778.5\"/>\n<text text-anchor=\"middle\" x=\"706.5\" y=\"-763.3\" font-family=\"Helvetica,sans-Serif\" font-size=\"14.00\" fill=\"#000000\">PAY_5 &lt;= 0.5</text>\n<text text-anchor=\"middle\" x=\"706.5\" y=\"-748.3\" font-family=\"Helvetica,sans-Serif\" font-size=\"14.00\" fill=\"#000000\">squared_error = 0.004</text>\n<text text-anchor=\"middle\" x=\"706.5\" y=\"-733.3\" font-family=\"Helvetica,sans-Serif\" font-size=\"14.00\" fill=\"#000000\">samples = 872</text>\n<text text-anchor=\"middle\" x=\"706.5\" y=\"-718.3\" font-family=\"Helvetica,sans-Serif\" font-size=\"14.00\" fill=\"#000000\">value = 0.324</text>\n</g>\n<!-- 9&#45;&gt;10 -->\n<g id=\"edge10\" class=\"edge\">\n<title>9&#45;&gt;10</title>\n<path fill=\"none\" stroke=\"#000000\" d=\"M572.7876,-717.6952C586.8753,-720.5193 601.6127,-723.4737 615.9426,-726.3463\"/>\n<polygon fill=\"#000000\" stroke=\"#000000\" points=\"615.2923,-729.7855 625.7852,-728.3194 616.6682,-722.922 615.2923,-729.7855\"/>\n</g>\n<!-- 13 -->\n<g id=\"node14\" class=\"node\">\n<title>13</title>\n<path fill=\"#f1bd97\" stroke=\"#000000\" d=\"M775,-692.5C775,-692.5 638,-692.5 638,-692.5 632,-692.5 626,-686.5 626,-680.5 626,-680.5 626,-636.5 626,-636.5 626,-630.5 632,-624.5 638,-624.5 638,-624.5 775,-624.5 775,-624.5 781,-624.5 787,-630.5 787,-636.5 787,-636.5 787,-680.5 787,-680.5 787,-686.5 781,-692.5 775,-692.5\"/>\n<text text-anchor=\"middle\" x=\"706.5\" y=\"-677.3\" font-family=\"Helvetica,sans-Serif\" font-size=\"14.00\" fill=\"#000000\">PAY_3 &lt;= 0.5</text>\n<text text-anchor=\"middle\" x=\"706.5\" y=\"-662.3\" font-family=\"Helvetica,sans-Serif\" font-size=\"14.00\" fill=\"#000000\">squared_error = 0.004</text>\n<text text-anchor=\"middle\" x=\"706.5\" y=\"-647.3\" font-family=\"Helvetica,sans-Serif\" font-size=\"14.00\" fill=\"#000000\">samples = 2241</text>\n<text text-anchor=\"middle\" x=\"706.5\" y=\"-632.3\" font-family=\"Helvetica,sans-Serif\" font-size=\"14.00\" fill=\"#000000\">value = 0.42</text>\n</g>\n<!-- 9&#45;&gt;13 -->\n<g id=\"edge13\" class=\"edge\">\n<title>9&#45;&gt;13</title>\n<path fill=\"none\" stroke=\"#000000\" d=\"M572.7876,-685.3048C586.8753,-682.4807 601.6127,-679.5263 615.9426,-676.6537\"/>\n<polygon fill=\"#000000\" stroke=\"#000000\" points=\"616.6682,-680.078 625.7852,-674.6806 615.2923,-673.2145 616.6682,-680.078\"/>\n</g>\n<!-- 11 -->\n<g id=\"node12\" class=\"node\">\n<title>11</title>\n<path fill=\"#f9e2d1\" stroke=\"#000000\" d=\"M972,-834C972,-834 835,-834 835,-834 829,-834 823,-828 823,-822 823,-822 823,-793 823,-793 823,-787 829,-781 835,-781 835,-781 972,-781 972,-781 978,-781 984,-787 984,-793 984,-793 984,-822 984,-822 984,-828 978,-834 972,-834\"/>\n<text text-anchor=\"middle\" x=\"903.5\" y=\"-818.8\" font-family=\"Helvetica,sans-Serif\" font-size=\"14.00\" fill=\"#000000\">squared_error = 0.002</text>\n<text text-anchor=\"middle\" x=\"903.5\" y=\"-803.8\" font-family=\"Helvetica,sans-Serif\" font-size=\"14.00\" fill=\"#000000\">samples = 183</text>\n<text text-anchor=\"middle\" x=\"903.5\" y=\"-788.8\" font-family=\"Helvetica,sans-Serif\" font-size=\"14.00\" fill=\"#000000\">value = 0.257</text>\n</g>\n<!-- 10&#45;&gt;11 -->\n<g id=\"edge11\" class=\"edge\">\n<title>10&#45;&gt;11</title>\n<path fill=\"none\" stroke=\"#000000\" d=\"M787.1959,-770.3063C795.7654,-773.0468 804.521,-775.8468 813.1913,-778.6195\"/>\n<polygon fill=\"#000000\" stroke=\"#000000\" points=\"812.3387,-782.0215 822.9296,-781.7338 814.471,-775.3541 812.3387,-782.0215\"/>\n</g>\n<!-- 12 -->\n<g id=\"node13\" class=\"node\">\n<title>12</title>\n<path fill=\"#f5ceb3\" stroke=\"#000000\" d=\"M972,-763C972,-763 835,-763 835,-763 829,-763 823,-757 823,-751 823,-751 823,-722 823,-722 823,-716 829,-710 835,-710 835,-710 972,-710 972,-710 978,-710 984,-716 984,-722 984,-722 984,-751 984,-751 984,-757 978,-763 972,-763\"/>\n<text text-anchor=\"middle\" x=\"903.5\" y=\"-747.8\" font-family=\"Helvetica,sans-Serif\" font-size=\"14.00\" fill=\"#000000\">squared_error = 0.003</text>\n<text text-anchor=\"middle\" x=\"903.5\" y=\"-732.8\" font-family=\"Helvetica,sans-Serif\" font-size=\"14.00\" fill=\"#000000\">samples = 689</text>\n<text text-anchor=\"middle\" x=\"903.5\" y=\"-717.8\" font-family=\"Helvetica,sans-Serif\" font-size=\"14.00\" fill=\"#000000\">value = 0.342</text>\n</g>\n<!-- 10&#45;&gt;12 -->\n<g id=\"edge12\" class=\"edge\">\n<title>10&#45;&gt;12</title>\n<path fill=\"none\" stroke=\"#000000\" d=\"M787.1959,-741.223C795.6733,-740.8788 804.3327,-740.5271 812.9115,-740.1787\"/>\n<polygon fill=\"#000000\" stroke=\"#000000\" points=\"813.0799,-743.6749 822.9296,-739.7719 812.7958,-736.6806 813.0799,-743.6749\"/>\n</g>\n<!-- 14 -->\n<g id=\"node15\" class=\"node\">\n<title>14</title>\n<path fill=\"#f4ccaf\" stroke=\"#000000\" d=\"M972,-692C972,-692 835,-692 835,-692 829,-692 823,-686 823,-680 823,-680 823,-651 823,-651 823,-645 829,-639 835,-639 835,-639 972,-639 972,-639 978,-639 984,-645 984,-651 984,-651 984,-680 984,-680 984,-686 978,-692 972,-692\"/>\n<text text-anchor=\"middle\" x=\"903.5\" y=\"-676.8\" font-family=\"Helvetica,sans-Serif\" font-size=\"14.00\" fill=\"#000000\">squared_error = 0.003</text>\n<text text-anchor=\"middle\" x=\"903.5\" y=\"-661.8\" font-family=\"Helvetica,sans-Serif\" font-size=\"14.00\" fill=\"#000000\">samples = 433</text>\n<text text-anchor=\"middle\" x=\"903.5\" y=\"-646.8\" font-family=\"Helvetica,sans-Serif\" font-size=\"14.00\" fill=\"#000000\">value = 0.353</text>\n</g>\n<!-- 13&#45;&gt;14 -->\n<g id=\"edge14\" class=\"edge\">\n<title>13&#45;&gt;14</title>\n<path fill=\"none\" stroke=\"#000000\" d=\"M787.1959,-661.3674C795.6733,-661.6686 804.3327,-661.9763 812.9115,-662.2811\"/>\n<polygon fill=\"#000000\" stroke=\"#000000\" points=\"812.8116,-665.7797 822.9296,-662.6371 813.0603,-658.7841 812.8116,-665.7797\"/>\n</g>\n<!-- 15 -->\n<g id=\"node16\" class=\"node\">\n<title>15</title>\n<path fill=\"#f1b991\" stroke=\"#000000\" d=\"M972,-621C972,-621 835,-621 835,-621 829,-621 823,-615 823,-609 823,-609 823,-580 823,-580 823,-574 829,-568 835,-568 835,-568 972,-568 972,-568 978,-568 984,-574 984,-580 984,-580 984,-609 984,-609 984,-615 978,-621 972,-621\"/>\n<text text-anchor=\"middle\" x=\"903.5\" y=\"-605.8\" font-family=\"Helvetica,sans-Serif\" font-size=\"14.00\" fill=\"#000000\">squared_error = 0.003</text>\n<text text-anchor=\"middle\" x=\"903.5\" y=\"-590.8\" font-family=\"Helvetica,sans-Serif\" font-size=\"14.00\" fill=\"#000000\">samples = 1808</text>\n<text text-anchor=\"middle\" x=\"903.5\" y=\"-575.8\" font-family=\"Helvetica,sans-Serif\" font-size=\"14.00\" fill=\"#000000\">value = 0.436</text>\n</g>\n<!-- 13&#45;&gt;15 -->\n<g id=\"edge15\" class=\"edge\">\n<title>13&#45;&gt;15</title>\n<path fill=\"none\" stroke=\"#000000\" d=\"M787.1959,-632.2841C795.7654,-629.5001 804.521,-626.6556 813.1913,-623.8389\"/>\n<polygon fill=\"#000000\" stroke=\"#000000\" points=\"814.5004,-627.0937 822.9296,-620.6751 812.3375,-620.4362 814.5004,-627.0937\"/>\n</g>\n<!-- 17 -->\n<g id=\"node18\" class=\"node\">\n<title>17</title>\n<path fill=\"#eda775\" stroke=\"#000000\" d=\"M578,-451.5C578,-451.5 406,-451.5 406,-451.5 400,-451.5 394,-445.5 394,-439.5 394,-439.5 394,-395.5 394,-395.5 394,-389.5 400,-383.5 406,-383.5 406,-383.5 578,-383.5 578,-383.5 584,-383.5 590,-389.5 590,-395.5 590,-395.5 590,-439.5 590,-439.5 590,-445.5 584,-451.5 578,-451.5\"/>\n<text text-anchor=\"middle\" x=\"492\" y=\"-436.3\" font-family=\"Helvetica,sans-Serif\" font-size=\"14.00\" fill=\"#000000\">BILL_AMT5 &lt;= 232145.719</text>\n<text text-anchor=\"middle\" x=\"492\" y=\"-421.3\" font-family=\"Helvetica,sans-Serif\" font-size=\"14.00\" fill=\"#000000\">squared_error = 0.004</text>\n<text text-anchor=\"middle\" x=\"492\" y=\"-406.3\" font-family=\"Helvetica,sans-Serif\" font-size=\"14.00\" fill=\"#000000\">samples = 2181</text>\n<text text-anchor=\"middle\" x=\"492\" y=\"-391.3\" font-family=\"Helvetica,sans-Serif\" font-size=\"14.00\" fill=\"#000000\">value = 0.514</text>\n</g>\n<!-- 16&#45;&gt;17 -->\n<g id=\"edge17\" class=\"edge\">\n<title>16&#45;&gt;17</title>\n<path fill=\"none\" stroke=\"#000000\" d=\"M358.2876,-417.5C366.6526,-417.5 375.2468,-417.5 383.8486,-417.5\"/>\n<polygon fill=\"#000000\" stroke=\"#000000\" points=\"383.9368,-421.0001 393.9367,-417.5 383.9367,-414.0001 383.9368,-421.0001\"/>\n</g>\n<!-- 24 -->\n<g id=\"node25\" class=\"node\">\n<title>24</title>\n<path fill=\"#e78a47\" stroke=\"#000000\" d=\"M578,-245.5C578,-245.5 406,-245.5 406,-245.5 400,-245.5 394,-239.5 394,-233.5 394,-233.5 394,-189.5 394,-189.5 394,-183.5 400,-177.5 406,-177.5 406,-177.5 578,-177.5 578,-177.5 584,-177.5 590,-183.5 590,-189.5 590,-189.5 590,-233.5 590,-233.5 590,-239.5 584,-245.5 578,-245.5\"/>\n<text text-anchor=\"middle\" x=\"492\" y=\"-230.3\" font-family=\"Helvetica,sans-Serif\" font-size=\"14.00\" fill=\"#000000\">BILL_AMT5 &lt;= 233140.516</text>\n<text text-anchor=\"middle\" x=\"492\" y=\"-215.3\" font-family=\"Helvetica,sans-Serif\" font-size=\"14.00\" fill=\"#000000\">squared_error = 0.004</text>\n<text text-anchor=\"middle\" x=\"492\" y=\"-200.3\" font-family=\"Helvetica,sans-Serif\" font-size=\"14.00\" fill=\"#000000\">samples = 23112</text>\n<text text-anchor=\"middle\" x=\"492\" y=\"-185.3\" font-family=\"Helvetica,sans-Serif\" font-size=\"14.00\" fill=\"#000000\">value = 0.645</text>\n</g>\n<!-- 16&#45;&gt;24 -->\n<g id=\"edge24\" class=\"edge\">\n<title>16&#45;&gt;24</title>\n<path fill=\"none\" stroke=\"#000000\" d=\"M312.9203,-383.4833C350.335,-347.5512 409.3343,-290.8899 449.2963,-252.5115\"/>\n<polygon fill=\"#000000\" stroke=\"#000000\" points=\"451.7389,-255.0184 456.5271,-245.5672 446.8901,-249.9696 451.7389,-255.0184\"/>\n</g>\n<!-- 18 -->\n<g id=\"node19\" class=\"node\">\n<title>18</title>\n<path fill=\"#efb286\" stroke=\"#000000\" d=\"M775,-494.5C775,-494.5 638,-494.5 638,-494.5 632,-494.5 626,-488.5 626,-482.5 626,-482.5 626,-438.5 626,-438.5 626,-432.5 632,-426.5 638,-426.5 638,-426.5 775,-426.5 775,-426.5 781,-426.5 787,-432.5 787,-438.5 787,-438.5 787,-482.5 787,-482.5 787,-488.5 781,-494.5 775,-494.5\"/>\n<text text-anchor=\"middle\" x=\"706.5\" y=\"-479.3\" font-family=\"Helvetica,sans-Serif\" font-size=\"14.00\" fill=\"#000000\">PAY_2 &lt;= 1.5</text>\n<text text-anchor=\"middle\" x=\"706.5\" y=\"-464.3\" font-family=\"Helvetica,sans-Serif\" font-size=\"14.00\" fill=\"#000000\">squared_error = 0.003</text>\n<text text-anchor=\"middle\" x=\"706.5\" y=\"-449.3\" font-family=\"Helvetica,sans-Serif\" font-size=\"14.00\" fill=\"#000000\">samples = 693</text>\n<text text-anchor=\"middle\" x=\"706.5\" y=\"-434.3\" font-family=\"Helvetica,sans-Serif\" font-size=\"14.00\" fill=\"#000000\">value = 0.467</text>\n</g>\n<!-- 17&#45;&gt;18 -->\n<g id=\"edge18\" class=\"edge\">\n<title>17&#45;&gt;18</title>\n<path fill=\"none\" stroke=\"#000000\" d=\"M590.1477,-437.1753C598.7108,-438.8919 607.3518,-440.6241 615.8503,-442.3278\"/>\n<polygon fill=\"#000000\" stroke=\"#000000\" points=\"615.2553,-445.7781 625.7482,-444.312 616.6312,-438.9146 615.2553,-445.7781\"/>\n</g>\n<!-- 21 -->\n<g id=\"node22\" class=\"node\">\n<title>21</title>\n<path fill=\"#eca26e\" stroke=\"#000000\" d=\"M775,-408.5C775,-408.5 638,-408.5 638,-408.5 632,-408.5 626,-402.5 626,-396.5 626,-396.5 626,-352.5 626,-352.5 626,-346.5 632,-340.5 638,-340.5 638,-340.5 775,-340.5 775,-340.5 781,-340.5 787,-346.5 787,-352.5 787,-352.5 787,-396.5 787,-396.5 787,-402.5 781,-408.5 775,-408.5\"/>\n<text text-anchor=\"middle\" x=\"706.5\" y=\"-393.3\" font-family=\"Helvetica,sans-Serif\" font-size=\"14.00\" fill=\"#000000\">PAY_2 &lt;= 1.5</text>\n<text text-anchor=\"middle\" x=\"706.5\" y=\"-378.3\" font-family=\"Helvetica,sans-Serif\" font-size=\"14.00\" fill=\"#000000\">squared_error = 0.003</text>\n<text text-anchor=\"middle\" x=\"706.5\" y=\"-363.3\" font-family=\"Helvetica,sans-Serif\" font-size=\"14.00\" fill=\"#000000\">samples = 1488</text>\n<text text-anchor=\"middle\" x=\"706.5\" y=\"-348.3\" font-family=\"Helvetica,sans-Serif\" font-size=\"14.00\" fill=\"#000000\">value = 0.535</text>\n</g>\n<!-- 17&#45;&gt;21 -->\n<g id=\"edge21\" class=\"edge\">\n<title>17&#45;&gt;21</title>\n<path fill=\"none\" stroke=\"#000000\" d=\"M590.1477,-397.8247C598.7108,-396.1081 607.3518,-394.3759 615.8503,-392.6722\"/>\n<polygon fill=\"#000000\" stroke=\"#000000\" points=\"616.6312,-396.0854 625.7482,-390.688 615.2553,-389.2219 616.6312,-396.0854\"/>\n</g>\n<!-- 19 -->\n<g id=\"node20\" class=\"node\">\n<title>19</title>\n<path fill=\"#f1bc96\" stroke=\"#000000\" d=\"M972,-550C972,-550 835,-550 835,-550 829,-550 823,-544 823,-538 823,-538 823,-509 823,-509 823,-503 829,-497 835,-497 835,-497 972,-497 972,-497 978,-497 984,-503 984,-509 984,-509 984,-538 984,-538 984,-544 978,-550 972,-550\"/>\n<text text-anchor=\"middle\" x=\"903.5\" y=\"-534.8\" font-family=\"Helvetica,sans-Serif\" font-size=\"14.00\" fill=\"#000000\">squared_error = 0.003</text>\n<text text-anchor=\"middle\" x=\"903.5\" y=\"-519.8\" font-family=\"Helvetica,sans-Serif\" font-size=\"14.00\" fill=\"#000000\">samples = 179</text>\n<text text-anchor=\"middle\" x=\"903.5\" y=\"-504.8\" font-family=\"Helvetica,sans-Serif\" font-size=\"14.00\" fill=\"#000000\">value = 0.422</text>\n</g>\n<!-- 18&#45;&gt;19 -->\n<g id=\"edge19\" class=\"edge\">\n<title>18&#45;&gt;19</title>\n<path fill=\"none\" stroke=\"#000000\" d=\"M787.1959,-486.3063C795.7654,-489.0468 804.521,-491.8468 813.1913,-494.6195\"/>\n<polygon fill=\"#000000\" stroke=\"#000000\" points=\"812.3387,-498.0215 822.9296,-497.7338 814.471,-491.3541 812.3387,-498.0215\"/>\n</g>\n<!-- 20 -->\n<g id=\"node21\" class=\"node\">\n<title>20</title>\n<path fill=\"#eeae80\" stroke=\"#000000\" d=\"M972,-479C972,-479 835,-479 835,-479 829,-479 823,-473 823,-467 823,-467 823,-438 823,-438 823,-432 829,-426 835,-426 835,-426 972,-426 972,-426 978,-426 984,-432 984,-438 984,-438 984,-467 984,-467 984,-473 978,-479 972,-479\"/>\n<text text-anchor=\"middle\" x=\"903.5\" y=\"-463.8\" font-family=\"Helvetica,sans-Serif\" font-size=\"14.00\" fill=\"#000000\">squared_error = 0.002</text>\n<text text-anchor=\"middle\" x=\"903.5\" y=\"-448.8\" font-family=\"Helvetica,sans-Serif\" font-size=\"14.00\" fill=\"#000000\">samples = 514</text>\n<text text-anchor=\"middle\" x=\"903.5\" y=\"-433.8\" font-family=\"Helvetica,sans-Serif\" font-size=\"14.00\" fill=\"#000000\">value = 0.483</text>\n</g>\n<!-- 18&#45;&gt;20 -->\n<g id=\"edge20\" class=\"edge\">\n<title>18&#45;&gt;20</title>\n<path fill=\"none\" stroke=\"#000000\" d=\"M787.1959,-457.223C795.6733,-456.8788 804.3327,-456.5271 812.9115,-456.1787\"/>\n<polygon fill=\"#000000\" stroke=\"#000000\" points=\"813.0799,-459.6749 822.9296,-455.7719 812.7958,-452.6806 813.0799,-459.6749\"/>\n</g>\n<!-- 22 -->\n<g id=\"node23\" class=\"node\">\n<title>22</title>\n<path fill=\"#eead7e\" stroke=\"#000000\" d=\"M972,-408C972,-408 835,-408 835,-408 829,-408 823,-402 823,-396 823,-396 823,-367 823,-367 823,-361 829,-355 835,-355 835,-355 972,-355 972,-355 978,-355 984,-361 984,-367 984,-367 984,-396 984,-396 984,-402 978,-408 972,-408\"/>\n<text text-anchor=\"middle\" x=\"903.5\" y=\"-392.8\" font-family=\"Helvetica,sans-Serif\" font-size=\"14.00\" fill=\"#000000\">squared_error = 0.002</text>\n<text text-anchor=\"middle\" x=\"903.5\" y=\"-377.8\" font-family=\"Helvetica,sans-Serif\" font-size=\"14.00\" fill=\"#000000\">samples = 416</text>\n<text text-anchor=\"middle\" x=\"903.5\" y=\"-362.8\" font-family=\"Helvetica,sans-Serif\" font-size=\"14.00\" fill=\"#000000\">value = 0.489</text>\n</g>\n<!-- 21&#45;&gt;22 -->\n<g id=\"edge22\" class=\"edge\">\n<title>21&#45;&gt;22</title>\n<path fill=\"none\" stroke=\"#000000\" d=\"M787.1959,-377.3674C795.6733,-377.6686 804.3327,-377.9763 812.9115,-378.2811\"/>\n<polygon fill=\"#000000\" stroke=\"#000000\" points=\"812.8116,-381.7797 822.9296,-378.6371 813.0603,-374.7841 812.8116,-381.7797\"/>\n</g>\n<!-- 23 -->\n<g id=\"node24\" class=\"node\">\n<title>23</title>\n<path fill=\"#eb9e67\" stroke=\"#000000\" d=\"M972,-337C972,-337 835,-337 835,-337 829,-337 823,-331 823,-325 823,-325 823,-296 823,-296 823,-290 829,-284 835,-284 835,-284 972,-284 972,-284 978,-284 984,-290 984,-296 984,-296 984,-325 984,-325 984,-331 978,-337 972,-337\"/>\n<text text-anchor=\"middle\" x=\"903.5\" y=\"-321.8\" font-family=\"Helvetica,sans-Serif\" font-size=\"14.00\" fill=\"#000000\">squared_error = 0.002</text>\n<text text-anchor=\"middle\" x=\"903.5\" y=\"-306.8\" font-family=\"Helvetica,sans-Serif\" font-size=\"14.00\" fill=\"#000000\">samples = 1072</text>\n<text text-anchor=\"middle\" x=\"903.5\" y=\"-291.8\" font-family=\"Helvetica,sans-Serif\" font-size=\"14.00\" fill=\"#000000\">value = 0.553</text>\n</g>\n<!-- 21&#45;&gt;23 -->\n<g id=\"edge23\" class=\"edge\">\n<title>21&#45;&gt;23</title>\n<path fill=\"none\" stroke=\"#000000\" d=\"M787.1959,-348.2841C795.7654,-345.5001 804.521,-342.6556 813.1913,-339.8389\"/>\n<polygon fill=\"#000000\" stroke=\"#000000\" points=\"814.5004,-343.0937 822.9296,-336.6751 812.3375,-336.4362 814.5004,-343.0937\"/>\n</g>\n<!-- 25 -->\n<g id=\"node26\" class=\"node\">\n<title>25</title>\n<path fill=\"#e99457\" stroke=\"#000000\" d=\"M775,-245.5C775,-245.5 638,-245.5 638,-245.5 632,-245.5 626,-239.5 626,-233.5 626,-233.5 626,-189.5 626,-189.5 626,-183.5 632,-177.5 638,-177.5 638,-177.5 775,-177.5 775,-177.5 781,-177.5 787,-183.5 787,-189.5 787,-189.5 787,-233.5 787,-233.5 787,-239.5 781,-245.5 775,-245.5\"/>\n<text text-anchor=\"middle\" x=\"706.5\" y=\"-230.3\" font-family=\"Helvetica,sans-Serif\" font-size=\"14.00\" fill=\"#000000\">PAY_2 &lt;= 1.5</text>\n<text text-anchor=\"middle\" x=\"706.5\" y=\"-215.3\" font-family=\"Helvetica,sans-Serif\" font-size=\"14.00\" fill=\"#000000\">squared_error = 0.003</text>\n<text text-anchor=\"middle\" x=\"706.5\" y=\"-200.3\" font-family=\"Helvetica,sans-Serif\" font-size=\"14.00\" fill=\"#000000\">samples = 7380</text>\n<text text-anchor=\"middle\" x=\"706.5\" y=\"-185.3\" font-family=\"Helvetica,sans-Serif\" font-size=\"14.00\" fill=\"#000000\">value = 0.6</text>\n</g>\n<!-- 24&#45;&gt;25 -->\n<g id=\"edge25\" class=\"edge\">\n<title>24&#45;&gt;25</title>\n<path fill=\"none\" stroke=\"#000000\" d=\"M590.1477,-211.5C598.6177,-211.5 607.164,-211.5 615.5732,-211.5\"/>\n<polygon fill=\"#000000\" stroke=\"#000000\" points=\"615.7482,-215.0001 625.7482,-211.5 615.7482,-208.0001 615.7482,-215.0001\"/>\n</g>\n<!-- 28 -->\n<g id=\"node29\" class=\"node\">\n<title>28</title>\n<path fill=\"#e6853f\" stroke=\"#000000\" d=\"M775,-131.5C775,-131.5 638,-131.5 638,-131.5 632,-131.5 626,-125.5 626,-119.5 626,-119.5 626,-75.5 626,-75.5 626,-69.5 632,-63.5 638,-63.5 638,-63.5 775,-63.5 775,-63.5 781,-63.5 787,-69.5 787,-75.5 787,-75.5 787,-119.5 787,-119.5 787,-125.5 781,-131.5 775,-131.5\"/>\n<text text-anchor=\"middle\" x=\"706.5\" y=\"-116.3\" font-family=\"Helvetica,sans-Serif\" font-size=\"14.00\" fill=\"#000000\">PAY_2 &lt;= 1.5</text>\n<text text-anchor=\"middle\" x=\"706.5\" y=\"-101.3\" font-family=\"Helvetica,sans-Serif\" font-size=\"14.00\" fill=\"#000000\">squared_error = 0.003</text>\n<text text-anchor=\"middle\" x=\"706.5\" y=\"-86.3\" font-family=\"Helvetica,sans-Serif\" font-size=\"14.00\" fill=\"#000000\">samples = 15732</text>\n<text text-anchor=\"middle\" x=\"706.5\" y=\"-71.3\" font-family=\"Helvetica,sans-Serif\" font-size=\"14.00\" fill=\"#000000\">value = 0.666</text>\n</g>\n<!-- 24&#45;&gt;28 -->\n<g id=\"edge28\" class=\"edge\">\n<title>24&#45;&gt;28</title>\n<path fill=\"none\" stroke=\"#000000\" d=\"M556.0665,-177.4507C580.3648,-164.5369 608.2131,-149.7364 633.291,-136.4083\"/>\n<polygon fill=\"#000000\" stroke=\"#000000\" points=\"635.2054,-139.3545 642.3932,-131.5707 631.9202,-133.1732 635.2054,-139.3545\"/>\n</g>\n<!-- 26 -->\n<g id=\"node27\" class=\"node\">\n<title>26</title>\n<path fill=\"#eb9e67\" stroke=\"#000000\" d=\"M972,-266C972,-266 835,-266 835,-266 829,-266 823,-260 823,-254 823,-254 823,-225 823,-225 823,-219 829,-213 835,-213 835,-213 972,-213 972,-213 978,-213 984,-219 984,-225 984,-225 984,-254 984,-254 984,-260 978,-266 972,-266\"/>\n<text text-anchor=\"middle\" x=\"903.5\" y=\"-250.8\" font-family=\"Helvetica,sans-Serif\" font-size=\"14.00\" fill=\"#000000\">squared_error = 0.003</text>\n<text text-anchor=\"middle\" x=\"903.5\" y=\"-235.8\" font-family=\"Helvetica,sans-Serif\" font-size=\"14.00\" fill=\"#000000\">samples = 2070</text>\n<text text-anchor=\"middle\" x=\"903.5\" y=\"-220.8\" font-family=\"Helvetica,sans-Serif\" font-size=\"14.00\" fill=\"#000000\">value = 0.554</text>\n</g>\n<!-- 25&#45;&gt;26 -->\n<g id=\"edge26\" class=\"edge\">\n<title>25&#45;&gt;26</title>\n<path fill=\"none\" stroke=\"#000000\" d=\"M787.1959,-222.9695C795.6733,-224.1744 804.3327,-225.4052 812.9115,-226.6245\"/>\n<polygon fill=\"#000000\" stroke=\"#000000\" points=\"812.5366,-230.1063 822.9296,-228.0484 813.5217,-223.1759 812.5366,-230.1063\"/>\n</g>\n<!-- 27 -->\n<g id=\"node28\" class=\"node\">\n<title>27</title>\n<path fill=\"#e89050\" stroke=\"#000000\" d=\"M972,-195C972,-195 835,-195 835,-195 829,-195 823,-189 823,-183 823,-183 823,-154 823,-154 823,-148 829,-142 835,-142 835,-142 972,-142 972,-142 978,-142 984,-148 984,-154 984,-154 984,-183 984,-183 984,-189 978,-195 972,-195\"/>\n<text text-anchor=\"middle\" x=\"903.5\" y=\"-179.8\" font-family=\"Helvetica,sans-Serif\" font-size=\"14.00\" fill=\"#000000\">squared_error = 0.002</text>\n<text text-anchor=\"middle\" x=\"903.5\" y=\"-164.8\" font-family=\"Helvetica,sans-Serif\" font-size=\"14.00\" fill=\"#000000\">samples = 5310</text>\n<text text-anchor=\"middle\" x=\"903.5\" y=\"-149.8\" font-family=\"Helvetica,sans-Serif\" font-size=\"14.00\" fill=\"#000000\">value = 0.618</text>\n</g>\n<!-- 25&#45;&gt;27 -->\n<g id=\"edge27\" class=\"edge\">\n<title>25&#45;&gt;27</title>\n<path fill=\"none\" stroke=\"#000000\" d=\"M787.1959,-193.8862C795.6733,-192.0358 804.3327,-190.1457 812.9115,-188.2731\"/>\n<polygon fill=\"#000000\" stroke=\"#000000\" points=\"813.9061,-191.6385 822.9296,-186.0864 812.4133,-184.7995 813.9061,-191.6385\"/>\n</g>\n<!-- 29 -->\n<g id=\"node30\" class=\"node\">\n<title>29</title>\n<path fill=\"#e88f4f\" stroke=\"#000000\" d=\"M972,-124C972,-124 835,-124 835,-124 829,-124 823,-118 823,-112 823,-112 823,-83 823,-83 823,-77 829,-71 835,-71 835,-71 972,-71 972,-71 978,-71 984,-77 984,-83 984,-83 984,-112 984,-112 984,-118 978,-124 972,-124\"/>\n<text text-anchor=\"middle\" x=\"903.5\" y=\"-108.8\" font-family=\"Helvetica,sans-Serif\" font-size=\"14.00\" fill=\"#000000\">squared_error = 0.003</text>\n<text text-anchor=\"middle\" x=\"903.5\" y=\"-93.8\" font-family=\"Helvetica,sans-Serif\" font-size=\"14.00\" fill=\"#000000\">samples = 4301</text>\n<text text-anchor=\"middle\" x=\"903.5\" y=\"-78.8\" font-family=\"Helvetica,sans-Serif\" font-size=\"14.00\" fill=\"#000000\">value = 0.621</text>\n</g>\n<!-- 28&#45;&gt;29 -->\n<g id=\"edge29\" class=\"edge\">\n<title>28&#45;&gt;29</title>\n<path fill=\"none\" stroke=\"#000000\" d=\"M787.1959,-97.5C795.6733,-97.5 804.3327,-97.5 812.9115,-97.5\"/>\n<polygon fill=\"#000000\" stroke=\"#000000\" points=\"812.9297,-101.0001 822.9296,-97.5 812.9296,-94.0001 812.9297,-101.0001\"/>\n</g>\n<!-- 30 -->\n<g id=\"node31\" class=\"node\">\n<title>30</title>\n<path fill=\"#e58139\" stroke=\"#000000\" d=\"M972,-53C972,-53 835,-53 835,-53 829,-53 823,-47 823,-41 823,-41 823,-12 823,-12 823,-6 829,0 835,0 835,0 972,0 972,0 978,0 984,-6 984,-12 984,-12 984,-41 984,-41 984,-47 978,-53 972,-53\"/>\n<text text-anchor=\"middle\" x=\"903.5\" y=\"-37.8\" font-family=\"Helvetica,sans-Serif\" font-size=\"14.00\" fill=\"#000000\">squared_error = 0.002</text>\n<text text-anchor=\"middle\" x=\"903.5\" y=\"-22.8\" font-family=\"Helvetica,sans-Serif\" font-size=\"14.00\" fill=\"#000000\">samples = 11431</text>\n<text text-anchor=\"middle\" x=\"903.5\" y=\"-7.8\" font-family=\"Helvetica,sans-Serif\" font-size=\"14.00\" fill=\"#000000\">value = 0.683</text>\n</g>\n<!-- 28&#45;&gt;30 -->\n<g id=\"edge30\" class=\"edge\">\n<title>28&#45;&gt;30</title>\n<path fill=\"none\" stroke=\"#000000\" d=\"M787.1959,-68.4167C798.1263,-64.4773 809.3594,-60.4288 820.3322,-56.4742\"/>\n<polygon fill=\"#000000\" stroke=\"#000000\" points=\"821.6729,-59.7114 829.8939,-53.0281 819.2995,-53.1261 821.6729,-59.7114\"/>\n</g>\n</g>\n</svg>\n",
            "text/plain": [
              "<graphviz.files.Source at 0x7fb53bf5a350>"
            ]
          },
          "execution_count": 49,
          "metadata": {},
          "output_type": "execute_result"
        }
      ],
      "source": [
        "import graphviz\n",
        "\n",
        "dot_data = tree.export_graphviz(extracted_model_dt, \n",
        "                                max_depth=5,\n",
        "                                rounded=True,\n",
        "                                out_file=None, \n",
        "                                feature_names=features,  \n",
        "                                filled=True,\n",
        "                                rotate=True)\n",
        "\n",
        "graph = graphviz.Source(dot_data, format=\"svg\") \n",
        "graph"
      ]
    },
    {
      "cell_type": "code",
      "execution_count": null,
      "id": "979b211e-7f9b-46f5-a56b-6736d2007585",
      "metadata": {
        "colab": {
          "base_uri": "https://localhost:8080/"
        },
        "id": "979b211e-7f9b-46f5-a56b-6736d2007585",
        "outputId": "fa545eae-7f8a-482e-f587-3fa1270128ee"
      },
      "outputs": [
        {
          "name": "stdout",
          "output_type": "stream",
          "text": [
            "Done. Final number of trees: 20\n"
          ]
        }
      ],
      "source": [
        "drand_train = xgb.DMatrix(random_train[features], \n",
        "                          label=model_endpoint(random_train[features]))\n",
        "\n",
        "drand_valid = xgb.DMatrix(random_valid[features], \n",
        "                          label=model_endpoint(random_valid[features]))\n",
        "\n",
        "drand_test = xgb.DMatrix(random_test[features], \n",
        "                          label=model_endpoint(random_test[features]))\n",
        "\n",
        "base_score = model_endpoint(random_train[features]).mean()\n",
        "\n",
        "params = {\n",
        "    'objective': 'reg:squarederror',\n",
        "    'eval_metric': 'rmse',\n",
        "    'eta': 0.1,\n",
        "    'reg_lambda': 0.25,\n",
        "    'max_depth': 3,\n",
        "    'subsample': 0.8,\n",
        "    'colsample_bytree': 0.8,\n",
        "    'base_score': base_score,\n",
        "    'seed': SEED\n",
        "}\n",
        "\n",
        "# Train using early stopping on the validation dataset.\n",
        "watchlist = [(drand_train, 'train'), (drand_valid, 'eval')]\n",
        "\n",
        "extracted_model_xgb = xgb.train(params,         \n",
        "                                drand_train,                   \n",
        "                                num_boost_round=20,                     \n",
        "                                evals=watchlist,\n",
        "                                early_stopping_rounds=5,\n",
        "                                verbose_eval=False)\n",
        "print(f\"Done. Final number of trees: {extracted_model_xgb.best_ntree_limit}\")"
      ]
    },
    {
      "cell_type": "code",
      "execution_count": null,
      "id": "6c4fccd0-4b04-44eb-9fc9-f7fab873f80f",
      "metadata": {
        "colab": {
          "base_uri": "https://localhost:8080/"
        },
        "id": "6c4fccd0-4b04-44eb-9fc9-f7fab873f80f",
        "outputId": "42e081ff-3758-46c2-b80b-f3ecb0e4e3c2"
      },
      "outputs": [
        {
          "name": "stdout",
          "output_type": "stream",
          "text": [
            "R2 on training data (simulated): 0.904\n",
            "R2 on test data (simulated): 0.904\n",
            "R2 on real data: 0.821\n",
            "real/test: 0.9089574299960501\n"
          ]
        }
      ],
      "source": [
        "dtest = xgb.DMatrix(test[features], \n",
        "                    label=test[target])\n",
        "\n",
        "r2_train = r2_score(y_true=model_endpoint(random_train[features]), \n",
        "                     y_pred=extracted_model_xgb.predict(drand_train))\n",
        "r2_test = r2_score(y_true=model_endpoint(random_test[features]), \n",
        "                     y_pred=extracted_model_xgb.predict(drand_test))\n",
        "r2_holdout = r2_score(y_true=model_endpoint(test[features]), \n",
        "                     y_pred=extracted_model_xgb.predict(dtest))\n",
        "\n",
        "print(f'R2 on training data (simulated): {np.round(r2_train, 3)}')\n",
        "print(f'R2 on test data (simulated): {np.round(r2_test, 3)}')\n",
        "print(f'R2 on real data: {np.round(r2_holdout, 3)}')\n",
        "\n",
        "print(f'real/test: {r2_holdout/r2_test}')"
      ]
    },
    {
      "cell_type": "code",
      "execution_count": null,
      "id": "77e0a295-57f3-4402-8a06-775f71b0ccad",
      "metadata": {
        "colab": {
          "base_uri": "https://localhost:8080/"
        },
        "id": "77e0a295-57f3-4402-8a06-775f71b0ccad",
        "outputId": "b1646225-eac3-451b-bb55-fc030cc25e9a"
      },
      "outputs": [
        {
          "name": "stdout",
          "output_type": "stream",
          "text": [
            "MAE on test data (simulated): 0.04786\n",
            "MAE on real data: 0.06737\n",
            "test/real: 0.7103587146839606\n"
          ]
        }
      ],
      "source": [
        "mae_test = mean_absolute_error(y_true=model_endpoint(random_test[features]), \n",
        "                              y_pred=extracted_model_xgb.predict(drand_test))\n",
        "\n",
        "mae_holdout = mean_absolute_error(y_true=model_endpoint(test[features]), \n",
        "                                 y_pred=extracted_model_xgb.predict(dtest))\n",
        "\n",
        "print(f'MAE on test data (simulated): {np.round(mae_test, 5)}')\n",
        "print(f'MAE on real data: {np.round(mae_holdout, 5)}')\n",
        "\n",
        "print(f'test/real: {mae_test/mae_holdout}')"
      ]
    },
    {
      "cell_type": "code",
      "execution_count": null,
      "id": "e6345e1d-48c7-4640-87fe-9aead9e60fd8",
      "metadata": {
        "colab": {
          "base_uri": "https://localhost:8080/",
          "height": 370
        },
        "id": "e6345e1d-48c7-4640-87fe-9aead9e60fd8",
        "outputId": "05f08d81-f700-4e6d-c4a4-1d75f96c8d1d"
      },
      "outputs": [
        {
          "data": {
            "image/png": "[encoded data removed]",
            "text/plain": [
              "<Figure size 1080x360 with 3 Axes>"
            ]
          },
          "metadata": {
            "needs_background": "light"
          },
          "output_type": "display_data"
        }
      ],
      "source": [
        "fig, axs = plt.subplots(1, 3, figsize=(15, 5))\n",
        "\n",
        "axs[0].scatter(model_endpoint(random_train[features]), extracted_model_xgb.predict(drand_train))\n",
        "axs[0].set_title(\"Training Data (Simulated)\")\n",
        "axs[0].set_ylabel('Extracted Score')\n",
        "axs[0].set_xlabel('True Score')\n",
        "\n",
        "axs[1].scatter(model_endpoint(random_test[features]), extracted_model_xgb.predict(drand_test))\n",
        "axs[1].set_title(\"Test Data (Simulated)\")\n",
        "axs[1].set_xlabel('True Score')\n",
        "\n",
        "\n",
        "axs[2].scatter(model_endpoint(test[features]), extracted_model_xgb.predict(dtest))\n",
        "axs[2].set_title(\"Holdout Data (Real)\")\n",
        "axs[2].set_xlabel('True Score')\n",
        "\n",
        "_ = fig.suptitle(\"XGBoost Surrogate\")\n",
        "fig.savefig('Data/Data/Figures/constrained_XGB_extraction')"
      ]
    },
    {
      "cell_type": "code",
      "execution_count": null,
      "id": "3a236970-4ad5-4fd9-954c-aa7d4fd466a7",
      "metadata": {
        "colab": {
          "base_uri": "https://localhost:8080/",
          "height": 238
        },
        "id": "3a236970-4ad5-4fd9-954c-aa7d4fd466a7",
        "outputId": "525c3cf7-6d38-4653-92c3-f34d4b49609b"
      },
      "outputs": [
        {
          "data": {
            "text/plain": [
              "<matplotlib.axes._subplots.AxesSubplot at 0x7fb53dd03d50>"
            ]
          },
          "execution_count": 54,
          "metadata": {},
          "output_type": "execute_result"
        },
        {
          "data": {
            "image/png": "[encoded data removed]",
            "text/plain": [
              "<Figure size 2160x2160 with 1 Axes>"
            ]
          },
          "metadata": {
            "needs_background": "light"
          },
          "output_type": "display_data"
        }
      ],
      "source": [
        "# Plot the first tree\n",
        "fig, ax = plt.subplots(figsize=(30,30))\n",
        "xgb.plot_tree(extracted_model_xgb, num_trees=0, ax=ax)"
      ]
    },
    {
      "cell_type": "code",
      "execution_count": null,
      "id": "a13730fb-f5c7-4e3c-a6f9-1934a91be4ba",
      "metadata": {
        "colab": {
          "base_uri": "https://localhost:8080/"
        },
        "id": "a13730fb-f5c7-4e3c-a6f9-1934a91be4ba",
        "outputId": "421b2ddf-5bc3-4aac-df6e-3f8a38b8661a"
      },
      "outputs": [
        {
          "name": "stderr",
          "output_type": "stream",
          "text": [
            "/usr/local/lib/python3.7/dist-packages/ipykernel_launcher.py:5: DataConversionWarning: A column-vector y was passed when a 1d array was expected. Please change the shape of y to (n_samples,), for example using ravel().\n",
            "  \"\"\"\n"
          ]
        }
      ],
      "source": [
        "\n",
        "\n",
        "rf_surrogate_model_params = {'n_estimators': 10,\n",
        "                             'max_depth': 5,\n",
        "                             'random_state': SEED}\n",
        "extracted_model_rf = RandomForestRegressor(**rf_surrogate_model_params).fit(random_train[features], \n",
        "                                                                      model_endpoint(random_train[features]))"
      ]
    },
    {
      "cell_type": "code",
      "execution_count": null,
      "id": "cee4f40a-126e-4e28-bd9a-e99e291d34a2",
      "metadata": {
        "colab": {
          "base_uri": "https://localhost:8080/"
        },
        "id": "cee4f40a-126e-4e28-bd9a-e99e291d34a2",
        "outputId": "818d8ce9-acde-4de7-d30a-9b4858d59439"
      },
      "outputs": [
        {
          "name": "stdout",
          "output_type": "stream",
          "text": [
            "R2 on training data (simulated): 0.952\n",
            "R2 on test data (simulated): 0.951\n",
            "R2 on real data: 0.85\n",
            "real/test: 0.8941296356755304 \n",
            "\n",
            "MAE on test data (simulated): 0.03109\n",
            "MAE on real data: 0.05323\n",
            "test/real: 0.5839538262812246\n"
          ]
        }
      ],
      "source": [
        "r2_train = r2_score(y_true=model_endpoint(random_train[features]), \n",
        "                     y_pred=extracted_model_rf.predict(random_train[features]))\n",
        "r2_test = r2_score(y_true=model_endpoint(random_test[features]), \n",
        "                     y_pred=extracted_model_rf.predict(random_test[features]))\n",
        "r2_holdout = r2_score(y_true=model_endpoint(test[features]), \n",
        "                     y_pred=extracted_model_rf.predict(test[features]))\n",
        "\n",
        "print(f'R2 on training data (simulated): {np.round(r2_train, 3)}')\n",
        "print(f'R2 on test data (simulated): {np.round(r2_test, 3)}')\n",
        "print(f'R2 on real data: {np.round(r2_holdout, 3)}')\n",
        "\n",
        "print(f'real/test: {r2_holdout/r2_test} \\n')\n",
        "\n",
        "\n",
        "mae_test = mean_absolute_error(y_true=model_endpoint(random_test[features]), \n",
        "                              y_pred=extracted_model_rf.predict(random_test[features]))\n",
        "\n",
        "mae_holdout = mean_absolute_error(y_true=model_endpoint(test[features]), \n",
        "                                 y_pred=extracted_model_rf.predict(test[features]))\n",
        "\n",
        "print(f'MAE on test data (simulated): {np.round(mae_test, 5)}')\n",
        "print(f'MAE on real data: {np.round(mae_holdout, 5)}')\n",
        "\n",
        "print(f'test/real: {mae_test/mae_holdout}')"
      ]
    },
    {
      "cell_type": "code",
      "execution_count": null,
      "id": "9f81c15e-aa6b-4ae6-92f4-65ee5bdcc098",
      "metadata": {
        "colab": {
          "base_uri": "https://localhost:8080/",
          "height": 370
        },
        "id": "9f81c15e-aa6b-4ae6-92f4-65ee5bdcc098",
        "outputId": "80b5cbdf-32fb-4fe7-e10e-f81a2326e583"
      },
      "outputs": [
        {
          "data": {
            "image/png": "[encoded data removed]",
            "text/plain": [
              "<Figure size 1080x360 with 3 Axes>"
            ]
          },
          "metadata": {
            "needs_background": "light"
          },
          "output_type": "display_data"
        }
      ],
      "source": [
        "fig, axs = plt.subplots(1, 3, figsize=(15, 5))\n",
        "\n",
        "axs[0].scatter(model_endpoint(random_train[features]), extracted_model_rf.predict(random_train[features]))\n",
        "axs[0].set_title(\"Training Data (Simulated)\")\n",
        "axs[0].set_ylabel('Extracted Score')\n",
        "axs[0].set_xlabel('True Score')\n",
        "\n",
        "axs[1].scatter(model_endpoint(random_test[features]), extracted_model_rf.predict(random_test[features]))\n",
        "axs[1].set_title(\"Test Data (Simulated)\")\n",
        "axs[1].set_xlabel('True Score')\n",
        "\n",
        "\n",
        "axs[2].scatter(model_endpoint(test[features]), extracted_model_rf.predict(test[features]))\n",
        "axs[2].set_title(\"Holdout Data (Real)\")\n",
        "axs[2].set_xlabel('True Score')\n",
        "\n",
        "_ = fig.suptitle(\"Random Forest Surrogate\")\n",
        "fig.savefig('Data/Data/Figures/constrained_RF_extraction')"
      ]
    },
    {
      "cell_type": "code",
      "execution_count": null,
      "id": "a75c6652-7c10-404c-84a7-cd858f99582b",
      "metadata": {
        "colab": {
          "base_uri": "https://localhost:8080/"
        },
        "id": "a75c6652-7c10-404c-84a7-cd858f99582b",
        "outputId": "e6386c07-62d0-470e-ee8e-82e02854d9ed"
      },
      "outputs": [
        {
          "data": {
            "text/plain": [
              "LIMIT_BAL      21145.169332\n",
              "PAY_0             -1.000000\n",
              "PAY_2              2.000000\n",
              "PAY_3              2.000000\n",
              "PAY_4              2.000000\n",
              "PAY_5              0.000000\n",
              "PAY_6              3.000000\n",
              "BILL_AMT1     120225.625125\n",
              "BILL_AMT2     500166.376921\n",
              "BILL_AMT3     370327.745557\n",
              "BILL_AMT4     193902.848808\n",
              "BILL_AMT5      83311.078603\n",
              "BILL_AMT6     404177.908303\n",
              "PAY_AMT1      374034.582976\n",
              "PAY_AMT2      385292.007380\n",
              "PAY_AMT3      197194.782547\n",
              "PAY_AMT4      314890.653648\n",
              "PAY_AMT5      919219.154693\n",
              "PAY_AMT6      538047.554352\n",
              "prediction         0.285915\n",
              "Name: 6, dtype: float64"
            ]
          },
          "execution_count": 58,
          "metadata": {},
          "output_type": "execute_result"
        }
      ],
      "source": [
        "# Let's target the leaf in our DT surrogate that follows a favorable decision path\n",
        "\n",
        "random_frame['prediction'] = model_endpoint(random_frame[features])\n",
        "\n",
        "# Pick an observation that receieved a high score\n",
        "random_obs = random_frame.loc[(random_frame['prediction'] < 0.3) & (random_frame['prediction'] > 0.2)].iloc[0]\n",
        "random_obs"
      ]
    },
    {
      "cell_type": "code",
      "execution_count": null,
      "id": "ce18ea6a-aafc-4951-9e49-a5bcfa0896d5",
      "metadata": {
        "colab": {
          "base_uri": "https://localhost:8080/"
        },
        "id": "ce18ea6a-aafc-4951-9e49-a5bcfa0896d5",
        "outputId": "51672d62-32a7-44ef-8691-67a9728fa67c"
      },
      "outputs": [
        {
          "name": "stdout",
          "output_type": "stream",
          "text": [
            "Old prediction: 0.286\n",
            "Example 1 prediction: 0.192\n",
            "Example 2 prediction: 0.151\n",
            "Example 3 prediction: 0.151\n"
          ]
        }
      ],
      "source": [
        "adversarial_1 = random_obs.copy()\n",
        "adversarial_1['PAY_2'] = 0\n",
        "\n",
        "adversarial_2 = adversarial_1.copy()\n",
        "adversarial_2['PAY_3'] = 0\n",
        "\n",
        "adversarial_3 = adversarial_2.copy()\n",
        "adversarial_3['PAY_0'] = 0.0\n",
        "\n",
        "adversaries = pd.DataFrame({'original': random_obs, \n",
        "                            'example_1': adversarial_1,\n",
        "                            'example_2': adversarial_2,\n",
        "                            'example_3': adversarial_3}).transpose()\n",
        "\n",
        "adversarial_example_predictions = model_endpoint(adversaries[features])\n",
        "\n",
        "print(f\"Old prediction: {adversarial_example_predictions[0][0]:.3f}\")\n",
        "print(f\"Example 1 prediction: {adversarial_example_predictions[1][0]:.3f}\")\n",
        "print(f\"Example 2 prediction: {adversarial_example_predictions[2][0]:.3f}\")\n",
        "print(f\"Example 3 prediction: {adversarial_example_predictions[3][0]:.3f}\")"
      ]
    },
    {
      "cell_type": "code",
      "execution_count": null,
      "id": "c88c94ce-cff3-4301-bfa6-8fa5dc700324",
      "metadata": {
        "colab": {
          "base_uri": "https://localhost:8080/"
        },
        "id": "c88c94ce-cff3-4301-bfa6-8fa5dc700324",
        "outputId": "a85238aa-c91b-49ad-f467-02efe5084523"
      },
      "outputs": [
        {
          "name": "stdout",
          "output_type": "stream",
          "text": [
            "Original score percentile: 79.6%\n",
            "New score percentile: 48.9%\n"
          ]
        }
      ],
      "source": [
        "original_quantile = len(train.loc[model_endpoint(train[features]) < adversarial_example_predictions[0]]) / len(train)\n",
        "new_quantile = len(train.loc[model_endpoint(train[features]) < adversarial_example_predictions[3]]) / len(train)\n",
        "\n",
        "print(f\"Original score percentile: {100*original_quantile:.1f}%\")\n",
        "print(f\"New score percentile: {100*new_quantile:.1f}%\")"
      ]
    },
    {
      "cell_type": "code",
      "execution_count": null,
      "id": "fb90ebe5-ffe7-43ab-9545-c7d2a8f2572e",
      "metadata": {
        "id": "fb90ebe5-ffe7-43ab-9545-c7d2a8f2572e"
      },
      "outputs": [],
      "source": [
        "# Let's target the leaf in our DT surrogate that follows a favorable decision path\n",
        "\n",
        "random_frame['prediction'] = model_endpoint(random_frame[features])\n",
        "\n",
        "# Pick an observation that receieved a high score\n",
        "random_obs = random_frame.loc[(random_frame['prediction'] < 0.6) & (random_frame['prediction'] > 0.5)].iloc[0]"
      ]
    },
    {
      "cell_type": "code",
      "execution_count": null,
      "id": "c8477c7f-d7b1-44e6-b19a-05761efda3ae",
      "metadata": {
        "colab": {
          "base_uri": "https://localhost:8080/"
        },
        "id": "c8477c7f-d7b1-44e6-b19a-05761efda3ae",
        "outputId": "2d149150-63fd-4bbb-e049-bd7f12d33aef"
      },
      "outputs": [
        {
          "name": "stdout",
          "output_type": "stream",
          "text": [
            "Old prediction: 0.545\n",
            "Example 1 prediction: 0.412\n",
            "Example 2 prediction: 0.314\n",
            "Example 3 prediction: 0.242\n"
          ]
        }
      ],
      "source": [
        "adversarial_1 = random_obs.copy()\n",
        "adversarial_1['PAY_0'] = -1\n",
        "\n",
        "adversarial_2 = adversarial_1.copy()\n",
        "adversarial_2['PAY_2'] = 0\n",
        "\n",
        "adversarial_3 = adversarial_2.copy()\n",
        "adversarial_3['PAY_3'] = 0\n",
        "\n",
        "adversaries = pd.DataFrame({'original': random_obs, \n",
        "                            'example_1': adversarial_1,\n",
        "                            'example_2': adversarial_2,\n",
        "                            'example_3': adversarial_3}).transpose()\n",
        "\n",
        "adversarial_example_predictions = model_endpoint(adversaries[features])\n",
        "\n",
        "print(f\"Old prediction: {adversarial_example_predictions[0][0]:.3f}\")\n",
        "print(f\"Example 1 prediction: {adversarial_example_predictions[1][0]:.3f}\")\n",
        "print(f\"Example 2 prediction: {adversarial_example_predictions[2][0]:.3f}\")\n",
        "print(f\"Example 3 prediction: {adversarial_example_predictions[3][0]:.3f}\")"
      ]
    },
    {
      "cell_type": "code",
      "execution_count": null,
      "id": "2e54f482-62c0-42b3-b8ce-98086f44ff34",
      "metadata": {
        "colab": {
          "base_uri": "https://localhost:8080/"
        },
        "id": "2e54f482-62c0-42b3-b8ce-98086f44ff34",
        "outputId": "53060441-c5c7-41ca-ad77-ea471bcededd"
      },
      "outputs": [
        {
          "name": "stdout",
          "output_type": "stream",
          "text": [
            "Original score percentile: 89.7%\n",
            "New score percentile: 75.9%\n"
          ]
        }
      ],
      "source": [
        "original_quantile = len(train.loc[model_endpoint(train[features]) < adversarial_example_predictions[0]]) / len(train)\n",
        "new_quantile = len(train.loc[model_endpoint(train[features]) < adversarial_example_predictions[3]]) / len(train)\n",
        "\n",
        "print(f\"Original score percentile: {100*original_quantile:.1f}%\")\n",
        "print(f\"New score percentile: {100*new_quantile:.1f}%\")"
      ]
    },
    {
      "cell_type": "code",
      "execution_count": null,
      "id": "d0f4d27a-7128-4fd7-b118-8523ee0204a2",
      "metadata": {
        "id": "d0f4d27a-7128-4fd7-b118-8523ee0204a2"
      },
      "outputs": [],
      "source": [
        "\"\"\"\n",
        "Perform a membership inference attack.\n",
        "\"\"\"\n",
        "\n",
        "attack_negative = make_random_frame(schema_dict, 10000).append(random_valid).append(random_test)\n",
        "attack_positive = random_train.copy()\n",
        "attack_negative['in_train'] = 0\n",
        "attack_positive['in_train'] = 1\n",
        "\n",
        "attack_data = attack_positive.append(attack_negative).sample(frac=1).reset_index(drop=True)"
      ]
    },
    {
      "cell_type": "code",
      "execution_count": null,
      "id": "358a828a-770f-442c-a13a-0d2ba85eef1e",
      "metadata": {
        "colab": {
          "base_uri": "https://localhost:8080/",
          "height": 456
        },
        "id": "358a828a-770f-442c-a13a-0d2ba85eef1e",
        "outputId": "a0ac9941-23a5-4fc6-8d81-9d093735eeae"
      },
      "outputs": [
        {
          "data": {
            "text/html": [
              "\n",
              "  <div id=\"df-fee320f4-6db4-4807-85fc-0370d91098fd\">\n",
              "    <div class=\"colab-df-container\">\n",
              "      <div>\n",
              "<style scoped>\n",
              "    .dataframe tbody tr th:only-of-type {\n",
              "        vertical-align: middle;\n",
              "    }\n",
              "\n",
              "    .dataframe tbody tr th {\n",
              "        vertical-align: top;\n",
              "    }\n",
              "\n",
              "    .dataframe thead th {\n",
              "        text-align: right;\n",
              "    }\n",
              "</style>\n",
              "<table border=\"1\" class=\"dataframe\">\n",
              "  <thead>\n",
              "    <tr style=\"text-align: right;\">\n",
              "      <th></th>\n",
              "      <th>LIMIT_BAL</th>\n",
              "      <th>PAY_0</th>\n",
              "      <th>PAY_2</th>\n",
              "      <th>PAY_3</th>\n",
              "      <th>PAY_4</th>\n",
              "      <th>PAY_5</th>\n",
              "      <th>PAY_6</th>\n",
              "      <th>BILL_AMT1</th>\n",
              "      <th>BILL_AMT2</th>\n",
              "      <th>BILL_AMT3</th>\n",
              "      <th>...</th>\n",
              "      <th>BILL_AMT5</th>\n",
              "      <th>BILL_AMT6</th>\n",
              "      <th>PAY_AMT1</th>\n",
              "      <th>PAY_AMT2</th>\n",
              "      <th>PAY_AMT3</th>\n",
              "      <th>PAY_AMT4</th>\n",
              "      <th>PAY_AMT5</th>\n",
              "      <th>PAY_AMT6</th>\n",
              "      <th>in_train</th>\n",
              "      <th>prediction</th>\n",
              "    </tr>\n",
              "  </thead>\n",
              "  <tbody>\n",
              "    <tr>\n",
              "      <th>0</th>\n",
              "      <td>3.532671e+05</td>\n",
              "      <td>3</td>\n",
              "      <td>6</td>\n",
              "      <td>3</td>\n",
              "      <td>9</td>\n",
              "      <td>0</td>\n",
              "      <td>7</td>\n",
              "      <td>4.249143e+05</td>\n",
              "      <td>6.427655e+04</td>\n",
              "      <td>1.427683e+05</td>\n",
              "      <td>...</td>\n",
              "      <td>3.658471e+06</td>\n",
              "      <td>4.828197e+05</td>\n",
              "      <td>1.983541e+05</td>\n",
              "      <td>7.075546e+05</td>\n",
              "      <td>282101.624594</td>\n",
              "      <td>237985.458388</td>\n",
              "      <td>164357.538228</td>\n",
              "      <td>606510.760601</td>\n",
              "      <td>0</td>\n",
              "      <td>0.620942</td>\n",
              "    </tr>\n",
              "    <tr>\n",
              "      <th>1</th>\n",
              "      <td>3.499011e+05</td>\n",
              "      <td>5</td>\n",
              "      <td>9</td>\n",
              "      <td>-1</td>\n",
              "      <td>5</td>\n",
              "      <td>1</td>\n",
              "      <td>6</td>\n",
              "      <td>4.861733e+05</td>\n",
              "      <td>1.223341e+05</td>\n",
              "      <td>2.814394e+05</td>\n",
              "      <td>...</td>\n",
              "      <td>7.448494e+05</td>\n",
              "      <td>3.675559e+05</td>\n",
              "      <td>1.523356e+04</td>\n",
              "      <td>1.000044e+05</td>\n",
              "      <td>721726.742190</td>\n",
              "      <td>595030.683807</td>\n",
              "      <td>65715.650271</td>\n",
              "      <td>82806.726411</td>\n",
              "      <td>1</td>\n",
              "      <td>0.560192</td>\n",
              "    </tr>\n",
              "    <tr>\n",
              "      <th>2</th>\n",
              "      <td>2.510857e+06</td>\n",
              "      <td>4</td>\n",
              "      <td>8</td>\n",
              "      <td>7</td>\n",
              "      <td>3</td>\n",
              "      <td>1</td>\n",
              "      <td>-1</td>\n",
              "      <td>1.761015e+06</td>\n",
              "      <td>4.477663e+05</td>\n",
              "      <td>1.741556e+05</td>\n",
              "      <td>...</td>\n",
              "      <td>1.831996e+06</td>\n",
              "      <td>1.500997e+06</td>\n",
              "      <td>1.308210e+05</td>\n",
              "      <td>1.339618e+05</td>\n",
              "      <td>142474.230881</td>\n",
              "      <td>567713.496342</td>\n",
              "      <td>98717.149281</td>\n",
              "      <td>578674.665667</td>\n",
              "      <td>0</td>\n",
              "      <td>0.615547</td>\n",
              "    </tr>\n",
              "    <tr>\n",
              "      <th>3</th>\n",
              "      <td>5.108782e+04</td>\n",
              "      <td>2</td>\n",
              "      <td>8</td>\n",
              "      <td>9</td>\n",
              "      <td>1</td>\n",
              "      <td>8</td>\n",
              "      <td>8</td>\n",
              "      <td>2.919804e+06</td>\n",
              "      <td>1.159670e+05</td>\n",
              "      <td>3.084323e+05</td>\n",
              "      <td>...</td>\n",
              "      <td>3.502891e+05</td>\n",
              "      <td>4.302844e+05</td>\n",
              "      <td>1.551763e+05</td>\n",
              "      <td>1.303735e+06</td>\n",
              "      <td>321835.299522</td>\n",
              "      <td>67884.969529</td>\n",
              "      <td>44047.312996</td>\n",
              "      <td>89473.132158</td>\n",
              "      <td>0</td>\n",
              "      <td>0.641994</td>\n",
              "    </tr>\n",
              "    <tr>\n",
              "      <th>4</th>\n",
              "      <td>1.883075e+05</td>\n",
              "      <td>0</td>\n",
              "      <td>4</td>\n",
              "      <td>3</td>\n",
              "      <td>5</td>\n",
              "      <td>7</td>\n",
              "      <td>8</td>\n",
              "      <td>3.284158e+05</td>\n",
              "      <td>2.480358e+05</td>\n",
              "      <td>1.903364e+05</td>\n",
              "      <td>...</td>\n",
              "      <td>1.260028e+06</td>\n",
              "      <td>5.174183e+05</td>\n",
              "      <td>7.112088e+05</td>\n",
              "      <td>3.031434e+05</td>\n",
              "      <td>35110.385488</td>\n",
              "      <td>243725.233566</td>\n",
              "      <td>92395.790721</td>\n",
              "      <td>31210.485043</td>\n",
              "      <td>0</td>\n",
              "      <td>0.338033</td>\n",
              "    </tr>\n",
              "    <tr>\n",
              "      <th>5</th>\n",
              "      <td>1.582516e+05</td>\n",
              "      <td>2</td>\n",
              "      <td>7</td>\n",
              "      <td>7</td>\n",
              "      <td>-1</td>\n",
              "      <td>1</td>\n",
              "      <td>9</td>\n",
              "      <td>1.446374e+06</td>\n",
              "      <td>1.304415e+05</td>\n",
              "      <td>8.613840e+04</td>\n",
              "      <td>...</td>\n",
              "      <td>9.158656e+05</td>\n",
              "      <td>3.998826e+05</td>\n",
              "      <td>7.705667e+04</td>\n",
              "      <td>6.081977e+05</td>\n",
              "      <td>46632.269197</td>\n",
              "      <td>392629.862319</td>\n",
              "      <td>274606.226499</td>\n",
              "      <td>45192.864493</td>\n",
              "      <td>1</td>\n",
              "      <td>0.641994</td>\n",
              "    </tr>\n",
              "    <tr>\n",
              "      <th>6</th>\n",
              "      <td>1.666749e+05</td>\n",
              "      <td>6</td>\n",
              "      <td>6</td>\n",
              "      <td>2</td>\n",
              "      <td>4</td>\n",
              "      <td>6</td>\n",
              "      <td>-1</td>\n",
              "      <td>2.434958e+05</td>\n",
              "      <td>4.123463e+05</td>\n",
              "      <td>3.193616e+05</td>\n",
              "      <td>...</td>\n",
              "      <td>9.242161e+05</td>\n",
              "      <td>7.249556e+05</td>\n",
              "      <td>1.034411e+06</td>\n",
              "      <td>1.271945e+05</td>\n",
              "      <td>174693.939707</td>\n",
              "      <td>139874.216723</td>\n",
              "      <td>67583.656063</td>\n",
              "      <td>26813.851045</td>\n",
              "      <td>0</td>\n",
              "      <td>0.615547</td>\n",
              "    </tr>\n",
              "    <tr>\n",
              "      <th>7</th>\n",
              "      <td>2.034970e+05</td>\n",
              "      <td>6</td>\n",
              "      <td>6</td>\n",
              "      <td>9</td>\n",
              "      <td>3</td>\n",
              "      <td>2</td>\n",
              "      <td>7</td>\n",
              "      <td>1.012826e+06</td>\n",
              "      <td>1.101667e+06</td>\n",
              "      <td>4.697881e+05</td>\n",
              "      <td>...</td>\n",
              "      <td>1.157165e+05</td>\n",
              "      <td>5.773211e+05</td>\n",
              "      <td>3.285587e+05</td>\n",
              "      <td>2.127042e+04</td>\n",
              "      <td>896912.148389</td>\n",
              "      <td>588521.533930</td>\n",
              "      <td>268749.781236</td>\n",
              "      <td>67686.769830</td>\n",
              "      <td>0</td>\n",
              "      <td>0.602743</td>\n",
              "    </tr>\n",
              "    <tr>\n",
              "      <th>8</th>\n",
              "      <td>1.193527e+06</td>\n",
              "      <td>1</td>\n",
              "      <td>8</td>\n",
              "      <td>5</td>\n",
              "      <td>8</td>\n",
              "      <td>9</td>\n",
              "      <td>6</td>\n",
              "      <td>1.301173e+06</td>\n",
              "      <td>7.893954e+05</td>\n",
              "      <td>4.239026e+06</td>\n",
              "      <td>...</td>\n",
              "      <td>1.349520e+06</td>\n",
              "      <td>7.207526e+05</td>\n",
              "      <td>9.785152e+04</td>\n",
              "      <td>4.862949e+04</td>\n",
              "      <td>614612.651630</td>\n",
              "      <td>213264.556486</td>\n",
              "      <td>359972.299057</td>\n",
              "      <td>95426.832921</td>\n",
              "      <td>0</td>\n",
              "      <td>0.471213</td>\n",
              "    </tr>\n",
              "    <tr>\n",
              "      <th>9</th>\n",
              "      <td>2.744731e+06</td>\n",
              "      <td>2</td>\n",
              "      <td>1</td>\n",
              "      <td>8</td>\n",
              "      <td>7</td>\n",
              "      <td>8</td>\n",
              "      <td>4</td>\n",
              "      <td>4.700999e+05</td>\n",
              "      <td>8.663200e+05</td>\n",
              "      <td>1.081203e+06</td>\n",
              "      <td>...</td>\n",
              "      <td>5.479399e+04</td>\n",
              "      <td>7.515999e+05</td>\n",
              "      <td>1.547550e+05</td>\n",
              "      <td>7.132272e+05</td>\n",
              "      <td>406604.105405</td>\n",
              "      <td>232644.673548</td>\n",
              "      <td>122115.981584</td>\n",
              "      <td>695522.903232</td>\n",
              "      <td>0</td>\n",
              "      <td>0.576626</td>\n",
              "    </tr>\n",
              "  </tbody>\n",
              "</table>\n",
              "<p>10 rows × 21 columns</p>\n",
              "</div>\n",
              "      <button class=\"colab-df-convert\" onclick=\"convertToInteractive('df-fee320f4-6db4-4807-85fc-0370d91098fd')\"\n",
              "              title=\"Convert this dataframe to an interactive table.\"\n",
              "              style=\"display:none;\">\n",
              "        \n",
              "  <svg xmlns=\"http://www.w3.org/2000/svg\" height=\"24px\"viewBox=\"0 0 24 24\"\n",
              "       width=\"24px\">\n",
              "    <path d=\"M0 0h24v24H0V0z\" fill=\"none\"/>\n",
              "    <path d=\"M18.56 5.44l.94 2.06.94-2.06 2.06-.94-2.06-.94-.94-2.06-.94 2.06-2.06.94zm-11 1L8.5 8.5l.94-2.06 2.06-.94-2.06-.94L8.5 2.5l-.94 2.06-2.06.94zm10 10l.94 2.06.94-2.06 2.06-.94-2.06-.94-.94-2.06-.94 2.06-2.06.94z\"/><path d=\"M17.41 7.96l-1.37-1.37c-.4-.4-.92-.59-1.43-.59-.52 0-1.04.2-1.43.59L10.3 9.45l-7.72 7.72c-.78.78-.78 2.05 0 2.83L4 21.41c.39.39.9.59 1.41.59.51 0 1.02-.2 1.41-.59l7.78-7.78 2.81-2.81c.8-.78.8-2.07 0-2.86zM5.41 20L4 18.59l7.72-7.72 1.47 1.35L5.41 20z\"/>\n",
              "  </svg>\n",
              "      </button>\n",
              "      \n",
              "  <style>\n",
              "    .colab-df-container {\n",
              "      display:flex;\n",
              "      flex-wrap:wrap;\n",
              "      gap: 12px;\n",
              "    }\n",
              "\n",
              "    .colab-df-convert {\n",
              "      background-color: #E8F0FE;\n",
              "      border: none;\n",
              "      border-radius: 50%;\n",
              "      cursor: pointer;\n",
              "      display: none;\n",
              "      fill: #1967D2;\n",
              "      height: 32px;\n",
              "      padding: 0 0 0 0;\n",
              "      width: 32px;\n",
              "    }\n",
              "\n",
              "    .colab-df-convert:hover {\n",
              "      background-color: #E2EBFA;\n",
              "      box-shadow: 0px 1px 2px rgba(60, 64, 67, 0.3), 0px 1px 3px 1px rgba(60, 64, 67, 0.15);\n",
              "      fill: #174EA6;\n",
              "    }\n",
              "\n",
              "    [theme=dark] .colab-df-convert {\n",
              "      background-color: #3B4455;\n",
              "      fill: #D2E3FC;\n",
              "    }\n",
              "\n",
              "    [theme=dark] .colab-df-convert:hover {\n",
              "      background-color: #434B5C;\n",
              "      box-shadow: 0px 1px 3px 1px rgba(0, 0, 0, 0.15);\n",
              "      filter: drop-shadow(0px 1px 2px rgba(0, 0, 0, 0.3));\n",
              "      fill: #FFFFFF;\n",
              "    }\n",
              "  </style>\n",
              "\n",
              "      <script>\n",
              "        const buttonEl =\n",
              "          document.querySelector('#df-fee320f4-6db4-4807-85fc-0370d91098fd button.colab-df-convert');\n",
              "        buttonEl.style.display =\n",
              "          google.colab.kernel.accessAllowed ? 'block' : 'none';\n",
              "\n",
              "        async function convertToInteractive(key) {\n",
              "          const element = document.querySelector('#df-fee320f4-6db4-4807-85fc-0370d91098fd');\n",
              "          const dataTable =\n",
              "            await google.colab.kernel.invokeFunction('convertToInteractive',\n",
              "                                                     [key], {});\n",
              "          if (!dataTable) return;\n",
              "\n",
              "          const docLinkHtml = 'Like what you see? Visit the ' +\n",
              "            '<a target=\"_blank\" href=https://colab.research.google.com/notebooks/data_table.ipynb>data table notebook</a>'\n",
              "            + ' to learn more about interactive tables.';\n",
              "          element.innerHTML = '';\n",
              "          dataTable['output_type'] = 'display_data';\n",
              "          await google.colab.output.renderOutput(dataTable, element);\n",
              "          const docLink = document.createElement('div');\n",
              "          docLink.innerHTML = docLinkHtml;\n",
              "          element.appendChild(docLink);\n",
              "        }\n",
              "      </script>\n",
              "    </div>\n",
              "  </div>\n",
              "  "
            ],
            "text/plain": [
              "      LIMIT_BAL  PAY_0  PAY_2  PAY_3  PAY_4  PAY_5  PAY_6     BILL_AMT1  \\\n",
              "0  3.532671e+05      3      6      3      9      0      7  4.249143e+05   \n",
              "1  3.499011e+05      5      9     -1      5      1      6  4.861733e+05   \n",
              "2  2.510857e+06      4      8      7      3      1     -1  1.761015e+06   \n",
              "3  5.108782e+04      2      8      9      1      8      8  2.919804e+06   \n",
              "4  1.883075e+05      0      4      3      5      7      8  3.284158e+05   \n",
              "5  1.582516e+05      2      7      7     -1      1      9  1.446374e+06   \n",
              "6  1.666749e+05      6      6      2      4      6     -1  2.434958e+05   \n",
              "7  2.034970e+05      6      6      9      3      2      7  1.012826e+06   \n",
              "8  1.193527e+06      1      8      5      8      9      6  1.301173e+06   \n",
              "9  2.744731e+06      2      1      8      7      8      4  4.700999e+05   \n",
              "\n",
              "      BILL_AMT2     BILL_AMT3  ...     BILL_AMT5     BILL_AMT6      PAY_AMT1  \\\n",
              "0  6.427655e+04  1.427683e+05  ...  3.658471e+06  4.828197e+05  1.983541e+05   \n",
              "1  1.223341e+05  2.814394e+05  ...  7.448494e+05  3.675559e+05  1.523356e+04   \n",
              "2  4.477663e+05  1.741556e+05  ...  1.831996e+06  1.500997e+06  1.308210e+05   \n",
              "3  1.159670e+05  3.084323e+05  ...  3.502891e+05  4.302844e+05  1.551763e+05   \n",
              "4  2.480358e+05  1.903364e+05  ...  1.260028e+06  5.174183e+05  7.112088e+05   \n",
              "5  1.304415e+05  8.613840e+04  ...  9.158656e+05  3.998826e+05  7.705667e+04   \n",
              "6  4.123463e+05  3.193616e+05  ...  9.242161e+05  7.249556e+05  1.034411e+06   \n",
              "7  1.101667e+06  4.697881e+05  ...  1.157165e+05  5.773211e+05  3.285587e+05   \n",
              "8  7.893954e+05  4.239026e+06  ...  1.349520e+06  7.207526e+05  9.785152e+04   \n",
              "9  8.663200e+05  1.081203e+06  ...  5.479399e+04  7.515999e+05  1.547550e+05   \n",
              "\n",
              "       PAY_AMT2       PAY_AMT3       PAY_AMT4       PAY_AMT5       PAY_AMT6  \\\n",
              "0  7.075546e+05  282101.624594  237985.458388  164357.538228  606510.760601   \n",
              "1  1.000044e+05  721726.742190  595030.683807   65715.650271   82806.726411   \n",
              "2  1.339618e+05  142474.230881  567713.496342   98717.149281  578674.665667   \n",
              "3  1.303735e+06  321835.299522   67884.969529   44047.312996   89473.132158   \n",
              "4  3.031434e+05   35110.385488  243725.233566   92395.790721   31210.485043   \n",
              "5  6.081977e+05   46632.269197  392629.862319  274606.226499   45192.864493   \n",
              "6  1.271945e+05  174693.939707  139874.216723   67583.656063   26813.851045   \n",
              "7  2.127042e+04  896912.148389  588521.533930  268749.781236   67686.769830   \n",
              "8  4.862949e+04  614612.651630  213264.556486  359972.299057   95426.832921   \n",
              "9  7.132272e+05  406604.105405  232644.673548  122115.981584  695522.903232   \n",
              "\n",
              "   in_train  prediction  \n",
              "0         0    0.620942  \n",
              "1         1    0.560192  \n",
              "2         0    0.615547  \n",
              "3         0    0.641994  \n",
              "4         0    0.338033  \n",
              "5         1    0.641994  \n",
              "6         0    0.615547  \n",
              "7         0    0.602743  \n",
              "8         0    0.471213  \n",
              "9         0    0.576626  \n",
              "\n",
              "[10 rows x 21 columns]"
            ]
          },
          "execution_count": 65,
          "metadata": {},
          "output_type": "execute_result"
        }
      ],
      "source": [
        "dattack_data = xgb.DMatrix(attack_data[features])\n",
        "\n",
        "attack_data['prediction'] = extracted_model_xgb.predict(dattack_data, \n",
        "                                                        iteration_range=(0, extracted_model_xgb.best_iteration))\n",
        "# attack_data['prediction'] = model_endpoint(attack_data)\n",
        "\n",
        "attack_data.head(10)"
      ]
    },
    {
      "cell_type": "code",
      "execution_count": null,
      "id": "a0dc4590-4c69-4a77-bb8c-d1e8bf7ee3ea",
      "metadata": {
        "colab": {
          "base_uri": "https://localhost:8080/",
          "height": 499
        },
        "id": "a0dc4590-4c69-4a77-bb8c-d1e8bf7ee3ea",
        "outputId": "3bc0d6aa-1285-48b1-c438-30ec5ca0f176"
      },
      "outputs": [
        {
          "data": {
            "image/png": "[encoded data removed]",
            "text/plain": [
              "<Figure size 360x576 with 2 Axes>"
            ]
          },
          "metadata": {
            "needs_background": "light"
          },
          "output_type": "display_data"
        }
      ],
      "source": [
        "# Look at the distribution of extracted model predictions for the training versus new data points. We expect\n",
        "#  the training data points to be most concentrated on the extremes of [0, 1]\n",
        "\n",
        "\"\"\"\n",
        "Eh - not really. Hopefully this happens:\n",
        "\n",
        "\"If we use model-based synthesis from Section V-C, all of the raw training data for the attack model is drawn \n",
        "from the records that are classified by the target model with high confidence. This is true, however, both for \n",
        "the records used in the shadow models’ training datasets and for the test records left out of these datasets. \n",
        "Therefore, it is not the case that the attack model simply learns to recognize inputs that are classified with \n",
        "high confidence. Instead, it learns to perform a much subtler task: how to distinguish between the training \n",
        "inputs classified with high confidence and other, non-training inputs that are also classified with high \n",
        "confidence.\"\n",
        "\"\"\"\n",
        "\n",
        "fig, axs = plt.subplots(2, 1, figsize=(5, 8))\n",
        "axs[0].hist(attack_data.loc[attack_data['in_train'] == 0]['prediction'], bins='auto')\n",
        "axs[0].set_title('Not in training data')\n",
        "\n",
        "axs[1].hist(attack_data.loc[attack_data['in_train'] == 1]['prediction'], bins='auto')\n",
        "_ = axs[1].set_title('In training data')\n"
      ]
    },
    {
      "cell_type": "code",
      "execution_count": null,
      "id": "2c583a5f-ae4a-47fa-8036-e8a410ef25d7",
      "metadata": {
        "colab": {
          "base_uri": "https://localhost:8080/"
        },
        "id": "2c583a5f-ae4a-47fa-8036-e8a410ef25d7",
        "outputId": "e83a8499-a515-4e9d-824a-b548db329a81"
      },
      "outputs": [
        {
          "name": "stdout",
          "output_type": "stream",
          "text": [
            "[0]\ttrain-auc:0.51129\teval-auc:0.50338\n",
            "[1]\ttrain-auc:0.51290\teval-auc:0.50159\n",
            "[2]\ttrain-auc:0.51624\teval-auc:0.50727\n",
            "[3]\ttrain-auc:0.51972\teval-auc:0.50516\n",
            "[4]\ttrain-auc:0.51943\teval-auc:0.50617\n",
            "[5]\ttrain-auc:0.51978\teval-auc:0.50577\n",
            "[6]\ttrain-auc:0.52548\teval-auc:0.51490\n",
            "[7]\ttrain-auc:0.52614\teval-auc:0.51470\n",
            "[8]\ttrain-auc:0.52808\teval-auc:0.51430\n",
            "[9]\ttrain-auc:0.52733\teval-auc:0.51339\n",
            "[10]\ttrain-auc:0.52994\teval-auc:0.51375\n",
            "[11]\ttrain-auc:0.53538\teval-auc:0.51308\n",
            "[12]\ttrain-auc:0.53590\teval-auc:0.51342\n",
            "[13]\ttrain-auc:0.53685\teval-auc:0.51380\n",
            "[14]\ttrain-auc:0.53783\teval-auc:0.51387\n",
            "[15]\ttrain-auc:0.53766\teval-auc:0.51394\n"
          ]
        }
      ],
      "source": [
        "# Train an XGBoost attack model.\n",
        "\n",
        "attack_features = features + ['prediction']\n",
        "attack_target = 'in_train'\n",
        "\n",
        "attack_train = attack_data.head(int(len(attack_data)*0.8))\n",
        "attack_valid = attack_data.tail(int(len(attack_data)*0.2))\n",
        "\n",
        "dattack_train = xgb.DMatrix(attack_train[attack_features],\n",
        "                            label = attack_train[attack_target])\n",
        "dattack_valid = xgb.DMatrix(attack_valid[attack_features],\n",
        "                            label = attack_valid[attack_target])\n",
        "\n",
        "base_score = attack_train[attack_target].mean()\n",
        "\n",
        "params = {\n",
        "    'objective': 'binary:logistic',\n",
        "    'eval_metric': 'auc',\n",
        "    'eta': 0.05,\n",
        "    'max_depth': 3,\n",
        "    'base_score': base_score,\n",
        "    'seed': SEED\n",
        "}\n",
        "\n",
        "# Train using early stopping on the validation dataset.\n",
        "watchlist = [(dattack_train, 'train'), (dattack_valid, 'eval')]\n",
        "\n",
        "attack_model = xgb.train(params,         \n",
        "                         dattack_train,                   \n",
        "                         num_boost_round=500,                     \n",
        "                         evals=watchlist,\n",
        "                         early_stopping_rounds=10,\n",
        "                         verbose_eval=True)"
      ]
    },
    {
      "cell_type": "code",
      "execution_count": null,
      "id": "48eca67f-da5d-4dcb-9769-2323ebc6a4c0",
      "metadata": {
        "id": "48eca67f-da5d-4dcb-9769-2323ebc6a4c0"
      },
      "outputs": [],
      "source": [
        "train['in_train'] = 1\n",
        "test['in_train'] = 0\n",
        "\n",
        "attack_test = train.head(len(test)).append(test).reset_index(drop=True)\n",
        "attack_test['prediction'] = model_endpoint(attack_test[features])\n",
        "\n",
        "dattack_test = xgb.DMatrix(attack_test[attack_features],\n",
        "                           label = attack_test[attack_target])"
      ]
    },
    {
      "cell_type": "code",
      "execution_count": null,
      "id": "fb68fedf-e7f7-4eb1-a44e-d436e31eb4d1",
      "metadata": {
        "colab": {
          "base_uri": "https://localhost:8080/",
          "height": 296
        },
        "id": "fb68fedf-e7f7-4eb1-a44e-d436e31eb4d1",
        "outputId": "140bb354-291f-49e3-c2b1-5310f3d2cb4a"
      },
      "outputs": [
        {
          "data": {
            "text/plain": [
              "<matplotlib.legend.Legend at 0x7fb53bcbf190>"
            ]
          },
          "execution_count": 69,
          "metadata": {},
          "output_type": "execute_result"
        },
        {
          "data": {
            "image/png": "[encoded data removed]",
            "text/plain": [
              "<Figure size 432x288 with 1 Axes>"
            ]
          },
          "metadata": {
            "needs_background": "light"
          },
          "output_type": "display_data"
        }
      ],
      "source": [
        "from sklearn.metrics import precision_score, recall_score, roc_curve, RocCurveDisplay\n",
        "\n",
        "fpr, tpr, _ = roc_curve(attack_train['in_train'], \n",
        "                        attack_model.predict(dattack_train, iteration_range=(0, attack_model.best_iteration)))\n",
        "\n",
        "roc_display = RocCurveDisplay(fpr=fpr, tpr=tpr).plot()\n",
        "ax = roc_display.ax_\n",
        "\n",
        "fpr, tpr, _ = roc_curve(attack_test['in_train'], \n",
        "                        attack_model.predict(dattack_test, iteration_range=(0, attack_model.best_iteration)))\n",
        "\n",
        "ax.plot(fpr, tpr)\n",
        "ax.legend(['Train', 'Test'])"
      ]
    },
    {
      "cell_type": "code",
      "execution_count": null,
      "id": "ba67fba6-4e8f-4d3a-a831-80e9a75f0319",
      "metadata": {
        "id": "ba67fba6-4e8f-4d3a-a831-80e9a75f0319"
      },
      "outputs": [],
      "source": [
        "# Let's try and improve the random data to get more realisic points. We'll implement Algorithm 1 from Shokri et al.\n",
        "\n",
        "def model_endpoint_data_synthesis(schema, features, predict_class,\n",
        "                                  iter_max=100, k_min=2, max_rejects=5, \n",
        "                                  confidence_bound=0.3):\n",
        "    \n",
        "    # Initialize a random record from the schema dict\n",
        "    random_obs = make_random_frame(schema, 1)\n",
        "    last_accepted = random_obs\n",
        "    # The objective is simply the class probability\n",
        "    objective = 0\n",
        "    num_failed_iterations = 0\n",
        "    k = len(features)\n",
        "    j = 0\n",
        "    \n",
        "    for i in range(iter_max):\n",
        "        obj_i = predict_class(random_obs[features])\n",
        "        if obj_i > objective:\n",
        "            if obj_i > confidence_bound:\n",
        "                if np.random.rand() < obj_i:\n",
        "                    return random_obs\n",
        "            num_failed_iterations = 0\n",
        "            objective = obj_i\n",
        "            last_accepted = random_obs.copy()\n",
        "        else:\n",
        "            j += 1\n",
        "            if j > max_rejects:\n",
        "                k = np.max([k_min, int(np.ceil(k/2))])\n",
        "                j = 0\n",
        "        \n",
        "        # Randomize k features in x\n",
        "        random_obs = randomize_features(last_accepted, schema, k)\n",
        "        \n",
        "    return\n",
        "\n",
        "def randomize_features(obs, schema, k):\n",
        "    features_to_modify = np.random.choice(list(schema.keys()), k, replace=False)\n",
        "    \n",
        "    for feature in features_to_modify:\n",
        "        if schema[feature]['dist'] == 'uniform':\n",
        "            obs[feature] = np.random.choice(schema[feature]['values'],\n",
        "                                            size=1)[0]\n",
        "\n",
        "        # simulate LIMIT_BAL, BILL_AMT*, PAY_AMT* features\n",
        "        if schema[feature]['dist'] == 'exponential':\n",
        "            obs[feature] = schema[feature]['min'] + np.random.exponential(scale=schema[feature]['scale'], \n",
        "                                                                          size=1)\n",
        "    return obs\n",
        "\n",
        "\n",
        "def randomize_features_vectorized(obs, schema):\n",
        "    features_to_modify = [np.random.choice(list(schema.keys()), k, replace=False) for k in obs['num_to_shuffle']]\n",
        "    \n",
        "    for i, features in enumerate(features_to_modify):\n",
        "        for feature in features: \n",
        "            if schema[feature]['dist'] == 'uniform':\n",
        "                obs.iloc[i][feature] = np.random.choice(schema[feature]['values'],\n",
        "                                                size=1)[0]\n",
        "\n",
        "            if schema[feature]['dist'] == 'exponential':\n",
        "                obs.iloc[i][feature] = schema[feature]['min'] + np.random.exponential(scale=schema[feature]['scale'], \n",
        "                                                                              size=1)\n",
        "    \n",
        "    return obs\n",
        "\n",
        "def make_random_frame(schema, N):\n",
        "    random_frame = pd.DataFrame(columns=list(schema.keys())) # init empty frame\n",
        "\n",
        "\n",
        "    for j in list(schema.keys()): # loop through features\n",
        "\n",
        "        # simulate PAY_* features\n",
        "        if schema[j]['dist'] == 'uniform':\n",
        "            random_frame[j] = np.random.choice(schema[j]['values'],\n",
        "                                               size=N)\n",
        "\n",
        "        # simulate LIMIT_BAL, BILL_AMT*, PAY_AMT* features\n",
        "        if schema[j]['dist'] == 'exponential':\n",
        "            random_frame[j] = schema[j]['min'] + np.random.exponential(scale=schema[j]['scale'], \n",
        "                                                                       size=N)\n",
        "            \n",
        "    return random_frame\n"
      ]
    },
    {
      "cell_type": "markdown",
      "id": "b2e8c4c5-1d94-46dc-9695-84fdbbdad1f0",
      "metadata": {
        "id": "b2e8c4c5-1d94-46dc-9695-84fdbbdad1f0"
      },
      "source": [
        "## 6. Synthetic Data Generation\n",
        "\n",
        "We use the below code to generate new synthetic data points (eventually Data/synthetic_data.csv)"
      ]
    },
    {
      "cell_type": "code",
      "execution_count": null,
      "id": "1c73feb1-15e6-43bc-9f65-83c9b3603653",
      "metadata": {
        "id": "1c73feb1-15e6-43bc-9f65-83c9b3603653"
      },
      "outputs": [],
      "source": [
        "# new_random_frame = pd.DataFrame(columns=list(schema_dict.keys()))\n",
        "\n",
        "# schema_dict = {'PAY_0': {'values': np.arange(-1, 10), 'dist': 'uniform'},\n",
        "#                'PAY_2': {'values': np.arange(-1, 10), 'dist': 'uniform'},\n",
        "#                'PAY_3': {'values': np.arange(-1, 10), 'dist': 'uniform'},\n",
        "#                'PAY_4': {'values': np.arange(-1, 10), 'dist': 'uniform'},\n",
        "#                'PAY_5': {'values': np.arange(-1, 10), 'dist': 'uniform'},\n",
        "#                'PAY_6': {'values': np.arange(-1, 10), 'dist': 'uniform'},\n",
        "#                'LIMIT_BAL': {'min': 500, 'scale': 1000000, 'dist': 'exponential'},\n",
        "#                'BILL_AMT1': {'min': 0, 'scale': 600000, 'dist': 'exponential'},\n",
        "#                'BILL_AMT2': {'min': 0, 'scale': 600000, 'dist': 'exponential'},\n",
        "#                'BILL_AMT3': {'min': 0, 'scale': 600000, 'dist': 'exponential'},\n",
        "#                'BILL_AMT4': {'min': 0, 'scale': 600000, 'dist': 'exponential'},\n",
        "#                'BILL_AMT5': {'min': 0, 'scale': 600000, 'dist': 'exponential'},\n",
        "#                'BILL_AMT6': {'min': 0, 'scale': 600000, 'dist': 'exponential'},\n",
        "#                'PAY_AMT1': {'min': 0, 'scale': 100000, 'dist': 'exponential'},\n",
        "#                'PAY_AMT2': {'min': 0, 'scale': 100000, 'dist': 'exponential'},\n",
        "#                'PAY_AMT3': {'min': 0, 'scale': 100000, 'dist': 'exponential'},\n",
        "#                'PAY_AMT4': {'min': 0, 'scale': 100000, 'dist': 'exponential'},\n",
        "#                'PAY_AMT5': {'min': 0, 'scale': 100000, 'dist': 'exponential'},\n",
        "#                'PAY_AMT6': {'min': 0, 'scale': 100000, 'dist': 'exponential'}}\n",
        "\n",
        "# while len(new_random_frame) < 500:\n",
        "# # while len(new_random_frame) < 10:\n",
        "#     random_obs = model_endpoint_data_synthesis(schema_dict, features, predict_class=lambda x: 1 - model_endpoint(x), \n",
        "#                                                confidence_bound=0.9, k_min=8,\n",
        "#                                                iter_max=50)\n",
        "#     new_random_frame = new_random_frame.append(random_obs)\n",
        "\n",
        "    \n",
        "# while len(new_random_frame) < 1500:\n",
        "# # while len(new_random_frame) < 10:\n",
        "#     random_obs = model_endpoint_data_synthesis(schema_dict, features, predict_class=lambda x: 1 - model_endpoint(x), \n",
        "#                                                confidence_bound=0.85, k_min=8,\n",
        "#                                                iter_max=50)\n",
        "#     new_random_frame = new_random_frame.append(random_obs)\n",
        "\n",
        "\n",
        "# print(f\"Done with stage 1.\")\n",
        "\n",
        "# while len(new_random_frame) < 1600:\n",
        "# # while len(new_random_frame) < 15:\n",
        "#     random_obs = model_endpoint_data_synthesis(schema_dict, features, predict_class=lambda x: 1 - model_endpoint(x), \n",
        "#                                                confidence_bound=0.94, k_min=8,\n",
        "#                                                iter_max=50)\n",
        "#     new_random_frame = new_random_frame.append(random_obs)\n",
        "\n",
        "# print(f\"Done with stage 2.\")\n",
        "\n",
        "# schema_dict = {'PAY_0': {'values': np.arange(-1, 10), 'dist': 'uniform'},\n",
        "#                'PAY_2': {'values': np.arange(-1, 10), 'dist': 'uniform'},\n",
        "#                'PAY_3': {'values': np.arange(-1, 10), 'dist': 'uniform'},\n",
        "#                'PAY_4': {'values': np.arange(-1, 10), 'dist': 'uniform'},\n",
        "#                'PAY_5': {'values': np.arange(-1, 10), 'dist': 'uniform'},\n",
        "#                'PAY_6': {'values': np.arange(-1, 10), 'dist': 'uniform'},\n",
        "#                'LIMIT_BAL': {'min': 500, 'scale': 1000000, 'dist': 'exponential'},\n",
        "#                'BILL_AMT1': {'min': 0, 'scale': 1000000, 'dist': 'exponential'},\n",
        "#                'BILL_AMT2': {'min': 0, 'scale': 1000000, 'dist': 'exponential'},\n",
        "#                'BILL_AMT3': {'min': 0, 'scale': 1000000, 'dist': 'exponential'},\n",
        "#                'BILL_AMT4': {'min': 0, 'scale': 1000000, 'dist': 'exponential'},\n",
        "#                'BILL_AMT5': {'min': 0, 'scale': 1000000, 'dist': 'exponential'},\n",
        "#                'BILL_AMT6': {'min': 0, 'scale': 1000000, 'dist': 'exponential'},\n",
        "#                'PAY_AMT1': {'min': 0, 'scale': 80000, 'dist': 'exponential'},\n",
        "#                'PAY_AMT2': {'min': 0, 'scale': 80000, 'dist': 'exponential'},\n",
        "#                'PAY_AMT3': {'min': 0, 'scale': 80000, 'dist': 'exponential'},\n",
        "#                'PAY_AMT4': {'min': 0, 'scale': 80000, 'dist': 'exponential'},\n",
        "#                'PAY_AMT5': {'min': 0, 'scale': 80000, 'dist': 'exponential'},\n",
        "#                'PAY_AMT6': {'min': 0, 'scale': 800000, 'dist': 'exponential'}}\n",
        "\n",
        "# while len(new_random_frame) < 1800:\n",
        "# # while len(new_random_frame) < 20:\n",
        "#     random_obs = model_endpoint_data_synthesis(schema_dict, features, predict_class=lambda x: model_endpoint(x), \n",
        "#                                                confidence_bound=0.4, k_min=8,\n",
        "#                                                iter_max=50)\n",
        "#     new_random_frame = new_random_frame.append(random_obs)\n",
        "\n",
        "# print(f\"Done with stage 3.\")\n",
        "# new_random_frame.to_csv(f\"stage_3.csv\")\n",
        "    \n",
        "# while len(new_random_frame) < 2000:\n",
        "# # while len(new_random_frame) < 25:\n",
        "#     random_obs = model_endpoint_data_synthesis(schema_dict, features, predict_class=lambda x: model_endpoint(x), \n",
        "#                                                confidence_bound=0.5, k_min=8,\n",
        "#                                                iter_max=50)\n",
        "#     new_random_frame = new_random_frame.append(random_obs)\n",
        "\n",
        "# print(f\"Done with stage 4.\")\n",
        "# new_random_frame.to_csv(f\"stage_4.csv\")\n",
        "\n",
        "# while len(new_random_frame) < 2200:\n",
        "# # while len(new_random_frame) < 30:\n",
        "#     random_obs = model_endpoint_data_synthesis(schema_dict, features, predict_class=lambda x: model_endpoint(x), \n",
        "#                                                confidence_bound=0.6, k_min=8,\n",
        "#                                                iter_max=50)\n",
        "#     new_random_frame = new_random_frame.append(random_obs)\n",
        "\n",
        "# print(f\"Done with stage 5.\")\n",
        "\n",
        "# while len(new_random_frame) < 2300:\n",
        "# # while len(new_random_frame) < 35:\n",
        "#     random_obs = model_endpoint_data_synthesis(schema_dict, features, predict_class=lambda x: model_endpoint(x), \n",
        "#                                                confidence_bound=0.7, k_min=8,\n",
        "#                                                iter_max=50)\n",
        "#     new_random_frame = new_random_frame.append(random_obs)\n",
        "    \n",
        "\n",
        "# while len(new_random_frame) < 2500:\n",
        "# # while len(new_random_frame) < 35:\n",
        "#     random_obs = model_endpoint_data_synthesis(schema_dict, features, predict_class=lambda x: model_endpoint(x), \n",
        "#                                                confidence_bound=0.65, k_min=8,\n",
        "#                                                iter_max=50)\n",
        "#     new_random_frame = new_random_frame.append(random_obs)\n",
        "    \n",
        "# for categorical_feat in ['PAY_0', 'PAY_2', 'PAY_3', 'PAY_4', 'PAY_5', 'PAY_6']:\n",
        "#     new_random_frame[categorical_feat] = new_random_frame[categorical_feat].astype(int)\n",
        "    \n",
        "# new_random_frame.to_csv(f\"new_synthetic_data.csv\")\n"
      ]
    },
    {
      "cell_type": "code",
      "execution_count": null,
      "id": "GNnVcQbRi1n2",
      "metadata": {
        "colab": {
          "base_uri": "https://localhost:8080/"
        },
        "id": "GNnVcQbRi1n2",
        "outputId": "99869d86-b288-49b3-8f43-ac91bda63dd6"
      },
      "outputs": [
        {
          "name": "stdout",
          "output_type": "stream",
          "text": [
            "Are you sure you want to shutdown the H2O instance running at http://127.0.0.1:54321 (Y/N)? Y\n",
            "H2O session _sid_b6b9 closed.\n"
          ]
        }
      ],
      "source": [
        "h2o.cluster().shutdown(prompt=True)"
      ]
    }
  ],
  "metadata": {
    "colab": {
      "provenance": [],
      "toc_visible": true
    },
    "kernelspec": {
      "display_name": "Python 3 (ipykernel)",
      "language": "python",
      "name": "python3"
    },
    "language_info": {
      "codemirror_mode": {
        "name": "ipython",
        "version": 3
      },
      "file_extension": ".py",
      "mimetype": "text/x-python",
      "name": "python",
      "nbconvert_exporter": "python",
      "pygments_lexer": "ipython3",
      "version": "3.9.6"
    }
  },
  "nbformat": 4,
  "nbformat_minor": 5
}
